{
 "cells": [
  {
   "cell_type": "code",
   "execution_count": 24,
   "metadata": {},
   "outputs": [
    {
     "name": "stdout",
     "output_type": "stream",
     "text": [
      "The autoreload extension is already loaded. To reload it, use:\n",
      "  %reload_ext autoreload\n"
     ]
    }
   ],
   "source": [
    "%load_ext autoreload\n",
    "%autoreload 2\n",
    "\n",
    "import os\n",
    "import sys\n",
    "sys.path.insert(0, \"../src/\")\n",
    "import re\n",
    "import numpy as np\n",
    "import pandas as pd\n",
    "from tqdm import tqdm\n",
    "from process import BertProcessor\n",
    "\n",
    "raw_docs_dir = \"../data/raw_docs/\"\n",
    "labels_dir = \"../data/labels/\"\n",
    "\n",
    "\n",
    "def get_doc_paths(docs_dir, lang):\n",
    "    doc_paths = [os.path.join(docs_dir, lang, doc_name) for doc_name in os.listdir(os.path.join(docs_dir, lang)) if doc_name[-4:] == \".txt\"]\n",
    "    return doc_paths\n",
    "\n",
    "def get_pickle_paths(pickles_dir, lang):\n",
    "    pickle_paths = [os.path.join(pickles_dir, lang, pickle_name) for pickle_name in os.listdir(os.path.join(pickles_dir, lang)) if pickle_name[-7:] == \".pickle\"]\n",
    "    return pickle_paths\n",
    "\n",
    "def read_labels(lang):\n",
    "    labels_df = pd.read_csv(os.path.join(labels_dir, lang, \"canonisation_scores.csv\"), sep=\";\")\n",
    "    if lang == \"eng\":\n",
    "        file_name_mapper = {\n",
    "            'The Wild Irish Girl': 'Owenson_Sydney_The-Wild-Irish-Girl_1806',\n",
    "            'Somerville-Ross_The-Real-Charlotte_1894': \"Somerville-Ross_Edith-Martin_The-Real-Charlotte_1894\",\n",
    "            'LeFanu_Joseph-Sheridan_Schalken-the-Painter_1851.txt': 'LeFanu_Joseph-Sheridan_Schalken-the-Painter_1851',\n",
    "        }\n",
    "\n",
    "        for key, value in file_name_mapper.items():\n",
    "            labels_df[\"file_name\"][labels_df[\"file_name\"] == key] = value\n",
    "        \n",
    "        extra_file_names = [\n",
    "            \"Austen_Jane_Northanger-Abbey_1818\",\n",
    "            \"Cleland_John_Fanny-Hill_1748\",\n",
    "            \"Defoe_Daniel_Roxana_1724\",\n",
    "            \"Fielding_Henry_Amelia_1752\",\n",
    "            \"Kingsley_Charles_The-Water-Babies_1863\",\n",
    "            \"Le-Queux_William_The-Invasion-of-1910_1906\",\n",
    "            \"Surtees_Robert_Jorrocks-Jaunts-and-Jollities_1831\"\n",
    "        ]\n",
    "        labels = dict(labels_df[~labels_df[\"file_name\"].isin(extra_file_names)][[\"file_name\", \"percent\"]].values)\n",
    "    elif lang == \"ger\":\n",
    "        file_name_mapper = {\n",
    "            'Ebner-Eschenbach_Marie-von_Bozena_1876': 'Ebner-Eschenbach_Marie_Bozena_1876',\n",
    "            'Ebner-Eschenbach_Marie-von_Das-Gemeindekind_1887': 'Ebner-Eschenbach_Marie_Das-Gemeindekind_1887',\n",
    "            'Ebner-Eschenbach_Marie-von_Der-Kreisphysikus_1883': 'Ebner-Eschenbach_Marie_Der-Kreisphysikus_1883',\n",
    "            'Ebner-Eschenbach_Marie-von_Der-Muff_1896': 'Ebner-Eschenbach_Marie_Der-Muff_1896',\n",
    "            'Ebner-Eschenbach_Marie-von_Die-Freiherren-von-Gemperlein_1889': 'Ebner-Eschenbach_Marie_Die-Freiherren-von-Gemperlein_1889',\n",
    "            'Ebner-Eschenbach_Marie-von_Die-Poesie-des-Unbewussten_1883': 'Ebner-Eschenbach_Marie_Die-Poesie-des-Unbewussten_1883',\n",
    "            'Ebner-Eschenbach_Marie-von_Die-Resel_1883': 'Ebner-Eschenbach_Marie_Die-Resel_1883',\n",
    "            'Ebner-Eschenbach_Marie-von_Ein-kleiner-Roman_1887': 'Ebner-Eschenbach_Marie_Ein-kleiner-Roman_1887',\n",
    "            'Ebner-Eschenbach_Marie-von_Krambabuli_1883': 'Ebner-Eschenbach_Marie_Krambabuli_1883',\n",
    "            'Ebner-Eschenbach_Marie-von_Lotti-die-Uhrmacherin_1874': 'Ebner-Eschenbach_Marie_Lotti-die-Uhrmacherin_1874',\n",
    "            'Ebner-Eschenbach_Marie-von_Rittmeister-Brand_1896': 'Ebner-Eschenbach_Marie_Rittmeister-Brand_1896',\n",
    "            'Ebner-Eschenbach_Marie-von_Unsuehnbar_1890': 'Ebner-Eschenbach_Marie_Unsuehnbar_1890',\n",
    "            'Hunold_Christian-Friedrich_Adalie_1702': 'Hunold_Christian_Friedrich_Die-liebenswuerdige-Adalie_1681'\n",
    "        }\n",
    "        for key, value in file_name_mapper.items():\n",
    "            labels_df[\"file_name\"][labels_df[\"file_name\"] == key] = value\n",
    "        labels = dict(labels_df[[\"file_name\", \"percent\"]].values)\n",
    "    return labels\n"
   ]
  },
  {
   "cell_type": "markdown",
   "metadata": {},
   "source": [
    "# Process Data"
   ]
  },
  {
   "cell_type": "code",
   "execution_count": 8,
   "metadata": {
    "scrolled": true
   },
   "outputs": [],
   "source": [
    "lang = \"eng\"\n",
    "raw_doc_paths = get_doc_paths(raw_docs_dir, lang)\n",
    "bp = BertProcessor(lang=lang, pad=False)\n",
    "bp.process(raw_doc_paths)"
   ]
  },
  {
   "cell_type": "markdown",
   "metadata": {},
   "source": [
    "# Create Bert Document Vectors"
   ]
  },
  {
   "cell_type": "code",
   "execution_count": 4,
   "metadata": {
    "scrolled": false
   },
   "outputs": [
    {
     "name": "stderr",
     "output_type": "stream",
     "text": [
      "DEBUG:urllib3.connectionpool:Starting new HTTPS connection (1): huggingface.co:443\n",
      "DEBUG:urllib3.connectionpool:https://huggingface.co:443 \"HEAD /bert-base-uncased/resolve/main/config.json HTTP/1.1\" 200 0\n",
      "DEBUG:urllib3.connectionpool:Starting new HTTPS connection (1): huggingface.co:443\n",
      "DEBUG:urllib3.connectionpool:https://huggingface.co:443 \"HEAD /bert-base-uncased/resolve/main/pytorch_model.bin HTTP/1.1\" 302 0\n",
      "INFO:root:Running BertVectorizer...\n",
      "100%|██████████| 599/599 [19:18<00:00,  1.93s/it]\n",
      "INFO:root:Finished BertVectorizer.\n"
     ]
    }
   ],
   "source": [
    "from vectorizer import BertVectorizer\n",
    "\n",
    "lang = \"eng\"\n",
    "bv = BertVectorizer(lang=lang, sentence_to_doc_agg=\"first\")\n",
    "pickle_paths = get_pickle_paths(\"../data/processed_bert_512_tokens_not_padded/\", lang)\n",
    "bv.fit(pickle_paths)\n",
    "df = bv.get_doc_vectors()\n",
    "labels = read_labels(lang)\n",
    "df['y'] = df[\"pickle_path\"].apply(lambda x: labels[x.split(\"/\")[-1][:-7]])\n",
    "df['book_name'] = df['pickle_path'].apply(lambda x: x.split(\"/\")[-1][:-7])"
   ]
  },
  {
   "cell_type": "markdown",
   "metadata": {},
   "source": [
    "# Cross Validation"
   ]
  },
  {
   "cell_type": "code",
   "execution_count": 33,
   "metadata": {},
   "outputs": [
    {
     "name": "stdout",
     "output_type": "stream",
     "text": [
      "0.9503761410211815\n",
      "Fold: 1, TrainMSE: 259.73554196827985, TrainMAE: 9.69290968866554, ValMSE: 609.8366562460251, ValMAE: 18.188481010232035\n",
      "0.9501924480788243\n",
      "Fold: 2, TrainMSE: 263.3140210770812, TrainMAE: 9.614704527440095, ValMSE: 594.0474449824153, ValMAE: 19.167373539217703\n",
      "0.9503390836829161\n",
      "Fold: 3, TrainMSE: 279.92449123481595, TrainMAE: 9.91939722117072, ValMSE: 387.72884577378977, ValMAE: 16.281412490923476\n",
      "0.9502951219972204\n",
      "Fold: 4, TrainMSE: 246.54291002728692, TrainMAE: 9.324511935958668, ValMSE: 776.3465063186284, ValMAE: 22.555545724485473\n",
      "0.9502349474448097\n",
      "Fold: 5, TrainMSE: 271.68593810715754, TrainMAE: 9.507685689300995, ValMSE: 669.4549215429404, ValMAE: 20.6694722178744\n",
      "0.9500854244386555\n",
      "Fold: 6, TrainMSE: 265.61338178315657, TrainMAE: 9.952938664797859, ValMSE: 439.85722378488447, ValMAE: 15.466433897533127\n",
      "0.9499469206519465\n",
      "Fold: 7, TrainMSE: 263.5730890395128, TrainMAE: 9.585577561840974, ValMSE: 654.5884752222602, ValMAE: 20.108667464993097\n",
      "0.950780481151404\n",
      "Fold: 8, TrainMSE: 260.56224903573707, TrainMAE: 9.584694553097963, ValMSE: 635.6275363169418, ValMAE: 19.63135467569216\n",
      "0.9506774727533327\n",
      "Fold: 9, TrainMSE: 267.39311833066716, TrainMAE: 9.804214434939242, ValMSE: 490.08504720395814, ValMAE: 16.303362546555064\n",
      "0.9501348314835039\n",
      "Fold: 10, TrainMSE: 272.3782105148072, TrainMAE: 9.885946497958619, ValMSE: 503.6513146629833, ValMAE: 17.14189664968622\n"
     ]
    }
   ],
   "source": [
    "from sklearn.model_selection import KFold\n",
    "from sklearn.svm import SVR\n",
    "from sklearn.metrics import mean_squared_error, mean_absolute_error\n",
    "from sklearn.decomposition import PCA\n",
    "\n",
    "X = df.drop(columns=['y', 'book_name', 'pickle_path']).values\n",
    "y = df[\"y\"].values.ravel()\n",
    "\n",
    "all_predictions = []\n",
    "all_labels = []\n",
    "kf = KFold(n_splits=10, shuffle=True, random_state=42)\n",
    "for index, (train_indices, validation_indices) in enumerate(kf.split(X)):\n",
    "    train_X = X[train_indices, :]\n",
    "    train_y = y[train_indices]\n",
    "    validation_X = X[validation_indices, :]\n",
    "    validation_y = y[validation_indices]\n",
    "    pca = PCA(n_components=150)\n",
    "    train_X = pca.fit_transform(train_X)\n",
    "    print(pca.explained_variance_ratio_.sum())\n",
    "    validation_X = pca.transform(validation_X)\n",
    "    model = SVR(C=20)\n",
    "    model.fit(train_X, train_y)\n",
    "    train_yhat = model.predict(train_X)\n",
    "    validation_yhat = model.predict(validation_X)\n",
    "    all_labels.extend(validation_y.tolist())\n",
    "    all_predictions.extend(validation_yhat.tolist())\n",
    "    train_mse = mean_squared_error(train_y, train_yhat)\n",
    "    train_mae = mean_absolute_error(train_y, train_yhat)\n",
    "    validation_mse = mean_squared_error(validation_y, validation_yhat)\n",
    "    validation_mae = mean_absolute_error(validation_y, validation_yhat)\n",
    "    print(f\"Fold: {index+1}, TrainMSE: {train_mse}, TrainMAE: {train_mae}, ValMSE: {validation_mse}, ValMAE: {validation_mae}\")\n",
    "all_labels = np.array(all_labels)\n",
    "all_predictions = np.array(all_predictions)"
   ]
  },
  {
   "cell_type": "code",
   "execution_count": 35,
   "metadata": {},
   "outputs": [
    {
     "data": {
      "image/png": "[encoded data removed]",
      "text/plain": [
       "<Figure size 1296x432 with 1 Axes>"
      ]
     },
     "metadata": {
      "needs_background": "light"
     },
     "output_type": "display_data"
    }
   ],
   "source": [
    "import matplotlib.pyplot as plt\n",
    "\n",
    "plt.figure(figsize=(18, 6))\n",
    "plt.scatter(all_labels, all_predictions)\n",
    "plt.show();"
   ]
  },
  {
   "cell_type": "code",
   "execution_count": null,
   "metadata": {},
   "outputs": [],
   "source": []
  }
 ],
 "metadata": {
  "kernelspec": {
   "display_name": "Python 3",
   "language": "python",
   "name": "python3"
  },
  "language_info": {
   "codemirror_mode": {
    "name": "ipython",
    "version": 3
   },
   "file_extension": ".py",
   "mimetype": "text/x-python",
   "name": "python",
   "nbconvert_exporter": "python",
   "pygments_lexer": "ipython3",
   "version": "3.8.5"
  }
 },
 "nbformat": 4,
 "nbformat_minor": 5
}
