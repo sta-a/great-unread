{
 "cells": [
  {
   "cell_type": "code",
   "execution_count": 1,
   "metadata": {},
   "outputs": [],
   "source": [
    "%load_ext autoreload\n",
    "%autoreload 2\n",
    "\n",
    "import os\n",
    "import sys\n",
    "sys.path.insert(0, \"../src/\")\n",
    "import re\n",
    "import numpy as np\n",
    "import pandas as pd\n",
    "from tqdm import tqdm\n",
    "from process import BertProcessor\n",
    "from utils import get_doc_paths, get_pickle_paths, read_labels\n",
    "\n",
    "raw_docs_dir = \"../data/raw_docs/\"\n",
    "labels_dir = \"../data/labels/\"\n"
   ]
  },
  {
   "cell_type": "markdown",
   "metadata": {},
   "source": [
    "# Process Data"
   ]
  },
  {
   "cell_type": "code",
   "execution_count": 2,
   "metadata": {
    "scrolled": true
   },
   "outputs": [],
   "source": [
    "lang = \"eng\"\n",
    "raw_doc_paths = get_doc_paths(raw_docs_dir, lang)\n",
    "bp = BertProcessor(lang=lang, pad=False)\n",
    "bp.process(raw_doc_paths)"
   ]
  },
  {
   "cell_type": "markdown",
   "metadata": {},
   "source": [
    "# Create Bert Document Vectors"
   ]
  },
  {
   "cell_type": "code",
   "execution_count": 4,
   "metadata": {
    "scrolled": false
   },
   "outputs": [
    {
     "name": "stderr",
     "output_type": "stream",
     "text": [
      "DEBUG:urllib3.connectionpool:Starting new HTTPS connection (1): huggingface.co:443\n",
      "DEBUG:urllib3.connectionpool:https://huggingface.co:443 \"HEAD /bert-base-uncased/resolve/main/config.json HTTP/1.1\" 200 0\n",
      "DEBUG:urllib3.connectionpool:Starting new HTTPS connection (1): huggingface.co:443\n",
      "DEBUG:urllib3.connectionpool:https://huggingface.co:443 \"HEAD /bert-base-uncased/resolve/main/pytorch_model.bin HTTP/1.1\" 302 0\n",
      "INFO:root:Running BertVectorizer...\n",
      "100%|██████████| 599/599 [68:52:12<00:00, 413.91s/it]     \n",
      "INFO:root:Finished BertVectorizer.\n"
     ]
    }
   ],
   "source": [
    "lang = \"eng\"\n",
    "bv = BertVectorizer(lang=lang, sentence_to_doc_agg=\"mean\")\n",
    "pickle_paths = get_pickle_paths(\"../data/processed_bert_512_tokens_not_padded/\", lang)\n",
    "bv.fit(pickle_paths)\n",
    "doc_vectors = bv.get_doc_vectors()"
   ]
  },
  {
   "cell_type": "code",
   "execution_count": 5,
   "metadata": {},
   "outputs": [
    {
     "name": "stderr",
     "output_type": "stream",
     "text": [
      "<ipython-input-1-7fae38c856f4>:35: SettingWithCopyWarning: \n",
      "A value is trying to be set on a copy of a slice from a DataFrame\n",
      "\n",
      "See the caveats in the documentation: https://pandas.pydata.org/pandas-docs/stable/user_guide/indexing.html#returning-a-view-versus-a-copy\n",
      "  labels_df[\"file_name\"][labels_df[\"file_name\"] == key] = value\n"
     ]
    }
   ],
   "source": [
    "df = doc_vectors.copy()\n",
    "labels = read_labels(lang)\n",
    "df['y'] = df[\"pickle_path\"].apply(lambda x: labels[x.split(\"/\")[-1][:-7]])\n",
    "df['book_name'] = df['pickle_path'].apply(lambda x: x.split(\"/\")[-1][:-7])"
   ]
  },
  {
   "cell_type": "markdown",
   "metadata": {},
   "source": [
    "# Cross Validation"
   ]
  },
  {
   "cell_type": "code",
   "execution_count": 47,
   "metadata": {},
   "outputs": [
    {
     "name": "stdout",
     "output_type": "stream",
     "text": [
      "0.9028635048839946\n",
      "Fold: 1, TrainMSE: 270.96905950123295, TrainMAE: 9.629039500688982, ValMSE: 514.9359734886289, ValMAE: 14.9944649697445\n",
      "0.9018200643765739\n",
      "Fold: 2, TrainMSE: 269.654103526607, TrainMAE: 9.382135073243429, ValMSE: 572.5430339497278, ValMAE: 18.27836027803789\n",
      "0.9014533409323371\n",
      "Fold: 3, TrainMSE: 275.4267311999979, TrainMAE: 9.583461493563254, ValMSE: 417.6110255447027, ValMAE: 15.979667015549056\n",
      "0.8999209858096732\n",
      "Fold: 4, TrainMSE: 242.12129925181225, TrainMAE: 8.960758739900415, ValMSE: 697.0814341582378, ValMAE: 20.71085712854924\n",
      "0.9012847159925267\n",
      "Fold: 5, TrainMSE: 272.03780226487635, TrainMAE: 9.507030088131822, ValMSE: 482.59940453940885, ValMAE: 16.488023571721886\n",
      "0.9026803652143538\n",
      "Fold: 6, TrainMSE: 272.01806964171396, TrainMAE: 9.622638194320983, ValMSE: 370.40097394334504, ValMAE: 14.288180280535837\n",
      "0.9003243949580525\n",
      "Fold: 7, TrainMSE: 275.1915235688327, TrainMAE: 9.718984683186813, ValMSE: 406.3674219661962, ValMAE: 14.162293253182272\n",
      "0.9015898062598042\n",
      "Fold: 8, TrainMSE: 265.4562937440101, TrainMAE: 9.594158617366375, ValMSE: 466.55839047146554, ValMAE: 15.363842097118843\n",
      "0.901560029898133\n",
      "Fold: 9, TrainMSE: 275.53219956793237, TrainMAE: 9.720846998541091, ValMSE: 393.17896880447296, ValMAE: 12.25448976142325\n",
      "0.9000603413254699\n",
      "Fold: 10, TrainMSE: 266.61430859368465, TrainMAE: 9.494995069112468, ValMSE: 435.7755174009597, ValMAE: 16.035503155476075\n"
     ]
    }
   ],
   "source": [
    "from sklearn.model_selection import KFold\n",
    "from sklearn.svm import SVR\n",
    "from sklearn.metrics import mean_squared_error, mean_absolute_error\n",
    "from sklearn.decomposition import PCA\n",
    "\n",
    "X = df.drop(columns=['y', 'book_name', 'pickle_path']).values\n",
    "y = df[\"y\"].values.ravel()\n",
    "\n",
    "all_predictions = []\n",
    "all_labels = []\n",
    "kf = KFold(n_splits=10, shuffle=True, random_state=42)\n",
    "for index, (train_indices, validation_indices) in enumerate(kf.split(X)):\n",
    "    train_X = X[train_indices, :]\n",
    "    train_y = y[train_indices]\n",
    "    validation_X = X[validation_indices, :]\n",
    "    validation_y = y[validation_indices]\n",
    "    pca = PCA(n_components=30)\n",
    "    train_X = pca.fit_transform(train_X)\n",
    "    print(pca.explained_variance_ratio_.sum())\n",
    "    validation_X = pca.transform(validation_X)\n",
    "    model = SVR(C=40)\n",
    "    model.fit(train_X, train_y)\n",
    "    train_yhat = model.predict(train_X)\n",
    "    validation_yhat = model.predict(validation_X) # np.array([train_yhat.mean()] * validation_X.shape[0]) # \n",
    "    all_labels.extend(validation_y.tolist())\n",
    "    all_predictions.extend(validation_yhat.tolist())\n",
    "    train_mse = mean_squared_error(train_y, train_yhat)\n",
    "    train_mae = mean_absolute_error(train_y, train_yhat)\n",
    "    validation_mse = mean_squared_error(validation_y, validation_yhat)\n",
    "    validation_mae = mean_absolute_error(validation_y, validation_yhat)\n",
    "    print(f\"Fold: {index+1}, TrainMSE: {train_mse}, TrainMAE: {train_mae}, ValMSE: {validation_mse}, ValMAE: {validation_mae}\")\n",
    "all_labels = np.array(all_labels)\n",
    "all_predictions = np.array(all_predictions)"
   ]
  },
  {
   "cell_type": "code",
   "execution_count": 48,
   "metadata": {},
   "outputs": [
    {
     "data": {
      "image/png": "[encoded data removed]",
      "text/plain": [
       "<Figure size 1296x432 with 1 Axes>"
      ]
     },
     "metadata": {
      "needs_background": "light"
     },
     "output_type": "display_data"
    }
   ],
   "source": [
    "import matplotlib.pyplot as plt\n",
    "\n",
    "plt.figure(figsize=(18, 6))\n",
    "plt.scatter(all_labels, all_predictions)\n",
    "plt.show();"
   ]
  },
  {
   "cell_type": "code",
   "execution_count": null,
   "metadata": {},
   "outputs": [],
   "source": []
  }
 ],
 "metadata": {
  "kernelspec": {
   "display_name": "Python 3",
   "language": "python",
   "name": "python3"
  },
  "language_info": {
   "codemirror_mode": {
    "name": "ipython",
    "version": 3
   },
   "file_extension": ".py",
   "mimetype": "text/x-python",
   "name": "python",
   "nbconvert_exporter": "python",
   "pygments_lexer": "ipython3",
   "version": "3.8.5"
  }
 },
 "nbformat": 4,
 "nbformat_minor": 5
}
