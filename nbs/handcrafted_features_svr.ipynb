{
 "cells": [
  {
   "cell_type": "code",
   "execution_count": 1,
   "metadata": {
    "scrolled": false
   },
   "outputs": [
    {
     "name": "stderr",
     "output_type": "stream",
     "text": [
      "/home/annina/anaconda3/envs/nlp/lib/python3.9/site-packages/gensim/similarities/__init__.py:15: UserWarning: The gensim.similarities.levenshtein submodule is disabled, because the optional Levenshtein package <https://pypi.org/project/python-Levenshtein/> is unavailable. Install Levenhstein (e.g. `pip install python-Levenshtein`) to suppress this warning.\n",
      "  warnings.warn(msg)\n",
      "\r",
      "  0%|          | 0/599 [00:00<?, ?it/s]"
     ]
    },
    {
     "name": "stdout",
     "output_type": "stream",
     "text": [
      "/home/annina/scripts/great_unread_nlp/nbs\n",
      "../data/raw_docs/eng/Radcliffe_Ann_The-Italian_1797.txt\n"
     ]
    },
    {
     "name": "stderr",
     "output_type": "stream",
     "text": [
      "\r",
      "  0%|          | 1/599 [00:00<04:55,  2.02it/s]"
     ]
    },
    {
     "name": "stdout",
     "output_type": "stream",
     "text": [
      "../data/processed_doc2vec_chunk_embeddings_spc_500/eng/Radcliffe_Ann_The-Italian_1797.txt.npz\n",
      "[{'book_name': 'Radcliffe_Ann_The-Italian_1797', 'ratio_of_punctuation_marks': 0.05806451612903226, 'ratio_of_whitespaces': 0.16129032258064516}]\n",
      "../data/raw_docs/eng/Gissing_George_In-the-Year-of-Jubilee_1894.txt\n"
     ]
    },
    {
     "name": "stderr",
     "output_type": "stream",
     "text": [
      "\r",
      "  0%|          | 2/599 [00:00<04:23,  2.27it/s]"
     ]
    },
    {
     "name": "stdout",
     "output_type": "stream",
     "text": [
      "../data/processed_doc2vec_chunk_embeddings_spc_500/eng/Gissing_George_In-the-Year-of-Jubilee_1894.txt.npz\n",
      "[{'book_name': 'Gissing_George_In-the-Year-of-Jubilee_1894', 'ratio_of_punctuation_marks': 0.07317073170731707, 'ratio_of_whitespaces': 0.17073170731707318}]\n",
      "../data/raw_docs/eng/Collins_Wilkie_Armadale_1864.txt\n"
     ]
    },
    {
     "name": "stderr",
     "output_type": "stream",
     "text": [
      "\r",
      "  1%|          | 3/599 [00:01<03:59,  2.49it/s]"
     ]
    },
    {
     "name": "stdout",
     "output_type": "stream",
     "text": [
      "../data/processed_doc2vec_chunk_embeddings_spc_500/eng/Collins_Wilkie_Armadale_1864.txt.npz\n",
      "[{'book_name': 'Collins_Wilkie_Armadale_1864', 'ratio_of_punctuation_marks': 0.02247191011235955, 'ratio_of_whitespaces': 0.20224719101123595}]\n",
      "../data/raw_docs/eng/Conrad_Joseph_Lord-Jim_1899.txt\n"
     ]
    },
    {
     "name": "stderr",
     "output_type": "stream",
     "text": [
      "\r",
      "  1%|          | 4/599 [00:01<03:57,  2.50it/s]"
     ]
    },
    {
     "name": "stdout",
     "output_type": "stream",
     "text": [
      "../data/processed_doc2vec_chunk_embeddings_spc_500/eng/Conrad_Joseph_Lord-Jim_1899.txt.npz\n",
      "[{'book_name': 'Conrad_Joseph_Lord-Jim_1899', 'ratio_of_punctuation_marks': 0.10714285714285714, 'ratio_of_whitespaces': 0.14285714285714285}]\n",
      "../data/raw_docs/eng/Shelley_Mary_Perkin-Warbeck_1830.txt\n"
     ]
    },
    {
     "name": "stderr",
     "output_type": "stream",
     "text": [
      "\r",
      "  1%|          | 5/599 [00:01<03:42,  2.67it/s]"
     ]
    },
    {
     "name": "stdout",
     "output_type": "stream",
     "text": [
      "../data/processed_doc2vec_chunk_embeddings_spc_500/eng/Shelley_Mary_Perkin-Warbeck_1830.txt.npz\n",
      "[{'book_name': 'Shelley_Mary_Perkin-Warbeck_1830', 'ratio_of_punctuation_marks': 0.05102040816326531, 'ratio_of_whitespaces': 0.17346938775510204}]\n",
      "../data/raw_docs/eng/Stretton_Hesba_Jessicas-First-Prayer_1867.txt\n"
     ]
    },
    {
     "name": "stderr",
     "output_type": "stream",
     "text": [
      "\r",
      "  1%|          | 6/599 [00:02<03:32,  2.79it/s]"
     ]
    },
    {
     "name": "stdout",
     "output_type": "stream",
     "text": [
      "../data/processed_doc2vec_chunk_embeddings_spc_500/eng/Stretton_Hesba_Jessicas-First-Prayer_1867.txt.npz\n",
      "[{'book_name': 'Stretton_Hesba_Jessicas-First-Prayer_1867', 'ratio_of_punctuation_marks': 0.020114942528735632, 'ratio_of_whitespaces': 0.1781609195402299}]\n",
      "../data/raw_docs/eng/Doyle_Arthur-Conan_The-Adventure-of-the-Dancing-Men_1905.txt\n"
     ]
    },
    {
     "name": "stderr",
     "output_type": "stream",
     "text": [
      "\r",
      "  1%|          | 7/599 [00:02<03:22,  2.93it/s]"
     ]
    },
    {
     "name": "stdout",
     "output_type": "stream",
     "text": [
      "../data/processed_doc2vec_chunk_embeddings_spc_500/eng/Doyle_Arthur-Conan_The-Adventure-of-the-Dancing-Men_1905.txt.npz\n",
      "[{'book_name': 'Doyle_Arthur-Conan_The-Adventure-of-the-Dancing-Men_1905', 'ratio_of_punctuation_marks': 0.023809523809523808, 'ratio_of_whitespaces': 0.18095238095238095}]\n",
      "../data/raw_docs/eng/Trollope_Anthony_Barchester-Towers_1857.txt\n"
     ]
    },
    {
     "name": "stderr",
     "output_type": "stream",
     "text": [
      "\r",
      "  1%|▏         | 8/599 [00:02<03:15,  3.03it/s]"
     ]
    },
    {
     "name": "stdout",
     "output_type": "stream",
     "text": [
      "../data/processed_doc2vec_chunk_embeddings_spc_500/eng/Trollope_Anthony_Barchester-Towers_1857.txt.npz\n",
      "[{'book_name': 'Trollope_Anthony_Barchester-Towers_1857', 'ratio_of_punctuation_marks': 0.020887728459530026, 'ratio_of_whitespaces': 0.19321148825065274}]\n",
      "../data/raw_docs/eng/Carleton_William_Fardorougha-the-Miser_1839.txt\n"
     ]
    },
    {
     "name": "stderr",
     "output_type": "stream",
     "text": [
      "\r",
      "  2%|▏         | 9/599 [00:03<03:11,  3.08it/s]"
     ]
    },
    {
     "name": "stdout",
     "output_type": "stream",
     "text": [
      "../data/processed_doc2vec_chunk_embeddings_spc_500/eng/Carleton_William_Fardorougha-the-Miser_1839.txt.npz\n",
      "[{'book_name': 'Carleton_William_Fardorougha-the-Miser_1839', 'ratio_of_punctuation_marks': 0.03273809523809524, 'ratio_of_whitespaces': 0.17857142857142858}]\n",
      "../data/raw_docs/eng/Nesbit_Edith_The-Story-of-the-Treasure-Seekers_1899.txt\n"
     ]
    },
    {
     "name": "stderr",
     "output_type": "stream",
     "text": [
      "\r",
      "  2%|▏         | 10/599 [00:03<03:29,  2.81it/s]"
     ]
    },
    {
     "name": "stdout",
     "output_type": "stream",
     "text": [
      "../data/processed_doc2vec_chunk_embeddings_spc_500/eng/Nesbit_Edith_The-Story-of-the-Treasure-Seekers_1899.txt.npz\n",
      "[{'book_name': 'Nesbit_Edith_The-Story-of-the-Treasure-Seekers_1899', 'ratio_of_punctuation_marks': 0.4444444444444444, 'ratio_of_whitespaces': 0.1111111111111111}]\n",
      "../data/raw_docs/eng/Barrie_J-M_Tommy-and-Grizel_1900.txt\n"
     ]
    },
    {
     "name": "stderr",
     "output_type": "stream",
     "text": [
      "\r",
      "  2%|▏         | 11/599 [00:03<03:19,  2.95it/s]"
     ]
    },
    {
     "name": "stdout",
     "output_type": "stream",
     "text": [
      "../data/processed_doc2vec_chunk_embeddings_spc_500/eng/Barrie_J-M_Tommy-and-Grizel_1900.txt.npz\n",
      "[{'book_name': 'Barrie_J-M_Tommy-and-Grizel_1900', 'ratio_of_punctuation_marks': 0.020833333333333332, 'ratio_of_whitespaces': 0.18055555555555555}]\n",
      "../data/raw_docs/eng/Conrad_Joseph_Heart-of-Darkness_1899.txt\n"
     ]
    },
    {
     "name": "stderr",
     "output_type": "stream",
     "text": [
      "\r",
      "  2%|▏         | 12/599 [00:04<03:12,  3.04it/s]"
     ]
    },
    {
     "name": "stdout",
     "output_type": "stream",
     "text": [
      "../data/processed_doc2vec_chunk_embeddings_spc_500/eng/Conrad_Joseph_Heart-of-Darkness_1899.txt.npz\n",
      "[{'book_name': 'Conrad_Joseph_Heart-of-Darkness_1899', 'ratio_of_punctuation_marks': 0.01904761904761905, 'ratio_of_whitespaces': 0.18095238095238095}]\n",
      "../data/raw_docs/eng/Moore_George_Esther-Waters_1894.txt\n"
     ]
    },
    {
     "name": "stderr",
     "output_type": "stream",
     "text": [
      "\r",
      "  2%|▏         | 13/599 [00:04<03:08,  3.11it/s]"
     ]
    },
    {
     "name": "stdout",
     "output_type": "stream",
     "text": [
      "../data/processed_doc2vec_chunk_embeddings_spc_500/eng/Moore_George_Esther-Waters_1894.txt.npz\n",
      "[{'book_name': 'Moore_George_Esther-Waters_1894', 'ratio_of_punctuation_marks': 0.022222222222222223, 'ratio_of_whitespaces': 0.15555555555555556}]\n",
      "../data/raw_docs/eng/Stevenson_Robert-Louis_The-Body-Snatcher_1884.txt\n"
     ]
    },
    {
     "name": "stderr",
     "output_type": "stream",
     "text": [
      "\r",
      "  2%|▏         | 14/599 [00:04<03:05,  3.15it/s]"
     ]
    },
    {
     "name": "stdout",
     "output_type": "stream",
     "text": [
      "../data/processed_doc2vec_chunk_embeddings_spc_500/eng/Stevenson_Robert-Louis_The-Body-Snatcher_1884.txt.npz\n",
      "[{'book_name': 'Stevenson_Robert-Louis_The-Body-Snatcher_1884', 'ratio_of_punctuation_marks': 0.036923076923076927, 'ratio_of_whitespaces': 0.1753846153846154}]\n",
      "../data/raw_docs/eng/Roche_Regina-Maria_The-Children-of-the-Abbey_1796.txt\n"
     ]
    },
    {
     "name": "stderr",
     "output_type": "stream",
     "text": [
      "\r",
      "  3%|▎         | 15/599 [00:05<03:03,  3.19it/s]"
     ]
    },
    {
     "name": "stdout",
     "output_type": "stream",
     "text": [
      "../data/processed_doc2vec_chunk_embeddings_spc_500/eng/Roche_Regina-Maria_The-Children-of-the-Abbey_1796.txt.npz\n",
      "[{'book_name': 'Roche_Regina-Maria_The-Children-of-the-Abbey_1796', 'ratio_of_punctuation_marks': 0.016666666666666666, 'ratio_of_whitespaces': 0.13333333333333333}]\n",
      "../data/raw_docs/eng/Conrad_Joseph_Chance_1912.txt\n"
     ]
    },
    {
     "name": "stderr",
     "output_type": "stream",
     "text": [
      "\r",
      "  3%|▎         | 16/599 [00:05<03:26,  2.82it/s]"
     ]
    },
    {
     "name": "stdout",
     "output_type": "stream",
     "text": [
      "../data/processed_doc2vec_chunk_embeddings_spc_500/eng/Conrad_Joseph_Chance_1912.txt.npz\n",
      "[{'book_name': 'Conrad_Joseph_Chance_1912', 'ratio_of_punctuation_marks': 0.0684931506849315, 'ratio_of_whitespaces': 0.2465753424657534}]\n",
      "../data/raw_docs/eng/Holcroft_Thomas_The-Adventures-of-Hugh-Trevor_1794.txt\n"
     ]
    },
    {
     "name": "stderr",
     "output_type": "stream",
     "text": [
      "\r",
      "  3%|▎         | 17/599 [00:05<03:20,  2.91it/s]"
     ]
    },
    {
     "name": "stdout",
     "output_type": "stream",
     "text": [
      "../data/processed_doc2vec_chunk_embeddings_spc_500/eng/Holcroft_Thomas_The-Adventures-of-Hugh-Trevor_1794.txt.npz\n",
      "[{'book_name': 'Holcroft_Thomas_The-Adventures-of-Hugh-Trevor_1794', 'ratio_of_punctuation_marks': 0.025, 'ratio_of_whitespaces': 0.15}]\n",
      "../data/raw_docs/eng/Somerville-Ross_Edith-Martin_An-Irish-Cousin_1889.txt\n"
     ]
    },
    {
     "name": "stderr",
     "output_type": "stream",
     "text": [
      "\r",
      "  3%|▎         | 18/599 [00:06<03:14,  2.99it/s]"
     ]
    },
    {
     "name": "stdout",
     "output_type": "stream",
     "text": [
      "../data/processed_doc2vec_chunk_embeddings_spc_500/eng/Somerville-Ross_Edith-Martin_An-Irish-Cousin_1889.txt.npz\n",
      "[{'book_name': 'Somerville-Ross_Edith-Martin_An-Irish-Cousin_1889', 'ratio_of_punctuation_marks': 0.08, 'ratio_of_whitespaces': 0.16}]\n",
      "../data/raw_docs/eng/Scott_Walter_The-Bride-of-Lammermoor_1819.txt\n"
     ]
    },
    {
     "name": "stderr",
     "output_type": "stream",
     "text": [
      "\r",
      "  3%|▎         | 19/599 [00:06<03:23,  2.85it/s]"
     ]
    },
    {
     "name": "stdout",
     "output_type": "stream",
     "text": [
      "../data/processed_doc2vec_chunk_embeddings_spc_500/eng/Scott_Walter_The-Bride-of-Lammermoor_1819.txt.npz\n",
      "[{'book_name': 'Scott_Walter_The-Bride-of-Lammermoor_1819', 'ratio_of_punctuation_marks': 0.031746031746031744, 'ratio_of_whitespaces': 0.14285714285714285}]\n",
      "../data/raw_docs/eng/Edgeworth_Maria_Lame-Jervas_1804.txt\n"
     ]
    },
    {
     "name": "stderr",
     "output_type": "stream",
     "text": [
      "\r",
      "  3%|▎         | 20/599 [00:06<03:26,  2.80it/s]"
     ]
    },
    {
     "name": "stdout",
     "output_type": "stream",
     "text": [
      "../data/processed_doc2vec_chunk_embeddings_spc_500/eng/Edgeworth_Maria_Lame-Jervas_1804.txt.npz\n",
      "[{'book_name': 'Edgeworth_Maria_Lame-Jervas_1804', 'ratio_of_punctuation_marks': 0.1875, 'ratio_of_whitespaces': 0.125}]\n",
      "../data/raw_docs/eng/Sterne_Laurence_Tristram-Shandy_1759.txt\n"
     ]
    },
    {
     "name": "stderr",
     "output_type": "stream",
     "text": [
      "\r",
      "  4%|▎         | 21/599 [00:07<03:23,  2.84it/s]"
     ]
    },
    {
     "name": "stdout",
     "output_type": "stream",
     "text": [
      "../data/processed_doc2vec_chunk_embeddings_spc_500/eng/Sterne_Laurence_Tristram-Shandy_1759.txt.npz\n",
      "[{'book_name': 'Sterne_Laurence_Tristram-Shandy_1759', 'ratio_of_punctuation_marks': 0.1, 'ratio_of_whitespaces': 0.2357142857142857}]\n",
      "../data/raw_docs/eng/Edgeworth_Maria_Castle-Rackrent_1800.txt\n"
     ]
    },
    {
     "name": "stderr",
     "output_type": "stream",
     "text": [
      "\r",
      "  4%|▎         | 22/599 [00:07<03:41,  2.60it/s]"
     ]
    },
    {
     "name": "stdout",
     "output_type": "stream",
     "text": [
      "../data/processed_doc2vec_chunk_embeddings_spc_500/eng/Edgeworth_Maria_Castle-Rackrent_1800.txt.npz\n",
      "[{'book_name': 'Edgeworth_Maria_Castle-Rackrent_1800', 'ratio_of_punctuation_marks': 0.02040816326530612, 'ratio_of_whitespaces': 0.1836734693877551}]\n",
      "../data/raw_docs/eng/Edgeworth_Maria_The-Manufacturers_1804.txt\n"
     ]
    },
    {
     "name": "stderr",
     "output_type": "stream",
     "text": [
      "\r",
      "  4%|▍         | 23/599 [00:07<03:29,  2.75it/s]"
     ]
    },
    {
     "name": "stdout",
     "output_type": "stream",
     "text": [
      "../data/processed_doc2vec_chunk_embeddings_spc_500/eng/Edgeworth_Maria_The-Manufacturers_1804.txt.npz\n",
      "[{'book_name': 'Edgeworth_Maria_The-Manufacturers_1804', 'ratio_of_punctuation_marks': 0.2, 'ratio_of_whitespaces': 0.1}]\n",
      "../data/raw_docs/eng/Kipling_Rudyard_Consequences_1888.txt\n"
     ]
    },
    {
     "name": "stderr",
     "output_type": "stream",
     "text": [
      "\r",
      "  4%|▍         | 24/599 [00:08<03:18,  2.90it/s]"
     ]
    },
    {
     "name": "stdout",
     "output_type": "stream",
     "text": [
      "../data/processed_doc2vec_chunk_embeddings_spc_500/eng/Kipling_Rudyard_Consequences_1888.txt.npz\n",
      "[{'book_name': 'Kipling_Rudyard_Consequences_1888', 'ratio_of_punctuation_marks': 0.1069182389937107, 'ratio_of_whitespaces': 0.18238993710691823}]\n",
      "../data/raw_docs/eng/Edgeworth_Maria_The-Grateful-Negro_1804.txt\n"
     ]
    },
    {
     "name": "stderr",
     "output_type": "stream",
     "text": [
      "\r",
      "  4%|▍         | 25/599 [00:08<03:11,  3.00it/s]"
     ]
    },
    {
     "name": "stdout",
     "output_type": "stream",
     "text": [
      "../data/processed_doc2vec_chunk_embeddings_spc_500/eng/Edgeworth_Maria_The-Grateful-Negro_1804.txt.npz\n",
      "[{'book_name': 'Edgeworth_Maria_The-Grateful-Negro_1804', 'ratio_of_punctuation_marks': 0.16666666666666666, 'ratio_of_whitespaces': 0.08333333333333333}]\n",
      "../data/raw_docs/eng/James_Henry_What-Maisie-Knew_1897.txt\n"
     ]
    },
    {
     "name": "stderr",
     "output_type": "stream",
     "text": [
      "\r",
      "  4%|▍         | 26/599 [00:08<03:06,  3.07it/s]"
     ]
    },
    {
     "name": "stdout",
     "output_type": "stream",
     "text": [
      "../data/processed_doc2vec_chunk_embeddings_spc_500/eng/James_Henry_What-Maisie-Knew_1897.txt.npz\n",
      "[{'book_name': 'James_Henry_What-Maisie-Knew_1897', 'ratio_of_punctuation_marks': 0.02, 'ratio_of_whitespaces': 0.18}]\n",
      "../data/raw_docs/eng/Burnett_Frances-Hodgson_The-Secret-Garden_1911.txt\n"
     ]
    },
    {
     "name": "stderr",
     "output_type": "stream",
     "text": [
      "\r",
      "  5%|▍         | 27/599 [00:09<03:29,  2.72it/s]"
     ]
    },
    {
     "name": "stdout",
     "output_type": "stream",
     "text": [
      "../data/processed_doc2vec_chunk_embeddings_spc_500/eng/Burnett_Frances-Hodgson_The-Secret-Garden_1911.txt.npz\n",
      "[{'book_name': 'Burnett_Frances-Hodgson_The-Secret-Garden_1911', 'ratio_of_punctuation_marks': 0.02054794520547945, 'ratio_of_whitespaces': 0.19863013698630136}]\n",
      "../data/raw_docs/eng/Chesterton_G-K_The-Man-Who-Was-Thursday_1908.txt\n"
     ]
    },
    {
     "name": "stderr",
     "output_type": "stream",
     "text": [
      "\r",
      "  5%|▍         | 28/599 [00:09<03:18,  2.87it/s]"
     ]
    },
    {
     "name": "stdout",
     "output_type": "stream",
     "text": [
      "../data/processed_doc2vec_chunk_embeddings_spc_500/eng/Chesterton_G-K_The-Man-Who-Was-Thursday_1908.txt.npz\n",
      "[{'book_name': 'Chesterton_G-K_The-Man-Who-Was-Thursday_1908', 'ratio_of_punctuation_marks': 0.03424657534246575, 'ratio_of_whitespaces': 0.1643835616438356}]\n",
      "../data/raw_docs/eng/Carleton_William_The-Emigrants-of-Ahadarra_1847.txt\n"
     ]
    },
    {
     "name": "stderr",
     "output_type": "stream",
     "text": [
      "\r",
      "  5%|▍         | 29/599 [00:09<03:11,  2.97it/s]"
     ]
    },
    {
     "name": "stdout",
     "output_type": "stream",
     "text": [
      "../data/processed_doc2vec_chunk_embeddings_spc_500/eng/Carleton_William_The-Emigrants-of-Ahadarra_1847.txt.npz\n",
      "[{'book_name': 'Carleton_William_The-Emigrants-of-Ahadarra_1847', 'ratio_of_punctuation_marks': 0.05263157894736842, 'ratio_of_whitespaces': 0.10526315789473684}]\n",
      "../data/raw_docs/eng/Eliot_George_Felix-Holt_1866.txt\n"
     ]
    },
    {
     "name": "stderr",
     "output_type": "stream",
     "text": [
      "\r",
      "  5%|▌         | 30/599 [00:10<03:09,  3.00it/s]"
     ]
    },
    {
     "name": "stdout",
     "output_type": "stream",
     "text": [
      "../data/processed_doc2vec_chunk_embeddings_spc_500/eng/Eliot_George_Felix-Holt_1866.txt.npz\n",
      "[{'book_name': 'Eliot_George_Felix-Holt_1866', 'ratio_of_punctuation_marks': 0.030303030303030304, 'ratio_of_whitespaces': 0.1919191919191919}]\n",
      "../data/raw_docs/eng/Carleton_William_Ned-M-Keown_1830.txt\n"
     ]
    },
    {
     "name": "stderr",
     "output_type": "stream",
     "text": [
      "\r",
      "  5%|▌         | 31/599 [00:10<03:08,  3.02it/s]"
     ]
    },
    {
     "name": "stdout",
     "output_type": "stream",
     "text": [
      "../data/processed_doc2vec_chunk_embeddings_spc_500/eng/Carleton_William_Ned-M-Keown_1830.txt.npz\n",
      "[{'book_name': 'Carleton_William_Ned-M-Keown_1830', 'ratio_of_punctuation_marks': 0.1276595744680851, 'ratio_of_whitespaces': 0.1595744680851064}]\n",
      "../data/raw_docs/eng/Kipling_Rudyard_How-the-Whale-Got-His-Throat_1902.txt\n"
     ]
    },
    {
     "name": "stderr",
     "output_type": "stream",
     "text": [
      "\r",
      "  5%|▌         | 32/599 [00:10<03:07,  3.03it/s]"
     ]
    },
    {
     "name": "stdout",
     "output_type": "stream",
     "text": [
      "../data/processed_doc2vec_chunk_embeddings_spc_500/eng/Kipling_Rudyard_How-the-Whale-Got-His-Throat_1902.txt.npz\n",
      "[{'book_name': 'Kipling_Rudyard_How-the-Whale-Got-His-Throat_1902', 'ratio_of_punctuation_marks': 0.1111111111111111, 'ratio_of_whitespaces': 0.1388888888888889}]\n",
      "../data/raw_docs/eng/Kipling_Rudyard_The-Bisara-of-Pooree_1888.txt\n"
     ]
    },
    {
     "name": "stderr",
     "output_type": "stream",
     "text": [
      "\r",
      "  6%|▌         | 33/599 [00:11<03:31,  2.68it/s]"
     ]
    },
    {
     "name": "stdout",
     "output_type": "stream",
     "text": [
      "../data/processed_doc2vec_chunk_embeddings_spc_500/eng/Kipling_Rudyard_The-Bisara-of-Pooree_1888.txt.npz\n",
      "[{'book_name': 'Kipling_Rudyard_The-Bisara-of-Pooree_1888', 'ratio_of_punctuation_marks': 0.027777777777777776, 'ratio_of_whitespaces': 0.18518518518518517}]\n",
      "../data/raw_docs/eng/Carleton_William_Shane-Fadhs-Wedding_1830.txt\n"
     ]
    },
    {
     "name": "stderr",
     "output_type": "stream",
     "text": [
      "\r",
      "  6%|▌         | 34/599 [00:11<03:22,  2.79it/s]"
     ]
    },
    {
     "name": "stdout",
     "output_type": "stream",
     "text": [
      "../data/processed_doc2vec_chunk_embeddings_spc_500/eng/Carleton_William_Shane-Fadhs-Wedding_1830.txt.npz\n",
      "[{'book_name': 'Carleton_William_Shane-Fadhs-Wedding_1830', 'ratio_of_punctuation_marks': 0.03278688524590164, 'ratio_of_whitespaces': 0.16939890710382513}]\n",
      "../data/raw_docs/eng/Doyle_Arthur-Conan_The-Adventure-of-the-Missing-Three-Quarter_1905.txt\n"
     ]
    },
    {
     "name": "stderr",
     "output_type": "stream",
     "text": [
      "\r",
      "  6%|▌         | 35/599 [00:12<03:13,  2.91it/s]"
     ]
    },
    {
     "name": "stdout",
     "output_type": "stream",
     "text": [
      "../data/processed_doc2vec_chunk_embeddings_spc_500/eng/Doyle_Arthur-Conan_The-Adventure-of-the-Missing-Three-Quarter_1905.txt.npz\n",
      "[{'book_name': 'Doyle_Arthur-Conan_The-Adventure-of-the-Missing-Three-Quarter_1905', 'ratio_of_punctuation_marks': 0.05714285714285714, 'ratio_of_whitespaces': 0.18095238095238095}]\n",
      "../data/raw_docs/eng/Grand_Sarah_The-Heavenly-Twins_1893.txt\n"
     ]
    },
    {
     "name": "stderr",
     "output_type": "stream",
     "text": [
      "\r",
      "  6%|▌         | 36/599 [00:12<03:06,  3.01it/s]"
     ]
    },
    {
     "name": "stdout",
     "output_type": "stream",
     "text": [
      "../data/processed_doc2vec_chunk_embeddings_spc_500/eng/Grand_Sarah_The-Heavenly-Twins_1893.txt.npz\n",
      "[{'book_name': 'Grand_Sarah_The-Heavenly-Twins_1893', 'ratio_of_punctuation_marks': 0.05357142857142857, 'ratio_of_whitespaces': 0.17857142857142858}]\n",
      "../data/raw_docs/eng/Gaskell_Elizabeth_The-Old-Nurses-Story_1852.txt\n"
     ]
    },
    {
     "name": "stderr",
     "output_type": "stream",
     "text": [
      "\r",
      "  6%|▌         | 37/599 [00:12<03:02,  3.08it/s]"
     ]
    },
    {
     "name": "stdout",
     "output_type": "stream",
     "text": [
      "../data/processed_doc2vec_chunk_embeddings_spc_500/eng/Gaskell_Elizabeth_The-Old-Nurses-Story_1852.txt.npz\n",
      "[{'book_name': 'Gaskell_Elizabeth_The-Old-Nurses-Story_1852', 'ratio_of_punctuation_marks': 0.04, 'ratio_of_whitespaces': 0.2}]\n",
      "../data/raw_docs/eng/Gaskell_Elizabeth_North-and-South_1854.txt\n"
     ]
    },
    {
     "name": "stderr",
     "output_type": "stream",
     "text": [
      "\r",
      "  6%|▋         | 38/599 [00:12<02:58,  3.14it/s]"
     ]
    },
    {
     "name": "stdout",
     "output_type": "stream",
     "text": [
      "../data/processed_doc2vec_chunk_embeddings_spc_500/eng/Gaskell_Elizabeth_North-and-South_1854.txt.npz\n",
      "[{'book_name': 'Gaskell_Elizabeth_North-and-South_1854', 'ratio_of_punctuation_marks': 0.10091743119266056, 'ratio_of_whitespaces': 0.1651376146788991}]\n",
      "../data/raw_docs/eng/Carleton_William_The-Battle-of-the-Factions_1830.txt\n"
     ]
    },
    {
     "name": "stderr",
     "output_type": "stream",
     "text": [
      "\r",
      "  7%|▋         | 39/599 [00:13<03:23,  2.75it/s]"
     ]
    },
    {
     "name": "stdout",
     "output_type": "stream",
     "text": [
      "../data/processed_doc2vec_chunk_embeddings_spc_500/eng/Carleton_William_The-Battle-of-the-Factions_1830.txt.npz\n",
      "[{'book_name': 'Carleton_William_The-Battle-of-the-Factions_1830', 'ratio_of_punctuation_marks': 0.031055900621118012, 'ratio_of_whitespaces': 0.16149068322981366}]\n",
      "../data/raw_docs/eng/Opie_Amelia_Adeline-Mowbray_1804.txt\n"
     ]
    },
    {
     "name": "stderr",
     "output_type": "stream",
     "text": [
      "\r",
      "  7%|▋         | 40/599 [00:13<03:13,  2.89it/s]"
     ]
    },
    {
     "name": "stdout",
     "output_type": "stream",
     "text": [
      "../data/processed_doc2vec_chunk_embeddings_spc_500/eng/Opie_Amelia_Adeline-Mowbray_1804.txt.npz\n",
      "[{'book_name': 'Opie_Amelia_Adeline-Mowbray_1804', 'ratio_of_punctuation_marks': 0.06, 'ratio_of_whitespaces': 0.16}]\n",
      "../data/raw_docs/eng/Kipling_Rudyard_In-the-Pride-of-His-Youth_1888.txt\n"
     ]
    },
    {
     "name": "stderr",
     "output_type": "stream",
     "text": [
      "\r",
      "  7%|▋         | 41/599 [00:14<03:08,  2.96it/s]"
     ]
    },
    {
     "name": "stdout",
     "output_type": "stream",
     "text": [
      "../data/processed_doc2vec_chunk_embeddings_spc_500/eng/Kipling_Rudyard_In-the-Pride-of-His-Youth_1888.txt.npz\n",
      "[{'book_name': 'Kipling_Rudyard_In-the-Pride-of-His-Youth_1888', 'ratio_of_punctuation_marks': 0.025974025974025976, 'ratio_of_whitespaces': 0.16883116883116883}]\n",
      "../data/raw_docs/eng/Brunton_Mary_Discipline_1814.txt\n"
     ]
    },
    {
     "name": "stderr",
     "output_type": "stream",
     "text": [
      "\r",
      "  7%|▋         | 42/599 [00:14<03:02,  3.05it/s]"
     ]
    },
    {
     "name": "stdout",
     "output_type": "stream",
     "text": [
      "../data/processed_doc2vec_chunk_embeddings_spc_500/eng/Brunton_Mary_Discipline_1814.txt.npz\n",
      "[{'book_name': 'Brunton_Mary_Discipline_1814', 'ratio_of_punctuation_marks': 0.05128205128205128, 'ratio_of_whitespaces': 0.16666666666666666}]\n",
      "../data/raw_docs/eng/Doyle_Arthur-Conan_The-Man-with-the-Twisted-Lip_1891.txt\n"
     ]
    },
    {
     "name": "stderr",
     "output_type": "stream",
     "text": [
      "\r",
      "  7%|▋         | 43/599 [00:14<02:58,  3.11it/s]"
     ]
    },
    {
     "name": "stdout",
     "output_type": "stream",
     "text": [
      "../data/processed_doc2vec_chunk_embeddings_spc_500/eng/Doyle_Arthur-Conan_The-Man-with-the-Twisted-Lip_1891.txt.npz\n",
      "[{'book_name': 'Doyle_Arthur-Conan_The-Man-with-the-Twisted-Lip_1891', 'ratio_of_punctuation_marks': 0.044444444444444446, 'ratio_of_whitespaces': 0.18888888888888888}]\n",
      "../data/raw_docs/eng/Kipling_Rudyard_Lispeth_1888.txt\n"
     ]
    },
    {
     "name": "stderr",
     "output_type": "stream",
     "text": [
      "\r",
      "  7%|▋         | 44/599 [00:14<02:56,  3.14it/s]"
     ]
    },
    {
     "name": "stdout",
     "output_type": "stream",
     "text": [
      "../data/processed_doc2vec_chunk_embeddings_spc_500/eng/Kipling_Rudyard_Lispeth_1888.txt.npz\n",
      "[{'book_name': 'Kipling_Rudyard_Lispeth_1888', 'ratio_of_punctuation_marks': 0.039735099337748346, 'ratio_of_whitespaces': 0.17218543046357615}]\n",
      "../data/raw_docs/eng/Edgeworth_Maria_Ormond_1817.txt\n"
     ]
    },
    {
     "name": "stderr",
     "output_type": "stream",
     "text": [
      "\r",
      "  8%|▊         | 45/599 [00:15<03:14,  2.84it/s]"
     ]
    },
    {
     "name": "stdout",
     "output_type": "stream",
     "text": [
      "../data/processed_doc2vec_chunk_embeddings_spc_500/eng/Edgeworth_Maria_Ormond_1817.txt.npz\n",
      "[{'book_name': 'Edgeworth_Maria_Ormond_1817', 'ratio_of_punctuation_marks': 0.01718213058419244, 'ratio_of_whitespaces': 0.15807560137457044}]\n",
      "../data/raw_docs/eng/MacDonald_George_Phantastes_1858.txt\n"
     ]
    },
    {
     "name": "stderr",
     "output_type": "stream",
     "text": [
      "\r",
      "  8%|▊         | 46/599 [00:15<03:06,  2.96it/s]"
     ]
    },
    {
     "name": "stdout",
     "output_type": "stream",
     "text": [
      "../data/processed_doc2vec_chunk_embeddings_spc_500/eng/MacDonald_George_Phantastes_1858.txt.npz\n",
      "[{'book_name': 'MacDonald_George_Phantastes_1858', 'ratio_of_punctuation_marks': 0.11764705882352941, 'ratio_of_whitespaces': 0.11764705882352941}]\n",
      "../data/raw_docs/eng/Dickens_Charles_David-Copperfield_1849.txt\n"
     ]
    },
    {
     "name": "stderr",
     "output_type": "stream",
     "text": [
      "\r",
      "  8%|▊         | 47/599 [00:16<03:00,  3.05it/s]"
     ]
    },
    {
     "name": "stdout",
     "output_type": "stream",
     "text": [
      "../data/processed_doc2vec_chunk_embeddings_spc_500/eng/Dickens_Charles_David-Copperfield_1849.txt.npz\n",
      "[{'book_name': 'Dickens_Charles_David-Copperfield_1849', 'ratio_of_punctuation_marks': 0.03980099502487562, 'ratio_of_whitespaces': 0.208955223880597}]\n",
      "../data/raw_docs/eng/Ward_Mary-Augusta_Robert-Elsmere_1888.txt\n"
     ]
    },
    {
     "name": "stderr",
     "output_type": "stream",
     "text": [
      "\r",
      "  8%|▊         | 48/599 [00:16<02:57,  3.10it/s]"
     ]
    },
    {
     "name": "stdout",
     "output_type": "stream",
     "text": [
      "../data/processed_doc2vec_chunk_embeddings_spc_500/eng/Ward_Mary-Augusta_Robert-Elsmere_1888.txt.npz\n",
      "[{'book_name': 'Ward_Mary-Augusta_Robert-Elsmere_1888', 'ratio_of_punctuation_marks': 0.02857142857142857, 'ratio_of_whitespaces': 0.17142857142857143}]\n",
      "../data/raw_docs/eng/Dickens_Charles_Dombey-and-Son_1846.txt\n"
     ]
    },
    {
     "name": "stderr",
     "output_type": "stream",
     "text": [
      "\r",
      "  8%|▊         | 49/599 [00:16<02:55,  3.14it/s]"
     ]
    },
    {
     "name": "stdout",
     "output_type": "stream",
     "text": [
      "../data/processed_doc2vec_chunk_embeddings_spc_500/eng/Dickens_Charles_Dombey-and-Son_1846.txt.npz\n",
      "[{'book_name': 'Dickens_Charles_Dombey-and-Son_1846', 'ratio_of_punctuation_marks': 0.035398230088495575, 'ratio_of_whitespaces': 0.168141592920354}]\n",
      "../data/raw_docs/eng/Lawrence_D-H_The-Thorn-in-the-Flesh_1914.txt\n"
     ]
    },
    {
     "name": "stderr",
     "output_type": "stream",
     "text": [
      "\r",
      "  8%|▊         | 50/599 [00:17<03:16,  2.80it/s]"
     ]
    },
    {
     "name": "stdout",
     "output_type": "stream",
     "text": [
      "../data/processed_doc2vec_chunk_embeddings_spc_500/eng/Lawrence_D-H_The-Thorn-in-the-Flesh_1914.txt.npz\n",
      "[{'book_name': 'Lawrence_D-H_The-Thorn-in-the-Flesh_1914', 'ratio_of_punctuation_marks': 0.05952380952380952, 'ratio_of_whitespaces': 0.16666666666666666}]\n",
      "../data/raw_docs/eng/Scott_Walter_Waverley_1814.txt\n"
     ]
    },
    {
     "name": "stderr",
     "output_type": "stream",
     "text": [
      "100%|██████████| 599/599 [00:17<00:00, 34.34it/s]"
     ]
    },
    {
     "name": "stdout",
     "output_type": "stream",
     "text": [
      "../data/processed_doc2vec_chunk_embeddings_spc_500/eng/Scott_Walter_Waverley_1814.txt.npz\n",
      "[{'book_name': 'Scott_Walter_Waverley_1814', 'ratio_of_punctuation_marks': 0.03, 'ratio_of_whitespaces': 0.185}]\n"
     ]
    },
    {
     "name": "stderr",
     "output_type": "stream",
     "text": [
      "\n"
     ]
    }
   ],
   "source": [
    "%load_ext autoreload\n",
    "%autoreload 2\n",
    "\n",
    "import os\n",
    "import sys\n",
    "sys.path.insert(0, \"../src/\")\n",
    "import re\n",
    "import numpy as np\n",
    "import pandas as pd\n",
    "from tqdm import tqdm\n",
    "from handcrafted_features import FeatureExtractor, Doc2VecChunkVectorizer\n",
    "from utils import get_doc_paths, read_labels\n",
    "\n",
    "print(os.getcwd())\n",
    "raw_docs_dir = \"../data/raw_docs\"\n",
    "labels_dir = \"../data/labels/\"\n",
    "\n",
    "lang = \"eng\"\n",
    "doc_paths = get_doc_paths(raw_docs_dir, lang)\n",
    "sentences_per_chunk = 500\n",
    "# d2vcv = Doc2VecChunkVectorizer(lang, sentences_per_chunk)\n",
    "# d2vcv.fit_transform(doc_paths)\n",
    "\n",
    "all_features = []\n",
    "i=0\n",
    "for doc_path in tqdm(doc_paths):\n",
    "    if i<51:\n",
    "        print(doc_path)\n",
    "        i+=1\n",
    "        fe = FeatureExtractor(lang, doc_path, sentences_per_chunk)\n",
    "        features = fe.get_all_features()\n",
    "        print(features)\n",
    "        all_features.extend(features)"
   ]
  },
  {
   "cell_type": "code",
   "execution_count": 2,
   "metadata": {},
   "outputs": [
    {
     "name": "stdout",
     "output_type": "stream",
     "text": [
      "                                            book_name  \\\n",
      "0                      Radcliffe_Ann_The-Italian_1797   \n",
      "1          Gissing_George_In-the-Year-of-Jubilee_1894   \n",
      "2                        Collins_Wilkie_Armadale_1864   \n",
      "3                         Conrad_Joseph_Lord-Jim_1899   \n",
      "4                    Shelley_Mary_Perkin-Warbeck_1830   \n",
      "5           Stretton_Hesba_Jessicas-First-Prayer_1867   \n",
      "6   Doyle_Arthur-Conan_The-Adventure-of-the-Dancin...   \n",
      "7             Trollope_Anthony_Barchester-Towers_1857   \n",
      "8         Carleton_William_Fardorougha-the-Miser_1839   \n",
      "9   Nesbit_Edith_The-Story-of-the-Treasure-Seekers...   \n",
      "10                   Barrie_J-M_Tommy-and-Grizel_1900   \n",
      "11               Conrad_Joseph_Heart-of-Darkness_1899   \n",
      "12                    Moore_George_Esther-Waters_1894   \n",
      "13      Stevenson_Robert-Louis_The-Body-Snatcher_1884   \n",
      "14  Roche_Regina-Maria_The-Children-of-the-Abbey_1796   \n",
      "15                          Conrad_Joseph_Chance_1912   \n",
      "16  Holcroft_Thomas_The-Adventures-of-Hugh-Trevor_...   \n",
      "17  Somerville-Ross_Edith-Martin_An-Irish-Cousin_1889   \n",
      "18          Scott_Walter_The-Bride-of-Lammermoor_1819   \n",
      "19                   Edgeworth_Maria_Lame-Jervas_1804   \n",
      "20               Sterne_Laurence_Tristram-Shandy_1759   \n",
      "21               Edgeworth_Maria_Castle-Rackrent_1800   \n",
      "22             Edgeworth_Maria_The-Manufacturers_1804   \n",
      "23                  Kipling_Rudyard_Consequences_1888   \n",
      "24            Edgeworth_Maria_The-Grateful-Negro_1804   \n",
      "25                  James_Henry_What-Maisie-Knew_1897   \n",
      "26     Burnett_Frances-Hodgson_The-Secret-Garden_1911   \n",
      "27       Chesterton_G-K_The-Man-Who-Was-Thursday_1908   \n",
      "28    Carleton_William_The-Emigrants-of-Ahadarra_1847   \n",
      "29                       Eliot_George_Felix-Holt_1866   \n",
      "30                  Carleton_William_Ned-M-Keown_1830   \n",
      "31  Kipling_Rudyard_How-the-Whale-Got-His-Throat_1902   \n",
      "32          Kipling_Rudyard_The-Bisara-of-Pooree_1888   \n",
      "33          Carleton_William_Shane-Fadhs-Wedding_1830   \n",
      "34  Doyle_Arthur-Conan_The-Adventure-of-the-Missin...   \n",
      "35                Grand_Sarah_The-Heavenly-Twins_1893   \n",
      "36        Gaskell_Elizabeth_The-Old-Nurses-Story_1852   \n",
      "37             Gaskell_Elizabeth_North-and-South_1854   \n",
      "38   Carleton_William_The-Battle-of-the-Factions_1830   \n",
      "39                   Opie_Amelia_Adeline-Mowbray_1804   \n",
      "40     Kipling_Rudyard_In-the-Pride-of-His-Youth_1888   \n",
      "41                       Brunton_Mary_Discipline_1814   \n",
      "42  Doyle_Arthur-Conan_The-Man-with-the-Twisted-Li...   \n",
      "43                       Kipling_Rudyard_Lispeth_1888   \n",
      "44                        Edgeworth_Maria_Ormond_1817   \n",
      "45                   MacDonald_George_Phantastes_1858   \n",
      "46             Dickens_Charles_David-Copperfield_1849   \n",
      "47              Ward_Mary-Augusta_Robert-Elsmere_1888   \n",
      "48                Dickens_Charles_Dombey-and-Son_1846   \n",
      "49           Lawrence_D-H_The-Thorn-in-the-Flesh_1914   \n",
      "50                         Scott_Walter_Waverley_1814   \n",
      "\n",
      "    ratio_of_punctuation_marks  ratio_of_whitespaces          y  \n",
      "0                     0.058065              0.161290  50.133333  \n",
      "1                     0.073171              0.170732  18.666667  \n",
      "2                     0.022472              0.202247  32.800000  \n",
      "3                     0.107143              0.142857  66.933333  \n",
      "4                     0.051020              0.173469  18.666667  \n",
      "5                     0.020115              0.178161  22.133333  \n",
      "6                     0.023810              0.180952  63.200000  \n",
      "7                     0.020888              0.193211  42.133333  \n",
      "8                     0.032738              0.178571  30.400000  \n",
      "9                     0.444444              0.111111   8.000000  \n",
      "10                    0.020833              0.180556   8.000000  \n",
      "11                    0.019048              0.180952  52.800000  \n",
      "12                    0.022222              0.155556  73.866667  \n",
      "13                    0.036923              0.175385   8.000000  \n",
      "14                    0.016667              0.133333   8.000000  \n",
      "15                    0.068493              0.246575  43.466667  \n",
      "16                    0.025000              0.150000  18.666667  \n",
      "17                    0.080000              0.160000   8.000000  \n",
      "18                    0.031746              0.142857  97.333333  \n",
      "19                    0.187500              0.125000  18.666667  \n",
      "20                    0.100000              0.235714  97.333333  \n",
      "21                    0.020408              0.183673  76.266667  \n",
      "22                    0.200000              0.100000  18.666667  \n",
      "23                    0.106918              0.182390  40.800000  \n",
      "24                    0.166667              0.083333  18.666667  \n",
      "25                    0.020000              0.180000  43.466667  \n",
      "26                    0.020548              0.198630  65.600000  \n",
      "27                    0.034247              0.164384  40.800000  \n",
      "28                    0.052632              0.105263  30.400000  \n",
      "29                    0.030303              0.191919  65.866667  \n",
      "30                    0.127660              0.159574  30.400000  \n",
      "31                    0.111111              0.138889  40.800000  \n",
      "32                    0.027778              0.185185  40.800000  \n",
      "33                    0.032787              0.169399  30.400000  \n",
      "34                    0.057143              0.180952  63.200000  \n",
      "35                    0.053571              0.178571  49.066667  \n",
      "36                    0.040000              0.200000  22.133333  \n",
      "37                    0.100917              0.165138  74.933333  \n",
      "38                    0.031056              0.161491  30.400000  \n",
      "39                    0.060000              0.160000  26.666667  \n",
      "40                    0.025974              0.168831  40.800000  \n",
      "41                    0.051282              0.166667  26.666667  \n",
      "42                    0.044444              0.188889  71.200000  \n",
      "43                    0.039735              0.172185  40.800000  \n",
      "44                    0.017182              0.158076  26.666667  \n",
      "45                    0.117647              0.117647  30.133333  \n",
      "46                    0.039801              0.208955  67.200000  \n",
      "47                    0.028571              0.171429  40.800000  \n",
      "48                    0.035398              0.168142  89.333333  \n",
      "49                    0.059524              0.166667  40.800000  \n",
      "50                    0.030000              0.185000  73.866667  \n"
     ]
    },
    {
     "name": "stderr",
     "output_type": "stream",
     "text": [
      "../src/utils.py:46: SettingWithCopyWarning: \n",
      "A value is trying to be set on a copy of a slice from a DataFrame\n",
      "\n",
      "See the caveats in the documentation: https://pandas.pydata.org/pandas-docs/stable/user_guide/indexing.html#returning-a-view-versus-a-copy\n",
      "  labels_df[\"file_name\"][labels_df[\"file_name\"] == key] = value\n"
     ]
    }
   ],
   "source": [
    "df = pd.DataFrame(all_features)\n",
    "labels = read_labels(labels_dir, lang)\n",
    "df[\"y\"] = df[\"book_name\"].apply(lambda x: labels[x])\n",
    "print(df)"
   ]
  },
  {
   "cell_type": "code",
   "execution_count": 16,
   "metadata": {},
   "outputs": [
    {
     "name": "stdout",
     "output_type": "stream",
     "text": [
      "0 ['Radcliffe_Ann_The-Italian_1797'\n",
      " 'Gissing_George_In-the-Year-of-Jubilee_1894'\n",
      " 'Collins_Wilkie_Armadale_1864' 'Conrad_Joseph_Lord-Jim_1899'\n",
      " 'Shelley_Mary_Perkin-Warbeck_1830'\n",
      " 'Stretton_Hesba_Jessicas-First-Prayer_1867']\n",
      "[[0.02380952 0.18095238]\n",
      " [0.02088773 0.19321149]\n",
      " [0.0327381  0.17857143]\n",
      " [0.44444444 0.11111111]\n",
      " [0.02083333 0.18055556]\n",
      " [0.01904762 0.18095238]\n",
      " [0.02222222 0.15555556]\n",
      " [0.03692308 0.17538462]\n",
      " [0.01666667 0.13333333]\n",
      " [0.06849315 0.24657534]\n",
      " [0.025      0.15      ]\n",
      " [0.08       0.16      ]\n",
      " [0.03174603 0.14285714]\n",
      " [0.1875     0.125     ]\n",
      " [0.1        0.23571429]\n",
      " [0.02040816 0.18367347]\n",
      " [0.2        0.1       ]\n",
      " [0.10691824 0.18238994]\n",
      " [0.16666667 0.08333333]\n",
      " [0.02       0.18      ]\n",
      " [0.02054795 0.19863014]\n",
      " [0.03424658 0.16438356]\n",
      " [0.05263158 0.10526316]\n",
      " [0.03030303 0.19191919]\n",
      " [0.12765957 0.15957447]\n",
      " [0.11111111 0.13888889]\n",
      " [0.02777778 0.18518519]\n",
      " [0.03278689 0.16939891]\n",
      " [0.05714286 0.18095238]\n",
      " [0.05357143 0.17857143]\n",
      " [0.04       0.2       ]\n",
      " [0.10091743 0.16513761]\n",
      " [0.0310559  0.16149068]\n",
      " [0.06       0.16      ]\n",
      " [0.02597403 0.16883117]\n",
      " [0.05128205 0.16666667]\n",
      " [0.04444444 0.18888889]\n",
      " [0.0397351  0.17218543]\n",
      " [0.01718213 0.1580756 ]\n",
      " [0.11764706 0.11764706]\n",
      " [0.039801   0.20895522]\n",
      " [0.02857143 0.17142857]\n",
      " [0.03539823 0.16814159]\n",
      " [0.05952381 0.16666667]\n",
      " [0.03       0.185     ]] [63.2        42.13333333 30.4         8.          8.         52.8\n",
      " 73.86666667  8.          8.         43.46666667 18.66666667  8.\n",
      " 97.33333333 18.66666667 97.33333333 76.26666667 18.66666667 40.8\n",
      " 18.66666667 43.46666667 65.6        40.8        30.4        65.86666667\n",
      " 30.4        40.8        40.8        30.4        63.2        49.06666667\n",
      " 22.13333333 74.93333333 30.4        26.66666667 40.8        26.66666667\n",
      " 71.2        40.8        26.66666667 30.13333333 67.2        40.8\n",
      " 89.33333333 40.8        73.86666667]\n",
      "1 ['Doyle_Arthur-Conan_The-Adventure-of-the-Dancing-Men_1905'\n",
      " 'Trollope_Anthony_Barchester-Towers_1857'\n",
      " 'Carleton_William_Fardorougha-the-Miser_1839'\n",
      " 'Nesbit_Edith_The-Story-of-the-Treasure-Seekers_1899'\n",
      " 'Barrie_J-M_Tommy-and-Grizel_1900']\n",
      "[[0.05806452 0.16129032]\n",
      " [0.07317073 0.17073171]\n",
      " [0.02247191 0.20224719]\n",
      " [0.10714286 0.14285714]\n",
      " [0.05102041 0.17346939]\n",
      " [0.02011494 0.17816092]\n",
      " [0.01904762 0.18095238]\n",
      " [0.02222222 0.15555556]\n",
      " [0.03692308 0.17538462]\n",
      " [0.01666667 0.13333333]\n",
      " [0.06849315 0.24657534]\n",
      " [0.025      0.15      ]\n",
      " [0.08       0.16      ]\n",
      " [0.03174603 0.14285714]\n",
      " [0.1875     0.125     ]\n",
      " [0.1        0.23571429]\n",
      " [0.02040816 0.18367347]\n",
      " [0.2        0.1       ]\n",
      " [0.10691824 0.18238994]\n",
      " [0.16666667 0.08333333]\n",
      " [0.02       0.18      ]\n",
      " [0.02054795 0.19863014]\n",
      " [0.03424658 0.16438356]\n",
      " [0.05263158 0.10526316]\n",
      " [0.03030303 0.19191919]\n",
      " [0.12765957 0.15957447]\n",
      " [0.11111111 0.13888889]\n",
      " [0.02777778 0.18518519]\n",
      " [0.03278689 0.16939891]\n",
      " [0.05714286 0.18095238]\n",
      " [0.05357143 0.17857143]\n",
      " [0.04       0.2       ]\n",
      " [0.10091743 0.16513761]\n",
      " [0.0310559  0.16149068]\n",
      " [0.06       0.16      ]\n",
      " [0.02597403 0.16883117]\n",
      " [0.05128205 0.16666667]\n",
      " [0.04444444 0.18888889]\n",
      " [0.0397351  0.17218543]\n",
      " [0.01718213 0.1580756 ]\n",
      " [0.11764706 0.11764706]\n",
      " [0.039801   0.20895522]\n",
      " [0.02857143 0.17142857]\n",
      " [0.03539823 0.16814159]\n",
      " [0.05952381 0.16666667]\n",
      " [0.03       0.185     ]] [50.13333333 18.66666667 32.8        66.93333333 18.66666667 22.13333333\n",
      " 52.8        73.86666667  8.          8.         43.46666667 18.66666667\n",
      "  8.         97.33333333 18.66666667 97.33333333 76.26666667 18.66666667\n",
      " 40.8        18.66666667 43.46666667 65.6        40.8        30.4\n",
      " 65.86666667 30.4        40.8        40.8        30.4        63.2\n",
      " 49.06666667 22.13333333 74.93333333 30.4        26.66666667 40.8\n",
      " 26.66666667 71.2        40.8        26.66666667 30.13333333 67.2\n",
      " 40.8        89.33333333 40.8        73.86666667]\n",
      "2 ['Conrad_Joseph_Heart-of-Darkness_1899' 'Moore_George_Esther-Waters_1894'\n",
      " 'Stevenson_Robert-Louis_The-Body-Snatcher_1884'\n",
      " 'Roche_Regina-Maria_The-Children-of-the-Abbey_1796'\n",
      " 'Conrad_Joseph_Chance_1912']\n",
      "[[0.05806452 0.16129032]\n",
      " [0.07317073 0.17073171]\n",
      " [0.02247191 0.20224719]\n",
      " [0.10714286 0.14285714]\n",
      " [0.05102041 0.17346939]\n",
      " [0.02011494 0.17816092]\n",
      " [0.02380952 0.18095238]\n",
      " [0.02088773 0.19321149]\n",
      " [0.0327381  0.17857143]\n",
      " [0.44444444 0.11111111]\n",
      " [0.02083333 0.18055556]\n",
      " [0.025      0.15      ]\n",
      " [0.08       0.16      ]\n",
      " [0.03174603 0.14285714]\n",
      " [0.1875     0.125     ]\n",
      " [0.1        0.23571429]\n",
      " [0.02040816 0.18367347]\n",
      " [0.2        0.1       ]\n",
      " [0.10691824 0.18238994]\n",
      " [0.16666667 0.08333333]\n",
      " [0.02       0.18      ]\n",
      " [0.02054795 0.19863014]\n",
      " [0.03424658 0.16438356]\n",
      " [0.05263158 0.10526316]\n",
      " [0.03030303 0.19191919]\n",
      " [0.12765957 0.15957447]\n",
      " [0.11111111 0.13888889]\n",
      " [0.02777778 0.18518519]\n",
      " [0.03278689 0.16939891]\n",
      " [0.05714286 0.18095238]\n",
      " [0.05357143 0.17857143]\n",
      " [0.04       0.2       ]\n",
      " [0.10091743 0.16513761]\n",
      " [0.0310559  0.16149068]\n",
      " [0.06       0.16      ]\n",
      " [0.02597403 0.16883117]\n",
      " [0.05128205 0.16666667]\n",
      " [0.04444444 0.18888889]\n",
      " [0.0397351  0.17218543]\n",
      " [0.01718213 0.1580756 ]\n",
      " [0.11764706 0.11764706]\n",
      " [0.039801   0.20895522]\n",
      " [0.02857143 0.17142857]\n",
      " [0.03539823 0.16814159]\n",
      " [0.05952381 0.16666667]\n",
      " [0.03       0.185     ]] [50.13333333 18.66666667 32.8        66.93333333 18.66666667 22.13333333\n",
      " 63.2        42.13333333 30.4         8.          8.         18.66666667\n",
      "  8.         97.33333333 18.66666667 97.33333333 76.26666667 18.66666667\n",
      " 40.8        18.66666667 43.46666667 65.6        40.8        30.4\n",
      " 65.86666667 30.4        40.8        40.8        30.4        63.2\n",
      " 49.06666667 22.13333333 74.93333333 30.4        26.66666667 40.8\n",
      " 26.66666667 71.2        40.8        26.66666667 30.13333333 67.2\n",
      " 40.8        89.33333333 40.8        73.86666667]\n",
      "3 ['Holcroft_Thomas_The-Adventures-of-Hugh-Trevor_1794'\n",
      " 'Somerville-Ross_Edith-Martin_An-Irish-Cousin_1889'\n",
      " 'Scott_Walter_The-Bride-of-Lammermoor_1819'\n",
      " 'Edgeworth_Maria_Lame-Jervas_1804' 'Sterne_Laurence_Tristram-Shandy_1759']\n",
      "[[0.05806452 0.16129032]\n",
      " [0.07317073 0.17073171]\n",
      " [0.02247191 0.20224719]\n",
      " [0.10714286 0.14285714]\n",
      " [0.05102041 0.17346939]\n",
      " [0.02011494 0.17816092]\n",
      " [0.02380952 0.18095238]\n",
      " [0.02088773 0.19321149]\n",
      " [0.0327381  0.17857143]\n",
      " [0.44444444 0.11111111]\n",
      " [0.02083333 0.18055556]\n",
      " [0.01904762 0.18095238]\n",
      " [0.02222222 0.15555556]\n",
      " [0.03692308 0.17538462]\n",
      " [0.01666667 0.13333333]\n",
      " [0.06849315 0.24657534]\n",
      " [0.02040816 0.18367347]\n",
      " [0.2        0.1       ]\n",
      " [0.10691824 0.18238994]\n",
      " [0.16666667 0.08333333]\n",
      " [0.02       0.18      ]\n",
      " [0.02054795 0.19863014]\n",
      " [0.03424658 0.16438356]\n",
      " [0.05263158 0.10526316]\n",
      " [0.03030303 0.19191919]\n",
      " [0.12765957 0.15957447]\n",
      " [0.11111111 0.13888889]\n",
      " [0.02777778 0.18518519]\n",
      " [0.03278689 0.16939891]\n",
      " [0.05714286 0.18095238]\n",
      " [0.05357143 0.17857143]\n",
      " [0.04       0.2       ]\n",
      " [0.10091743 0.16513761]\n",
      " [0.0310559  0.16149068]\n",
      " [0.06       0.16      ]\n",
      " [0.02597403 0.16883117]\n",
      " [0.05128205 0.16666667]\n",
      " [0.04444444 0.18888889]\n",
      " [0.0397351  0.17218543]\n",
      " [0.01718213 0.1580756 ]\n",
      " [0.11764706 0.11764706]\n",
      " [0.039801   0.20895522]\n",
      " [0.02857143 0.17142857]\n",
      " [0.03539823 0.16814159]\n",
      " [0.05952381 0.16666667]\n",
      " [0.03       0.185     ]] [50.13333333 18.66666667 32.8        66.93333333 18.66666667 22.13333333\n",
      " 63.2        42.13333333 30.4         8.          8.         52.8\n",
      " 73.86666667  8.          8.         43.46666667 76.26666667 18.66666667\n",
      " 40.8        18.66666667 43.46666667 65.6        40.8        30.4\n",
      " 65.86666667 30.4        40.8        40.8        30.4        63.2\n",
      " 49.06666667 22.13333333 74.93333333 30.4        26.66666667 40.8\n",
      " 26.66666667 71.2        40.8        26.66666667 30.13333333 67.2\n",
      " 40.8        89.33333333 40.8        73.86666667]\n",
      "4 ['Edgeworth_Maria_Castle-Rackrent_1800'\n",
      " 'Edgeworth_Maria_The-Manufacturers_1804'\n",
      " 'Kipling_Rudyard_Consequences_1888'\n",
      " 'Edgeworth_Maria_The-Grateful-Negro_1804'\n",
      " 'James_Henry_What-Maisie-Knew_1897']\n",
      "[[0.05806452 0.16129032]\n",
      " [0.07317073 0.17073171]\n",
      " [0.02247191 0.20224719]\n",
      " [0.10714286 0.14285714]\n",
      " [0.05102041 0.17346939]\n",
      " [0.02011494 0.17816092]\n",
      " [0.02380952 0.18095238]\n",
      " [0.02088773 0.19321149]\n",
      " [0.0327381  0.17857143]\n",
      " [0.44444444 0.11111111]\n",
      " [0.02083333 0.18055556]\n",
      " [0.01904762 0.18095238]\n",
      " [0.02222222 0.15555556]\n",
      " [0.03692308 0.17538462]\n",
      " [0.01666667 0.13333333]\n",
      " [0.06849315 0.24657534]\n",
      " [0.025      0.15      ]\n",
      " [0.08       0.16      ]\n",
      " [0.03174603 0.14285714]\n",
      " [0.1875     0.125     ]\n",
      " [0.1        0.23571429]\n",
      " [0.02054795 0.19863014]\n",
      " [0.03424658 0.16438356]\n",
      " [0.05263158 0.10526316]\n",
      " [0.03030303 0.19191919]\n",
      " [0.12765957 0.15957447]\n",
      " [0.11111111 0.13888889]\n",
      " [0.02777778 0.18518519]\n",
      " [0.03278689 0.16939891]\n",
      " [0.05714286 0.18095238]\n",
      " [0.05357143 0.17857143]\n",
      " [0.04       0.2       ]\n",
      " [0.10091743 0.16513761]\n",
      " [0.0310559  0.16149068]\n",
      " [0.06       0.16      ]\n",
      " [0.02597403 0.16883117]\n",
      " [0.05128205 0.16666667]\n",
      " [0.04444444 0.18888889]\n",
      " [0.0397351  0.17218543]\n",
      " [0.01718213 0.1580756 ]\n",
      " [0.11764706 0.11764706]\n",
      " [0.039801   0.20895522]\n",
      " [0.02857143 0.17142857]\n",
      " [0.03539823 0.16814159]\n",
      " [0.05952381 0.16666667]\n",
      " [0.03       0.185     ]] [50.13333333 18.66666667 32.8        66.93333333 18.66666667 22.13333333\n",
      " 63.2        42.13333333 30.4         8.          8.         52.8\n",
      " 73.86666667  8.          8.         43.46666667 18.66666667  8.\n",
      " 97.33333333 18.66666667 97.33333333 65.6        40.8        30.4\n",
      " 65.86666667 30.4        40.8        40.8        30.4        63.2\n",
      " 49.06666667 22.13333333 74.93333333 30.4        26.66666667 40.8\n",
      " 26.66666667 71.2        40.8        26.66666667 30.13333333 67.2\n",
      " 40.8        89.33333333 40.8        73.86666667]\n",
      "5 ['Burnett_Frances-Hodgson_The-Secret-Garden_1911'\n",
      " 'Chesterton_G-K_The-Man-Who-Was-Thursday_1908'\n",
      " 'Carleton_William_The-Emigrants-of-Ahadarra_1847'\n",
      " 'Eliot_George_Felix-Holt_1866' 'Carleton_William_Ned-M-Keown_1830']\n",
      "[[0.05806452 0.16129032]\n",
      " [0.07317073 0.17073171]\n",
      " [0.02247191 0.20224719]\n",
      " [0.10714286 0.14285714]\n",
      " [0.05102041 0.17346939]\n",
      " [0.02011494 0.17816092]\n",
      " [0.02380952 0.18095238]\n",
      " [0.02088773 0.19321149]\n",
      " [0.0327381  0.17857143]\n",
      " [0.44444444 0.11111111]\n",
      " [0.02083333 0.18055556]\n",
      " [0.01904762 0.18095238]\n",
      " [0.02222222 0.15555556]\n",
      " [0.03692308 0.17538462]\n",
      " [0.01666667 0.13333333]\n",
      " [0.06849315 0.24657534]\n",
      " [0.025      0.15      ]\n",
      " [0.08       0.16      ]\n",
      " [0.03174603 0.14285714]\n",
      " [0.1875     0.125     ]\n",
      " [0.1        0.23571429]\n",
      " [0.02040816 0.18367347]\n",
      " [0.2        0.1       ]\n",
      " [0.10691824 0.18238994]\n",
      " [0.16666667 0.08333333]\n",
      " [0.02       0.18      ]\n",
      " [0.11111111 0.13888889]\n",
      " [0.02777778 0.18518519]\n",
      " [0.03278689 0.16939891]\n",
      " [0.05714286 0.18095238]\n",
      " [0.05357143 0.17857143]\n",
      " [0.04       0.2       ]\n",
      " [0.10091743 0.16513761]\n",
      " [0.0310559  0.16149068]\n",
      " [0.06       0.16      ]\n",
      " [0.02597403 0.16883117]\n",
      " [0.05128205 0.16666667]\n",
      " [0.04444444 0.18888889]\n",
      " [0.0397351  0.17218543]\n",
      " [0.01718213 0.1580756 ]\n",
      " [0.11764706 0.11764706]\n",
      " [0.039801   0.20895522]\n",
      " [0.02857143 0.17142857]\n",
      " [0.03539823 0.16814159]\n",
      " [0.05952381 0.16666667]\n",
      " [0.03       0.185     ]] [50.13333333 18.66666667 32.8        66.93333333 18.66666667 22.13333333\n",
      " 63.2        42.13333333 30.4         8.          8.         52.8\n",
      " 73.86666667  8.          8.         43.46666667 18.66666667  8.\n",
      " 97.33333333 18.66666667 97.33333333 76.26666667 18.66666667 40.8\n",
      " 18.66666667 43.46666667 40.8        40.8        30.4        63.2\n",
      " 49.06666667 22.13333333 74.93333333 30.4        26.66666667 40.8\n",
      " 26.66666667 71.2        40.8        26.66666667 30.13333333 67.2\n",
      " 40.8        89.33333333 40.8        73.86666667]\n",
      "6 ['Kipling_Rudyard_How-the-Whale-Got-His-Throat_1902'\n",
      " 'Kipling_Rudyard_The-Bisara-of-Pooree_1888'\n",
      " 'Carleton_William_Shane-Fadhs-Wedding_1830'\n",
      " 'Doyle_Arthur-Conan_The-Adventure-of-the-Missing-Three-Quarter_1905'\n",
      " 'Grand_Sarah_The-Heavenly-Twins_1893']\n",
      "[[0.05806452 0.16129032]\n",
      " [0.07317073 0.17073171]\n",
      " [0.02247191 0.20224719]\n",
      " [0.10714286 0.14285714]\n",
      " [0.05102041 0.17346939]\n",
      " [0.02011494 0.17816092]\n",
      " [0.02380952 0.18095238]\n",
      " [0.02088773 0.19321149]\n",
      " [0.0327381  0.17857143]\n",
      " [0.44444444 0.11111111]\n",
      " [0.02083333 0.18055556]\n",
      " [0.01904762 0.18095238]\n",
      " [0.02222222 0.15555556]\n",
      " [0.03692308 0.17538462]\n",
      " [0.01666667 0.13333333]\n",
      " [0.06849315 0.24657534]\n",
      " [0.025      0.15      ]\n",
      " [0.08       0.16      ]\n",
      " [0.03174603 0.14285714]\n",
      " [0.1875     0.125     ]\n",
      " [0.1        0.23571429]\n",
      " [0.02040816 0.18367347]\n",
      " [0.2        0.1       ]\n",
      " [0.10691824 0.18238994]\n",
      " [0.16666667 0.08333333]\n",
      " [0.02       0.18      ]\n",
      " [0.02054795 0.19863014]\n",
      " [0.03424658 0.16438356]\n",
      " [0.05263158 0.10526316]\n",
      " [0.03030303 0.19191919]\n",
      " [0.12765957 0.15957447]\n",
      " [0.04       0.2       ]\n",
      " [0.10091743 0.16513761]\n",
      " [0.0310559  0.16149068]\n",
      " [0.06       0.16      ]\n",
      " [0.02597403 0.16883117]\n",
      " [0.05128205 0.16666667]\n",
      " [0.04444444 0.18888889]\n",
      " [0.0397351  0.17218543]\n",
      " [0.01718213 0.1580756 ]\n",
      " [0.11764706 0.11764706]\n",
      " [0.039801   0.20895522]\n",
      " [0.02857143 0.17142857]\n",
      " [0.03539823 0.16814159]\n",
      " [0.05952381 0.16666667]\n",
      " [0.03       0.185     ]] [50.13333333 18.66666667 32.8        66.93333333 18.66666667 22.13333333\n",
      " 63.2        42.13333333 30.4         8.          8.         52.8\n",
      " 73.86666667  8.          8.         43.46666667 18.66666667  8.\n",
      " 97.33333333 18.66666667 97.33333333 76.26666667 18.66666667 40.8\n",
      " 18.66666667 43.46666667 65.6        40.8        30.4        65.86666667\n",
      " 30.4        22.13333333 74.93333333 30.4        26.66666667 40.8\n",
      " 26.66666667 71.2        40.8        26.66666667 30.13333333 67.2\n",
      " 40.8        89.33333333 40.8        73.86666667]\n",
      "7 ['Gaskell_Elizabeth_The-Old-Nurses-Story_1852'\n",
      " 'Gaskell_Elizabeth_North-and-South_1854'\n",
      " 'Carleton_William_The-Battle-of-the-Factions_1830'\n",
      " 'Opie_Amelia_Adeline-Mowbray_1804'\n",
      " 'Kipling_Rudyard_In-the-Pride-of-His-Youth_1888']\n",
      "[[0.05806452 0.16129032]\n",
      " [0.07317073 0.17073171]\n",
      " [0.02247191 0.20224719]\n",
      " [0.10714286 0.14285714]\n",
      " [0.05102041 0.17346939]\n",
      " [0.02011494 0.17816092]\n",
      " [0.02380952 0.18095238]\n",
      " [0.02088773 0.19321149]\n",
      " [0.0327381  0.17857143]\n",
      " [0.44444444 0.11111111]\n",
      " [0.02083333 0.18055556]\n",
      " [0.01904762 0.18095238]\n",
      " [0.02222222 0.15555556]\n",
      " [0.03692308 0.17538462]\n",
      " [0.01666667 0.13333333]\n",
      " [0.06849315 0.24657534]\n",
      " [0.025      0.15      ]\n",
      " [0.08       0.16      ]\n",
      " [0.03174603 0.14285714]\n",
      " [0.1875     0.125     ]\n",
      " [0.1        0.23571429]\n",
      " [0.02040816 0.18367347]\n",
      " [0.2        0.1       ]\n",
      " [0.10691824 0.18238994]\n",
      " [0.16666667 0.08333333]\n",
      " [0.02       0.18      ]\n",
      " [0.02054795 0.19863014]\n",
      " [0.03424658 0.16438356]\n",
      " [0.05263158 0.10526316]\n",
      " [0.03030303 0.19191919]\n",
      " [0.12765957 0.15957447]\n",
      " [0.11111111 0.13888889]\n",
      " [0.02777778 0.18518519]\n",
      " [0.03278689 0.16939891]\n",
      " [0.05714286 0.18095238]\n",
      " [0.05357143 0.17857143]\n",
      " [0.05128205 0.16666667]\n",
      " [0.04444444 0.18888889]\n",
      " [0.0397351  0.17218543]\n",
      " [0.01718213 0.1580756 ]\n",
      " [0.11764706 0.11764706]\n",
      " [0.039801   0.20895522]\n",
      " [0.02857143 0.17142857]\n",
      " [0.03539823 0.16814159]\n",
      " [0.05952381 0.16666667]\n",
      " [0.03       0.185     ]] [50.13333333 18.66666667 32.8        66.93333333 18.66666667 22.13333333\n",
      " 63.2        42.13333333 30.4         8.          8.         52.8\n",
      " 73.86666667  8.          8.         43.46666667 18.66666667  8.\n",
      " 97.33333333 18.66666667 97.33333333 76.26666667 18.66666667 40.8\n",
      " 18.66666667 43.46666667 65.6        40.8        30.4        65.86666667\n",
      " 30.4        40.8        40.8        30.4        63.2        49.06666667\n",
      " 26.66666667 71.2        40.8        26.66666667 30.13333333 67.2\n",
      " 40.8        89.33333333 40.8        73.86666667]\n",
      "8 ['Brunton_Mary_Discipline_1814'\n",
      " 'Doyle_Arthur-Conan_The-Man-with-the-Twisted-Lip_1891'\n",
      " 'Kipling_Rudyard_Lispeth_1888' 'Edgeworth_Maria_Ormond_1817'\n",
      " 'MacDonald_George_Phantastes_1858']\n",
      "[[0.05806452 0.16129032]\n",
      " [0.07317073 0.17073171]\n",
      " [0.02247191 0.20224719]\n",
      " [0.10714286 0.14285714]\n",
      " [0.05102041 0.17346939]\n",
      " [0.02011494 0.17816092]\n",
      " [0.02380952 0.18095238]\n",
      " [0.02088773 0.19321149]\n",
      " [0.0327381  0.17857143]\n",
      " [0.44444444 0.11111111]\n",
      " [0.02083333 0.18055556]\n",
      " [0.01904762 0.18095238]\n",
      " [0.02222222 0.15555556]\n",
      " [0.03692308 0.17538462]\n",
      " [0.01666667 0.13333333]\n",
      " [0.06849315 0.24657534]\n",
      " [0.025      0.15      ]\n",
      " [0.08       0.16      ]\n",
      " [0.03174603 0.14285714]\n",
      " [0.1875     0.125     ]\n",
      " [0.1        0.23571429]\n",
      " [0.02040816 0.18367347]\n",
      " [0.2        0.1       ]\n",
      " [0.10691824 0.18238994]\n",
      " [0.16666667 0.08333333]\n",
      " [0.02       0.18      ]\n",
      " [0.02054795 0.19863014]\n",
      " [0.03424658 0.16438356]\n",
      " [0.05263158 0.10526316]\n",
      " [0.03030303 0.19191919]\n",
      " [0.12765957 0.15957447]\n",
      " [0.11111111 0.13888889]\n",
      " [0.02777778 0.18518519]\n",
      " [0.03278689 0.16939891]\n",
      " [0.05714286 0.18095238]\n",
      " [0.05357143 0.17857143]\n",
      " [0.04       0.2       ]\n",
      " [0.10091743 0.16513761]\n",
      " [0.0310559  0.16149068]\n",
      " [0.06       0.16      ]\n",
      " [0.02597403 0.16883117]\n",
      " [0.039801   0.20895522]\n",
      " [0.02857143 0.17142857]\n",
      " [0.03539823 0.16814159]\n",
      " [0.05952381 0.16666667]\n",
      " [0.03       0.185     ]] [50.13333333 18.66666667 32.8        66.93333333 18.66666667 22.13333333\n",
      " 63.2        42.13333333 30.4         8.          8.         52.8\n",
      " 73.86666667  8.          8.         43.46666667 18.66666667  8.\n",
      " 97.33333333 18.66666667 97.33333333 76.26666667 18.66666667 40.8\n",
      " 18.66666667 43.46666667 65.6        40.8        30.4        65.86666667\n",
      " 30.4        40.8        40.8        30.4        63.2        49.06666667\n",
      " 22.13333333 74.93333333 30.4        26.66666667 40.8        67.2\n",
      " 40.8        89.33333333 40.8        73.86666667]\n",
      "9 ['Dickens_Charles_David-Copperfield_1849'\n",
      " 'Ward_Mary-Augusta_Robert-Elsmere_1888'\n",
      " 'Dickens_Charles_Dombey-and-Son_1846'\n",
      " 'Lawrence_D-H_The-Thorn-in-the-Flesh_1914' 'Scott_Walter_Waverley_1814']\n",
      "[[0.05806452 0.16129032]\n",
      " [0.07317073 0.17073171]\n",
      " [0.02247191 0.20224719]\n",
      " [0.10714286 0.14285714]\n",
      " [0.05102041 0.17346939]\n",
      " [0.02011494 0.17816092]\n",
      " [0.02380952 0.18095238]\n",
      " [0.02088773 0.19321149]\n",
      " [0.0327381  0.17857143]\n",
      " [0.44444444 0.11111111]\n",
      " [0.02083333 0.18055556]\n",
      " [0.01904762 0.18095238]\n",
      " [0.02222222 0.15555556]\n",
      " [0.03692308 0.17538462]\n",
      " [0.01666667 0.13333333]\n",
      " [0.06849315 0.24657534]\n",
      " [0.025      0.15      ]\n",
      " [0.08       0.16      ]\n",
      " [0.03174603 0.14285714]\n",
      " [0.1875     0.125     ]\n",
      " [0.1        0.23571429]\n",
      " [0.02040816 0.18367347]\n",
      " [0.2        0.1       ]\n",
      " [0.10691824 0.18238994]\n",
      " [0.16666667 0.08333333]\n",
      " [0.02       0.18      ]\n",
      " [0.02054795 0.19863014]\n",
      " [0.03424658 0.16438356]\n",
      " [0.05263158 0.10526316]\n",
      " [0.03030303 0.19191919]\n",
      " [0.12765957 0.15957447]\n",
      " [0.11111111 0.13888889]\n",
      " [0.02777778 0.18518519]\n",
      " [0.03278689 0.16939891]\n",
      " [0.05714286 0.18095238]\n",
      " [0.05357143 0.17857143]\n",
      " [0.04       0.2       ]\n",
      " [0.10091743 0.16513761]\n",
      " [0.0310559  0.16149068]\n",
      " [0.06       0.16      ]\n",
      " [0.02597403 0.16883117]\n",
      " [0.05128205 0.16666667]\n",
      " [0.04444444 0.18888889]\n",
      " [0.0397351  0.17218543]\n",
      " [0.01718213 0.1580756 ]\n",
      " [0.11764706 0.11764706]] [50.13333333 18.66666667 32.8        66.93333333 18.66666667 22.13333333\n",
      " 63.2        42.13333333 30.4         8.          8.         52.8\n",
      " 73.86666667  8.          8.         43.46666667 18.66666667  8.\n",
      " 97.33333333 18.66666667 97.33333333 76.26666667 18.66666667 40.8\n",
      " 18.66666667 43.46666667 65.6        40.8        30.4        65.86666667\n",
      " 30.4        40.8        40.8        30.4        63.2        49.06666667\n",
      " 22.13333333 74.93333333 30.4        26.66666667 40.8        26.66666667\n",
      " 71.2        40.8        26.66666667 30.13333333]\n"
     ]
    }
   ],
   "source": [
    "from sklearn.model_selection import KFold\n",
    "# from sklearn.svm import SVR\n",
    "from xgboost import XGBRegressor\n",
    "from sklearn.metrics import mean_squared_error, mean_absolute_error\n",
    "\n",
    "all_predictions = []\n",
    "all_labels = []\n",
    "\n",
    "book_names = df['book_name'].unique()\n",
    "book_names_splitted = np.array_split(book_names, 10)\n",
    "\n",
    "for index, split in enumerate(book_names_splitted):\n",
    "    print(index,split)\n",
    "    train_X = df[~df[\"book_name\"].isin(split)].drop(columns=[\"y\", \"book_name\"]).values\n",
    "    train_y = df[~df[\"book_name\"].isin(split)][\"y\"].values.ravel()\n",
    "    print(train_X, train_y)"
   ]
  },
  {
   "cell_type": "code",
   "execution_count": 8,
   "metadata": {},
   "outputs": [
    {
     "name": "stdout",
     "output_type": "stream",
     "text": [
      "Fold: 1, TrainMSE: 8.647334539015832e-07, TrainMAE: 0.0009298943701150364, ValMSE: 990.0929344013065, ValMAE: 31.465742235029296\n",
      "Fold: 2, TrainMSE: 9.290482044858374e-07, TrainMAE: 0.0009638451757822963, ValMSE: 990.0900056158192, ValMAE: 31.465695695722655\n",
      "Fold: 3, TrainMSE: 8.482433987917728e-07, TrainMAE: 0.0009209917431629577, ValMSE: 300.4123720039824, ValMAE: 17.332408142089847\n"
     ]
    },
    {
     "name": "stderr",
     "output_type": "stream",
     "text": [
      "/home/annina/anaconda3/envs/nlp/lib/python3.9/site-packages/xgboost/data.py:112: UserWarning: Use subset (sliced data) of np.ndarray is not recommended because it will generate extra copies and increase memory consumption\n",
      "  warnings.warn(\n",
      "/home/annina/anaconda3/envs/nlp/lib/python3.9/site-packages/xgboost/data.py:112: UserWarning: Use subset (sliced data) of np.ndarray is not recommended because it will generate extra copies and increase memory consumption\n",
      "  warnings.warn(\n",
      "/home/annina/anaconda3/envs/nlp/lib/python3.9/site-packages/xgboost/data.py:112: UserWarning: Use subset (sliced data) of np.ndarray is not recommended because it will generate extra copies and increase memory consumption\n",
      "  warnings.warn(\n",
      "/home/annina/anaconda3/envs/nlp/lib/python3.9/site-packages/xgboost/data.py:112: UserWarning: Use subset (sliced data) of np.ndarray is not recommended because it will generate extra copies and increase memory consumption\n",
      "  warnings.warn(\n"
     ]
    },
    {
     "ename": "ValueError",
     "evalue": "Found array with 0 sample(s) (shape=(0,)) while a minimum of 1 is required.",
     "output_type": "error",
     "traceback": [
      "\u001b[0;31m---------------------------------------------------------------------------\u001b[0m",
      "\u001b[0;31mValueError\u001b[0m                                Traceback (most recent call last)",
      "\u001b[0;32m<ipython-input-8-b984a1fde7f2>\u001b[0m in \u001b[0;36m<module>\u001b[0;34m\u001b[0m\n\u001b[1;32m     24\u001b[0m     \u001b[0mtrain_mse\u001b[0m \u001b[0;34m=\u001b[0m \u001b[0mmean_squared_error\u001b[0m\u001b[0;34m(\u001b[0m\u001b[0mtrain_y\u001b[0m\u001b[0;34m,\u001b[0m \u001b[0mtrain_yhat\u001b[0m\u001b[0;34m)\u001b[0m\u001b[0;34m\u001b[0m\u001b[0;34m\u001b[0m\u001b[0m\n\u001b[1;32m     25\u001b[0m     \u001b[0mtrain_mae\u001b[0m \u001b[0;34m=\u001b[0m \u001b[0mmean_absolute_error\u001b[0m\u001b[0;34m(\u001b[0m\u001b[0mtrain_y\u001b[0m\u001b[0;34m,\u001b[0m \u001b[0mtrain_yhat\u001b[0m\u001b[0;34m)\u001b[0m\u001b[0;34m\u001b[0m\u001b[0;34m\u001b[0m\u001b[0m\n\u001b[0;32m---> 26\u001b[0;31m     \u001b[0mvalidation_mse\u001b[0m \u001b[0;34m=\u001b[0m \u001b[0mmean_squared_error\u001b[0m\u001b[0;34m(\u001b[0m\u001b[0mvalidation_y\u001b[0m\u001b[0;34m,\u001b[0m \u001b[0mvalidation_yhat\u001b[0m\u001b[0;34m)\u001b[0m\u001b[0;34m\u001b[0m\u001b[0;34m\u001b[0m\u001b[0m\n\u001b[0m\u001b[1;32m     27\u001b[0m     \u001b[0mvalidation_mae\u001b[0m \u001b[0;34m=\u001b[0m \u001b[0mmean_absolute_error\u001b[0m\u001b[0;34m(\u001b[0m\u001b[0mvalidation_y\u001b[0m\u001b[0;34m,\u001b[0m \u001b[0mvalidation_yhat\u001b[0m\u001b[0;34m)\u001b[0m\u001b[0;34m\u001b[0m\u001b[0;34m\u001b[0m\u001b[0m\n\u001b[1;32m     28\u001b[0m     \u001b[0mprint\u001b[0m\u001b[0;34m(\u001b[0m\u001b[0;34mf\"Fold: {index+1}, TrainMSE: {train_mse}, TrainMAE: {train_mae}, ValMSE: {validation_mse}, ValMAE: {validation_mae}\"\u001b[0m\u001b[0;34m)\u001b[0m\u001b[0;34m\u001b[0m\u001b[0;34m\u001b[0m\u001b[0m\n",
      "\u001b[0;32m~/anaconda3/envs/nlp/lib/python3.9/site-packages/sklearn/utils/validation.py\u001b[0m in \u001b[0;36minner_f\u001b[0;34m(*args, **kwargs)\u001b[0m\n\u001b[1;32m     61\u001b[0m             \u001b[0mextra_args\u001b[0m \u001b[0;34m=\u001b[0m \u001b[0mlen\u001b[0m\u001b[0;34m(\u001b[0m\u001b[0margs\u001b[0m\u001b[0;34m)\u001b[0m \u001b[0;34m-\u001b[0m \u001b[0mlen\u001b[0m\u001b[0;34m(\u001b[0m\u001b[0mall_args\u001b[0m\u001b[0;34m)\u001b[0m\u001b[0;34m\u001b[0m\u001b[0;34m\u001b[0m\u001b[0m\n\u001b[1;32m     62\u001b[0m             \u001b[0;32mif\u001b[0m \u001b[0mextra_args\u001b[0m \u001b[0;34m<=\u001b[0m \u001b[0;36m0\u001b[0m\u001b[0;34m:\u001b[0m\u001b[0;34m\u001b[0m\u001b[0;34m\u001b[0m\u001b[0m\n\u001b[0;32m---> 63\u001b[0;31m                 \u001b[0;32mreturn\u001b[0m \u001b[0mf\u001b[0m\u001b[0;34m(\u001b[0m\u001b[0;34m*\u001b[0m\u001b[0margs\u001b[0m\u001b[0;34m,\u001b[0m \u001b[0;34m**\u001b[0m\u001b[0mkwargs\u001b[0m\u001b[0;34m)\u001b[0m\u001b[0;34m\u001b[0m\u001b[0;34m\u001b[0m\u001b[0m\n\u001b[0m\u001b[1;32m     64\u001b[0m \u001b[0;34m\u001b[0m\u001b[0m\n\u001b[1;32m     65\u001b[0m             \u001b[0;31m# extra_args > 0\u001b[0m\u001b[0;34m\u001b[0m\u001b[0;34m\u001b[0m\u001b[0;34m\u001b[0m\u001b[0m\n",
      "\u001b[0;32m~/anaconda3/envs/nlp/lib/python3.9/site-packages/sklearn/metrics/_regression.py\u001b[0m in \u001b[0;36mmean_squared_error\u001b[0;34m(y_true, y_pred, sample_weight, multioutput, squared)\u001b[0m\n\u001b[1;32m    333\u001b[0m     \u001b[0;36m0.825\u001b[0m\u001b[0;34m...\u001b[0m\u001b[0;34m\u001b[0m\u001b[0;34m\u001b[0m\u001b[0m\n\u001b[1;32m    334\u001b[0m     \"\"\"\n\u001b[0;32m--> 335\u001b[0;31m     y_type, y_true, y_pred, multioutput = _check_reg_targets(\n\u001b[0m\u001b[1;32m    336\u001b[0m         y_true, y_pred, multioutput)\n\u001b[1;32m    337\u001b[0m     \u001b[0mcheck_consistent_length\u001b[0m\u001b[0;34m(\u001b[0m\u001b[0my_true\u001b[0m\u001b[0;34m,\u001b[0m \u001b[0my_pred\u001b[0m\u001b[0;34m,\u001b[0m \u001b[0msample_weight\u001b[0m\u001b[0;34m)\u001b[0m\u001b[0;34m\u001b[0m\u001b[0;34m\u001b[0m\u001b[0m\n",
      "\u001b[0;32m~/anaconda3/envs/nlp/lib/python3.9/site-packages/sklearn/metrics/_regression.py\u001b[0m in \u001b[0;36m_check_reg_targets\u001b[0;34m(y_true, y_pred, multioutput, dtype)\u001b[0m\n\u001b[1;32m     87\u001b[0m     \"\"\"\n\u001b[1;32m     88\u001b[0m     \u001b[0mcheck_consistent_length\u001b[0m\u001b[0;34m(\u001b[0m\u001b[0my_true\u001b[0m\u001b[0;34m,\u001b[0m \u001b[0my_pred\u001b[0m\u001b[0;34m)\u001b[0m\u001b[0;34m\u001b[0m\u001b[0;34m\u001b[0m\u001b[0m\n\u001b[0;32m---> 89\u001b[0;31m     \u001b[0my_true\u001b[0m \u001b[0;34m=\u001b[0m \u001b[0mcheck_array\u001b[0m\u001b[0;34m(\u001b[0m\u001b[0my_true\u001b[0m\u001b[0;34m,\u001b[0m \u001b[0mensure_2d\u001b[0m\u001b[0;34m=\u001b[0m\u001b[0;32mFalse\u001b[0m\u001b[0;34m,\u001b[0m \u001b[0mdtype\u001b[0m\u001b[0;34m=\u001b[0m\u001b[0mdtype\u001b[0m\u001b[0;34m)\u001b[0m\u001b[0;34m\u001b[0m\u001b[0;34m\u001b[0m\u001b[0m\n\u001b[0m\u001b[1;32m     90\u001b[0m     \u001b[0my_pred\u001b[0m \u001b[0;34m=\u001b[0m \u001b[0mcheck_array\u001b[0m\u001b[0;34m(\u001b[0m\u001b[0my_pred\u001b[0m\u001b[0;34m,\u001b[0m \u001b[0mensure_2d\u001b[0m\u001b[0;34m=\u001b[0m\u001b[0;32mFalse\u001b[0m\u001b[0;34m,\u001b[0m \u001b[0mdtype\u001b[0m\u001b[0;34m=\u001b[0m\u001b[0mdtype\u001b[0m\u001b[0;34m)\u001b[0m\u001b[0;34m\u001b[0m\u001b[0;34m\u001b[0m\u001b[0m\n\u001b[1;32m     91\u001b[0m \u001b[0;34m\u001b[0m\u001b[0m\n",
      "\u001b[0;32m~/anaconda3/envs/nlp/lib/python3.9/site-packages/sklearn/utils/validation.py\u001b[0m in \u001b[0;36minner_f\u001b[0;34m(*args, **kwargs)\u001b[0m\n\u001b[1;32m     61\u001b[0m             \u001b[0mextra_args\u001b[0m \u001b[0;34m=\u001b[0m \u001b[0mlen\u001b[0m\u001b[0;34m(\u001b[0m\u001b[0margs\u001b[0m\u001b[0;34m)\u001b[0m \u001b[0;34m-\u001b[0m \u001b[0mlen\u001b[0m\u001b[0;34m(\u001b[0m\u001b[0mall_args\u001b[0m\u001b[0;34m)\u001b[0m\u001b[0;34m\u001b[0m\u001b[0;34m\u001b[0m\u001b[0m\n\u001b[1;32m     62\u001b[0m             \u001b[0;32mif\u001b[0m \u001b[0mextra_args\u001b[0m \u001b[0;34m<=\u001b[0m \u001b[0;36m0\u001b[0m\u001b[0;34m:\u001b[0m\u001b[0;34m\u001b[0m\u001b[0;34m\u001b[0m\u001b[0m\n\u001b[0;32m---> 63\u001b[0;31m                 \u001b[0;32mreturn\u001b[0m \u001b[0mf\u001b[0m\u001b[0;34m(\u001b[0m\u001b[0;34m*\u001b[0m\u001b[0margs\u001b[0m\u001b[0;34m,\u001b[0m \u001b[0;34m**\u001b[0m\u001b[0mkwargs\u001b[0m\u001b[0;34m)\u001b[0m\u001b[0;34m\u001b[0m\u001b[0;34m\u001b[0m\u001b[0m\n\u001b[0m\u001b[1;32m     64\u001b[0m \u001b[0;34m\u001b[0m\u001b[0m\n\u001b[1;32m     65\u001b[0m             \u001b[0;31m# extra_args > 0\u001b[0m\u001b[0;34m\u001b[0m\u001b[0;34m\u001b[0m\u001b[0;34m\u001b[0m\u001b[0m\n",
      "\u001b[0;32m~/anaconda3/envs/nlp/lib/python3.9/site-packages/sklearn/utils/validation.py\u001b[0m in \u001b[0;36mcheck_array\u001b[0;34m(array, accept_sparse, accept_large_sparse, dtype, order, copy, force_all_finite, ensure_2d, allow_nd, ensure_min_samples, ensure_min_features, estimator)\u001b[0m\n\u001b[1;32m    667\u001b[0m         \u001b[0mn_samples\u001b[0m \u001b[0;34m=\u001b[0m \u001b[0m_num_samples\u001b[0m\u001b[0;34m(\u001b[0m\u001b[0marray\u001b[0m\u001b[0;34m)\u001b[0m\u001b[0;34m\u001b[0m\u001b[0;34m\u001b[0m\u001b[0m\n\u001b[1;32m    668\u001b[0m         \u001b[0;32mif\u001b[0m \u001b[0mn_samples\u001b[0m \u001b[0;34m<\u001b[0m \u001b[0mensure_min_samples\u001b[0m\u001b[0;34m:\u001b[0m\u001b[0;34m\u001b[0m\u001b[0;34m\u001b[0m\u001b[0m\n\u001b[0;32m--> 669\u001b[0;31m             raise ValueError(\"Found array with %d sample(s) (shape=%s) while a\"\n\u001b[0m\u001b[1;32m    670\u001b[0m                              \u001b[0;34m\" minimum of %d is required%s.\"\u001b[0m\u001b[0;34m\u001b[0m\u001b[0;34m\u001b[0m\u001b[0m\n\u001b[1;32m    671\u001b[0m                              % (n_samples, array.shape, ensure_min_samples,\n",
      "\u001b[0;31mValueError\u001b[0m: Found array with 0 sample(s) (shape=(0,)) while a minimum of 1 is required."
     ]
    }
   ],
   "source": [
    "    validation_X = df[df[\"book_name\"].isin(split)].drop(columns=[\"y\", \"book_name\"]).values\n",
    "    validation_y = df[df[\"book_name\"].isin(split)][\"y\"].values.ravel()\n",
    "    \n",
    "    model = XGBRegressor()\n",
    "    model.fit(train_X, train_y)\n",
    "    train_yhat = model.predict(train_X)\n",
    "    validation_yhat = model.predict(validation_X)\n",
    "    all_labels.extend(validation_y.tolist())\n",
    "    all_predictions.extend(validation_yhat.tolist())\n",
    "    train_mse = mean_squared_error(train_y, train_yhat)\n",
    "    train_mae = mean_absolute_error(train_y, train_yhat)\n",
    "    validation_mse = mean_squared_error(validation_y, validation_yhat)\n",
    "    validation_mae = mean_absolute_error(validation_y, validation_yhat)\n",
    "    print(f\"Fold: {index+1}, TrainMSE: {train_mse}, TrainMAE: {train_mae}, ValMSE: {validation_mse}, ValMAE: {validation_mae}\")\n",
    "all_labels = np.array(all_labels)\n",
    "all_predictions = np.array(all_predictions)"
   ]
  },
  {
   "cell_type": "code",
   "execution_count": 32,
   "metadata": {},
   "outputs": [
    {
     "name": "stdout",
     "output_type": "stream",
     "text": [
      "Fold: 1, TrainMSE: 43.469667840289546, TrainMAE: 4.958794701188562, ValMSE: 824.3440447814484, ValMAE: 22.94768801594295\n",
      "Fold: 2, TrainMSE: 40.991699673369105, TrainMAE: 4.767284888176421, ValMSE: 540.8243638243405, ValMAE: 17.786383218431926\n",
      "Fold: 3, TrainMSE: 36.084968600997875, TrainMAE: 4.647670188989748, ValMSE: 488.05888410849894, ValMAE: 17.99337098662573\n",
      "Fold: 4, TrainMSE: 44.249400353139144, TrainMAE: 5.035168938639897, ValMSE: 657.8716684842817, ValMAE: 21.349721766633383\n",
      "Fold: 5, TrainMSE: 41.06465995698478, TrainMAE: 4.788829998088479, ValMSE: 624.1233646633849, ValMAE: 19.854370166934935\n",
      "Fold: 6, TrainMSE: 35.22251945619247, TrainMAE: 4.437842820080085, ValMSE: 877.2025223967174, ValMAE: 24.325287052149395\n",
      "Fold: 7, TrainMSE: 35.78601749032129, TrainMAE: 4.511772336979252, ValMSE: 728.8424851143518, ValMAE: 21.012765171207395\n",
      "Fold: 8, TrainMSE: 41.15389563461156, TrainMAE: 4.907933288177313, ValMSE: 522.9483832400464, ValMAE: 17.31974220736049\n",
      "Fold: 9, TrainMSE: 39.4513675774303, TrainMAE: 4.689521068822913, ValMSE: 627.0595509440758, ValMAE: 20.49096425325636\n",
      "Fold: 10, TrainMSE: 39.10283193423873, TrainMAE: 4.746244089617653, ValMSE: 416.01160093374307, ValMAE: 15.439238025048436\n"
     ]
    }
   ],
   "source": [
    "from sklearn.model_selection import KFold\n",
    "from sklearn.svm import SVR\n",
    "from xgboost import XGBRegressor\n",
    "from sklearn.metrics import mean_squared_error, mean_absolute_error\n",
    "from sklearn.decomposition import PCA\n",
    "\n",
    "X = df.drop(columns=['y', 'book_name']).values\n",
    "y = df[\"y\"].values.ravel()\n",
    "\n",
    "all_predictions = []\n",
    "all_labels = []\n",
    "kf = KFold(n_splits=10, shuffle=True, random_state=42)\n",
    "for index, (train_indices, validation_indices) in enumerate(kf.split(X)):\n",
    "    train_X = X[train_indices, :]\n",
    "    train_y = y[train_indices]\n",
    "    validation_X = X[validation_indices, :]\n",
    "    validation_y = y[validation_indices]\n",
    "    pca = PCA(n_components=150)\n",
    "    train_X = pca.fit_transform(train_X)\n",
    "    print(pca.explained_variance_ratio_.sum())\n",
    "    validation_X = pca.transform(validation_X)\n",
    "    model = XGBRegressor(max_depth=3)\n",
    "    model.fit(train_X, train_y)\n",
    "    train_yhat = model.predict(train_X)\n",
    "    validation_yhat = model.predict(validation_X)\n",
    "    all_labels.extend(validation_y.tolist())\n",
    "    all_predictions.extend(validation_yhat.tolist())\n",
    "    train_mse = mean_squared_error(train_y, train_yhat)\n",
    "    train_mae = mean_absolute_error(train_y, train_yhat)\n",
    "    validation_mse = mean_squared_error(validation_y, validation_yhat)\n",
    "    validation_mae = mean_absolute_error(validation_y, validation_yhat)\n",
    "    print(f\"Fold: {index+1}, TrainMSE: {train_mse}, TrainMAE: {train_mae}, ValMSE: {validation_mse}, ValMAE: {validation_mae}\")\n",
    "all_labels = np.array(all_labels)\n",
    "all_predictions = np.array(all_predictions)\n"
   ]
  },
  {
   "cell_type": "code",
   "execution_count": 33,
   "metadata": {},
   "outputs": [
    {
     "data": {
      "image/png": "[encoded data removed]",
      "text/plain": [
       "<Figure size 1296x432 with 1 Axes>"
      ]
     },
     "metadata": {
      "needs_background": "light"
     },
     "output_type": "display_data"
    }
   ],
   "source": [
    "import matplotlib.pyplot as plt\n",
    "\n",
    "plt.figure(figsize=(18, 6))\n",
    "plt.scatter(all_labels, all_predictions)\n",
    "plt.show();"
   ]
  },
  {
   "cell_type": "code",
   "execution_count": null,
   "metadata": {},
   "outputs": [],
   "source": []
  }
 ],
 "metadata": {
  "kernelspec": {
   "display_name": "Python 3",
   "language": "python",
   "name": "python3"
  },
  "language_info": {
   "codemirror_mode": {
    "name": "ipython",
    "version": 3
   },
   "file_extension": ".py",
   "mimetype": "text/x-python",
   "name": "python",
   "nbconvert_exporter": "python",
   "pygments_lexer": "ipython3",
   "version": "3.9.4"
  }
 },
 "nbformat": 4,
 "nbformat_minor": 4
}
