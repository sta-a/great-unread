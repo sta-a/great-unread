{
 "cells": [
  {
   "cell_type": "code",
   "execution_count": 1,
   "id": "b5fda62e",
   "metadata": {},
   "outputs": [],
   "source": [
    "from sklearn.metrics import f1_score\n",
    "from sklearn.metrics import accuracy_score, balanced_accuracy_score\n",
    "import random\n",
    "from collections import Counter"
   ]
  },
  {
   "cell_type": "markdown",
   "id": "efa40b82",
   "metadata": {},
   "source": [
    "# Multiclass"
   ]
  },
  {
   "cell_type": "code",
   "execution_count": 2,
   "id": "2f28d533",
   "metadata": {},
   "outputs": [],
   "source": [
    "def _get_f1_score(y, ypred):\n",
    "    score = f1_score(y, ypred, average='macro')\n",
    "    print(score)"
   ]
  },
  {
   "cell_type": "code",
   "execution_count": 3,
   "id": "84e61946",
   "metadata": {},
   "outputs": [],
   "source": [
    "n_eng = 556\n",
    "zero_eng = 365\n",
    "one_eng = 15\n",
    "two_eng = 63\n",
    "three_eng = 113\n",
    "\n",
    "n_ger = 503\n",
    "zero_ger = 330\n",
    "one_ger = 10\n",
    "two_ger = 86\n",
    "three_ger = 77\n",
    "\n",
    "y_eng = zero_eng*[0] + one_eng*[1] + two_eng*[2] + three_eng*[3]\n",
    "y_ger = zero_ger*[0] + one_ger*[1] + two_ger*[2] + three_ger*[3]"
   ]
  },
  {
   "cell_type": "markdown",
   "id": "1f3a82db",
   "metadata": {},
   "source": [
    "#### Classify every data point as 0 /not reviewed  (majority class)"
   ]
  },
  {
   "cell_type": "code",
   "execution_count": 4,
   "id": "2aa527eb",
   "metadata": {},
   "outputs": [
    {
     "name": "stdout",
     "output_type": "stream",
     "text": [
      "0.1981541802388708\n",
      "0.19807923169267708\n"
     ]
    }
   ],
   "source": [
    "y_pred_eng = n_eng*[0]\n",
    "_get_f1_score(y_eng, y_pred_eng)\n",
    "\n",
    "y_pred_ger = n_ger*[0]\n",
    "_get_f1_score(y_ger, y_pred_ger)"
   ]
  },
  {
   "cell_type": "markdown",
   "id": "fedd7992",
   "metadata": {},
   "source": [
    "#### Assign each class with possibility 1/4"
   ]
  },
  {
   "cell_type": "code",
   "execution_count": 5,
   "id": "c4fef90f",
   "metadata": {},
   "outputs": [
    {
     "name": "stdout",
     "output_type": "stream",
     "text": [
      "0.17915154787037185\n",
      "0.19565850059534695\n"
     ]
    }
   ],
   "source": [
    "classes = [0,1,2,3]\n",
    "y_pred_eng = random.choices(classes, k=n_eng)\n",
    "Counter(y_pred_eng)\n",
    "_get_f1_score(y_eng, y_pred_eng)\n",
    "\n",
    "y_pred_ger = random.choices(classes, k=n_ger)\n",
    "Counter(y_pred_ger)\n",
    "_get_f1_score(y_ger, y_pred_ger)"
   ]
  },
  {
   "cell_type": "markdown",
   "id": "7fecea7e",
   "metadata": {},
   "source": [
    "#### Class probability = class frequency"
   ]
  },
  {
   "cell_type": "code",
   "execution_count": 6,
   "id": "2f31b134",
   "metadata": {},
   "outputs": [
    {
     "name": "stdout",
     "output_type": "stream",
     "text": [
      "0.252381851447272\n",
      "0.22805956924754633\n"
     ]
    }
   ],
   "source": [
    "classes = [0,1,2,3]\n",
    "weights_eng = [zero_eng/n_eng, one_eng/n_eng, two_eng/n_eng, three_eng/n_eng]\n",
    "y_pred_eng = random.choices(classes, weights_eng, k=n_eng)\n",
    "_get_f1_score(y_eng, y_pred_eng)\n",
    "\n",
    "weights_ger = [zero_ger/n_ger, one_ger/n_ger, two_ger/n_ger, three_ger/n_ger]\n",
    "y_pred_ger = random.choices(classes, weights_ger, k=n_ger)\n",
    "_get_f1_score(y_ger, y_pred_ger)"
   ]
  },
  {
   "cell_type": "markdown",
   "id": "99327765",
   "metadata": {},
   "source": [
    "#### Class probability of two major classes"
   ]
  },
  {
   "cell_type": "code",
   "execution_count": 7,
   "id": "061eb941",
   "metadata": {},
   "outputs": [
    {
     "name": "stdout",
     "output_type": "stream",
     "text": [
      "0.2309107465230903\n",
      "0.21326667523087683\n"
     ]
    }
   ],
   "source": [
    "classes = [0,3]\n",
    "weights_eng = [zero_eng/(zero_eng + three_eng), three_eng/(zero_eng + three_eng)]\n",
    "y_pred_eng = random.choices(classes, weights_eng, k=n_eng)\n",
    "_get_f1_score(y_eng, y_pred_eng)\n",
    "\n",
    "classes = [0,2]\n",
    "weights_ger = [zero_ger/(zero_ger + three_ger), two_ger/(zero_ger + two_ger)]\n",
    "y_pred_ger = random.choices(classes, weights_ger, k=n_ger)\n",
    "_get_f1_score(y_ger, y_pred_ger)"
   ]
  },
  {
   "cell_type": "markdown",
   "id": "c0e4c16b",
   "metadata": {},
   "source": [
    "#### p(0) = 0.5, p(2)=p(3)=0.25"
   ]
  },
  {
   "cell_type": "code",
   "execution_count": 8,
   "id": "41931f97",
   "metadata": {},
   "outputs": [
    {
     "name": "stdout",
     "output_type": "stream",
     "text": [
      "0.24935878823073948\n",
      "0.2636675283803529\n"
     ]
    }
   ],
   "source": [
    "classes = [0,2,3]\n",
    "weights_eng = [0.5, 0.25, 0.25]\n",
    "y_pred_eng = random.choices(classes, weights_eng, k=n_eng)\n",
    "_get_f1_score(y_eng, y_pred_eng)\n",
    "\n",
    "weights_ger = [0.5, 0.25, 0.25]\n",
    "y_pred_ger = random.choices(classes, weights_ger, k=n_ger)\n",
    "_get_f1_score(y_ger, y_pred_ger)"
   ]
  },
  {
   "cell_type": "markdown",
   "id": "6ea124a1",
   "metadata": {},
   "source": [
    "# Accuracy"
   ]
  },
  {
   "cell_type": "markdown",
   "id": "3caee479",
   "metadata": {},
   "source": [
    "## Twoclass "
   ]
  },
  {
   "cell_type": "code",
   "execution_count": 9,
   "id": "2df8a6f0",
   "metadata": {},
   "outputs": [],
   "source": [
    "def _get_accuracy(y, ypred):\n",
    "    print(accuracy_score(y, ypred))"
   ]
  },
  {
   "cell_type": "code",
   "execution_count": 10,
   "id": "059fdc0f",
   "metadata": {},
   "outputs": [],
   "source": [
    "n_eng = 556\n",
    "zero_eng = 365\n",
    "one_eng = 191\n",
    "\n",
    "n_ger = 503\n",
    "zero_ger = 330\n",
    "one_ger = 173\n",
    "\n",
    "y_eng = zero_eng*[0] + one_eng*[1]\n",
    "y_ger = zero_ger*[0] + one_ger*[1]"
   ]
  },
  {
   "cell_type": "markdown",
   "id": "c552873b",
   "metadata": {},
   "source": [
    "#### Classify every data point as 0 /not reviewed  (majority class)"
   ]
  },
  {
   "cell_type": "code",
   "execution_count": 11,
   "id": "47d14845",
   "metadata": {},
   "outputs": [
    {
     "name": "stdout",
     "output_type": "stream",
     "text": [
      "0.6564748201438849\n",
      "0.6560636182902585\n"
     ]
    }
   ],
   "source": [
    "y_pred_eng = n_eng*[0]\n",
    "_get_accuracy(y_eng, y_pred_eng)\n",
    "\n",
    "y_pred_ger = n_ger*[0]\n",
    "_get_accuracy(y_ger, y_pred_ger)"
   ]
  },
  {
   "cell_type": "markdown",
   "id": "3752beb5",
   "metadata": {},
   "source": [
    "#### Assign each class with possibility 1/2"
   ]
  },
  {
   "cell_type": "code",
   "execution_count": 12,
   "id": "117bf999",
   "metadata": {},
   "outputs": [
    {
     "name": "stdout",
     "output_type": "stream",
     "text": [
      "0.5287769784172662\n",
      "0.4970178926441352\n"
     ]
    }
   ],
   "source": [
    "classes = [0,1]\n",
    "y_pred_eng = random.choices(classes, k=n_eng)\n",
    "Counter(y_pred_eng)\n",
    "_get_accuracy(y_eng, y_pred_eng)\n",
    "\n",
    "y_pred_ger = random.choices(classes, k=n_ger)\n",
    "Counter(y_pred_ger)\n",
    "_get_accuracy(y_ger, y_pred_ger)"
   ]
  },
  {
   "cell_type": "markdown",
   "id": "3be953df",
   "metadata": {},
   "source": [
    "#### Class probability = class frequency"
   ]
  },
  {
   "cell_type": "code",
   "execution_count": 13,
   "id": "d8711aca",
   "metadata": {},
   "outputs": [
    {
     "name": "stdout",
     "output_type": "stream",
     "text": [
      "0.5701438848920863\n",
      "0.5765407554671969\n"
     ]
    }
   ],
   "source": [
    "classes = [0,1]\n",
    "weights_eng = [zero_eng/n_eng, one_eng/n_eng]\n",
    "y_pred_eng = random.choices(classes, weights_eng, k=n_eng)\n",
    "_get_accuracy(y_eng, y_pred_eng)\n",
    "\n",
    "weights_ger = [zero_ger/n_ger, one_ger/n_ger]\n",
    "y_pred_ger = random.choices(classes, weights_ger, k=n_ger)\n",
    "_get_accuracy(y_ger, y_pred_ger)"
   ]
  },
  {
   "cell_type": "markdown",
   "id": "72bf3816",
   "metadata": {},
   "source": [
    "## Library"
   ]
  },
  {
   "cell_type": "code",
   "execution_count": 14,
   "id": "8cf1446d",
   "metadata": {},
   "outputs": [],
   "source": [
    "n_eng = 603\n",
    "zero_eng = 146\n",
    "one_eng = 457\n",
    "\n",
    "n_ger = 546\n",
    "zero_ger = 240\n",
    "one_ger = 306\n",
    "\n",
    "y_eng = zero_eng*[0] + one_eng*[1]\n",
    "y_ger = zero_ger*[0] + one_ger*[1]"
   ]
  },
  {
   "cell_type": "markdown",
   "id": "e64703e7",
   "metadata": {},
   "source": [
    "#### Classify every data point as 1/featured (majority class)"
   ]
  },
  {
   "cell_type": "code",
   "execution_count": 15,
   "id": "1d2b6d76",
   "metadata": {},
   "outputs": [
    {
     "name": "stdout",
     "output_type": "stream",
     "text": [
      "0.75787728026534\n",
      "0.5604395604395604\n"
     ]
    }
   ],
   "source": [
    "y_pred_eng = n_eng*[1]\n",
    "_get_accuracy(y_eng, y_pred_eng)\n",
    "\n",
    "y_pred_ger = n_ger*[1]\n",
    "_get_accuracy(y_ger, y_pred_ger)"
   ]
  },
  {
   "cell_type": "markdown",
   "id": "0201522b",
   "metadata": {},
   "source": [
    "#### Assign each class with possibility 1/2"
   ]
  },
  {
   "cell_type": "code",
   "execution_count": 16,
   "id": "8ebdf4f8",
   "metadata": {},
   "outputs": [
    {
     "name": "stdout",
     "output_type": "stream",
     "text": [
      "0.4560530679933665\n",
      "0.48717948717948717\n"
     ]
    }
   ],
   "source": [
    "classes = [0,1]\n",
    "y_pred_eng = random.choices(classes, k=n_eng)\n",
    "Counter(y_pred_eng)\n",
    "_get_accuracy(y_eng, y_pred_eng)\n",
    "\n",
    "y_pred_ger = random.choices(classes, k=n_ger)\n",
    "Counter(y_pred_ger)\n",
    "_get_accuracy(y_ger, y_pred_ger)"
   ]
  },
  {
   "cell_type": "markdown",
   "id": "20c0fe48",
   "metadata": {},
   "source": [
    "#### Class probability = class frequency"
   ]
  },
  {
   "cell_type": "code",
   "execution_count": 17,
   "id": "0ebb83c4",
   "metadata": {},
   "outputs": [
    {
     "name": "stdout",
     "output_type": "stream",
     "text": [
      "0.6235489220563848\n",
      "0.46703296703296704\n"
     ]
    }
   ],
   "source": [
    "classes = [0,1]\n",
    "weights_eng = [zero_eng/n_eng, one_eng/n_eng]\n",
    "y_pred_eng = random.choices(classes, weights_eng, k=n_eng)\n",
    "_get_accuracy(y_eng, y_pred_eng)\n",
    "\n",
    "weights_ger = [zero_ger/n_ger, one_ger/n_ger]\n",
    "y_pred_ger = random.choices(classes, weights_ger, k=n_ger)\n",
    "_get_accuracy(y_ger, y_pred_ger)"
   ]
  },
  {
   "cell_type": "markdown",
   "id": "709f81c7",
   "metadata": {},
   "source": [
    "# Balanced Accuracy"
   ]
  },
  {
   "cell_type": "markdown",
   "id": "730c2356",
   "metadata": {},
   "source": [
    "## Twoclass "
   ]
  },
  {
   "cell_type": "code",
   "execution_count": 18,
   "id": "88ef91f6",
   "metadata": {},
   "outputs": [],
   "source": [
    "def _get_balanced_accuracy(y, ypred):\n",
    "    print(balanced_accuracy_score(y, ypred))\n",
    "\n",
    "zero_eng = 365\n",
    "one_eng = 191\n",
    "n_eng = 556\n",
    "\n",
    "zero_ger = 332\n",
    "one_ger = 171\n",
    "n_ger = 503\n",
    "\n",
    "y_eng = zero_eng*[0] + one_eng*[1]\n",
    "y_ger = zero_ger*[0] + one_ger*[1]"
   ]
  },
  {
   "cell_type": "markdown",
   "id": "68cb758d",
   "metadata": {},
   "source": [
    "#### Classify every data point as 0 /not reviewed  (majority class)"
   ]
  },
  {
   "cell_type": "code",
   "execution_count": 19,
   "id": "685065fb",
   "metadata": {},
   "outputs": [
    {
     "name": "stdout",
     "output_type": "stream",
     "text": [
      "0.5\n",
      "0.5\n"
     ]
    }
   ],
   "source": [
    "y_pred_eng = n_eng*[0]\n",
    "_get_balanced_accuracy(y_eng, y_pred_eng)\n",
    "\n",
    "y_pred_ger = n_ger*[0]\n",
    "_get_balanced_accuracy(y_ger, y_pred_ger)"
   ]
  },
  {
   "cell_type": "markdown",
   "id": "742d58e6",
   "metadata": {},
   "source": [
    "#### Assign each class with possibility 1/2"
   ]
  },
  {
   "cell_type": "code",
   "execution_count": 20,
   "id": "60d6321c",
   "metadata": {},
   "outputs": [
    {
     "name": "stdout",
     "output_type": "stream",
     "text": [
      "Counter({0: 279, 1: 277})\n",
      "0.5432403356522987\n",
      "Counter({1: 253, 0: 250})\n",
      "0.49109596279856266\n"
     ]
    }
   ],
   "source": [
    "classes = [0,1]\n",
    "y_pred_eng = random.choices(classes, k=n_eng)\n",
    "print(Counter(y_pred_eng))\n",
    "_get_balanced_accuracy(y_eng, y_pred_eng)\n",
    "\n",
    "y_pred_ger = random.choices(classes, k=n_ger)\n",
    "print(Counter(y_pred_ger))\n",
    "_get_balanced_accuracy(y_ger, y_pred_ger)"
   ]
  },
  {
   "cell_type": "markdown",
   "id": "12a99c9d",
   "metadata": {},
   "source": [
    "#### Class probability = class frequency"
   ]
  },
  {
   "cell_type": "code",
   "execution_count": 21,
   "id": "f026800c",
   "metadata": {},
   "outputs": [
    {
     "name": "stdout",
     "output_type": "stream",
     "text": [
      "0.49904611633077534\n",
      "0.4870975128584514\n"
     ]
    }
   ],
   "source": [
    "classes = [0,1]\n",
    "weights_eng = [zero_eng/n_eng, one_eng/n_eng]\n",
    "y_pred_eng = random.choices(classes, weights_eng, k=n_eng)\n",
    "_get_balanced_accuracy(y_eng, y_pred_eng)\n",
    "\n",
    "weights_ger = [zero_ger/n_ger, one_ger/n_ger]\n",
    "y_pred_ger = random.choices(classes, weights_ger, k=n_ger)\n",
    "_get_balanced_accuracy(y_ger, y_pred_ger)"
   ]
  },
  {
   "cell_type": "markdown",
   "id": "2c0dd9a9",
   "metadata": {},
   "source": [
    "## Library"
   ]
  },
  {
   "cell_type": "code",
   "execution_count": 22,
   "id": "1407ef92",
   "metadata": {},
   "outputs": [],
   "source": [
    "zero_eng = 146\n",
    "one_eng = 457\n",
    "n_eng = 603\n",
    "\n",
    "zero_ger = 246\n",
    "one_ger = 300\n",
    "n_ger = 546\n",
    "\n",
    "y_eng = zero_eng*[0] + one_eng*[1]\n",
    "y_ger = zero_ger*[0] + one_ger*[1]"
   ]
  },
  {
   "cell_type": "markdown",
   "id": "36c09658",
   "metadata": {},
   "source": [
    "#### Classify every data point as 1/featured (majority class)"
   ]
  },
  {
   "cell_type": "code",
   "execution_count": 23,
   "id": "ff37a6aa",
   "metadata": {},
   "outputs": [
    {
     "name": "stdout",
     "output_type": "stream",
     "text": [
      "0.5\n",
      "0.5\n"
     ]
    }
   ],
   "source": [
    "y_pred_eng = n_eng*[1]\n",
    "_get_balanced_accuracy(y_eng, y_pred_eng)\n",
    "\n",
    "y_pred_ger = n_ger*[1]\n",
    "_get_balanced_accuracy(y_ger, y_pred_ger)"
   ]
  },
  {
   "cell_type": "markdown",
   "id": "7118a73e",
   "metadata": {},
   "source": [
    "#### Assign each class with possibility 1/2"
   ]
  },
  {
   "cell_type": "code",
   "execution_count": 24,
   "id": "e98c3e16",
   "metadata": {},
   "outputs": [
    {
     "name": "stdout",
     "output_type": "stream",
     "text": [
      "0.4926036389796469\n",
      "0.49926829268292683\n"
     ]
    }
   ],
   "source": [
    "classes = [0,1]\n",
    "y_pred_eng = random.choices(classes, k=n_eng)\n",
    "Counter(y_pred_eng)\n",
    "_get_balanced_accuracy(y_eng, y_pred_eng)\n",
    "\n",
    "y_pred_ger = random.choices(classes, k=n_ger)\n",
    "Counter(y_pred_ger)\n",
    "_get_balanced_accuracy(y_ger, y_pred_ger)"
   ]
  },
  {
   "cell_type": "markdown",
   "id": "f8a99954",
   "metadata": {},
   "source": [
    "#### Class probability = class frequency"
   ]
  },
  {
   "cell_type": "code",
   "execution_count": 25,
   "id": "3e32b8d7",
   "metadata": {},
   "outputs": [
    {
     "name": "stdout",
     "output_type": "stream",
     "text": [
      "0.46212643505890105\n",
      "0.5216666666666667\n"
     ]
    }
   ],
   "source": [
    "classes = [0,1]\n",
    "weights_eng = [zero_eng/n_eng, one_eng/n_eng]\n",
    "y_pred_eng = random.choices(classes, weights_eng, k=n_eng)\n",
    "_get_balanced_accuracy(y_eng, y_pred_eng)\n",
    "\n",
    "weights_ger = [zero_ger/n_ger, one_ger/n_ger]\n",
    "y_pred_ger = random.choices(classes, weights_ger, k=n_ger)\n",
    "_get_balanced_accuracy(y_ger, y_pred_ger)"
   ]
  },
  {
   "cell_type": "code",
   "execution_count": null,
   "id": "f9c5bec7",
   "metadata": {},
   "outputs": [],
   "source": []
  },
  {
   "cell_type": "code",
   "execution_count": null,
   "id": "93cd3014",
   "metadata": {},
   "outputs": [],
   "source": []
  }
 ],
 "metadata": {
  "kernelspec": {
   "display_name": "Python 3 (ipykernel)",
   "language": "python",
   "name": "python3"
  },
  "language_info": {
   "codemirror_mode": {
    "name": "ipython",
    "version": 3
   },
   "file_extension": ".py",
   "mimetype": "text/x-python",
   "name": "python",
   "nbconvert_exporter": "python",
   "pygments_lexer": "ipython3",
   "version": "3.9.12"
  }
 },
 "nbformat": 4,
 "nbformat_minor": 5
}
