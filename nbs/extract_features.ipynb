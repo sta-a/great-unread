{
 "cells": [
  {
   "cell_type": "code",
   "execution_count": 1,
   "id": "48086b0c",
   "metadata": {},
   "outputs": [],
   "source": [
    "%load_ext autoreload\n",
    "%autoreload 2\n",
    "lang = \"eng\"\n",
    "\n",
    "import os\n",
    "import sys\n",
    "sys.path.insert(0, \"../src/\")\n",
    "import re\n",
    "import numpy as np\n",
    "import pandas as pd\n",
    "from tqdm import tqdm\n",
    "import pickle\n",
    "from feature_extraction.doc2vec_chunk_vectorizer import Doc2VecChunkVectorizer\n",
    "from feature_extraction.doc_based_feature_extractor import DocBasedFeatureExtractor\n",
    "from feature_extraction.corpus_based_feature_extractor import CorpusBasedFeatureExtractor\n",
    "from utils import get_doc_paths\n",
    "from chunk import Chunk\n",
    "import time\n",
    "\n",
    "raw_docs_dir = f\"../data/raw_docs/{lang}/\"\n",
    "labels_dir = \"../data/labels/\"\n",
    "features_dir = f\"../data/features/{lang}/\"\n",
    "\n",
    "if not os.path.exists(features_dir):\n",
    "    os.makedirs(features_dir)\n",
    "\n",
    "doc_paths = get_doc_paths(raw_docs_dir, lang)\n",
    "\n",
    "sentences_per_chunk = 200"
   ]
  },
  {
   "cell_type": "code",
   "execution_count": 2,
   "id": "1a60a6dd",
   "metadata": {},
   "outputs": [
    {
     "data": {
      "text/plain": [
       "605"
      ]
     },
     "execution_count": 2,
     "metadata": {},
     "output_type": "execute_result"
    }
   ],
   "source": [
    "len(doc_paths)"
   ]
  },
  {
   "cell_type": "code",
   "execution_count": 3,
   "id": "429ca3bd",
   "metadata": {},
   "outputs": [],
   "source": [
    "# Create doc2vec embeddings\n",
    "# d2vcv =  (lang, sentences_per_chunk)\n",
    "# d2vcv.fit_transform(doc_paths)"
   ]
  },
  {
   "cell_type": "code",
   "execution_count": 4,
   "id": "89f3c240",
   "metadata": {
    "tags": []
   },
   "outputs": [],
   "source": [
    "start = time.time()"
   ]
  },
  {
   "cell_type": "code",
   "execution_count": 5,
   "id": "6508d994",
   "metadata": {
    "tags": []
   },
   "outputs": [
    {
     "name": "stderr",
     "output_type": "stream",
     "text": [
      "  4%|▍         | 23/605 [01:05<17:31,  1.81s/it]/home/annina/anaconda3/envs/nlp/lib/python3.9/site-packages/numpy/core/fromnumeric.py:3419: RuntimeWarning: Mean of empty slice.\n",
      "  return _methods._mean(a, axis=axis, dtype=dtype,\n",
      "/home/annina/anaconda3/envs/nlp/lib/python3.9/site-packages/numpy/core/_methods.py:188: RuntimeWarning: invalid value encountered in double_scalars\n",
      "  ret = ret.dtype.type(ret / rcount)\n",
      "100%|██████████| 605/605 [25:52<00:00,  2.57s/it]  "
     ]
    },
    {
     "name": "stdout",
     "output_type": "stream",
     "text": [
      "605 14128\n"
     ]
    },
    {
     "name": "stderr",
     "output_type": "stream",
     "text": [
      "\n"
     ]
    }
   ],
   "source": [
    "## Document-based features\n",
    "document_chunk_features = []\n",
    "document_book_features = [] \n",
    "\n",
    "for doc_path in tqdm(doc_paths):\n",
    "    fe = DocBasedFeatureExtractor(lang, doc_path, sentences_per_chunk)\n",
    "    chunk_features, book_features = fe.get_all_features()  \n",
    "    document_chunk_features.extend(chunk_features)\n",
    "    document_book_features.append(book_features)\n",
    "print(len(document_book_features), len(document_chunk_features))"
   ]
  },
  {
   "cell_type": "code",
   "execution_count": 6,
   "id": "a7db6734",
   "metadata": {},
   "outputs": [
    {
     "name": "stderr",
     "output_type": "stream",
     "text": [
      "100%|██████████| 605/605 [19:20<00:00,  1.92s/it]"
     ]
    },
    {
     "name": "stdout",
     "output_type": "stream",
     "text": [
      "605\n"
     ]
    },
    {
     "name": "stderr",
     "output_type": "stream",
     "text": [
      "\n"
     ]
    }
   ],
   "source": [
    "# Recalculate the chunk features for the whole book, which is considered as one chunk\n",
    "document_chunk_features_fulltext = [] #Chunk features calculated for whole book\n",
    "\n",
    "for doc_path in tqdm(doc_paths):\n",
    "    fe = DocBasedFeatureExtractor(lang, doc_path, sentences_per_chunk=None)\n",
    "    chunk_features_fulltext, _ = fe.get_all_features()\n",
    "    document_chunk_features_fulltext.extend(chunk_features_fulltext)\n",
    "print(len(document_chunk_features_fulltext))"
   ]
  },
  {
   "cell_type": "code",
   "execution_count": 7,
   "id": "8ecfdc5c",
   "metadata": {},
   "outputs": [],
   "source": [
    "# Pickle document-based features\n",
    "with open(features_dir + 'document_chunk_features' + '.pkl', 'wb') as f:\n",
    "    pickle.dump(document_chunk_features, f, -1)\n",
    "\n",
    "with open(features_dir + 'document_book_features' + '.pkl', 'wb') as f:\n",
    "    pickle.dump(document_book_features, f, -1)\n",
    "\n",
    "with open(features_dir + 'document_chunk_features_fulltext' + '.pkl', 'wb') as f:\n",
    "    pickle.dump(document_chunk_features_fulltext, f, -1)\n"
   ]
  },
  {
   "cell_type": "code",
   "execution_count": 8,
   "id": "a71a8e62",
   "metadata": {},
   "outputs": [],
   "source": [
    "# Load document-based features  \n",
    "with open(features_dir + 'document_chunk_features' + '.pkl', 'rb') as f:\n",
    "    document_chunk_features = pickle.load(f)\n",
    "\n",
    "with open(features_dir + 'document_book_features' + '.pkl', 'rb') as f:\n",
    "    document_book_features = pickle.load(f)\n",
    "\n",
    "with open(features_dir + 'document_chunk_features_fulltext' + '.pkl', 'rb') as f:\n",
    "    document_chunk_features_fulltext = pickle.load(f)"
   ]
  },
  {
   "cell_type": "code",
   "execution_count": 9,
   "id": "e73136a5",
   "metadata": {
    "tags": []
   },
   "outputs": [
    {
     "name": "stderr",
     "output_type": "stream",
     "text": [
      "100%|██████████| 605/605 [04:07<00:00,  2.45it/s]\n"
     ]
    }
   ],
   "source": [
    "## Corpus-based features\n",
    "cbfe = CorpusBasedFeatureExtractor(lang, doc_paths, sentences_per_chunk, nr_features=100) "
   ]
  },
  {
   "cell_type": "code",
   "execution_count": 10,
   "id": "4ab3d69f",
   "metadata": {
    "tags": []
   },
   "outputs": [
    {
     "name": "stdout",
     "output_type": "stream",
     "text": [
      "<bound method CorpusBasedFeatureExtractor.get_unigram_distance of <feature_extraction.corpus_based_feature_extractor.CorpusBasedFeatureExtractor object at 0x7f2138944070>>\n"
     ]
    },
    {
     "name": "stderr",
     "output_type": "stream",
     "text": [
      "100%|██████████| 605/605 [07:13<00:00,  1.39it/s]\n"
     ]
    },
    {
     "name": "stdout",
     "output_type": "stream",
     "text": [
      "\n",
      "Time for corpus_chunk_feature_mapping <bound method CorpusBasedFeatureExtractor.get_unigram_distance of <feature_extraction.corpus_based_feature_extractor.CorpusBasedFeatureExtractor object at 0x7f2138944070>>: 434.1084065437317\n",
      "<bound method CorpusBasedFeatureExtractor.get_unigram_distance_limited of <feature_extraction.corpus_based_feature_extractor.CorpusBasedFeatureExtractor object at 0x7f2138944070>>\n"
     ]
    },
    {
     "name": "stderr",
     "output_type": "stream",
     "text": [
      "100%|██████████| 605/605 [08:28<00:00,  1.19it/s]\n",
      "  0%|          | 0/605 [00:00<?, ?it/s]"
     ]
    },
    {
     "name": "stdout",
     "output_type": "stream",
     "text": [
      "\n",
      "Time for corpus_chunk_feature_mapping <bound method CorpusBasedFeatureExtractor.get_unigram_distance_limited of <feature_extraction.corpus_based_feature_extractor.CorpusBasedFeatureExtractor object at 0x7f2138944070>>: 508.86294078826904\n",
      "<bound method CorpusBasedFeatureExtractor.get_bigram_distance of <feature_extraction.corpus_based_feature_extractor.CorpusBasedFeatureExtractor object at 0x7f2138944070>>\n"
     ]
    },
    {
     "name": "stderr",
     "output_type": "stream",
     "text": [
      "100%|██████████| 605/605 [06:02<00:00,  1.67it/s]\n",
      "  0%|          | 0/605 [00:00<?, ?it/s]"
     ]
    },
    {
     "name": "stdout",
     "output_type": "stream",
     "text": [
      "\n",
      "Time for corpus_chunk_feature_mapping <bound method CorpusBasedFeatureExtractor.get_bigram_distance of <feature_extraction.corpus_based_feature_extractor.CorpusBasedFeatureExtractor object at 0x7f2138944070>>: 362.446186542511\n",
      "<bound method CorpusBasedFeatureExtractor.get_trigram_distance of <feature_extraction.corpus_based_feature_extractor.CorpusBasedFeatureExtractor object at 0x7f2138944070>>\n"
     ]
    },
    {
     "name": "stderr",
     "output_type": "stream",
     "text": [
      "100%|██████████| 605/605 [05:59<00:00,  1.68it/s]\n",
      "  0%|          | 0/605 [00:00<?, ?it/s]"
     ]
    },
    {
     "name": "stdout",
     "output_type": "stream",
     "text": [
      "\n",
      "Time for corpus_chunk_feature_mapping <bound method CorpusBasedFeatureExtractor.get_trigram_distance of <feature_extraction.corpus_based_feature_extractor.CorpusBasedFeatureExtractor object at 0x7f2138944070>>: 360.54180121421814\n",
      "<bound method CorpusBasedFeatureExtractor.get_tag_distribution of <feature_extraction.corpus_based_feature_extractor.CorpusBasedFeatureExtractor object at 0x7f2138944070>>\n"
     ]
    },
    {
     "name": "stderr",
     "output_type": "stream",
     "text": [
      "100%|██████████| 605/605 [04:29<00:00,  2.25it/s]\n",
      "100%|██████████| 605/605 [04:57<00:00,  2.03it/s]\n",
      "100%|██████████| 605/605 [04:45<00:00,  2.12it/s]\n"
     ]
    },
    {
     "name": "stdout",
     "output_type": "stream",
     "text": [
      "\n",
      "Time for corpus_chunk_feature_mapping <bound method CorpusBasedFeatureExtractor.get_tag_distribution of <feature_extraction.corpus_based_feature_extractor.CorpusBasedFeatureExtractor object at 0x7f2138944070>>: 856.1508932113647\n",
      "<bound method CorpusBasedFeatureExtractor.get_production_distribution of <feature_extraction.corpus_based_feature_extractor.CorpusBasedFeatureExtractor object at 0x7f2138944070>>\n"
     ]
    },
    {
     "name": "stderr",
     "output_type": "stream",
     "text": [
      "100%|██████████| 605/605 [41:55<00:00,  4.16s/it]  \n"
     ]
    },
    {
     "name": "stdout",
     "output_type": "stream",
     "text": [
      "\n",
      "Time for corpus_chunk_feature_mapping <bound method CorpusBasedFeatureExtractor.get_production_distribution of <feature_extraction.corpus_based_feature_extractor.CorpusBasedFeatureExtractor object at 0x7f2138944070>>: 2518.2515552043915\n",
      "Time for <bound method CorpusBasedFeatureExtractor.get_overlap_score_doc2vec of <feature_extraction.corpus_based_feature_extractor.CorpusBasedFeatureExtractor object at 0x7f2138944070>>: 36.9691698551178\n",
      "Time for <bound method CorpusBasedFeatureExtractor.get_overlap_score_sbert of <feature_extraction.corpus_based_feature_extractor.CorpusBasedFeatureExtractor object at 0x7f2138944070>>: 39.99323391914368\n",
      "Time for <bound method CorpusBasedFeatureExtractor.get_outlier_score_doc2vec of <feature_extraction.corpus_based_feature_extractor.CorpusBasedFeatureExtractor object at 0x7f2138944070>>: 1.8568933010101318\n",
      "Time for <bound method CorpusBasedFeatureExtractor.get_outlier_score_sbert of <feature_extraction.corpus_based_feature_extractor.CorpusBasedFeatureExtractor object at 0x7f2138944070>>: 1.7898130416870117\n"
     ]
    }
   ],
   "source": [
    "corpus_chunk_features, corpus_book_features = cbfe.get_all_features()\n",
    "\n",
    "with open(features_dir + 'corpus_chunk_features' + '.pkl', 'wb') as f:\n",
    "    pickle.dump(corpus_chunk_features, f, -1)\n",
    "\n",
    "with open(features_dir + 'corpus_book_features' + '.pkl', 'wb') as f:\n",
    "    pickle.dump(corpus_book_features, f, -1)"
   ]
  },
  {
   "cell_type": "code",
   "execution_count": 11,
   "id": "4ba5b045",
   "metadata": {},
   "outputs": [
    {
     "name": "stderr",
     "output_type": "stream",
     "text": [
      "100%|██████████| 605/605 [04:13<00:00,  2.39it/s]\n"
     ]
    }
   ],
   "source": [
    "# # Recalculate the chunk features for the whole book, which is considered as one chunk\n",
    "cbfe_fulltext = CorpusBasedFeatureExtractor(lang, doc_paths, sentences_per_chunk=None, nr_features=100)"
   ]
  },
  {
   "cell_type": "code",
   "execution_count": 12,
   "id": "ae90145a",
   "metadata": {},
   "outputs": [
    {
     "name": "stdout",
     "output_type": "stream",
     "text": [
      "<bound method CorpusBasedFeatureExtractor.get_unigram_distance of <feature_extraction.corpus_based_feature_extractor.CorpusBasedFeatureExtractor object at 0x7f20e62cd940>>\n"
     ]
    },
    {
     "name": "stderr",
     "output_type": "stream",
     "text": [
      "100%|██████████| 605/605 [06:00<00:00,  1.68it/s]\n"
     ]
    },
    {
     "name": "stdout",
     "output_type": "stream",
     "text": [
      "\n",
      "Time for corpus_chunk_feature_mapping <bound method CorpusBasedFeatureExtractor.get_unigram_distance of <feature_extraction.corpus_based_feature_extractor.CorpusBasedFeatureExtractor object at 0x7f20e62cd940>>: 360.3566679954529\n",
      "<bound method CorpusBasedFeatureExtractor.get_unigram_distance_limited of <feature_extraction.corpus_based_feature_extractor.CorpusBasedFeatureExtractor object at 0x7f20e62cd940>>\n"
     ]
    },
    {
     "name": "stderr",
     "output_type": "stream",
     "text": [
      "100%|██████████| 605/605 [06:03<00:00,  1.66it/s]\n",
      "  0%|          | 0/605 [00:00<?, ?it/s]"
     ]
    },
    {
     "name": "stdout",
     "output_type": "stream",
     "text": [
      "\n",
      "Time for corpus_chunk_feature_mapping <bound method CorpusBasedFeatureExtractor.get_unigram_distance_limited of <feature_extraction.corpus_based_feature_extractor.CorpusBasedFeatureExtractor object at 0x7f20e62cd940>>: 364.0487651824951\n",
      "<bound method CorpusBasedFeatureExtractor.get_bigram_distance of <feature_extraction.corpus_based_feature_extractor.CorpusBasedFeatureExtractor object at 0x7f20e62cd940>>\n"
     ]
    },
    {
     "name": "stderr",
     "output_type": "stream",
     "text": [
      "100%|██████████| 605/605 [05:54<00:00,  1.71it/s]\n",
      "  0%|          | 0/605 [00:00<?, ?it/s]"
     ]
    },
    {
     "name": "stdout",
     "output_type": "stream",
     "text": [
      "\n",
      "Time for corpus_chunk_feature_mapping <bound method CorpusBasedFeatureExtractor.get_bigram_distance of <feature_extraction.corpus_based_feature_extractor.CorpusBasedFeatureExtractor object at 0x7f20e62cd940>>: 354.84729743003845\n",
      "<bound method CorpusBasedFeatureExtractor.get_trigram_distance of <feature_extraction.corpus_based_feature_extractor.CorpusBasedFeatureExtractor object at 0x7f20e62cd940>>\n"
     ]
    },
    {
     "name": "stderr",
     "output_type": "stream",
     "text": [
      "100%|██████████| 605/605 [05:53<00:00,  1.71it/s]\n",
      "  0%|          | 0/605 [00:00<?, ?it/s]"
     ]
    },
    {
     "name": "stdout",
     "output_type": "stream",
     "text": [
      "\n",
      "Time for corpus_chunk_feature_mapping <bound method CorpusBasedFeatureExtractor.get_trigram_distance of <feature_extraction.corpus_based_feature_extractor.CorpusBasedFeatureExtractor object at 0x7f20e62cd940>>: 354.0057940483093\n",
      "<bound method CorpusBasedFeatureExtractor.get_tag_distribution of <feature_extraction.corpus_based_feature_extractor.CorpusBasedFeatureExtractor object at 0x7f20e62cd940>>\n"
     ]
    },
    {
     "name": "stderr",
     "output_type": "stream",
     "text": [
      "100%|██████████| 605/605 [04:22<00:00,  2.31it/s]\n",
      "100%|██████████| 605/605 [04:36<00:00,  2.19it/s]\n",
      "100%|██████████| 605/605 [04:40<00:00,  2.15it/s]\n"
     ]
    },
    {
     "name": "stdout",
     "output_type": "stream",
     "text": [
      "\n",
      "Time for corpus_chunk_feature_mapping <bound method CorpusBasedFeatureExtractor.get_tag_distribution of <feature_extraction.corpus_based_feature_extractor.CorpusBasedFeatureExtractor object at 0x7f20e62cd940>>: 819.3665556907654\n",
      "<bound method CorpusBasedFeatureExtractor.get_production_distribution of <feature_extraction.corpus_based_feature_extractor.CorpusBasedFeatureExtractor object at 0x7f20e62cd940>>\n"
     ]
    },
    {
     "name": "stderr",
     "output_type": "stream",
     "text": [
      "100%|██████████| 605/605 [40:53<00:00,  4.06s/it]  \n"
     ]
    },
    {
     "name": "stdout",
     "output_type": "stream",
     "text": [
      "\n",
      "Time for corpus_chunk_feature_mapping <bound method CorpusBasedFeatureExtractor.get_production_distribution of <feature_extraction.corpus_based_feature_extractor.CorpusBasedFeatureExtractor object at 0x7f20e62cd940>>: 2455.9816596508026\n"
     ]
    }
   ],
   "source": [
    "corpus_chunk_features_fulltext, _ = cbfe_fulltext.get_all_features()\n",
    "with open(features_dir + 'corpus_chunk_features_fulltext' + '.pkl', 'wb') as f:\n",
    "    pickle.dump(corpus_chunk_features_fulltext, f, -1)"
   ]
  },
  {
   "cell_type": "code",
   "execution_count": 13,
   "id": "561c023b",
   "metadata": {},
   "outputs": [],
   "source": [
    "# Load corpus-based features  \n",
    "with open(features_dir + 'corpus_chunk_features' + '.pkl', 'rb') as f:\n",
    "    corpus_chunk_features = pickle.load(f)\n",
    "\n",
    "with open(features_dir + 'corpus_book_features' + '.pkl', 'rb') as f:\n",
    "    corpus_book_features = pickle.load(f)\n",
    "\n",
    "with open(features_dir + 'corpus_chunk_features_fulltext' + '.pkl', 'rb') as f:\n",
    "    corpus_chunk_features_fulltext = pickle.load(f)"
   ]
  },
  {
   "cell_type": "code",
   "execution_count": 14,
   "id": "76116d83",
   "metadata": {},
   "outputs": [
    {
     "data": {
      "text/html": [
       "<div>\n",
       "<style scoped>\n",
       "    .dataframe tbody tr th:only-of-type {\n",
       "        vertical-align: middle;\n",
       "    }\n",
       "\n",
       "    .dataframe tbody tr th {\n",
       "        vertical-align: top;\n",
       "    }\n",
       "\n",
       "    .dataframe thead th {\n",
       "        text-align: right;\n",
       "    }\n",
       "</style>\n",
       "<table border=\"1\" class=\"dataframe\">\n",
       "  <thead>\n",
       "    <tr style=\"text-align: right;\">\n",
       "      <th></th>\n",
       "      <th>book_name</th>\n",
       "      <th>unigram_distance</th>\n",
       "      <th>unigram_distance_limited</th>\n",
       "      <th>bigram_distance</th>\n",
       "      <th>trigram_distance</th>\n",
       "      <th>pos_unigram_PUNCT</th>\n",
       "      <th>pos_unigram_NOUN</th>\n",
       "      <th>pos_unigram_VERB</th>\n",
       "      <th>pos_unigram_PRON</th>\n",
       "      <th>pos_unigram_ADP</th>\n",
       "      <th>...</th>\n",
       "      <th>VP-&gt;VBG_RB</th>\n",
       "      <th>NP-&gt;DT_VBG_NN</th>\n",
       "      <th>VP-&gt;VBG_VBN</th>\n",
       "      <th>NP-&gt;NN_NNS</th>\n",
       "      <th>VP-&gt;VBZ_TO_VB</th>\n",
       "      <th>NP-&gt;DT_NN_NN_NN</th>\n",
       "      <th>S-&gt;NP_VP</th>\n",
       "      <th>VP-&gt;VBP_CC</th>\n",
       "      <th>NP-&gt;PRP_DT</th>\n",
       "      <th>VP-&gt;VBD_VBN_VBN</th>\n",
       "    </tr>\n",
       "  </thead>\n",
       "  <tbody>\n",
       "    <tr>\n",
       "      <th>0</th>\n",
       "      <td>Radcliffe_Ann_The-Italian_1797</td>\n",
       "      <td>0.028470</td>\n",
       "      <td>0.964958</td>\n",
       "      <td>0.022108</td>\n",
       "      <td>0.002255</td>\n",
       "      <td>0.168691</td>\n",
       "      <td>0.141964</td>\n",
       "      <td>0.128439</td>\n",
       "      <td>0.100368</td>\n",
       "      <td>0.098242</td>\n",
       "      <td>...</td>\n",
       "      <td>0.000587</td>\n",
       "      <td>0.000948</td>\n",
       "      <td>0.001236</td>\n",
       "      <td>0.000412</td>\n",
       "      <td>0.000412</td>\n",
       "      <td>0.000597</td>\n",
       "      <td>0.000247</td>\n",
       "      <td>0.000330</td>\n",
       "      <td>0.000185</td>\n",
       "      <td>0.000886</td>\n",
       "    </tr>\n",
       "    <tr>\n",
       "      <th>1</th>\n",
       "      <td>Gissing_George_In-the-Year-of-Jubilee_1894</td>\n",
       "      <td>0.040656</td>\n",
       "      <td>0.958549</td>\n",
       "      <td>0.012670</td>\n",
       "      <td>0.001200</td>\n",
       "      <td>0.177138</td>\n",
       "      <td>0.129638</td>\n",
       "      <td>0.127511</td>\n",
       "      <td>0.123034</td>\n",
       "      <td>0.091255</td>\n",
       "      <td>...</td>\n",
       "      <td>0.000384</td>\n",
       "      <td>0.000384</td>\n",
       "      <td>0.000410</td>\n",
       "      <td>0.000576</td>\n",
       "      <td>0.000640</td>\n",
       "      <td>0.000512</td>\n",
       "      <td>0.000909</td>\n",
       "      <td>0.000256</td>\n",
       "      <td>0.000576</td>\n",
       "      <td>0.000269</td>\n",
       "    </tr>\n",
       "    <tr>\n",
       "      <th>2</th>\n",
       "      <td>Collins_Wilkie_Armadale_1864</td>\n",
       "      <td>0.024837</td>\n",
       "      <td>0.959111</td>\n",
       "      <td>0.006647</td>\n",
       "      <td>0.001034</td>\n",
       "      <td>0.153036</td>\n",
       "      <td>0.143237</td>\n",
       "      <td>0.122004</td>\n",
       "      <td>0.119838</td>\n",
       "      <td>0.108400</td>\n",
       "      <td>...</td>\n",
       "      <td>0.000847</td>\n",
       "      <td>0.000747</td>\n",
       "      <td>0.000653</td>\n",
       "      <td>0.000423</td>\n",
       "      <td>0.000923</td>\n",
       "      <td>0.000670</td>\n",
       "      <td>0.000776</td>\n",
       "      <td>0.000423</td>\n",
       "      <td>0.000635</td>\n",
       "      <td>0.000706</td>\n",
       "    </tr>\n",
       "    <tr>\n",
       "      <th>3</th>\n",
       "      <td>Conrad_Joseph_Lord-Jim_1899</td>\n",
       "      <td>0.029921</td>\n",
       "      <td>0.919140</td>\n",
       "      <td>0.009482</td>\n",
       "      <td>0.002558</td>\n",
       "      <td>0.160312</td>\n",
       "      <td>0.151091</td>\n",
       "      <td>0.119694</td>\n",
       "      <td>0.110728</td>\n",
       "      <td>0.111518</td>\n",
       "      <td>...</td>\n",
       "      <td>0.001062</td>\n",
       "      <td>0.001221</td>\n",
       "      <td>0.000358</td>\n",
       "      <td>0.000756</td>\n",
       "      <td>0.000398</td>\n",
       "      <td>0.000610</td>\n",
       "      <td>0.001712</td>\n",
       "      <td>0.000664</td>\n",
       "      <td>0.000637</td>\n",
       "      <td>0.001102</td>\n",
       "    </tr>\n",
       "    <tr>\n",
       "      <th>4</th>\n",
       "      <td>Shelley_Mary_Perkin-Warbeck_1830</td>\n",
       "      <td>0.041606</td>\n",
       "      <td>0.910397</td>\n",
       "      <td>0.017097</td>\n",
       "      <td>0.003477</td>\n",
       "      <td>0.150419</td>\n",
       "      <td>0.163175</td>\n",
       "      <td>0.116985</td>\n",
       "      <td>0.097747</td>\n",
       "      <td>0.104800</td>\n",
       "      <td>...</td>\n",
       "      <td>0.000358</td>\n",
       "      <td>0.001185</td>\n",
       "      <td>0.000317</td>\n",
       "      <td>0.000685</td>\n",
       "      <td>0.000409</td>\n",
       "      <td>0.000705</td>\n",
       "      <td>0.000317</td>\n",
       "      <td>0.000439</td>\n",
       "      <td>0.000225</td>\n",
       "      <td>0.000736</td>\n",
       "    </tr>\n",
       "    <tr>\n",
       "      <th>...</th>\n",
       "      <td>...</td>\n",
       "      <td>...</td>\n",
       "      <td>...</td>\n",
       "      <td>...</td>\n",
       "      <td>...</td>\n",
       "      <td>...</td>\n",
       "      <td>...</td>\n",
       "      <td>...</td>\n",
       "      <td>...</td>\n",
       "      <td>...</td>\n",
       "      <td>...</td>\n",
       "      <td>...</td>\n",
       "      <td>...</td>\n",
       "      <td>...</td>\n",
       "      <td>...</td>\n",
       "      <td>...</td>\n",
       "      <td>...</td>\n",
       "      <td>...</td>\n",
       "      <td>...</td>\n",
       "      <td>...</td>\n",
       "      <td>...</td>\n",
       "    </tr>\n",
       "    <tr>\n",
       "      <th>600</th>\n",
       "      <td>Hardy_Thomas_The-Whithered-Arm_1888</td>\n",
       "      <td>0.051106</td>\n",
       "      <td>0.948614</td>\n",
       "      <td>0.015059</td>\n",
       "      <td>0.003504</td>\n",
       "      <td>0.163645</td>\n",
       "      <td>0.149969</td>\n",
       "      <td>0.118623</td>\n",
       "      <td>0.102566</td>\n",
       "      <td>0.097572</td>\n",
       "      <td>...</td>\n",
       "      <td>0.000839</td>\n",
       "      <td>0.001343</td>\n",
       "      <td>0.000839</td>\n",
       "      <td>0.000671</td>\n",
       "      <td>0.000168</td>\n",
       "      <td>0.000671</td>\n",
       "      <td>0.000504</td>\n",
       "      <td>0.000336</td>\n",
       "      <td>0.000504</td>\n",
       "      <td>0.001511</td>\n",
       "    </tr>\n",
       "    <tr>\n",
       "      <th>601</th>\n",
       "      <td>Eliot_George_The-Mill-on-the-Floss_1860</td>\n",
       "      <td>0.027631</td>\n",
       "      <td>1.263697</td>\n",
       "      <td>0.010010</td>\n",
       "      <td>0.001831</td>\n",
       "      <td>0.156654</td>\n",
       "      <td>0.135442</td>\n",
       "      <td>0.124457</td>\n",
       "      <td>0.108586</td>\n",
       "      <td>0.098747</td>\n",
       "      <td>...</td>\n",
       "      <td>0.000842</td>\n",
       "      <td>0.000815</td>\n",
       "      <td>0.000438</td>\n",
       "      <td>0.000535</td>\n",
       "      <td>0.000640</td>\n",
       "      <td>0.000894</td>\n",
       "      <td>0.000193</td>\n",
       "      <td>0.000482</td>\n",
       "      <td>0.000456</td>\n",
       "      <td>0.000798</td>\n",
       "    </tr>\n",
       "    <tr>\n",
       "      <th>602</th>\n",
       "      <td>Edgeworth_Maria_The-Modern-Griselda_1804</td>\n",
       "      <td>0.050171</td>\n",
       "      <td>0.990300</td>\n",
       "      <td>0.021133</td>\n",
       "      <td>0.002066</td>\n",
       "      <td>0.181984</td>\n",
       "      <td>0.137695</td>\n",
       "      <td>0.126285</td>\n",
       "      <td>0.123066</td>\n",
       "      <td>0.083641</td>\n",
       "      <td>...</td>\n",
       "      <td>0.000572</td>\n",
       "      <td>0.000163</td>\n",
       "      <td>0.000735</td>\n",
       "      <td>0.000817</td>\n",
       "      <td>0.000817</td>\n",
       "      <td>0.000490</td>\n",
       "      <td>0.000163</td>\n",
       "      <td>0.000817</td>\n",
       "      <td>0.000408</td>\n",
       "      <td>0.000327</td>\n",
       "    </tr>\n",
       "    <tr>\n",
       "      <th>603</th>\n",
       "      <td>Baldwin_Louisa_My-Next-Door-Neighour_1894</td>\n",
       "      <td>0.036336</td>\n",
       "      <td>0.963451</td>\n",
       "      <td>0.028839</td>\n",
       "      <td>0.005279</td>\n",
       "      <td>0.131734</td>\n",
       "      <td>0.155846</td>\n",
       "      <td>0.115032</td>\n",
       "      <td>0.121813</td>\n",
       "      <td>0.109381</td>\n",
       "      <td>...</td>\n",
       "      <td>0.000264</td>\n",
       "      <td>0.000264</td>\n",
       "      <td>0.000264</td>\n",
       "      <td>0.000264</td>\n",
       "      <td>0.000527</td>\n",
       "      <td>0.001318</td>\n",
       "      <td>0.000000</td>\n",
       "      <td>0.000791</td>\n",
       "      <td>0.000527</td>\n",
       "      <td>0.000527</td>\n",
       "    </tr>\n",
       "    <tr>\n",
       "      <th>604</th>\n",
       "      <td>Chaigneau_William_The-History-of-Jack-Connor_1752</td>\n",
       "      <td>0.053326</td>\n",
       "      <td>0.912886</td>\n",
       "      <td>0.012090</td>\n",
       "      <td>0.001864</td>\n",
       "      <td>0.152769</td>\n",
       "      <td>0.058419</td>\n",
       "      <td>0.113214</td>\n",
       "      <td>0.103607</td>\n",
       "      <td>0.092459</td>\n",
       "      <td>...</td>\n",
       "      <td>0.000477</td>\n",
       "      <td>0.000147</td>\n",
       "      <td>0.000404</td>\n",
       "      <td>0.000275</td>\n",
       "      <td>0.000679</td>\n",
       "      <td>0.000055</td>\n",
       "      <td>0.000073</td>\n",
       "      <td>0.000881</td>\n",
       "      <td>0.000477</td>\n",
       "      <td>0.000129</td>\n",
       "    </tr>\n",
       "  </tbody>\n",
       "</table>\n",
       "<p>605 rows × 323 columns</p>\n",
       "</div>"
      ],
      "text/plain": [
       "                                             book_name  unigram_distance  \\\n",
       "0                       Radcliffe_Ann_The-Italian_1797          0.028470   \n",
       "1           Gissing_George_In-the-Year-of-Jubilee_1894          0.040656   \n",
       "2                         Collins_Wilkie_Armadale_1864          0.024837   \n",
       "3                          Conrad_Joseph_Lord-Jim_1899          0.029921   \n",
       "4                     Shelley_Mary_Perkin-Warbeck_1830          0.041606   \n",
       "..                                                 ...               ...   \n",
       "600                Hardy_Thomas_The-Whithered-Arm_1888          0.051106   \n",
       "601            Eliot_George_The-Mill-on-the-Floss_1860          0.027631   \n",
       "602           Edgeworth_Maria_The-Modern-Griselda_1804          0.050171   \n",
       "603          Baldwin_Louisa_My-Next-Door-Neighour_1894          0.036336   \n",
       "604  Chaigneau_William_The-History-of-Jack-Connor_1752          0.053326   \n",
       "\n",
       "     unigram_distance_limited  bigram_distance  trigram_distance  \\\n",
       "0                    0.964958         0.022108          0.002255   \n",
       "1                    0.958549         0.012670          0.001200   \n",
       "2                    0.959111         0.006647          0.001034   \n",
       "3                    0.919140         0.009482          0.002558   \n",
       "4                    0.910397         0.017097          0.003477   \n",
       "..                        ...              ...               ...   \n",
       "600                  0.948614         0.015059          0.003504   \n",
       "601                  1.263697         0.010010          0.001831   \n",
       "602                  0.990300         0.021133          0.002066   \n",
       "603                  0.963451         0.028839          0.005279   \n",
       "604                  0.912886         0.012090          0.001864   \n",
       "\n",
       "     pos_unigram_PUNCT  pos_unigram_NOUN  pos_unigram_VERB  pos_unigram_PRON  \\\n",
       "0             0.168691          0.141964          0.128439          0.100368   \n",
       "1             0.177138          0.129638          0.127511          0.123034   \n",
       "2             0.153036          0.143237          0.122004          0.119838   \n",
       "3             0.160312          0.151091          0.119694          0.110728   \n",
       "4             0.150419          0.163175          0.116985          0.097747   \n",
       "..                 ...               ...               ...               ...   \n",
       "600           0.163645          0.149969          0.118623          0.102566   \n",
       "601           0.156654          0.135442          0.124457          0.108586   \n",
       "602           0.181984          0.137695          0.126285          0.123066   \n",
       "603           0.131734          0.155846          0.115032          0.121813   \n",
       "604           0.152769          0.058419          0.113214          0.103607   \n",
       "\n",
       "     pos_unigram_ADP  ...  VP->VBG_RB  NP->DT_VBG_NN  VP->VBG_VBN  NP->NN_NNS  \\\n",
       "0           0.098242  ...    0.000587       0.000948     0.001236    0.000412   \n",
       "1           0.091255  ...    0.000384       0.000384     0.000410    0.000576   \n",
       "2           0.108400  ...    0.000847       0.000747     0.000653    0.000423   \n",
       "3           0.111518  ...    0.001062       0.001221     0.000358    0.000756   \n",
       "4           0.104800  ...    0.000358       0.001185     0.000317    0.000685   \n",
       "..               ...  ...         ...            ...          ...         ...   \n",
       "600         0.097572  ...    0.000839       0.001343     0.000839    0.000671   \n",
       "601         0.098747  ...    0.000842       0.000815     0.000438    0.000535   \n",
       "602         0.083641  ...    0.000572       0.000163     0.000735    0.000817   \n",
       "603         0.109381  ...    0.000264       0.000264     0.000264    0.000264   \n",
       "604         0.092459  ...    0.000477       0.000147     0.000404    0.000275   \n",
       "\n",
       "     VP->VBZ_TO_VB  NP->DT_NN_NN_NN  S->NP_VP  VP->VBP_CC  NP->PRP_DT  \\\n",
       "0         0.000412         0.000597  0.000247    0.000330    0.000185   \n",
       "1         0.000640         0.000512  0.000909    0.000256    0.000576   \n",
       "2         0.000923         0.000670  0.000776    0.000423    0.000635   \n",
       "3         0.000398         0.000610  0.001712    0.000664    0.000637   \n",
       "4         0.000409         0.000705  0.000317    0.000439    0.000225   \n",
       "..             ...              ...       ...         ...         ...   \n",
       "600       0.000168         0.000671  0.000504    0.000336    0.000504   \n",
       "601       0.000640         0.000894  0.000193    0.000482    0.000456   \n",
       "602       0.000817         0.000490  0.000163    0.000817    0.000408   \n",
       "603       0.000527         0.001318  0.000000    0.000791    0.000527   \n",
       "604       0.000679         0.000055  0.000073    0.000881    0.000477   \n",
       "\n",
       "     VP->VBD_VBN_VBN  \n",
       "0           0.000886  \n",
       "1           0.000269  \n",
       "2           0.000706  \n",
       "3           0.001102  \n",
       "4           0.000736  \n",
       "..               ...  \n",
       "600         0.001511  \n",
       "601         0.000798  \n",
       "602         0.000327  \n",
       "603         0.000527  \n",
       "604         0.000129  \n",
       "\n",
       "[605 rows x 323 columns]"
      ]
     },
     "execution_count": 14,
     "metadata": {},
     "output_type": "execute_result"
    }
   ],
   "source": [
    "corpus_chunk_features_fulltext"
   ]
  },
  {
   "cell_type": "code",
   "execution_count": 15,
   "id": "713327fd",
   "metadata": {},
   "outputs": [
    {
     "name": "stdout",
     "output_type": "stream",
     "text": [
      "(605, 1219) (14128, 1211) (605, 2429) (14128, 2429)\n",
      "True\n",
      "['doc2vec_stepwise_distance', 'sbert_stepwise_distance']\n",
      "True\n",
      "['doc2vec_stepwise_distance', 'sbert_stepwise_distance']\n",
      "False\n",
      "[]\n",
      "True\n",
      "['doc2vec_stepwise_distance', 'sbert_stepwise_distance']\n"
     ]
    }
   ],
   "source": [
    "# Book features\n",
    "document_book_features = pd.DataFrame(document_book_features)\n",
    "document_chunk_features_fulltext = pd.DataFrame(document_chunk_features_fulltext)\n",
    "book_df = document_book_features\\\n",
    "            .merge(right=document_chunk_features_fulltext, on='book_name', how='outer', validate='one_to_one')\\\n",
    "            .merge(right=corpus_book_features, on='book_name', validate='one_to_one')\\\n",
    "            .merge(right=corpus_chunk_features_fulltext, on='book_name', validate='one_to_one')\n",
    "\n",
    "# Chunk features\n",
    "document_chunk_features = pd.DataFrame(document_chunk_features)\n",
    "chunk_df = document_chunk_features.merge(right=corpus_chunk_features, on='book_name', how='outer', validate='one_to_one')\n",
    "chunk_df\n",
    "\n",
    "# Remove chunk id from book_name\n",
    "chunk_df['book_name'] = chunk_df['book_name'].str.split('_').str[:4].str.join('_')\n",
    "\n",
    "# Combine book features and averages of chunksaveraged chunk features\n",
    "book_and_averaged_chunk_df = book_df.merge(chunk_df.groupby(\"book_name\").mean().reset_index(drop=False), on=\"book_name\")\n",
    "book_and_averaged_chunk_df\n",
    "\n",
    "chunk_and_copied_book_df = chunk_df.merge(right=book_df, on='book_name', how='outer', validate='many_to_one')\n",
    "chunk_and_copied_book_df\n",
    "\n",
    "print(book_df.shape, chunk_df.shape, book_and_averaged_chunk_df.shape, chunk_and_copied_book_df.shape)\n",
    "\n",
    "dfs = {'book_df': book_df, 'book_and_averaged_chunk_df': book_and_averaged_chunk_df, 'chunk_df': chunk_df, 'chunk_and_copied_book_df': chunk_and_copied_book_df}\n",
    "\n",
    "for name, df in dfs.items():\n",
    "    df = df.sort_values(by='book_name', axis=0, ascending=True, na_position='first')\n",
    "    df.to_csv(f\"{features_dir}{name}.csv\", index=False)\n",
    "    \n",
    "    print(df.isnull().values.any())\n",
    "    print(df.columns[df.isna().any()].tolist())\n",
    "end = time.time()"
   ]
  },
  {
   "cell_type": "code",
   "execution_count": 16,
   "id": "8cf2bec8",
   "metadata": {},
   "outputs": [
    {
     "data": {
      "text/plain": [
       "13138.919528961182"
      ]
     },
     "execution_count": 16,
     "metadata": {},
     "output_type": "execute_result"
    }
   ],
   "source": [
    "end-start"
   ]
  },
  {
   "cell_type": "code",
   "execution_count": null,
   "id": "067b3038",
   "metadata": {},
   "outputs": [],
   "source": []
  },
  {
   "cell_type": "code",
   "execution_count": null,
   "id": "0dfdd6a3",
   "metadata": {},
   "outputs": [],
   "source": []
  },
  {
   "cell_type": "code",
   "execution_count": null,
   "id": "a56fbfe0",
   "metadata": {},
   "outputs": [],
   "source": []
  },
  {
   "cell_type": "code",
   "execution_count": null,
   "id": "07dde37d",
   "metadata": {},
   "outputs": [],
   "source": []
  },
  {
   "cell_type": "code",
   "execution_count": null,
   "id": "7bf0d256",
   "metadata": {},
   "outputs": [],
   "source": []
  },
  {
   "cell_type": "code",
   "execution_count": null,
   "id": "54ce0ccb",
   "metadata": {},
   "outputs": [],
   "source": []
  }
 ],
 "metadata": {
  "kernelspec": {
   "display_name": "Python 3",
   "language": "python",
   "name": "python3"
  },
  "language_info": {
   "codemirror_mode": {
    "name": "ipython",
    "version": 3
   },
   "file_extension": ".py",
   "mimetype": "text/x-python",
   "name": "python",
   "nbconvert_exporter": "python",
   "pygments_lexer": "ipython3",
   "version": "3.9.4"
  }
 },
 "nbformat": 4,
 "nbformat_minor": 5
}
