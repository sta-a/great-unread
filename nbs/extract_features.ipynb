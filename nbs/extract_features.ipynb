{
 "cells": [
  {
   "cell_type": "code",
   "execution_count": 1,
   "id": "c35a9c6a",
   "metadata": {},
   "outputs": [],
   "source": [
    "%load_ext autoreload\n",
    "%autoreload 2\n",
    "\n",
    "import os\n",
    "import sys\n",
    "import re\n",
    "import numpy as np\n",
    "import pandas as pd\n",
    "from tqdm import tqdm\n",
    "import pickle\n",
    "\n",
    "sys.path.insert(0, \"../src/\")\n",
    "from doc2vec_chunk_vectorizer import Doc2VecChunkVectorizer\n",
    "from production_rule_extractor import ProductionRuleExtractor\n",
    "from doc_based_feature_extractor import DocBasedFeatureExtractor\n",
    "from corpus_based_feature_extractor import CorpusBasedFeatureExtractor\n",
    "from utils import get_doc_paths\n",
    "\n",
    "raw_docs_dir = \"../data/raw_docs/\"\n",
    "labels_dir = \"../data/labels/\"\n",
    "extracted_features_dir = \"../data/extracted_features/\"\n",
    "\n",
    "lang = \"eng\"\n",
    "doc_paths = get_doc_paths(raw_docs_dir, lang)[:3]\n",
    "\n",
    "sentences_per_chunk = 200"
   ]
  },
  {
   "cell_type": "code",
   "execution_count": 2,
   "id": "4278e02a",
   "metadata": {},
   "outputs": [],
   "source": [
    "# for lang in [\"eng\", \"ger\"]:\n",
    "#     doc_paths = get_doc_paths(raw_docs_dir, lang)\n",
    "#     d2vcv = Doc2VecChunkVectorizer(lang, sentences_per_chunk)\n",
    "#     d2vcv.fit_transform(doc_paths)"
   ]
  },
  {
   "cell_type": "code",
   "execution_count": 3,
   "id": "8407b8b6",
   "metadata": {},
   "outputs": [
    {
     "name": "stderr",
     "output_type": "stream",
     "text": [
      "100%|██████████| 3/3 [00:14<00:00,  4.92s/it]\n"
     ]
    }
   ],
   "source": [
    "# Document-based features\n",
    "# Chunk features\n",
    "all_chunk_features = []\n",
    "all_book_features = [] #Features that must be calculated on whole book\n",
    "all_average_sbert_sentence_embeddings = []\n",
    "all_doc2vec_chunk_embeddings = []\n",
    "\n",
    "for doc_path in tqdm(doc_paths):\n",
    "    fe = DocBasedFeatureExtractor(lang, doc_path, sentences_per_chunk)\n",
    "    chunk_features, book_features, average_sbert_sentence_embeddings, doc2vec_chunk_embeddings = fe.get_all_features()\n",
    "        \n",
    "    all_chunk_features.extend(chunk_features)\n",
    "    all_book_features.append(book_features)\n",
    "    all_average_sbert_sentence_embeddings.append(average_sbert_sentence_embeddings)\n",
    "    all_doc2vec_chunk_embeddings.append(doc2vec_chunk_embeddings)"
   ]
  },
  {
   "cell_type": "code",
   "execution_count": 5,
   "id": "acd68f8d",
   "metadata": {},
   "outputs": [
    {
     "name": "stderr",
     "output_type": "stream",
     "text": [
      "100%|██████████| 3/3 [00:09<00:00,  3.33s/it]\n"
     ]
    }
   ],
   "source": [
    "# Book features\n",
    "# Recalculate the chunk features for the whole book, which is considered as one chunk\n",
    "all_chunk_book_features = [] #Chunk features calculated for whole book\n",
    "\n",
    "for doc_path in tqdm(doc_paths):\n",
    "    fe = DocBasedFeatureExtractor(lang, doc_path, sentences_per_chunk=None)\n",
    "    chunk_book_features, book_features, average_sbert_sentence_embeddings, doc2vec_chunk_embeddings = fe.get_all_features()\n",
    "        \n",
    "    all_chunk_book_features.extend(chunk_book_features)"
   ]
  },
  {
   "cell_type": "code",
   "execution_count": 6,
   "id": "be51a9b7",
   "metadata": {},
   "outputs": [],
   "source": [
    "# f = open(extracted_features_dir + lang + '/all_chunk_features' + '.pkl', 'wb')  \n",
    "# pickle.dump(all_chunk_features, f, -1)\n",
    "# f.close()\n",
    "\n",
    "# f = open(extracted_features_dir + lang + '/all_book_features' + '.pkl', 'wb')  \n",
    "# pickle.dump(all_book_features, f, -1)\n",
    "# f.close()\n",
    "\n",
    "# f = open(extracted_features_dir + lang + '/all_average_sbert_sentence_embeddings' + '.pkl', 'wb')  \n",
    "# pickle.dump(all_average_sbert_sentence_embeddings, f, -1)\n",
    "# f.close()\n",
    "\n",
    "# f = open(extracted_features_dir + lang + '/all_doc2vec_chunk_embeddings' + '.pkl', 'wb')  \n",
    "# pickle.dump(all_doc2vec_chunk_embeddings, f, -1)\n",
    "# f.close()\n",
    "\n",
    "# f = open(extracted_features_dir + lang + '/all_chunk_features' + '.pkl', 'rb')  \n",
    "# all_chunk_features = pickle.load(f)\n",
    "# f.close()\n",
    "\n",
    "# f = open(extracted_features_dir + lang + '/all_book_features' + '.pkl', 'rb')  \n",
    "# all_book_features = pickle.load(f)\n",
    "# f.close()\n",
    "\n",
    "# f = open(extracted_features_dir + lang + '/all_average_sbert_sentence_embeddings' + '.pkl', 'rb')  \n",
    "# all_average_sbert_sentence_embeddings = pickle.load(f)\n",
    "# f.close()\n",
    "\n",
    "# f = open(extracted_features_dir + lang + '/all_doc2vec_chunk_embeddings' + '.pkl', 'rb')  \n",
    "# all_doc2vec_chunk_embeddings = pickle.load(f)\n",
    "# f.close()"
   ]
  },
  {
   "cell_type": "code",
   "execution_count": 7,
   "id": "f047e752",
   "metadata": {},
   "outputs": [],
   "source": [
    "# f = open(extracted_features_dir + lang + '/all_corpus_based_features_' + '.pkl', 'rb')  \n",
    "# all_corpus_based_features = pickle.load(f)\n",
    "# f.close()"
   ]
  },
  {
   "cell_type": "code",
   "execution_count": 8,
   "id": "38bf491a",
   "metadata": {},
   "outputs": [
    {
     "name": "stderr",
     "output_type": "stream",
     "text": [
      "100%|██████████| 3/3 [00:00<00:00,  5.94it/s]\n",
      "100%|██████████| 3/3 [00:01<00:00,  2.17it/s]\n",
      "100%|██████████| 3/3 [00:03<00:00,  1.19s/it]\n"
     ]
    }
   ],
   "source": [
    "cbfe = CorpusBasedFeatureExtractor(lang, doc_paths, all_average_sbert_sentence_embeddings, all_doc2vec_chunk_embeddings, sentences_per_chunk, nr_features=100)"
   ]
  },
  {
   "cell_type": "code",
   "execution_count": 9,
   "id": "4e5f1831",
   "metadata": {
    "scrolled": false
   },
   "outputs": [
    {
     "name": "stderr",
     "output_type": "stream",
     "text": [
      "100%|██████████| 3/3 [00:00<00:00, 1087.17it/s]\n",
      "100%|██████████| 3/3 [00:00<00:00, 873.93it/s]\n"
     ]
    },
    {
     "data": {
      "text/plain": [
       "(                            book_name  unigram_distance  \\\n",
       " 0    Radcliffe_Ann_The-Italian_1797_0          0.053512   \n",
       " 1    Radcliffe_Ann_The-Italian_1797_1          0.032266   \n",
       " 2    Radcliffe_Ann_The-Italian_1797_2          0.037827   \n",
       " 3    Radcliffe_Ann_The-Italian_1797_3          0.029868   \n",
       " 4    Radcliffe_Ann_The-Italian_1797_4          0.051704   \n",
       " ..                                ...               ...   \n",
       " 159   Collins_Wilkie_Armadale_1864_78          0.042406   \n",
       " 160   Collins_Wilkie_Armadale_1864_79          0.043421   \n",
       " 161   Collins_Wilkie_Armadale_1864_80          0.042596   \n",
       " 162   Collins_Wilkie_Armadale_1864_81          0.076752   \n",
       " 163   Collins_Wilkie_Armadale_1864_82          0.035168   \n",
       " \n",
       "      unigram_distance_limited  bigram_distance  trigram_distance  \\\n",
       " 0                    0.626328         0.079167          0.009183   \n",
       " 1                    0.648189         0.034697          0.004494   \n",
       " 2                    0.598874         0.046354          0.005383   \n",
       " 3                    0.569442         0.036137          0.005380   \n",
       " 4                    0.610293         0.075677          0.007378   \n",
       " ..                        ...              ...               ...   \n",
       " 159                  0.785412         0.033859          0.006526   \n",
       " 160                  0.420479         0.028032          0.007183   \n",
       " 161                  0.374607         0.028349          0.007909   \n",
       " 162                  0.545032         0.051042          0.013172   \n",
       " 163                  0.481225         0.031880          0.007950   \n",
       " \n",
       "      pos_unigram_PUNCT  pos_unigram_NOUN  pos_unigram_VERB  pos_unigram_PRON  \\\n",
       " 0             0.145099          0.159330          0.126081          0.097885   \n",
       " 1             0.167726          0.139612          0.138024          0.109752   \n",
       " 2             0.152969          0.150327          0.125296          0.109442   \n",
       " 3             0.164906          0.136018          0.122978          0.107956   \n",
       " 4             0.144643          0.160946          0.122824          0.088380   \n",
       " ..                 ...               ...               ...               ...   \n",
       " 159           0.163934          0.161498          0.114311          0.100133   \n",
       " 160           0.153864          0.149610          0.121721          0.103522   \n",
       " 161           0.171166          0.129697          0.132758          0.136098   \n",
       " 162           0.143063          0.149304          0.134902          0.116659   \n",
       " 163           0.135660          0.152531          0.116940          0.124567   \n",
       " \n",
       "      pos_unigram_ADP  ...  NP->PRP$_JJ_NNS  VP->VBG_TO_VB  VP->VBP_RB_VBN  \\\n",
       " 0           0.114510  ...         0.000000       0.001917        0.000000   \n",
       " 1           0.091487  ...         0.000000       0.000673        0.001010   \n",
       " 2           0.103602  ...         0.001481       0.000592        0.000000   \n",
       " 3           0.091449  ...         0.000000       0.000359        0.000718   \n",
       " 4           0.112160  ...         0.000791       0.001055        0.000000   \n",
       " ..               ...  ...              ...            ...             ...   \n",
       " 159         0.109216  ...         0.000000       0.000000        0.000489   \n",
       " 160         0.117230  ...         0.000000       0.000000        0.000000   \n",
       " 161         0.108544  ...         0.000556       0.000556        0.000556   \n",
       " 162         0.126500  ...         0.000956       0.000000        0.000000   \n",
       " 163         0.117171  ...         0.000000       0.001412        0.000942   \n",
       " \n",
       "      NP->DT_NN_NN_NN  NP->NN_DT_NN  NP->PRP$_JJ  NP->PRP$_JJ_NN_NN  \\\n",
       " 0           0.000548      0.001917     0.000548           0.000274   \n",
       " 1           0.000000      0.000673     0.001010           0.000673   \n",
       " 2           0.000592      0.001185     0.000889           0.001185   \n",
       " 3           0.000359      0.001436     0.000359           0.000718   \n",
       " 4           0.000791      0.000000     0.000264           0.001055   \n",
       " ..               ...           ...          ...                ...   \n",
       " 159         0.000979      0.000000     0.000000           0.000979   \n",
       " 160         0.000000      0.000965     0.000000           0.000965   \n",
       " 161         0.000556      0.000000     0.001112           0.000000   \n",
       " 162         0.000478      0.000000     0.001912           0.000478   \n",
       " 163         0.000471      0.000471     0.000942           0.000942   \n",
       " \n",
       "      VP->MD_VB_TO_VB  NP->JJ_NNP_NNP  VP->VBP_VBG  \n",
       " 0           0.000274        0.000000     0.000000  \n",
       " 1           0.000337        0.000337     0.000337  \n",
       " 2           0.001185        0.000592     0.000000  \n",
       " 3           0.000000        0.000000     0.000000  \n",
       " 4           0.000791        0.000000     0.000264  \n",
       " ..               ...             ...          ...  \n",
       " 159         0.000000        0.000489     0.000000  \n",
       " 160         0.000000        0.001448     0.000000  \n",
       " 161         0.000000        0.000556     0.000000  \n",
       " 162         0.000000        0.000000     0.000000  \n",
       " 163         0.000000        0.000471     0.000471  \n",
       " \n",
       " [164 rows x 322 columns],\n",
       "                                     book_name  overlap_score_doc2vec  \\\n",
       " 0              Radcliffe_Ann_The-Italian_1797                    0.0   \n",
       " 1  Gissing_George_In-the-Year-of-Jubilee_1894                    0.0   \n",
       " 2                Collins_Wilkie_Armadale_1864                    0.0   \n",
       " \n",
       "    overlap_score_sbert  outlier_score_doc2vec  outlier_score_sbert  \n",
       " 0             0.000000              19.959858             0.652191  \n",
       " 1             0.000000              10.252191             0.491639  \n",
       " 2             0.012048              10.252191             0.491639  )"
      ]
     },
     "execution_count": 9,
     "metadata": {},
     "output_type": "execute_result"
    }
   ],
   "source": [
    "all_corpus_based_features = cbfe.get_all_features()\n",
    "corpus_chunk_features, corpus_book_features = all_corpus_based_features\n",
    "corpus_chunk_features, corpus_book_features"
   ]
  },
  {
   "cell_type": "code",
   "execution_count": 10,
   "id": "9bb3d885",
   "metadata": {},
   "outputs": [
    {
     "data": {
      "text/plain": [
       "\"\\nentry is doubled in total_trigram_counts and book_trigram_mapping_abs and book_trigram_mapping_rel\\n{'<EOS> <EOS> <BOS>': 33086,\\n '<EOS> <BOS> <BOS>': 33086,\\n \""
      ]
     },
     "execution_count": 10,
     "metadata": {},
     "output_type": "execute_result"
    }
   ],
   "source": [
    "'''\n",
    "entry is doubled in total_trigram_counts and book_trigram_mapping_abs and book_trigram_mapping_rel\n",
    "{'<EOS> <EOS> <BOS>': 33086,\n",
    " '<EOS> <BOS> <BOS>': 33086,\n",
    " '''"
   ]
  },
  {
   "cell_type": "code",
   "execution_count": 11,
   "id": "c776161e",
   "metadata": {},
   "outputs": [],
   "source": [
    "# f = open(extracted_features_dir + lang + '/all_corpus_based_features' + '.pkl', 'wb')\n",
    "# pickle.dump(all_corpus_based_features, f, -1)\n",
    "# f.close()"
   ]
  },
  {
   "cell_type": "code",
   "execution_count": 12,
   "id": "82cf8851",
   "metadata": {},
   "outputs": [],
   "source": [
    "# import os\n",
    "# import pandas as pd\n",
    "\n",
    "# book_df = pd.DataFrame(all_book_features)\n",
    "# #book_df = book_df.merge(all_corpus_based_features, on=\"book_name\")\n",
    "# book_and_averaged_chunk_df = book_df.merge(pd.DataFrame(all_chunk_features).groupby(\"book_name\").mean().reset_index(drop=False), on=\"book_name\")\n",
    "\n",
    "# chunk_df = pd.DataFrame(all_chunk_features)\n",
    "# chunk_and_copied_book_df = chunk_df.merge(pd.DataFrame(all_book_features), on=\"book_name\")\n",
    "# #chunk_and_copied_book_df = chunk_and_copied_book_df.merge(all_corpus_based_features, on=\"book_name\")\n",
    "\n",
    "# os.makedirs(f\"{extracted_features_dir}/{lang}\", exist_ok=True)\n",
    "# book_df.to_csv(f\"{extracted_features_dir}/{lang}/book_df.csv\", index=False)\n",
    "# book_and_averaged_chunk_df.to_csv(f\"{extracted_features_dir}/{lang}/book_and_averaged_chunk_df.csv\", index=False)\n",
    "# chunk_df.to_csv(f\"{extracted_features_dir}/{lang}/chunk_df.csv\", index=False)\n",
    "# chunk_and_copied_book_df.to_csv(f\"{extracted_features_dir}/{lang}/chunk_and_copied_book_df.csv\", index=False)"
   ]
  },
  {
   "cell_type": "code",
   "execution_count": null,
   "id": "417852d8",
   "metadata": {},
   "outputs": [],
   "source": []
  },
  {
   "cell_type": "code",
   "execution_count": null,
   "id": "cd03b99f",
   "metadata": {},
   "outputs": [],
   "source": []
  },
  {
   "cell_type": "code",
   "execution_count": null,
   "id": "96e79f6c",
   "metadata": {},
   "outputs": [],
   "source": []
  },
  {
   "cell_type": "code",
   "execution_count": null,
   "id": "b517bd89",
   "metadata": {},
   "outputs": [],
   "source": []
  },
  {
   "cell_type": "code",
   "execution_count": null,
   "id": "cdd636b0",
   "metadata": {},
   "outputs": [],
   "source": []
  },
  {
   "cell_type": "code",
   "execution_count": null,
   "id": "5f54216a",
   "metadata": {},
   "outputs": [],
   "source": [
    " "
   ]
  },
  {
   "cell_type": "code",
   "execution_count": null,
   "id": "fcb7b156",
   "metadata": {},
   "outputs": [],
   "source": []
  }
 ],
 "metadata": {
  "kernelspec": {
   "display_name": "Python 3",
   "language": "python",
   "name": "python3"
  },
  "language_info": {
   "codemirror_mode": {
    "name": "ipython",
    "version": 3
   },
   "file_extension": ".py",
   "mimetype": "text/x-python",
   "name": "python",
   "nbconvert_exporter": "python",
   "pygments_lexer": "ipython3",
   "version": "3.9.4"
  }
 },
 "nbformat": 4,
 "nbformat_minor": 5
}
