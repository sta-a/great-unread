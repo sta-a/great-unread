{
 "cells": [
  {
   "cell_type": "code",
   "execution_count": 14,
   "id": "db5fbe7c",
   "metadata": {},
   "outputs": [
    {
     "name": "stderr",
     "output_type": "stream",
     "text": [
      "\r",
      "  0%|          | 0/3 [00:00<?, ?it/s]"
     ]
    },
    {
     "name": "stdout",
     "output_type": "stream",
     "text": [
      "The autoreload extension is already loaded. To reload it, use:\n",
      "  %reload_ext autoreload\n"
     ]
    },
    {
     "name": "stderr",
     "output_type": "stream",
     "text": [
      "100%|██████████| 3/3 [00:14<00:00,  4.84s/it]\n"
     ]
    }
   ],
   "source": [
    "%load_ext autoreload\n",
    "%autoreload 2\n",
    "\n",
    "import os\n",
    "import sys\n",
    "sys.path.insert(0, \"../src/\")\n",
    "sys.path.insert(0, \"../../mypydelta/delta/\")\n",
    "import re\n",
    "import numpy as np\n",
    "import pandas as pd\n",
    "from tqdm import tqdm\n",
    "from handcrafted_features import DocBasedFeatureExtractor, Doc2VecChunkVectorizer, CorpusBasedFeatureExtractor\n",
    "from utils import get_doc_paths, read_labels\n",
    "\n",
    "raw_docs_dir = \"../data/raw_docs/\"\n",
    "labels_dir = \"../data/labels/\"\n",
    "extracted_features_dir = \"../data/extracted_features/\"\n",
    "\n",
    "lang = \"eng\"\n",
    "doc_paths = get_doc_paths(raw_docs_dir, lang)[:3]\n",
    "\n",
    "sentences_per_chunk = 200\n",
    "# d2vcv = Doc2VecChunkVectorizer(lang, sentences_per_chunk)\n",
    "# d2vcv.fit_transform(doc_paths)\n",
    "\n",
    "all_chunk_based_features = []\n",
    "all_book_based_features = []\n",
    "all_average_sbert_sentence_embeddings = []\n",
    "all_doc2vec_chunk_embeddings = []\n",
    "for doc_path in tqdm(doc_paths):\n",
    "    fe = DocBasedFeatureExtractor(lang, doc_path, sentences_per_chunk)\n",
    "    chunk_based_features, book_based_features, average_sbert_sentence_embeddings, doc2vec_chunk_embeddings = fe.get_all_features()\n",
    "    all_chunk_based_features.extend(chunk_based_features)\n",
    "    all_book_based_features.append(book_based_features)\n",
    "    all_average_sbert_sentence_embeddings.append(average_sbert_sentence_embeddings)\n",
    "    all_doc2vec_chunk_embeddings.append(doc2vec_chunk_embeddings)"
   ]
  },
  {
   "cell_type": "code",
   "execution_count": 19,
   "id": "8303a15c",
   "metadata": {},
   "outputs": [
    {
     "name": "stderr",
     "output_type": "stream",
     "text": [
      "100%|██████████| 3/3 [00:00<00:00,  7.91it/s]\n"
     ]
    }
   ],
   "source": [
    "cbfe = CorpusBasedFeatureExtractor(lang, doc_paths, all_average_sbert_sentence_embeddings=None, all_doc2vec_chunk_embeddings=None)\n",
    "# Only use get_absolute_unigram_counts(reset_index=True)\n",
    "all_corpus_based_features = cbfe.get_all_features().set_index('book_name')\n",
    "all_corpus_based_features.T.to_csv(extracted_features_dir + lang + '/doc_term_matrix.csv', sep=',')"
   ]
  },
  {
   "cell_type": "code",
   "execution_count": 3,
   "id": "db6cdc4a",
   "metadata": {},
   "outputs": [
    {
     "data": {
      "text/plain": [
       "pandas.core.frame.DataFrame"
      ]
     },
     "execution_count": 3,
     "metadata": {},
     "output_type": "execute_result"
    }
   ],
   "source": [
    "# book name x words\n",
    "mfws = all_corpus_based_features\n",
    "type(mfws)"
   ]
  },
  {
   "cell_type": "code",
   "execution_count": 8,
   "id": "2d757976",
   "metadata": {},
   "outputs": [
    {
     "ename": "TypeError",
     "evalue": "bad operand type for unary -: 'str'",
     "output_type": "error",
     "traceback": [
      "\u001b[0;31m---------------------------------------------------------------------------\u001b[0m",
      "\u001b[0;31mTypeError\u001b[0m                                 Traceback (most recent call last)",
      "\u001b[0;32m<ipython-input-8-fa54f0675c27>\u001b[0m in \u001b[0;36m<module>\u001b[0;34m\u001b[0m\n\u001b[0;32m----> 1\u001b[0;31m \u001b[0;34m-\u001b[0m\u001b[0mmfws\u001b[0m\u001b[0;34m.\u001b[0m\u001b[0msum\u001b[0m\u001b[0;34m(\u001b[0m\u001b[0;34m)\u001b[0m\u001b[0;34m\u001b[0m\u001b[0;34m\u001b[0m\u001b[0m\n\u001b[0m",
      "\u001b[0;32m~/anaconda3/envs/nlp/lib/python3.9/site-packages/pandas/core/generic.py\u001b[0m in \u001b[0;36m__neg__\u001b[0;34m(self)\u001b[0m\n\u001b[1;32m   1405\u001b[0m             \u001b[0;32mor\u001b[0m \u001b[0mis_object_dtype\u001b[0m\u001b[0;34m(\u001b[0m\u001b[0mvalues\u001b[0m\u001b[0;34m)\u001b[0m\u001b[0;34m\u001b[0m\u001b[0;34m\u001b[0m\u001b[0m\n\u001b[1;32m   1406\u001b[0m         ):\n\u001b[0;32m-> 1407\u001b[0;31m             \u001b[0marr\u001b[0m \u001b[0;34m=\u001b[0m \u001b[0moperator\u001b[0m\u001b[0;34m.\u001b[0m\u001b[0mneg\u001b[0m\u001b[0;34m(\u001b[0m\u001b[0mvalues\u001b[0m\u001b[0;34m)\u001b[0m\u001b[0;34m\u001b[0m\u001b[0;34m\u001b[0m\u001b[0m\n\u001b[0m\u001b[1;32m   1408\u001b[0m         \u001b[0;32melse\u001b[0m\u001b[0;34m:\u001b[0m\u001b[0;34m\u001b[0m\u001b[0;34m\u001b[0m\u001b[0m\n\u001b[1;32m   1409\u001b[0m             \u001b[0;32mraise\u001b[0m \u001b[0mTypeError\u001b[0m\u001b[0;34m(\u001b[0m\u001b[0;34mf\"Unary negative expects numeric dtype, not {values.dtype}\"\u001b[0m\u001b[0;34m)\u001b[0m\u001b[0;34m\u001b[0m\u001b[0;34m\u001b[0m\u001b[0m\n",
      "\u001b[0;31mTypeError\u001b[0m: bad operand type for unary -: 'str'"
     ]
    }
   ],
   "source": [
    "-mfws.sum()"
   ]
  },
  {
   "cell_type": "code",
   "execution_count": 24,
   "id": "b455a620",
   "metadata": {},
   "outputs": [
    {
     "name": "stderr",
     "output_type": "stream",
     "text": [
      "INFO:corpus:Loading corpus from CSV file ../data/extracted_features/eng/doc_term_matrix.csv ...\n",
      "WARNING:corpus:Failed to load metadata for ../data/extracted_features/eng/doc_term_matrix.csv. Using defaults: Metadata(complete=True, corpus='../data/extracted_features/eng/doc_term_matrix.csv', frequencies=False, ordered=False, words=None)\n"
     ]
    },
    {
     "name": "stdout",
     "output_type": "stream",
     "text": [
      "<Logger corpus (DEBUG)>\n",
      "Metadata(complete=True, corpus='../data/extracted_features/eng/doc_term_matrix.csv', frequencies=False, ordered=False, words=None)\n"
     ]
    }
   ],
   "source": [
    "from corpus import Corpus\n",
    "#The corpus will be saved to a CSV file containing documents in the columns and features in the rows\n",
    "c = Corpus(file=extracted_features_dir + lang + '/doc_term_matrix.csv')"
   ]
  },
  {
   "cell_type": "code",
   "execution_count": 23,
   "id": "e930cb35",
   "metadata": {},
   "outputs": [
    {
     "data": {
      "text/html": [
       "<div>\n",
       "<style scoped>\n",
       "    .dataframe tbody tr th:only-of-type {\n",
       "        vertical-align: middle;\n",
       "    }\n",
       "\n",
       "    .dataframe tbody tr th {\n",
       "        vertical-align: top;\n",
       "    }\n",
       "\n",
       "    .dataframe thead th {\n",
       "        text-align: right;\n",
       "    }\n",
       "</style>\n",
       "<table border=\"1\" class=\"dataframe\">\n",
       "  <thead>\n",
       "    <tr style=\"text-align: right;\">\n",
       "      <th></th>\n",
       "      <th>the</th>\n",
       "      <th>to</th>\n",
       "      <th>of</th>\n",
       "      <th>and</th>\n",
       "      <th>i</th>\n",
       "      <th>a</th>\n",
       "      <th>in</th>\n",
       "      <th>he</th>\n",
       "      <th>that</th>\n",
       "      <th>you</th>\n",
       "      <th>...</th>\n",
       "      <th>ills</th>\n",
       "      <th>manifest</th>\n",
       "      <th>maturing</th>\n",
       "      <th>inattentively</th>\n",
       "      <th>illuminating</th>\n",
       "      <th>crackled</th>\n",
       "      <th>smokeless</th>\n",
       "      <th>biz</th>\n",
       "      <th>wafting</th>\n",
       "      <th>groundless</th>\n",
       "    </tr>\n",
       "  </thead>\n",
       "  <tbody>\n",
       "    <tr>\n",
       "      <th>Radcliffe_Ann_The-Italian_1797</th>\n",
       "      <td>11691.0</td>\n",
       "      <td>5614.0</td>\n",
       "      <td>6125.0</td>\n",
       "      <td>5158.0</td>\n",
       "      <td>1527.0</td>\n",
       "      <td>2968.0</td>\n",
       "      <td>2002.0</td>\n",
       "      <td>3138.0</td>\n",
       "      <td>2629.0</td>\n",
       "      <td>1459.0</td>\n",
       "      <td>...</td>\n",
       "      <td>0.0</td>\n",
       "      <td>0.0</td>\n",
       "      <td>0.0</td>\n",
       "      <td>0.0</td>\n",
       "      <td>0.0</td>\n",
       "      <td>0.0</td>\n",
       "      <td>0.0</td>\n",
       "      <td>0.0</td>\n",
       "      <td>1.0</td>\n",
       "      <td>0.0</td>\n",
       "    </tr>\n",
       "    <tr>\n",
       "      <th>Gissing_George_In-the-Year-of-Jubilee_1894</th>\n",
       "      <td>4876.0</td>\n",
       "      <td>3837.0</td>\n",
       "      <td>3659.0</td>\n",
       "      <td>3109.0</td>\n",
       "      <td>3001.0</td>\n",
       "      <td>3462.0</td>\n",
       "      <td>1900.0</td>\n",
       "      <td>1724.0</td>\n",
       "      <td>1754.0</td>\n",
       "      <td>2469.0</td>\n",
       "      <td>...</td>\n",
       "      <td>1.0</td>\n",
       "      <td>1.0</td>\n",
       "      <td>1.0</td>\n",
       "      <td>1.0</td>\n",
       "      <td>1.0</td>\n",
       "      <td>1.0</td>\n",
       "      <td>1.0</td>\n",
       "      <td>1.0</td>\n",
       "      <td>0.0</td>\n",
       "      <td>0.0</td>\n",
       "    </tr>\n",
       "    <tr>\n",
       "      <th>Collins_Wilkie_Armadale_1864</th>\n",
       "      <td>19849.0</td>\n",
       "      <td>9626.0</td>\n",
       "      <td>8352.0</td>\n",
       "      <td>8091.0</td>\n",
       "      <td>7193.0</td>\n",
       "      <td>5263.0</td>\n",
       "      <td>6129.0</td>\n",
       "      <td>4438.0</td>\n",
       "      <td>3335.0</td>\n",
       "      <td>3704.0</td>\n",
       "      <td>...</td>\n",
       "      <td>0.0</td>\n",
       "      <td>0.0</td>\n",
       "      <td>0.0</td>\n",
       "      <td>0.0</td>\n",
       "      <td>0.0</td>\n",
       "      <td>0.0</td>\n",
       "      <td>0.0</td>\n",
       "      <td>0.0</td>\n",
       "      <td>0.0</td>\n",
       "      <td>1.0</td>\n",
       "    </tr>\n",
       "  </tbody>\n",
       "</table>\n",
       "<p>3 rows × 16790 columns</p>\n",
       "</div>"
      ],
      "text/plain": [
       "                                                the      to      of     and  \\\n",
       "Radcliffe_Ann_The-Italian_1797              11691.0  5614.0  6125.0  5158.0   \n",
       "Gissing_George_In-the-Year-of-Jubilee_1894   4876.0  3837.0  3659.0  3109.0   \n",
       "Collins_Wilkie_Armadale_1864                19849.0  9626.0  8352.0  8091.0   \n",
       "\n",
       "                                                 i       a      in      he  \\\n",
       "Radcliffe_Ann_The-Italian_1797              1527.0  2968.0  2002.0  3138.0   \n",
       "Gissing_George_In-the-Year-of-Jubilee_1894  3001.0  3462.0  1900.0  1724.0   \n",
       "Collins_Wilkie_Armadale_1864                7193.0  5263.0  6129.0  4438.0   \n",
       "\n",
       "                                              that     you  ...  ills  \\\n",
       "Radcliffe_Ann_The-Italian_1797              2629.0  1459.0  ...   0.0   \n",
       "Gissing_George_In-the-Year-of-Jubilee_1894  1754.0  2469.0  ...   1.0   \n",
       "Collins_Wilkie_Armadale_1864                3335.0  3704.0  ...   0.0   \n",
       "\n",
       "                                            manifest  maturing  inattentively  \\\n",
       "Radcliffe_Ann_The-Italian_1797                   0.0       0.0            0.0   \n",
       "Gissing_George_In-the-Year-of-Jubilee_1894       1.0       1.0            1.0   \n",
       "Collins_Wilkie_Armadale_1864                     0.0       0.0            0.0   \n",
       "\n",
       "                                            illuminating  crackled  smokeless  \\\n",
       "Radcliffe_Ann_The-Italian_1797                       0.0       0.0        0.0   \n",
       "Gissing_George_In-the-Year-of-Jubilee_1894           1.0       1.0        1.0   \n",
       "Collins_Wilkie_Armadale_1864                         0.0       0.0        0.0   \n",
       "\n",
       "                                            biz  wafting  groundless  \n",
       "Radcliffe_Ann_The-Italian_1797              0.0      1.0         0.0  \n",
       "Gissing_George_In-the-Year-of-Jubilee_1894  1.0      0.0         0.0  \n",
       "Collins_Wilkie_Armadale_1864                0.0      0.0         1.0  \n",
       "\n",
       "[3 rows x 16790 columns]"
      ]
     },
     "execution_count": 23,
     "metadata": {},
     "output_type": "execute_result"
    }
   ],
   "source": [
    "c"
   ]
  },
  {
   "cell_type": "code",
   "execution_count": 22,
   "id": "0c2a1e69",
   "metadata": {},
   "outputs": [
    {
     "data": {
      "text/plain": [
       "Metadata(complete=True, corpus='../data/extracted_features/eng/doc_term_matrix.csv', frequencies=False, ordered=True, words=None)"
      ]
     },
     "execution_count": 22,
     "metadata": {},
     "output_type": "execute_result"
    }
   ],
   "source": [
    "c.metadata"
   ]
  },
  {
   "cell_type": "code",
   "execution_count": null,
   "id": "8bc7911f",
   "metadata": {},
   "outputs": [],
   "source": [
    "# absolute values"
   ]
  },
  {
   "cell_type": "code",
   "execution_count": 5,
   "id": "6eebd099",
   "metadata": {},
   "outputs": [
    {
     "ename": "TypeError",
     "evalue": "zscore() missing 1 required positional argument: 'self'",
     "output_type": "error",
     "traceback": [
      "\u001b[0;31m---------------------------------------------------------------------------\u001b[0m",
      "\u001b[0;31mTypeError\u001b[0m                                 Traceback (most recent call last)",
      "\u001b[0;32m<ipython-input-5-a384fcfd8a21>\u001b[0m in \u001b[0;36m<module>\u001b[0;34m\u001b[0m\n\u001b[1;32m     21\u001b[0m \u001b[0;34m\u001b[0m\u001b[0m\n\u001b[1;32m     22\u001b[0m \u001b[0mn\u001b[0m \u001b[0;34m=\u001b[0m \u001b[0mMFWTable\u001b[0m\u001b[0;34m(\u001b[0m\u001b[0mmfws\u001b[0m\u001b[0;34m)\u001b[0m\u001b[0;34m\u001b[0m\u001b[0;34m\u001b[0m\u001b[0m\n\u001b[0;32m---> 23\u001b[0;31m \u001b[0mn\u001b[0m\u001b[0;34m.\u001b[0m\u001b[0mget_normalization\u001b[0m\u001b[0;34m(\u001b[0m\u001b[0;34m'zscore'\u001b[0m\u001b[0;34m)\u001b[0m\u001b[0;34m\u001b[0m\u001b[0;34m\u001b[0m\u001b[0m\n\u001b[0m",
      "\u001b[0;32m<ipython-input-5-a384fcfd8a21>\u001b[0m in \u001b[0;36mget_normalization\u001b[0;34m(self, normalization)\u001b[0m\n\u001b[1;32m     15\u001b[0m         \u001b[0;32melse\u001b[0m\u001b[0;34m:\u001b[0m\u001b[0;34m\u001b[0m\u001b[0;34m\u001b[0m\u001b[0m\n\u001b[1;32m     16\u001b[0m             \u001b[0;32mif\u001b[0m \u001b[0mnormalization\u001b[0m \u001b[0;34m==\u001b[0m \u001b[0;34m'zscore'\u001b[0m\u001b[0;34m:\u001b[0m\u001b[0;34m\u001b[0m\u001b[0;34m\u001b[0m\u001b[0m\n\u001b[0;32m---> 17\u001b[0;31m                 \u001b[0mnormalized_mfws\u001b[0m \u001b[0;34m=\u001b[0m \u001b[0mzscore\u001b[0m\u001b[0;34m(\u001b[0m\u001b[0;34m)\u001b[0m\u001b[0;34m\u001b[0m\u001b[0;34m\u001b[0m\u001b[0m\n\u001b[0m\u001b[1;32m     18\u001b[0m \u001b[0;34m\u001b[0m\u001b[0m\n\u001b[1;32m     19\u001b[0m         \u001b[0mself\u001b[0m\u001b[0;34m.\u001b[0m\u001b[0mnormalized\u001b[0m\u001b[0;34m[\u001b[0m\u001b[0mnormalization\u001b[0m\u001b[0;34m]\u001b[0m \u001b[0;34m=\u001b[0m \u001b[0mnormalized_mfws\u001b[0m\u001b[0;34m\u001b[0m\u001b[0;34m\u001b[0m\u001b[0m\n",
      "\u001b[0;31mTypeError\u001b[0m: zscore() missing 1 required positional argument: 'self'"
     ]
    }
   ],
   "source": [
    "class MFWTable():\n",
    "    def __init__(self, mfws):\n",
    "        # book name x words\n",
    "        self.mfws = mfws.set_index('book_name', drop=True)\n",
    "        self.normalized = {}\n",
    "\n",
    "    def get_normalization(self, normalization):\n",
    "        \n",
    "        def zscore(self):\n",
    "            normalized_mfws = (self.mfws - self.mfws.mean(axis=0))/self.mfws.std(axis=0)\n",
    "            return normalized_mfws\n",
    "        \n",
    "        if normalization in self.normalized:\n",
    "            normalized_mfws = self.normalized[normalization]\n",
    "        else:\n",
    "            if normalization == 'zscore':\n",
    "                normalized_mfws = zscore()\n",
    "        \n",
    "        self.normalized[normalization] = normalized_mfws\n",
    "        return normalized_mfws\n",
    "    \n",
    "n = MFWTable(mfws)\n",
    "n.get_normalization('zscore')"
   ]
  },
  {
   "cell_type": "code",
   "execution_count": null,
   "id": "e29ff7e7",
   "metadata": {},
   "outputs": [],
   "source": [
    "class CompositeDeltaFunction(DeltaFunction):\n",
    "    \"\"\"\n",
    "    A composite delta function consists of a *basis* (which is another delta\n",
    "    function) and a list of *normalizations*. It first transforms the corpus\n",
    "    via all the given normalizations in order, and then runs the basis on the\n",
    "    result.\n",
    "    \"\"\"\n",
    "\n",
    "    def __init__(self, descriptor, name=None, title=None, register=True):\n",
    "        \"\"\"\n",
    "        Creates a new composite delta function.\n",
    "\n",
    "        Args:\n",
    "            descriptor (str): Formally defines this delta function. First the\n",
    "                name of an existing, registered distance function, then, separated\n",
    "                by ``-``, the names of normalizations to run, in order.\n",
    "            name (str): Name by which this delta function is registered, in\n",
    "                addition to the descriptor\n",
    "            title (str): human-readable title\n",
    "            register (bool): If true (the default), register this delta\n",
    "                function on creation\n",
    "        \"\"\"\n",
    "        items = descriptor.split(sep)\n",
    "        self.basis = registry.deltas[items[0]]\n",
    "        if hasattr(self.basis, 'metric'):\n",
    "            self.metric = self.basis.metric\n",
    "        else:\n",
    "            self.metric = self.basis.distance_function\n",
    "        del items[0]\n",
    "        self.normalizations = [registry.normalizations[n] for n in items]\n",
    "        super().__init__(self, descriptor, name, title, register)\n",
    "\n",
    "    def prepare(self, corpus):\n",
    "        for normalization in self.normalizations:\n",
    "            corpus = normalization(corpus)\n",
    "        return corpus\n",
    "\n",
    "    def __call__(self, corpus):\n",
    "        return self.create_result(self.basis(self.prepare(corpus)), corpus)"
   ]
  },
  {
   "cell_type": "code",
   "execution_count": null,
   "id": "09714aeb",
   "metadata": {},
   "outputs": [],
   "source": [
    "class _FunctionRegistry():\n",
    "    def __init__():\n",
    "        self.deltas = {}\n",
    "        \n",
    "    def add_delta(self, delta):\n",
    "        self.deltas[delta.name] = delta\n",
    "        \n",
    "    \n",
    "registry = _FunctionRegistry()\n",
    "\n",
    "class Delta():\n",
    "    def __init__(self, name, normalization, distance):\n",
    "        self.name = name\n",
    "        self.normalization = normalization\n",
    "        self.distance = distance\n",
    "        # register when instantiated\n",
    "        registry.add_delta(self)\n",
    "        \n",
    "    # call from registry with argument\n",
    "    def __call__(self, mfws):\n",
    "        df = pd.DataFrame(index=corpus.index, columns=corpus.index)\n",
    "        for a, b in combinations(df.index, 2):\n",
    "            delta = self.distance(corpus.loc[a,:], corpus.loc[b,:], *args, **kwargs)\n",
    "            df.at[a, b] = delta\n",
    "            df.at[b, a] = delta\n",
    "        return df.fillna(0)\n",
    "    \n",
    "    def prepare(self, corpus):\n",
    "        for normalization in self.normalizations:\n",
    "            corpus = normalization(corpus)\n",
    "        return corpus\n",
    "\n",
    "    def __call__(self, corpus):\n",
    "        return self.create_result(self.basis(self.prepare(corpus)), corpus)\n",
    "\n",
    "        \n",
    "Delta('Burrows', 'zscore', 'manhattan')\n",
    "for delta in registry:\n",
    "    delta(mfws)"
   ]
  }
 ],
 "metadata": {
  "kernelspec": {
   "display_name": "Python 3",
   "language": "python",
   "name": "python3"
  },
  "language_info": {
   "codemirror_mode": {
    "name": "ipython",
    "version": 3
   },
   "file_extension": ".py",
   "mimetype": "text/x-python",
   "name": "python",
   "nbconvert_exporter": "python",
   "pygments_lexer": "ipython3",
   "version": "3.9.4"
  }
 },
 "nbformat": 4,
 "nbformat_minor": 5
}
