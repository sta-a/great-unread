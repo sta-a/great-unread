{
 "cells": [
  {
   "cell_type": "code",
   "execution_count": 1,
   "metadata": {},
   "outputs": [
    {
     "name": "stderr",
     "output_type": "stream",
     "text": [
      "/Users/arda/conda_root/lib/python3.8/site-packages/gensim/similarities/__init__.py:15: UserWarning: The gensim.similarities.levenshtein submodule is disabled, because the optional Levenshtein package <https://pypi.org/project/python-Levenshtein/> is unavailable. Install Levenhstein (e.g. `pip install python-Levenshtein`) to suppress this warning.\n",
      "  warnings.warn(msg)\n"
     ]
    }
   ],
   "source": [
    "import os\n",
    "import sys\n",
    "sys.path.insert(0, \"../src/\")\n",
    "import re\n",
    "import numpy as np\n",
    "import pandas as pd\n",
    "from tqdm import tqdm\n",
    "from handcrafted_features import DocBasedFeatureExtractor, Doc2VecChunkVectorizer, CorpusBasedFeatureExtractor\n",
    "from utils import get_doc_paths, read_labels\n",
    "\n",
    "raw_docs_dir = \"../data/raw_docs/\"\n",
    "labels_dir = \"../data/labels/\"\n",
    "extracted_features_dir = \"../data/extracted_features/\"\n",
    "\n",
    "lang = \"ger\"\n",
    "doc_paths = get_doc_paths(raw_docs_dir, lang)\n",
    "\n",
    "sentences_per_chunk = 200\n",
    "# d2vcv = Doc2VecChunkVectorizer(lang, sentences_per_chunk)\n",
    "# d2vcv.fit_transform(doc_paths)\n"
   ]
  },
  {
   "cell_type": "code",
   "execution_count": 2,
   "metadata": {
    "scrolled": true
   },
   "outputs": [
    {
     "name": "stderr",
     "output_type": "stream",
     "text": [
      "  1%|          | 4/547 [00:38<1:08:11,  7.53s/it]/Users/arda/conda_root/lib/python3.8/site-packages/numpy/core/fromnumeric.py:3419: RuntimeWarning: Mean of empty slice.\n",
      "  return _methods._mean(a, axis=axis, dtype=dtype,\n",
      "/Users/arda/conda_root/lib/python3.8/site-packages/numpy/core/_methods.py:188: RuntimeWarning: invalid value encountered in double_scalars\n",
      "  ret = ret.dtype.type(ret / rcount)\n",
      "100%|██████████| 547/547 [59:11<00:00,  6.49s/it]  \n"
     ]
    }
   ],
   "source": [
    "all_chunk_based_features = []\n",
    "all_book_based_features = []\n",
    "all_average_sbert_sentence_embeddings = []\n",
    "all_doc2vec_chunk_embeddings = []\n",
    "for doc_path in tqdm(doc_paths):\n",
    "    fe = DocBasedFeatureExtractor(lang, doc_path, sentences_per_chunk)\n",
    "    chunk_based_features, book_based_features, average_sbert_sentence_embeddings, doc2vec_chunk_embeddings = fe.get_all_features()\n",
    "    all_chunk_based_features.extend(chunk_based_features)\n",
    "    all_book_based_features.append(book_based_features)\n",
    "    all_average_sbert_sentence_embeddings.append(average_sbert_sentence_embeddings)\n",
    "    all_doc2vec_chunk_embeddings.append(doc2vec_chunk_embeddings)\n"
   ]
  },
  {
   "cell_type": "code",
   "execution_count": 4,
   "metadata": {},
   "outputs": [],
   "source": [
    "%load_ext autoreload\n",
    "%autoreload 2\n"
   ]
  },
  {
   "cell_type": "code",
   "execution_count": 6,
   "metadata": {
    "scrolled": false
   },
   "outputs": [
    {
     "name": "stderr",
     "output_type": "stream",
     "text": [
      "100%|██████████| 547/547 [05:29<00:00,  1.66it/s]\n",
      "100%|██████████| 547/547 [03:56<00:00,  2.31it/s]\n",
      "100%|██████████| 547/547 [01:01<00:00,  8.87it/s]\n",
      "100%|██████████| 547/547 [00:44<00:00, 12.31it/s]\n",
      "INFO:gensim.models.ldamodel:using symmetric alpha at 0.1\n",
      "INFO:gensim.models.ldamodel:using symmetric eta at 0.1\n",
      "INFO:gensim.models.ldamodel:using serial LDA version on this node\n",
      "INFO:gensim.models.ldamulticore:running online LDA training, 10 topics, 2 passes over the supplied corpus of 547 documents, updating every 6000 documents, evaluating every ~547 documents, iterating 50x with a convergence threshold of 0.001000\n",
      "WARNING:gensim.models.ldamulticore:too few updates, training might not converge; consider increasing the number of passes or iterations to improve accuracy\n",
      "INFO:gensim.models.ldamulticore:training LDA model using 3 processes\n",
      "INFO:gensim.models.ldamulticore:PROGRESS: pass 0, dispatched chunk #0 = documents up to #547/547, outstanding queue size 1\n",
      "DEBUG:gensim.models.ldamodel:updating topics\n",
      "INFO:gensim.models.ldamodel:topic #5 (0.100): 0.003*\"seyn\" + 0.002*\"bey\" + 0.001*\"wol\" + 0.001*\"anna\" + 0.001*\"nit\" + 0.001*\"vogt\" + 0.001*\"kapitän\" + 0.001*\"lorenz\" + 0.001*\"sey\" + 0.001*\"theil\"\n",
      "INFO:gensim.models.ldamodel:topic #1 (0.100): 0.003*\"seyn\" + 0.003*\"bey\" + 0.001*\"anton\" + 0.001*\"nit\" + 0.001*\"major\" + 0.001*\"sey\" + 0.001*\"wol\" + 0.001*\"magister\" + 0.001*\"baronin\" + 0.001*\"theil\"\n",
      "INFO:gensim.models.ldamodel:topic #6 (0.100): 0.006*\"bey\" + 0.006*\"seyn\" + 0.002*\"sey\" + 0.001*\"wol\" + 0.001*\"theil\" + 0.001*\"zwey\" + 0.001*\"unrat\" + 0.001*\"anton\" + 0.001*\"drey\" + 0.001*\"nit\"\n",
      "INFO:gensim.models.ldamodel:topic #8 (0.100): 0.005*\"bey\" + 0.003*\"seyn\" + 0.002*\"anton\" + 0.002*\"nit\" + 0.002*\"sey\" + 0.001*\"wol\" + 0.001*\"anna\" + 0.001*\"felix\" + 0.001*\"louis\" + 0.001*\"baronin\"\n",
      "INFO:gensim.models.ldamodel:topic #7 (0.100): 0.006*\"bey\" + 0.006*\"seyn\" + 0.003*\"sey\" + 0.002*\"anna\" + 0.001*\"fritz\" + 0.001*\"zwey\" + 0.001*\"marie\" + 0.001*\"nit\" + 0.001*\"anton\" + 0.001*\"gieng\"\n",
      "INFO:gensim.models.ldamodel:topic diff=0.613327, rho=1.000000\n",
      "DEBUG:gensim.models.ldamodel:bound: at document #0\n",
      "INFO:gensim.models.ldamodel:-10.173 per-word bound, 1154.1 perplexity estimate based on a held-out corpus of 547 documents with 2699078 words\n",
      "INFO:gensim.models.ldamulticore:PROGRESS: pass 1, dispatched chunk #0 = documents up to #547/547, outstanding queue size 1\n",
      "DEBUG:gensim.models.ldamodel:updating topics\n",
      "INFO:gensim.models.ldamodel:topic #4 (0.100): 0.002*\"ellen\" + 0.002*\"seyn\" + 0.002*\"fritz\" + 0.002*\"otto\" + 0.002*\"robert\" + 0.002*\"nit\" + 0.001*\"aspasia\" + 0.001*\"bey\" + 0.001*\"sir\" + 0.001*\"wol\"\n",
      "INFO:gensim.models.ldamodel:topic #6 (0.100): 0.004*\"seyn\" + 0.003*\"bey\" + 0.003*\"unrat\" + 0.002*\"robinson\" + 0.002*\"sey\" + 0.001*\"eduard\" + 0.001*\"hermann\" + 0.001*\"itzt\" + 0.001*\"jezt\" + 0.001*\"künstlerin\"\n",
      "INFO:gensim.models.ldamodel:topic #3 (0.100): 0.003*\"georg\" + 0.002*\"seyn\" + 0.002*\"marquise\" + 0.002*\"bey\" + 0.002*\"leonhard\" + 0.002*\"reiser\" + 0.001*\"flora\" + 0.001*\"kapitän\" + 0.001*\"rosa\" + 0.001*\"advokat\"\n",
      "INFO:gensim.models.ldamodel:topic #5 (0.100): 0.002*\"vogt\" + 0.002*\"louis\" + 0.002*\"net\" + 0.002*\"anna\" + 0.001*\"hermann\" + 0.001*\"wol\" + 0.001*\"dös\" + 0.001*\"pauline\" + 0.001*\"gustav\" + 0.001*\"leopold\"\n",
      "INFO:gensim.models.ldamodel:topic #8 (0.100): 0.005*\"anton\" + 0.004*\"nit\" + 0.002*\"fink\" + 0.002*\"felix\" + 0.002*\"viktor\" + 0.002*\"bey\" + 0.001*\"ursula\" + 0.001*\"marquise\" + 0.001*\"louis\" + 0.001*\"seyn\"\n",
      "INFO:gensim.models.ldamodel:topic diff=0.218268, rho=0.663212\n",
      "DEBUG:gensim.models.ldamodel:bound: at document #0\n",
      "INFO:gensim.models.ldamodel:-10.008 per-word bound, 1029.8 perplexity estimate based on a held-out corpus of 547 documents with 2699078 words\n",
      "DEBUG:gensim.utils:starting a new internal lifecycle event log for LdaMulticore\n",
      "INFO:gensim.utils:LdaMulticore lifecycle event {'msg': 'trained LdaModel(num_terms=30703, num_topics=10, decay=0.5, chunksize=2000) in 59.44s', 'datetime': '2021-06-24T11:33:30.471992', 'gensim': '4.0.1', 'python': '3.8.5 (default, Sep  4 2020, 02:22:02) \\n[Clang 10.0.0 ]', 'platform': 'macOS-10.15.4-x86_64-i386-64bit', 'event': 'created'}\n"
     ]
    }
   ],
   "source": [
    "cbfe = CorpusBasedFeatureExtractor(lang, doc_paths, all_average_sbert_sentence_embeddings, all_doc2vec_chunk_embeddings)\n",
    "all_corpus_based_features = cbfe.get_all_features()\n"
   ]
  },
  {
   "cell_type": "code",
   "execution_count": 7,
   "metadata": {},
   "outputs": [],
   "source": [
    "import os\n",
    "import pandas as pd\n",
    "\n",
    "book_df = pd.DataFrame(all_book_based_features)\n",
    "book_df = book_df.merge(all_corpus_based_features, on=\"book_name\")\n",
    "book_and_averaged_chunk_df = book_df.merge(pd.DataFrame(all_chunk_based_features).groupby(\"book_name\").mean().reset_index(drop=False), on=\"book_name\")\n",
    "\n",
    "chunk_df = pd.DataFrame(all_chunk_based_features)\n",
    "chunk_and_copied_book_df = chunk_df.merge(pd.DataFrame(all_book_based_features), on=\"book_name\")\n",
    "chunk_and_copied_book_df = chunk_and_copied_book_df.merge(all_corpus_based_features, on=\"book_name\")\n",
    "\n",
    "os.makedirs(f\"{extracted_features_dir}/{lang}\", exist_ok=True)\n",
    "book_df.to_csv(f\"{extracted_features_dir}/{lang}/book_df.csv\", index=False)\n",
    "book_and_averaged_chunk_df.to_csv(f\"{extracted_features_dir}/{lang}/book_and_averaged_chunk_df.csv\", index=False)\n",
    "chunk_df.to_csv(f\"{extracted_features_dir}/{lang}/chunk_df.csv\", index=False)\n",
    "chunk_and_copied_book_df.to_csv(f\"{extracted_features_dir}/{lang}/chunk_and_copied_book_df.csv\", index=False)\n"
   ]
  },
  {
   "cell_type": "code",
   "execution_count": 8,
   "metadata": {},
   "outputs": [],
   "source": [
    "import sys\n",
    "sys.path.insert(0, \"../src/\")\n",
    "import numpy as np\n",
    "import pandas as pd\n",
    "\n",
    "extracted_features_dir = \"../data/extracted_features/\"\n",
    "labels_dir = \"../data/labels/\"\n",
    "lang = \"ger\"\n",
    "\n",
    "book_df = pd.read_csv(f\"{extracted_features_dir}/{lang}/book_df.csv\")\n",
    "book_and_averaged_chunk_df = pd.read_csv(f\"{extracted_features_dir}/{lang}/book_and_averaged_chunk_df.csv\")\n",
    "chunk_df = pd.read_csv(f\"{extracted_features_dir}/{lang}/chunk_df.csv\")\n",
    "chunk_and_copied_book_df = pd.read_csv(f\"{extracted_features_dir}/{lang}/chunk_and_copied_book_df.csv\")\n"
   ]
  },
  {
   "cell_type": "code",
   "execution_count": 9,
   "metadata": {},
   "outputs": [
    {
     "name": "stderr",
     "output_type": "stream",
     "text": [
      "DEBUG:matplotlib:matplotlib data path: /Users/arda/conda_root/lib/python3.8/site-packages/matplotlib/mpl-data\n",
      "DEBUG:matplotlib:CONFIGDIR=/Users/arda/.matplotlib\n",
      "DEBUG:matplotlib:matplotlib version 3.4.2\n",
      "DEBUG:matplotlib:interactive is False\n",
      "DEBUG:matplotlib:platform is darwin\n",
      "DEBUG:matplotlib:loaded modules: ['sys', 'builtins', '_frozen_importlib', '_imp', '_warnings', '_frozen_importlib_external', '_io', 'marshal', 'posix', '_thread', '_weakref', 'time', 'zipimport', '_codecs', 'codecs', 'encodings.aliases', 'encodings', 'encodings.utf_8', '_signal', '__main__', 'encodings.latin_1', '_abc', 'abc', 'io', '_stat', 'stat', '_collections_abc', 'genericpath', 'posixpath', 'os.path', 'os', '_sitebuiltins', '_locale', '_bootlocale', 'types', 'importlib._bootstrap', 'importlib._bootstrap_external', 'warnings', 'importlib', 'importlib.machinery', 'importlib.abc', '_operator', 'operator', 'keyword', '_heapq', 'heapq', 'itertools', 'reprlib', '_collections', 'collections', '_functools', 'functools', 'contextlib', 'importlib.util', 'mpl_toolkits', 'google', 'site', '_weakrefset', 'weakref', 'pkgutil', 'runpy', 'ipykernel._version', '__future__', 'enum', '_sre', 'sre_constants', 'sre_parse', 'sre_compile', 'copyreg', 're', '_json', 'json.scanner', 'json.decoder', 'json.encoder', 'json', 'errno', 'signal', 'threading', '_posixsubprocess', 'select', 'collections.abc', 'math', 'selectors', 'subprocess', 'IPython.core', 'IPython.core.getipython', 'IPython.core.release', 'atexit', 'copy', 'fnmatch', 'glob', 'token', 'tokenize', 'linecache', 'traceback', '_string', 'string', 'logging', 'zlib', '_compression', '_bz2', 'bz2', '_lzma', 'lzma', 'pwd', 'grp', 'shutil', '_ast', 'ast', '_opcode', 'opcode', 'dis', 'inspect', 'traitlets.utils', 'traitlets.utils.getargspec', 'traitlets.utils.importstring', 'traitlets.utils.sentinel', 'traitlets.utils.bunch', 'traitlets.utils.descriptions', 'traitlets.traitlets', 'traitlets.utils.decorators', 'traitlets._version', 'traitlets', 'pprint', 'locale', 'gettext', 'argparse', 'ipython_genutils._version', 'ipython_genutils', '_bisect', 'bisect', '_sha512', '_random', 'random', 'ipython_genutils.encoding', 'platform', 'ipython_genutils.py3compat', 'ipython_genutils.path', 'traitlets.config.loader', 'textwrap', 'ipython_genutils.text', 'traitlets.config.configurable', 'traitlets.config.application', 'traitlets.config', 'sysconfig', 'urllib', 'urllib.parse', '_sysconfigdata__darwin_darwin', '_osx_support', 'pydoc', 'bdb', 'IPython.utils', 'IPython.utils.ipstruct', 'IPython.utils.coloransi', 'pygments', 'IPython.utils.colorable', 'IPython.utils.PyColorize', 'IPython.utils.encoding', 'IPython.utils.py3compat', 'IPython.core.excolors', 'IPython.testing', 'IPython.testing.skipdoctest', 'cmd', 'codeop', 'code', 'pdb', 'IPython.core.debugger', 'IPython.core.display_trap', 'pexpect.exceptions', 'pexpect.utils', 'pexpect.expect', 'termios', 'tty', 'pty', 'fcntl', 'resource', '_struct', 'struct', 'ptyprocess.util', 'ptyprocess.ptyprocess', 'ptyprocess', 'pexpect.spawnbase', 'pexpect.pty_spawn', 'pexpect.run', 'pexpect', 'shlex', 'IPython.utils._process_common', 'IPython.utils._process_posix', 'IPython.utils.process', 'IPython.utils.decorators', 'IPython.utils.path', 'IPython.utils.data', 'IPython.utils.terminal', 'IPython.core.ultratb', 'IPython.utils._sysinfo', 'IPython.utils.sysinfo', 'IPython.core.crashhandler', 'tempfile', 'IPython.utils.importstring', 'IPython.paths', 'IPython.core.profiledir', 'IPython.core.application', 'IPython.terminal', '_hashlib', '_blake2', '_sha3', 'hashlib', 'IPython.core.compilerop', 'IPython.core.error', 'ntpath', 'pathlib', 'IPython.utils.text', 'IPython.core.magic_arguments', 'getopt', 'typing.io', 'typing.re', 'typing', 'binascii', 'mimetypes', 'IPython.core.display', 'IPython.core.page', 'getpass', 'IPython.lib.security', 'IPython.lib', '_datetime', 'datetime', 'IPython.lib.pretty', 'IPython.utils.openpy', 'IPython.utils.dir2', 'IPython.utils.wildcard', 'pygments.lexers._mapping', 'pygments.modeline', 'pygments.plugin', 'pygments.util', 'pygments.lexers', 'pygments.filter', 'pygments.token', 'pygments.filters', 'pygments.regexopt', 'pygments.lexer', 'pygments.unistring', 'pygments.lexers.python', 'pygments.formatters._mapping', 'pygments.formatters', 'pygments.styles', 'pygments.formatter', 'pygments.formatters.html', 'IPython.core.oinspect', 'IPython.core.inputtransformer2', 'decorator', 'IPython.core.magic', '_compat_pickle', '_pickle', 'pickle', 'pickleshare', 'IPython.core.autocall', 'IPython.core.macro', 'IPython.core.splitinput', 'IPython.core.prefilter', 'IPython.core.alias', 'IPython.core.builtin_trap', 'backcall.backcall', 'backcall', 'IPython.core.events', 'IPython.core.displayhook', 'IPython.core.displaypub', 'IPython.core.extensions', 'IPython.utils.sentinel', 'IPython.core.formatters', '_sqlite3', 'sqlite3.dbapi2', 'sqlite3', 'IPython.core.history', 'IPython.core.logger', 'IPython.core.payload', 'IPython.core.usage', 'html.entities', 'html', 'IPython.lib.display', 'IPython.display', 'IPython.utils.capture', 'IPython.utils.io', 'IPython.core.hooks', 'IPython.utils.strdispatch', 'IPython.utils.syspathcontext', 'IPython.utils.tempdir', 'IPython.utils.contexts', 'IPython.core.async_helpers', 'IPython.core.interactiveshell', 'concurrent', 'concurrent.futures._base', 'concurrent.futures', '_socket', 'socket', '_ssl', 'base64', 'ssl', 'asyncio.constants', 'asyncio.format_helpers', 'asyncio.base_futures', 'asyncio.log', 'asyncio.coroutines', '_contextvars', 'contextvars', 'asyncio.exceptions', 'asyncio.base_tasks', '_asyncio', 'asyncio.events', 'asyncio.futures', 'asyncio.protocols', 'asyncio.transports', 'asyncio.sslproto', 'asyncio.locks', 'asyncio.tasks', 'asyncio.staggered', 'asyncio.trsock', 'asyncio.base_events', 'asyncio.runners', 'asyncio.queues', 'asyncio.streams', 'asyncio.subprocess', 'asyncio.base_subprocess', 'asyncio.selector_events', 'asyncio.unix_events', 'asyncio', 'prompt_toolkit.application.current', 'prompt_toolkit.eventloop.utils', 'prompt_toolkit.eventloop.async_generator', 'wcwidth.table_wide', 'wcwidth.table_zero', 'wcwidth.unicode_versions', 'wcwidth.wcwidth', 'wcwidth', 'prompt_toolkit.utils', 'prompt_toolkit.eventloop.inputhook', 'prompt_toolkit.eventloop', 'prompt_toolkit.application.run_in_terminal', 'prompt_toolkit.selection', 'prompt_toolkit.clipboard.base', 'prompt_toolkit.clipboard.in_memory', 'prompt_toolkit.clipboard', 'prompt_toolkit.cache', 'prompt_toolkit.enums', 'prompt_toolkit.filters.base', 'prompt_toolkit.filters.app', 'prompt_toolkit.filters.cli', 'prompt_toolkit.filters.utils', 'prompt_toolkit.filters', 'prompt_toolkit.document', 'prompt_toolkit.auto_suggest', 'prompt_toolkit.data_structures', 'prompt_toolkit.styles.base', 'prompt_toolkit.styles.named_colors', 'prompt_toolkit.styles.style', 'prompt_toolkit.styles.defaults', 'prompt_toolkit.styles.pygments', 'colorsys', 'prompt_toolkit.styles.style_transformation', 'prompt_toolkit.styles', 'prompt_toolkit.output.color_depth', 'prompt_toolkit.output.base', 'prompt_toolkit.output.defaults', 'prompt_toolkit.output', 'array', 'prompt_toolkit.output.vt100', 'prompt_toolkit.mouse_events', 'prompt_toolkit.formatted_text.base', 'prompt_toolkit.formatted_text.ansi', 'xml', 'xml.dom.domreg', 'xml.dom', 'xml.dom.minicompat', 'xml.dom.NodeFilter', 'xml.dom.xmlbuilder', 'xml.dom.minidom', 'prompt_toolkit.formatted_text.html', 'prompt_toolkit.formatted_text.pygments', 'prompt_toolkit.formatted_text.utils', 'prompt_toolkit.formatted_text', 'prompt_toolkit.completion.base', 'prompt_toolkit.completion.deduplicate', 'prompt_toolkit.completion.filesystem', 'prompt_toolkit.completion.word_completer', 'prompt_toolkit.completion.fuzzy_completer', 'prompt_toolkit.completion.nested', 'prompt_toolkit.completion', 'prompt_toolkit.history', 'prompt_toolkit.keys', 'prompt_toolkit.key_binding.key_bindings', 'prompt_toolkit.key_binding.key_processor', 'prompt_toolkit.key_binding', 'prompt_toolkit.key_binding.vi_state', 'prompt_toolkit.search', 'prompt_toolkit.validation', 'prompt_toolkit.buffer', 'prompt_toolkit.input.base', 'prompt_toolkit.input.defaults', 'prompt_toolkit.input', 'prompt_toolkit.input.typeahead', 'prompt_toolkit.key_binding.bindings', 'prompt_toolkit.key_binding.bindings.scroll', 'prompt_toolkit.key_binding.bindings.page_navigation', 'prompt_toolkit.lexers.base', 'prompt_toolkit.lexers.pygments', 'prompt_toolkit.lexers', 'prompt_toolkit.layout.utils', 'prompt_toolkit.layout.processors', 'prompt_toolkit.layout.controls', 'prompt_toolkit.layout.dimension', 'prompt_toolkit.layout.margins', 'prompt_toolkit.layout.mouse_handlers', 'prompt_toolkit.layout.screen', 'prompt_toolkit.layout.containers', 'prompt_toolkit.layout.layout', 'prompt_toolkit.layout.menus', 'prompt_toolkit.layout.scrollable_pane', 'prompt_toolkit.layout', 'prompt_toolkit.key_binding.bindings.completion', 'prompt_toolkit.key_binding.bindings.named_commands', 'prompt_toolkit.key_binding.bindings.basic', 'prompt_toolkit.key_binding.bindings.cpr', 'prompt_toolkit.key_binding.bindings.emacs', 'prompt_toolkit.key_binding.bindings.mouse', 'prompt_toolkit.input.ansi_escape_sequences', 'prompt_toolkit.input.vt100_parser', 'prompt_toolkit.key_binding.digraphs', 'prompt_toolkit.key_binding.bindings.vi', 'prompt_toolkit.key_binding.defaults', 'prompt_toolkit.key_binding.emacs_state', 'prompt_toolkit.layout.dummy', 'prompt_toolkit.renderer', 'prompt_toolkit.application.application', 'prompt_toolkit.application.dummy', 'prompt_toolkit.application', 'prompt_toolkit.key_binding.bindings.focus', 'prompt_toolkit.widgets.toolbars', 'prompt_toolkit.widgets.base', 'prompt_toolkit.widgets.dialogs', 'prompt_toolkit.widgets.menus', 'prompt_toolkit.widgets', 'prompt_toolkit.shortcuts.dialogs', 'prompt_toolkit.shortcuts.progress_bar.formatters', 'prompt_toolkit.shortcuts.progress_bar.base', 'prompt_toolkit.shortcuts.progress_bar', 'prompt_toolkit.key_binding.bindings.auto_suggest', 'prompt_toolkit.key_binding.bindings.open_in_editor', 'prompt_toolkit.shortcuts.prompt', 'prompt_toolkit.shortcuts.utils', 'prompt_toolkit.shortcuts', 'prompt_toolkit', '_queue', 'queue', 'prompt_toolkit.patch_stdout', 'pygments.style', 'unicodedata', 'IPython.core.latex_symbols', 'IPython.utils.generics', 'parso.utils', 'parso.tree', 'parso.python', 'parso.python.token', 'parso.python.tokenize', 'parso.pgen2.grammar_parser', 'parso.pgen2.generator', 'parso.pgen2', 'parso.parser', 'parso._compatibility', 'difflib', 'parso.python.prefix', 'parso.python.tree', 'parso.python.parser', 'parso.python.diff', 'gc', 'parso.cache', 'parso.normalizer', 'parso.python.errors', 'parso.python.pep8', 'parso.file_io', 'parso.grammar', 'parso', 'jedi.file_io', 'jedi._compatibility', 'jedi.parser_utils', 'jedi.debug', 'jedi.settings', 'jedi.cache', 'jedi.inference.cache', 'jedi.common.value', 'jedi.common', 'jedi.inference.helpers', 'jedi.inference.utils', 'jedi.inference.base_value', 'jedi.common.utils', 'jedi.inference.sys_path', 'jedi.inference.recursion', 'jedi.inference.flow_analysis', 'jedi.inference.lazy_value', 'jedi.inference.docstrings', 'jedi.plugins', 'jedi.inference.names', 'jedi.inference.filters', 'jedi.inference.compiled.getattr_static', 'jedi.inference.compiled.access', 'jedi.inference.signature', 'jedi.inference.context', 'jedi.inference.compiled.value', 'jedi.inference.compiled', 'jedi.inference.analysis', 'jedi.inference.gradual', 'jedi.inference.value.module', 'jedi.inference.value.dynamic_arrays', 'jedi.inference.value.iterable', 'jedi.inference.arguments', 'jedi.inference.parser_cache', 'jedi.inference.gradual.generics', 'jedi.inference.value.function', 'jedi.inference.value.klass', 'jedi.inference.value.instance', 'jedi.inference.value', 'jedi.inference.gradual.base', 'jedi.inference.gradual.type_var', 'jedi.inference.gradual.typing', 'jedi.inference.gradual.stub_value', 'jedi.inference.gradual.typeshed', 'jedi.inference.imports', 'jedi.inference.param', 'jedi.inference.gradual.annotation', 'jedi.inference.value.decorator', 'jedi.inference.syntax_tree', 'jedi.inference', 'jedi.inference.gradual.conversion', 'pydoc_data', 'pydoc_data.topics', 'jedi.api.keywords', 'jedi.api.completion_cache', 'jedi.api.helpers', 'jedi.api.classes', 'jedi.inference.compiled.mixed', 'jedi.api.interpreter', 'jedi.api.strings', 'jedi.api.file_name', 'jedi.api.completion', 'filecmp', 'jedi.inference.compiled.subprocess.functions', 'jedi.api.exceptions', 'jedi.inference.compiled.subprocess', 'jedi.api.environment', 'jedi.inference.references', 'jedi.api.project', 'jedi.api.errors', 'jedi.api.refactoring', 'jedi.api.refactoring.extract', 'jedi.inference.gradual.utils', 'jedi.api', 'jedi.plugins.stdlib', 'jedi.plugins.flask', 'jedi.plugins.pytest', 'jedi.plugins.registry', 'jedi', 'IPython.core.completer', 'IPython.terminal.ptutils', 'IPython.terminal.shortcuts', 'IPython.terminal.debugger', 'IPython.lib.clipboard', 'IPython.terminal.magics', 'IPython.terminal.pt_inputhooks', 'IPython.terminal.prompts', 'IPython.terminal.interactiveshell', 'IPython.core.magics.auto', 'IPython.core.magics.basic', 'email', 'http', 'email.errors', 'email.quoprimime', 'email.base64mime', 'quopri', 'email.encoders', 'email.charset', 'email.header', 'calendar', 'email._parseaddr', 'email.utils', 'email._policybase', 'email.feedparser', 'email.parser', 'uu', 'email._encoded_words', 'email.iterators', 'email.message', 'http.client', 'urllib.response', 'urllib.error', '_scproxy', 'urllib.request', 'IPython.core.magics.code', 'IPython.core.magics.config', 'IPython.core.magics.display', 'timeit', '_lsprof', 'profile', 'cProfile', 'pstats', 'IPython.utils.module_paths', 'IPython.utils.timing', 'IPython.core.magics.execution', 'IPython.core.magics.extension', 'IPython.core.magics.history', 'IPython.core.magics.logging', 'IPython.core.magics.namespace', 'IPython.core.magics.osm', 'IPython.core.magics.packaging', 'IPython.core.pylabtools', 'IPython.core.magics.pylab', 'IPython.lib.backgroundjobs', 'IPython.core.magics.script', 'IPython.core.magics', 'IPython.core.shellapp', 'IPython.extensions', 'IPython.extensions.storemagic', 'IPython.terminal.ipapp', 'IPython.terminal.embed', 'IPython.utils.frame', 'IPython', 'jupyter_client._version', '_ctypes', 'ctypes._endian', 'ctypes', 'zmq.backend.select', 'cython_runtime', 'zmq.backend.cython.constants', '_cython_0_29_21', 'zmq.backend.cython.error', 'zmq.error', 'zmq.backend.cython.message', 'zmq.backend.cython.context', 'zmq.backend.cython.socket', 'zmq.backend.cython.utils', 'zmq.backend.cython._poll', 'zmq.backend.cython._version', 'zmq.backend.cython._device', 'zmq.backend.cython._proxy_steerable', 'zmq.backend.cython', 'zmq.backend', 'zmq.utils', 'zmq.utils.constant_names', 'zmq.sugar.constants', 'zmq.sugar.attrsettr', 'zmq.sugar.poll', 'zmq.utils.strtypes', 'zmq.utils.jsonapi', 'zmq.sugar.socket', 'zmq.sugar.context', 'zmq.sugar.frame', 'zmq.sugar.tracker', 'zmq.sugar.version', 'zmq.sugar.stopwatch', 'zmq.sugar', 'zmq', 'jupyter_client.localinterfaces', 'jupyter_core.version', 'jupyter_core', 'jupyter_core.paths', 'jupyter_client.utils', 'jupyter_client.connect', 'traitlets.log', 'jupyter_client.launcher', 'jupyter_client.channelsabc', 'jupyter_client.channels', 'jupyter_client.clientabc', 'jupyter_client.client', 'jupyter_client.kernelspec', 'jupyter_client.managerabc', 'jupyter_client.manager', 'jupyter_client.blocking.channels', 'jupyter_client.blocking.client', 'jupyter_client.blocking', 'zmq._future', 'zmq.asyncio', 'jupyter_client.asynchronous.channels', 'jupyter_client.asynchronous.client', 'jupyter_client.asynchronous', '_uuid', 'uuid', 'jupyter_client.multikernelmanager', 'jupyter_client', 'ipykernel.connect', 'ipykernel', 'tornado', 'numbers', 'logging.handlers', 'tornado.speedups', 'tornado.util', 'tornado.escape', '_curses', 'curses', 'tornado.log', 'tornado.concurrent', 'tornado.ioloop', 'tornado.platform', 'tornado.gen', 'tornado.platform.asyncio', 'zmq.eventloop.ioloop', 'zmq.eventloop', 'zmq.eventloop.zmqstream', 'ipython_genutils.importstring', 'imp', 'hmac', 'dateutil._version', 'dateutil', 'six', '_decimal', 'decimal', 'dateutil._common', 'dateutil.relativedelta', 'six.moves', 'dateutil.tz._common', 'dateutil.tz._factories', 'dateutil.tz.tz', 'dateutil.tz', 'dateutil.parser._parser', 'dateutil.parser.isoparser', 'dateutil.parser', '_strptime', 'jupyter_client.jsonutil', 'jupyter_client.adapter', 'jupyter_client.session', 'ipykernel.iostream', 'ipykernel.heartbeat', 'IPython.utils.tokenutil', 'tornado.locks', 'tornado.queues', 'ipykernel.jsonutil', 'ipykernel.kernelbase', 'ipykernel.comm.comm', 'ipykernel.comm.manager', 'ipykernel.comm', 'IPython.core.payloadpage', 'ipykernel.displayhook', 'ipykernel.zmqshell', 'distutils', 'distutils.version', 'ipykernel.eventloops', 'ipykernel.ipkernel', 'ipykernel.parentpoller', 'ipykernel.kernelapp', 'faulthandler', 'ipykernel.codeutil', 'ipykernel.pickleutil', 'ipykernel.serialize', 'ipykernel.datapub', 'IPython.core.completerlib', 'xml.parsers', 'pyexpat.errors', 'pyexpat.model', 'pyexpat', 'xml.parsers.expat.model', 'xml.parsers.expat.errors', 'xml.parsers.expat', 'plistlib', 'ctypes.macholib', 'ctypes.macholib.framework', 'ctypes.macholib.dylib', 'ctypes.macholib.dyld', 'ctypes.util', 'appnope._nope', 'appnope', 'storemagic', 'numpy._globals', 'numpy.__config__', 'numpy.version', 'mkl._mklinit', 'mkl._py_mkl_service', 'mkl', 'numpy._distributor_init', 'numpy.core._multiarray_umath', 'numpy.compat._inspect', 'numpy.compat.py3k', 'numpy.compat', 'numpy.core.overrides', 'numpy.core.multiarray', 'numpy.core.umath', 'numpy.core._string_helpers', 'numpy.core._dtype', 'numpy.core._type_aliases', 'numpy.core.numerictypes', 'numpy.core._asarray', 'numpy.core._exceptions', 'numpy.core._methods', 'numpy.core.fromnumeric', 'numpy.core.shape_base', 'numpy.core._ufunc_config', 'numpy.core.arrayprint', 'numpy.core.numeric', 'numpy.core.defchararray', 'numpy.core.records', 'numpy.core.memmap', 'numpy.core.function_base', 'numpy.core.machar', 'numpy.core.getlimits', 'numpy.core.einsumfunc', 'numpy.core._multiarray_tests', 'numpy.core._add_newdocs', 'numpy.core._add_newdocs_scalars', 'numpy.core._dtype_ctypes', 'numpy.core._internal', 'numpy._pytesttester', 'numpy.core', 'numpy.lib.mixins', 'numpy.lib.ufunclike', 'numpy.lib.type_check', 'numpy.lib.scimath', 'numpy.lib.twodim_base', 'numpy.linalg.lapack_lite', 'numpy.linalg._umath_linalg', 'numpy.linalg.linalg', 'numpy.linalg', 'numpy.matrixlib.defmatrix', 'numpy.matrixlib', 'numpy.lib.histograms', 'numpy.lib.function_base', 'numpy.lib.stride_tricks', 'numpy.lib.index_tricks', 'numpy.lib.nanfunctions', 'numpy.lib.shape_base', 'numpy.lib.polynomial', 'numpy.lib.utils', 'numpy.lib.arraysetops', 'numpy.lib.format', 'numpy.lib._datasource', 'numpy.lib._iotools', 'numpy.lib.npyio', 'numpy.lib.arrayterator', 'numpy.lib.arraypad', 'numpy.lib._version', 'numpy.lib', 'numpy.fft._pocketfft_internal', 'numpy.fft._pocketfft', 'numpy.fft.helper', 'numpy.fft', 'numpy.polynomial.polyutils', 'numpy.polynomial._polybase', 'numpy.polynomial.polynomial', 'numpy.polynomial.chebyshev', 'numpy.polynomial.legendre', 'numpy.polynomial.hermite', 'numpy.polynomial.hermite_e', 'numpy.polynomial.laguerre', 'numpy.polynomial', '_cython_0_29_23', 'numpy.random._common', 'secrets', 'numpy.random.bit_generator', 'numpy.random._bounded_integers', 'numpy.random._mt19937', 'numpy.random.mtrand', 'numpy.random._philox', 'numpy.random._pcg64', 'numpy.random._sfc64', 'numpy.random._generator', 'numpy.random._pickle', 'numpy.random', 'numpy.ctypeslib', 'numpy.ma.core', 'numpy.ma.extras', 'numpy.ma', 'numpy', 'pytz.exceptions', 'pytz.lazy', 'pytz.tzinfo', 'pytz.tzfile', 'pytz', 'mmap', 'pandas._typing', 'pandas.compat', 'pandas.compat.numpy', 'pandas._libs.tslibs.dtypes', 'pandas._libs.tslibs.base', 'pandas._libs.tslibs.np_datetime', 'pandas._libs.tslibs.nattype', 'pandas._libs.tslibs.timezones', 'pandas._libs.tslibs.ccalendar', 'pandas._libs.tslibs.tzconversion', 'pandas._libs.tslibs.timedeltas', 'pandas._config.config', 'pandas._config.dates', 'pandas._config.display', 'pandas._config', 'pandas._config.localization', 'pandas._libs.tslibs.strptime', 'pandas._libs.tslibs.fields', 'pandas._libs.tslibs.timestamps', 'dateutil.easter', 'pandas._libs.properties', 'pandas._libs.tslibs.offsets', 'pandas._libs.tslibs.parsing', 'pandas._libs.tslibs.conversion', 'pandas._libs.tslibs.period', 'pandas._libs.tslibs.vectorized', 'pandas._libs.tslibs', 'pandas._libs.ops_dispatch', 'pandas._libs.missing', 'pandas._libs.hashtable', 'pandas._libs.algos', 'pandas._libs.interval', 'pandas._libs', 'pandas._libs.tslib', 'pandas._libs.lib', 'pandas.core', 'pandas.core.config_init', 'pandas.core.dtypes', 'pandas.errors', 'pandas.core.dtypes.generic', 'pandas.core.dtypes.base', 'pandas.core.dtypes.inference', 'pandas.core.dtypes.dtypes', 'pandas.core.dtypes.common', 'pandas.core.dtypes.missing', 'pandas.util._decorators', 'pandas.core.util', 'pandas._libs.hashing', 'pandas.core.util.hashing', 'pandas.util', 'pandas.util._validators', 'pandas.core.dtypes.cast', 'pandas.core.common', 'pandas.core.construction', 'pandas.core.indexers', 'pandas.core.algorithms', 'pandas.compat.numpy.function', 'pandas._libs.ops', 'pandas.core.ops.roperator', 'pandas.core.ops.missing', 'pandas.core.ops.dispatch', 'pandas.core.ops.invalid', 'pandas.core.ops.array_ops', 'pandas.core.ops.common', 'pandas.core.ops.docstrings', 'pandas.core.ops.mask_ops', 'pandas.core.ops.methods', 'pandas.core.ops', 'pandas.compat._optional', 'pandas.core.missing', 'pandas.core.sorting', 'pandas.core.arrays.base', 'pandas.core.nanops', 'pandas.core.array_algos', 'pandas.core.array_algos.masked_reductions', 'pandas.core.arraylike', 'pandas.core.arrays.masked', 'pandas.core.arrays.boolean', '_csv', 'csv', 'pandas.core.accessor', 'pandas.core.array_algos.transforms', 'pandas.core.arrays._mixins', 'pandas.core.base', 'pandas.core.strings.accessor', 'pandas.core.strings.base', 'pandas.core.strings', 'pandas.core.strings.object_array', 'pandas.io', 'pandas.io.formats', 'pandas.io.formats.console', 'pandas.core.arrays.categorical', 'pandas.tseries', 'pandas.tseries.frequencies', 'pandas.core.arrays.datetimelike', 'pandas.core.arrays._ranges', 'pandas.tseries.offsets', 'pandas.core.arrays.datetimes', 'pandas.core.tools', 'pandas.core.tools.numeric', 'pandas.core.arrays.numeric', 'pandas.core.arrays.floating', 'pandas.core.arrays.integer', 'pandas.core.indexes', 'pandas._libs.index', 'pandas._libs.join', 'pandas._libs.sparse', 'pandas.core.arrays.sparse.dtype', 'pandas.io.formats.printing', 'pandas.core.arrays.sparse.array', 'pandas.core.arrays.sparse.accessor', 'pandas.core.arrays.sparse', 'pandas.core.dtypes.concat', 'pandas.core.indexes.frozen', 'pandas.core.indexes.base', 'pandas.core.arrays.interval', 'pandas.core.arrays.numpy_', 'pandas.core.arrays.period', 'pandas.core.arrays.string_', 'pandas.core.arrays.timedeltas', 'pandas.core.arrays', 'pandas.core.flags', 'pandas._libs.reduction', 'pandas.core.indexes.extension', 'pandas.core.indexes.category', 'pandas.core.indexes.numeric', 'pandas.core.tools.timedeltas', 'pandas.core.indexes.datetimelike', 'pandas.core.tools.times', 'pandas.core.indexes.datetimes', 'pandas.util._exceptions', 'pandas.core.indexes.multi', 'pandas.core.indexes.timedeltas', 'pandas.core.indexes.interval', 'pandas.core.indexes.period', 'pandas.core.indexes.range', 'pandas.core.indexes.api', 'pandas.core.aggregation', 'pandas._libs.indexing', 'pandas.core.indexing', 'pandas._libs.internals', 'pandas._libs.writers', 'pandas.core.array_algos.replace', 'pandas.core.internals.blocks', 'pandas.core.internals.ops', 'pandas.core.internals.managers', 'pandas.core.internals.concat', 'pandas.core.internals', 'pandas.core.shared_docs', 'pandas._libs.window', 'pandas._libs.window.aggregations', 'pandas.core.util.numba_', 'pandas.core.window.common', 'pandas._libs.window.indexers', 'pandas.core.window.indexers', 'pandas.core.window.numba_', 'pandas.core.groupby.base', 'pandas.core.window.rolling', 'pandas.core.window.ewm', 'pandas.core.window.expanding', 'pandas.core.window', 'pandas.core.reshape', 'pandas.core.reshape.concat', 'dataclasses', 'gzip', 'zipfile', 'pandas.io.common', 'pandas.io.formats.format', 'pandas.core.generic', 'pandas.core.internals.construction', 'pandas.core.reshape.util', 'pandas.core.reshape.melt', 'pandas._libs.reshape', 'pandas.core.indexes.accessors', 'pandas.arrays', 'pandas.core.tools.datetimes', 'pandas.plotting._core', 'pandas.plotting._misc', 'pandas.plotting', 'pandas.core.series', 'pandas.io.formats.info', 'pandas.core.frame', 'pandas._libs.groupby', 'pandas.core.groupby.numba_', 'pandas.core.groupby.categorical', 'pandas.core.groupby.grouper', 'pandas.core.groupby.ops', 'pandas.core.groupby.groupby', 'pandas.core.groupby.generic', 'pandas.core.groupby', 'pandas.core.api', 'pandas.tseries.api', 'pandas.core.computation', 'pandas.core.computation.common', 'pandas.core.computation.align', 'pandas.compat.chainmap', 'pandas.core.computation.scope', 'pandas.core.computation.ops', 'pandas.core.computation.engines', 'pandas.core.computation.parsing', 'pandas.core.computation.expr', 'pandas.core.computation.eval', 'pandas.core.computation.api', 'pandas.core.reshape.merge', 'pandas.core.reshape.pivot', 'pandas.core.reshape.reshape', 'pandas.core.reshape.tile', 'pandas.core.reshape.api', 'pandas.api.extensions', 'pandas.api.indexers', 'pandas.core.dtypes.api', 'pandas.api.types', 'pandas.api', 'pandas.util._print_versions', 'pandas.io.clipboards', 'pandas._libs.parsers', 'pandas.io.excel._util', 'pandas.io.date_converters', 'pandas.io.parsers', 'pandas.io.excel._odfreader', 'pandas.io.excel._openpyxl', 'pandas.io.excel._pyxlsb', 'pandas.io.excel._xlrd', 'pandas.io.excel._base', 'pandas._libs.json', 'pandas.io.formats._color_data', 'pandas.io.formats.css', 'pandas.io.formats.excel', 'pandas.io.excel._odswriter', 'pandas.io.excel._xlsxwriter', 'pandas.io.excel._xlwt', 'pandas.io.excel', 'pandas.io.feather_format', 'pandas.io.gbq', 'pandas.io.html', 'pandas.io.json._normalize', 'pandas.io.json._table_schema', 'pandas.io.json._json', 'pandas.io.json', 'pandas.io.orc', 'pandas.io.parquet', 'pandas.compat.pickle_compat', 'pandas.io.pickle', 'pandas.core.computation.pytables', 'pandas.io.pytables', 'pandas.io.sas.sasreader', 'pandas.io.sas', 'pandas.io.spss', 'pandas.io.sql', 'pandas.io.stata', 'pandas.io.api', 'pandas.util._tester', 'cmath', 'pandas._libs.testing', 'pandas._testing', 'pandas.testing', 'pandas._version', 'pandas', 'tqdm.utils', 'tqdm._monitor', 'tqdm.std', 'tqdm.gui', 'tqdm._tqdm_pandas', 'tqdm._version', 'tqdm.cli', 'tqdm', 'thinc.about', 'configparser', 'pydantic.typing', 'pydantic.errors', 'pydantic.version', 'pydantic.utils', 'pydantic.class_validators', 'ipaddress', 'pydantic.color', 'pydantic.datetime_parse', 'pydantic.validators', 'pydantic.types', 'pydantic.json', 'pydantic.error_wrappers', 'pydantic.fields', 'pydantic.parse', 'pydantic.networks', 'pydantic.schema', 'pydantic.main', 'pydantic.dataclasses', 'pydantic.decorator', 'pydantic.env_settings', 'pydantic.tools', 'pydantic', 'multiprocessing.process', 'multiprocessing.reduction', 'multiprocessing.context', '__mp_main__', 'multiprocessing', 'wasabi.util', 'wasabi.tables', 'wasabi.printer', 'wasabi.traceback_printer', 'wasabi.markdown', 'wasabi', 'srsly.ujson.ujson', 'srsly.ujson', 'srsly.util', 'srsly._json_api', 'importlib.metadata', 'catalogue', 'srsly.msgpack._version', 'srsly.msgpack.exceptions', 'srsly.msgpack._ext_type', 'srsly.msgpack.util', 'srsly.msgpack._packer', 'srsly.msgpack._unpacker', 'srsly.msgpack._msgpack_numpy', 'srsly.msgpack', 'srsly._msgpack_api', 'srsly.cloudpickle.cloudpickle', 'srsly.cloudpickle', 'srsly._pickle_api', 'srsly.ruamel_yaml.compat', 'srsly.ruamel_yaml.error', 'srsly.ruamel_yaml.nodes', 'srsly.ruamel_yaml.util', 'srsly.ruamel_yaml.resolver', 'srsly.ruamel_yaml.events', 'srsly.ruamel_yaml.emitter', 'srsly.ruamel_yaml.anchor', 'srsly.ruamel_yaml.scalarstring', 'srsly.ruamel_yaml.scalarint', 'srsly.ruamel_yaml.scalarfloat', 'srsly.ruamel_yaml.scalarbool', 'srsly.ruamel_yaml.timestamp', 'srsly.ruamel_yaml.comments', 'srsly.ruamel_yaml.representer', 'srsly.ruamel_yaml.tokens', 'srsly.ruamel_yaml.scanner', 'srsly.ruamel_yaml.parser', 'srsly.ruamel_yaml.composer', 'srsly.ruamel_yaml.constructor', 'srsly.ruamel_yaml.serializer', 'srsly.ruamel_yaml.reader', 'srsly.ruamel_yaml.loader', 'srsly.ruamel_yaml.dumper', 'srsly.ruamel_yaml.main', 'srsly.ruamel_yaml', 'srsly._yaml_api', 'srsly.about', 'srsly', 'thinc.types', 'thinc.config', 'thinc', 'torch._six', 'torch._utils', 'torch._utils_internal', 'torch.version', 'torch._C._onnx', 'torch._C._jit_tree_views', 'torch._C._te', 'torch._C.cpp', 'torch._C.cpp.nn', 'torch._C', 'torch._namedtensor_internals', 'torch.overrides', 'torch.utils.throughput_benchmark', 'torch.utils', 'torch.utils.hooks', 'torch.tensor', 'torch.storage', 'torch.random', 'tarfile', 'torch.types', 'torch.serialization', 'torch._tensor_str', 'torch.cuda._utils', 'torch.cuda.streams', 'torch.cuda.memory', 'torch.cuda.random', 'torch.cuda.sparse', 'torch.cuda.profiler', 'torch.cuda.nvtx', 'torch.cuda.amp.common', 'torch.cuda.amp.autocast_mode', 'torch.cuda.amp.grad_scaler', 'torch.cuda.amp', 'torch.cuda', 'torch.sparse', 'torch.nn.parameter', 'torch.nn.modules.module', 'torch._VF', 'torch._torch_docs', 'torch._C._distributed_c10d', 'torch.distributed.constants', 'torch.distributed.rendezvous', 'torch.distributed.distributed_c10d', 'torch.distributed', 'torch._C._distributed_rpc', 'torch.futures', 'torch.distributed.rpc.internal', 'torch.distributed.rpc.constants', 'torch.distributed.rpc.api', 'torch.distributed.rpc.backend_registry', 'torch.distributed.rpc.functions', 'torch.distributed.rpc.options', 'torch.autograd.variable', 'torch.autograd.function', 'torch.testing.check_kernel_launches', 'torch.testing', 'torch.utils._pytree', 'torch._vmap_internals', 'torch.autograd.gradcheck', 'torch.autograd.grad_mode', 'torch.autograd.anomaly_mode', 'torch.autograd.functional', 'torch.autograd.forward_ad', 'torch._C._autograd', 'torch.autograd.profiler', 'torch.autograd', 'torch.distributed.rpc.server_process_global_profiler', 'torch._C._distributed_autograd', 'torch.distributed.autograd', 'torch.distributed.rpc', 'torch._jit_internal', 'torch.nn._reduction', 'torch.nn.modules.utils', 'torch.nn.grad', 'torch.nn.functional', 'torch.nn.init', 'typing_extensions', 'torch.nn.modules.lazy', 'torch.nn.modules.linear', 'torch.nn.common_types', 'torch.nn.modules.conv', 'torch.nn.modules.activation', 'torch.nn.modules.distance', 'torch.nn.modules.loss', 'torch.nn.modules.container', 'torch.nn.modules.pooling', 'torch.nn.modules._functions', 'torch.nn.modules.batchnorm', 'torch.nn.modules.instancenorm', 'torch.nn.modules.normalization', 'torch.nn.modules.dropout', 'torch.nn.modules.padding', 'torch.nn.modules.sparse', 'torch.nn.utils.rnn', 'torch.nn.utils.clip_grad', 'torch.nn.utils.weight_norm', 'torch.nn.utils.convert_parameters', 'torch.nn.utils.spectral_norm', 'torch.nn.utils.fusion', 'torch.nn.utils.memory_format', 'torch.nn.utils', 'torch.nn.modules.rnn', 'torch.nn.modules.pixelshuffle', 'torch.nn.modules.upsampling', 'torch.nn.modules.fold', 'torch.nn.modules.adaptive', 'torch.nn.modules.transformer', 'torch.nn.modules.flatten', 'torch.nn.modules.channelshuffle', 'torch.nn.modules', 'torch.nn.parallel.parallel_apply', 'torch.cuda.nccl', 'torch.nn.parallel.comm', 'torch.nn.parallel.replicate', 'torch.nn.parallel._functions', 'torch.nn.parallel.scatter_gather', 'torch.nn.parallel.data_parallel', 'torch.nn.parallel.distributed', 'torch.nn.parallel', 'torch.nn', 'torch._linalg_utils', 'torch._lowrank', 'torch._autograd_functions', 'torch.functional', 'torch.fft', 'torch.nn.intrinsic.modules.fused', 'torch.nn.intrinsic.modules', 'torch.nn.intrinsic', 'torch.nn.quantizable.modules.rnn', 'torch.nn.quantizable.modules', 'torch.nn.quantizable', 'torch.nn.quantized.modules.utils', 'torch.jit._state', 'torch.jit.annotations', 'torch.jit.frontend', 'torch.backends', 'torch.backends.cudnn', 'torch.jit._builtins', 'torch.jit._recursive', 'torch.jit._fuser', 'torch.jit._script', 'torch.jit._trace', 'torch.jit._async', 'torch.jit._serialization', 'torch.jit.cuda', 'torch.jit._freeze', 'torch.jit', 'torch.nn.quantized.functional', 'torch.nn.quantized.modules.activation', 'torch.nn.quantized.modules.batchnorm', 'torch.nn.quantized.modules.normalization', 'torch.nn.qat.modules.linear', 'torch.nn.qat.modules.conv', 'torch.nn.qat.modules', 'torch.nn.qat', 'torch.nn.intrinsic.qat.modules.linear_relu', 'torch.nn.intrinsic.qat.modules.conv_fused', 'torch.nn.intrinsic.qat.modules', 'torch.nn.intrinsic.qat', 'torch._ops', 'torch.nn.quantized.modules.conv', 'torch.nn.quantized.modules.linear', 'torch.nn.quantized.modules.embedding_ops', 'torch.nn.quantized.modules.functional_modules', 'torch.nn.quantized.modules', 'torch.nn.quantized', 'torch.optim._functional', 'torch.optim.optimizer', 'torch.optim.adadelta', 'torch.optim.adagrad', 'torch.optim.adam', 'torch.optim.adamw', 'torch.optim.sparse_adam', 'torch.optim.adamax', 'torch.optim.asgd', 'torch.optim.sgd', 'torch.optim.rprop', 'torch.optim.rmsprop', 'torch.optim.lbfgs', 'torch.optim.lr_scheduler', 'torch.optim.swa_utils', 'torch.optim', 'torch.optim._multi_tensor.adam', 'torch.optim._multi_tensor.adamw', 'torch.optim._multi_tensor.sgd', 'torch.optim._multi_tensor.rmsprop', 'torch.optim._multi_tensor.rprop', 'torch.optim._multi_tensor.asgd', 'torch.optim._multi_tensor.adamax', 'torch.optim._multi_tensor.adadelta', 'torch.optim._multi_tensor', 'multiprocessing.util', 'multiprocessing.resource_sharer', 'torch.multiprocessing.reductions', '_multiprocessing', 'multiprocessing.connection', 'torch.multiprocessing.spawn', 'torch.multiprocessing', 'torch.utils.backcompat', 'torch.onnx', 'torch.linalg', 'ipywidgets._version', 'ipywidgets.widgets.widget', 'ipywidgets.widgets.util', 'ipywidgets.widgets.trait_types', 'ipywidgets.widgets.widget_layout', 'ipywidgets.widgets.widget_style', 'ipywidgets.widgets.domwidget', 'ipywidgets.widgets.valuewidget', 'ipywidgets.widgets.widget_core', 'ipywidgets.widgets.widget_description', 'ipywidgets.widgets.widget_bool', 'ipywidgets.widgets.widget_button', 'ipywidgets.widgets.docutils', 'ipywidgets.widgets.widget_box', 'ipywidgets.widgets.widget_int', 'ipywidgets.widgets.widget_float', 'ipywidgets.widgets.widget_color', 'ipywidgets.widgets.widget_date', 'ipywidgets.widgets.widget_output', 'ipywidgets.widgets.widget_selection', 'ipywidgets.widgets.widget_selectioncontainer', 'ipywidgets.widgets.widget_string', 'ipywidgets.widgets.widget_controller', 'ipywidgets.widgets.interaction', 'ipywidgets.widgets.widget_link', 'ipywidgets.widgets.widget_media', 'ipywidgets.widgets.widget_templates', 'ipywidgets.widgets.widget_upload', 'ipywidgets.widgets', 'ipywidgets', 'tqdm.notebook', 'tqdm.autonotebook', 'tqdm.asyncio', 'tqdm.auto', 'torch.hub', 'torch.distributions.constraints', 'torch.distributions.utils', 'torch.distributions.distribution', 'torch.distributions.exp_family', 'torch.distributions.bernoulli', 'torch.distributions.dirichlet', 'torch.distributions.beta', 'torch.distributions.binomial', 'torch.distributions.categorical', 'torch.distributions.cauchy', 'torch.distributions.gamma', 'torch.distributions.chi2', 'torch.distributions.transforms', 'torch.distributions.constraint_registry', 'torch.distributions.continuous_bernoulli', 'torch.distributions.exponential', 'torch.distributions.fishersnedecor', 'torch.distributions.geometric', 'torch.distributions.uniform', 'torch.distributions.independent', 'torch.distributions.transformed_distribution', 'torch.distributions.gumbel', 'torch.distributions.half_cauchy', 'torch.distributions.normal', 'torch.distributions.half_normal', 'torch.distributions.laplace', 'torch.distributions.multivariate_normal', 'torch.distributions.lowrank_multivariate_normal', 'torch.distributions.one_hot_categorical', 'torch.distributions.pareto', 'torch.distributions.poisson', 'torch.distributions.kl', 'torch.distributions.kumaraswamy', 'torch.distributions.lkj_cholesky', 'torch.distributions.log_normal', 'torch.distributions.logistic_normal', 'torch.distributions.mixture_same_family', 'torch.distributions.multinomial', 'torch.distributions.negative_binomial', 'torch.distributions.relaxed_bernoulli', 'torch.distributions.relaxed_categorical', 'torch.distributions.studentT', 'torch.distributions.von_mises', 'torch.distributions.weibull', 'torch.distributions', 'torch.backends.cuda', 'torch.backends.mkl', 'torch.backends.mkldnn', 'torch.backends.openmp', 'torch.backends.quantized', 'torch.nn.intrinsic.quantized.modules.linear_relu', 'torch.nn.intrinsic.quantized.modules.conv_relu', 'torch.nn.intrinsic.quantized.modules.bn_relu', 'torch.nn.intrinsic.quantized.modules', 'torch.nn.intrinsic.quantized', 'torch.nn.quantized.dynamic.modules.linear', 'torch.nn.quantized.dynamic.modules.rnn', 'torch.nn.quantized.dynamic.modules', 'torch.nn.quantized.dynamic', 'torch.quantization.stubs', 'torch.quantization.observer', 'torch.quantization.fake_quantize', 'torch.quantization.quant_type', 'torch.quantization.utils', 'torch.quantization.quantization_mappings', 'torch.quantization.qconfig', 'torch.quantization.quantize', 'torch.quantization.fuser_method_mappings', 'torch.quantization.fuse_modules', 'torch.quantization.quantize_jit', 'torch.quantization', 'torch.utils.data.sampler', 'torch.utils.data.dataset', 'torch.utils.data.distributed', 'torch.utils.data._utils.signal_handling', 'torch.utils.data._utils.worker', 'torch.utils.data._utils.pin_memory', 'torch.utils.data._utils.collate', 'torch.utils.data._utils.fetch', 'torch.utils.data._utils', 'torch.utils.data.dataloader', 'torch.utils.data', 'torch.__config__', 'torch.__future__', 'torch.profiler.profiler', 'torch.profiler', 'torch._tensor_docs', 'torch._storage_docs', 'torch._classes', 'torch.quasirandom', 'torch.multiprocessing._atfork', 'torch._lobpcg', 'torch', 'torch.utils.dlpack', 'thinc.util', 'thinc.backends.ops', 'cymem.about', 'cymem', 'cymem.cymem', 'preshed.about', 'preshed', 'preshed.maps', 'blis.cy', 'blis', 'blis.py', 'thinc.backends.linalg', 'murmurhash.about', 'murmurhash.mrmr', 'murmurhash', 'thinc.backends.numpy_ops', 'thinc.backends._custom_kernels', 'thinc.backends.cupy_ops', 'thinc.backends._cupy_allocators', 'thinc.backends._param_server', 'thinc.backends', 'thinc.initializers', 'thinc.loss', 'thinc.optimizers', 'thinc.shims.shim', 'thinc.shims.pytorch', 'thinc.shims.tensorflow', 'thinc.shims.mxnet', 'thinc.shims', 'thinc.model', 'thinc.schedules', 'thinc.layers.cauchysimilarity', 'thinc.layers.dropout', 'thinc.layers.chain', 'thinc.layers.array_getitem', 'thinc.layers.embed', 'thinc.layers.expand_window', 'thinc.layers.hashembed', 'thinc.layers.layernorm', 'thinc.layers.linear', 'thinc.layers.noop', 'thinc.layers.lstm', 'thinc.layers.logistic', 'thinc.layers.maxout', 'thinc.layers.mish', 'thinc.layers.multisoftmax', 'thinc.layers.parametricattention', 'thinc.layers.pytorchwrapper', 'thinc.layers.relu', 'thinc.layers.resizable', 'thinc.layers.sigmoid_activation', 'thinc.layers.sigmoid', 'thinc.layers.softmax_activation', 'thinc.layers.softmax', 'thinc.layers.sparselinear', 'thinc.layers.tensorflowwrapper', 'thinc.layers.mxnetwrapper', 'thinc.layers.add', 'thinc.layers.bidirectional', 'thinc.layers.clone', 'thinc.layers.concatenate', 'thinc.layers.map_list', 'thinc.layers.residual', 'thinc.layers.uniqued', 'thinc.layers.siamese', 'thinc.layers.tuplify', 'thinc.layers.reduce_first', 'thinc.layers.reduce_last', 'thinc.layers.reduce_max', 'thinc.layers.reduce_mean', 'thinc.layers.reduce_sum', 'thinc.layers.list2array', 'thinc.layers.list2ragged', 'thinc.layers.list2padded', 'thinc.layers.ragged2list', 'thinc.layers.padded2list', 'thinc.layers.remap_ids', 'thinc.layers.strings2arrays', 'thinc.layers.with_array', 'thinc.layers.with_array2d', 'thinc.layers.with_cpu', 'thinc.layers.with_flatten', 'thinc.layers.with_padded', 'thinc.layers.with_list', 'thinc.layers.with_ragged', 'thinc.layers.with_reshape', 'thinc.layers.with_getitem', 'thinc.layers.with_debug', 'thinc.layers', 'thinc.api', 'spacy.symbols', 'spacy.errors', 'packaging.__about__', 'packaging', 'packaging._typing', 'packaging._compat', 'distutils.errors', 'distutils.dep_util', 'distutils.debug', 'distutils.log', 'distutils.spawn', 'distutils.util', 'packaging.tags', 'packaging._structures', 'packaging.version', 'packaging.utils', 'packaging.specifiers', 'spacy.compat', 'spacy.about', 'spacy.util', 'spacy.strings', 'spacy.attrs', 'spacy.lexeme', 'spacy.tokens.underscore', 'spacy.tokens.span', 'spacy.tokens.morphanalysis', 'spacy.parts_of_speech', 'spacy.tokens.token', 'spacy.tokens.span_group', 'spacy.tokens._dict_proxies', 'spacy.tokens._retokenize', 'spacy.tokens._serialize', 'spacy.tokens.doc', 'spacy.tokens', 'spacy.vectors', 'preshed.bloom', 'spacy.lookups', 'spacy.lang', 'spacy.lang.norm_exceptions', 'spacy.lang.lex_attrs', 'spacy.vocab', 'spacy.morphology', 'spacy.training.align', 'spacy.training.alignment', 'spacy.training.iob_utils', 'spacy.pipeline._parser_internals', 'spacy.pipeline._parser_internals.nonproj', 'spacy.training.example', 'spacy.training.augment', 'spacy.training.corpus', 'spacy.training.gold_io', 'spacy.training.batchers', 'spacy.training.loggers', 'spacy.pipe_analysis', 'spacy.schemas', 'spacy.training.pretrain', 'spacy.training.initialize', 'spacy.scorer', 'spacy.lang.char_classes', 'spacy.lang.tokenizer_exceptions', 'spacy.lang.punctuation', 'spacy.matcher.matcher', 'spacy.matcher.phrasematcher', 'spacy.matcher.dependencymatcher', 'spacy.matcher', 'spacy.tokenizer', 'spacy.git_info', 'spacy.language', 'spacy.training.callbacks', 'spacy.training', 'spacy.pipeline.pipe', 'spacy.pipeline.attributeruler', 'spacy.pipeline.trainable_pipe', 'spacy.pipeline._parser_internals.stateclass', 'spacy.pipeline._parser_internals.transition_system', 'thinc.extra', 'thinc.extra.search', 'spacy.kb', 'spacy.ml.models.entity_linker', 'spacy.ml.models.multi_task', 'spacy.ml._precomputable_affine', 'spacy.ml.parser_model', 'spacy.ml.tb_framework', 'spacy.ml.models.parser', 'spacy.ml.models.tagger', 'spacy.ml.extract_ngrams', 'spacy.ml.staticvectors', 'spacy.ml._character_embed', 'spacy.ml.featureextractor', 'spacy.pipeline.tok2vec', 'spacy.ml.models.tok2vec', 'spacy.ml.models.textcat', 'spacy.ml.models', 'spacy.ml', 'spacy.pipeline._parser_internals._beam_utils', 'spacy.pipeline.transition_parser', 'spacy.pipeline._parser_internals.arc_eager', 'spacy.pipeline.functions', 'spacy.pipeline.dep_parser', 'spacy.pipeline.entity_linker', 'spacy.pipeline._parser_internals.ner', 'spacy.pipeline.ner', 'spacy.pipeline.entityruler', 'spacy.pipeline.lemmatizer', 'spacy.pipeline.tagger', 'spacy.pipeline.morphologizer', 'spacy.pipeline.senter', 'spacy.pipeline.sentencizer', 'spacy.pipeline.textcat', 'spacy.pipeline.textcat_multilabel', 'spacy.pipeline', 'click._compat', 'click._unicodefun', 'click.globals', 'click.utils', 'click.exceptions', 'click.parser', 'click.types', 'click.termui', 'click.formatting', 'click.core', 'click.decorators', 'click', 'typer.colors', 'click._bashcomplete', 'typer.models', 'typer.params', 'typer.utils', 'typer.completion', 'typer.core', 'typer.main', 'typer', 'spacy.cli._util', 'urllib3.packages.ssl_match_hostname', 'urllib3.packages', 'urllib3.packages.six', 'urllib3.packages.six.moves', 'urllib3.packages.six.moves.http_client', 'urllib3.exceptions', 'urllib3.util.wait', 'urllib3.contrib', 'urllib3.contrib._appengine_environ', 'urllib3.util.connection', '_cffi_backend', '_brotli.lib', '_brotli', 'brotli._brotli', 'brotli.brotli', 'brotli', 'urllib3.util.request', 'urllib3.util.response', 'urllib3.util.url', 'urllib3.util.ssl_', 'urllib3.util.timeout', 'urllib3.util.retry', 'urllib3.util', 'urllib3._collections', 'urllib3.connection', 'urllib3.fields', 'urllib3.filepost', 'urllib3.packages.six.moves.urllib', 'urllib3.packages.six.moves.urllib.parse', 'urllib3.request', 'urllib3.response', 'urllib3.util.queue', 'urllib3.connectionpool', 'urllib3.poolmanager', 'urllib3._version', 'urllib3', 'chardet.compat', 'chardet.enums', 'chardet.charsetprober', 'chardet.charsetgroupprober', 'chardet.codingstatemachine', 'chardet.escsm', 'chardet.escprober', 'chardet.latin1prober', 'chardet.mbcssm', 'chardet.utf8prober', 'chardet.mbcharsetprober', 'chardet.euctwfreq', 'chardet.euckrfreq', 'chardet.gb2312freq', 'chardet.big5freq', 'chardet.jisfreq', 'chardet.chardistribution', 'chardet.jpcntx', 'chardet.sjisprober', 'chardet.eucjpprober', 'chardet.gb2312prober', 'chardet.euckrprober', 'chardet.cp949prober', 'chardet.big5prober', 'chardet.euctwprober', 'chardet.mbcsgroupprober', 'chardet.sbcharsetprober', 'chardet.langcyrillicmodel', 'chardet.langgreekmodel', 'chardet.langbulgarianmodel', 'chardet.langthaimodel', 'chardet.langhebrewmodel', 'chardet.hebrewprober', 'chardet.langturkishmodel', 'chardet.sbcsgroupprober', 'chardet.universaldetector', 'chardet.version', 'chardet', 'requests.exceptions', 'requests.__version__', 'importlib.resources', 'certifi.core', 'certifi', 'requests.certs', 'http.cookiejar', 'http.cookies', 'requests.compat', 'requests._internal_utils', 'requests.cookies', 'requests.structures', 'requests.utils', 'requests.packages.urllib3.packages.ssl_match_hostname', 'requests.packages.urllib3.packages', 'requests.packages.urllib3.packages.six', 'requests.packages.urllib3.packages.six.moves', 'requests.packages.urllib3.packages.six.moves.http_client', 'requests.packages.urllib3.exceptions', 'requests.packages.urllib3.util.wait', 'requests.packages.urllib3.contrib', 'requests.packages.urllib3.contrib._appengine_environ', 'requests.packages.urllib3.util.connection', 'requests.packages.urllib3.util.request', 'requests.packages.urllib3.util.response', 'requests.packages.urllib3.util.url', 'requests.packages.urllib3.util.ssl_', 'requests.packages.urllib3.util.timeout', 'requests.packages.urllib3.util.retry', 'requests.packages.urllib3.util', 'requests.packages.urllib3._collections', 'requests.packages.urllib3.connection', 'requests.packages.urllib3.fields', 'requests.packages.urllib3.filepost', 'requests.packages.urllib3.packages.six.moves.urllib', 'requests.packages.urllib3.packages.six.moves.urllib.parse', 'requests.packages.urllib3.request', 'requests.packages.urllib3.response', 'requests.packages.urllib3.util.queue', 'requests.packages.urllib3.connectionpool', 'requests.packages.urllib3.poolmanager', 'requests.packages.urllib3._version', 'requests.packages.urllib3', 'idna.package_data', 'idna.idnadata', 'idna.intranges', 'idna.core', 'idna', 'requests.packages.idna.package_data', 'requests.packages.idna.idnadata', 'requests.packages.idna.intranges', 'requests.packages.idna.core', 'requests.packages.idna', 'requests.packages.chardet.compat', 'requests.packages.chardet.enums', 'requests.packages.chardet.charsetprober', 'requests.packages.chardet.charsetgroupprober', 'requests.packages.chardet.codingstatemachine', 'requests.packages.chardet.escsm', 'requests.packages.chardet.escprober', 'requests.packages.chardet.latin1prober', 'requests.packages.chardet.mbcssm', 'requests.packages.chardet.utf8prober', 'requests.packages.chardet.mbcharsetprober', 'requests.packages.chardet.euctwfreq', 'requests.packages.chardet.euckrfreq', 'requests.packages.chardet.gb2312freq', 'requests.packages.chardet.big5freq', 'requests.packages.chardet.jisfreq', 'requests.packages.chardet.chardistribution', 'requests.packages.chardet.jpcntx', 'requests.packages.chardet.sjisprober', 'requests.packages.chardet.eucjpprober', 'requests.packages.chardet.gb2312prober', 'requests.packages.chardet.euckrprober', 'requests.packages.chardet.cp949prober', 'requests.packages.chardet.big5prober', 'requests.packages.chardet.euctwprober', 'requests.packages.chardet.mbcsgroupprober', 'requests.packages.chardet.sbcharsetprober', 'requests.packages.chardet.langcyrillicmodel', 'requests.packages.chardet.langgreekmodel', 'requests.packages.chardet.langbulgarianmodel', 'requests.packages.chardet.langthaimodel', 'requests.packages.chardet.langhebrewmodel', 'requests.packages.chardet.hebrewprober', 'requests.packages.chardet.langturkishmodel', 'requests.packages.chardet.sbcsgroupprober', 'requests.packages.chardet.universaldetector', 'requests.packages.chardet.version', 'requests.packages.chardet', 'requests.packages', 'stringprep', 'encodings.idna', 'requests.hooks', 'requests.auth', 'requests.status_codes', 'requests.models', 'socks', 'urllib3.contrib.socks', 'requests.adapters', 'requests.sessions', 'requests.api', 'requests', 'spacy.cli.download', 'spacy.cli.info', 'spacy.cli.package', 'spacy.cli.profile', 'spacy.training.loop', 'spacy.cli.train', 'spacy.cli.assemble', 'spacy.cli.pretrain', 'spacy.cli.debug_data', 'spacy.cli.debug_config', 'spacy.cli.debug_model', 'spacy.displacy.templates', 'spacy.displacy.render', 'spacy.displacy', 'spacy.cli.evaluate', 'spacy.training.converters.conll_ner_to_docs', 'spacy.training.converters.iob_to_docs', 'spacy.lang.xx', 'spacy.training.converters.json_to_docs', 'spacy.training.converters.conllu_to_docs', 'spacy.training.converters', 'spacy.cli.convert', 'spacy.cli.init_pipeline', 'jinja2.bccache', 'markupsafe._speedups', 'markupsafe', 'jinja2.utils', 'jinja2.nodes', 'jinja2.exceptions', 'jinja2.visitor', 'jinja2.idtracking', 'jinja2.optimizer', 'jinja2.compiler', 'jinja2.async_utils', 'jinja2.runtime', 'jinja2.filters', 'jinja2.tests', 'jinja2.defaults', 'jinja2._identifier', 'jinja2.lexer', 'jinja2.parser', 'jinja2.environment', 'jinja2.loaders', 'jinja2', 'spacy.cli.init_config', 'spacy.cli.validate', 'spacy.cli.project', 'spacy.cli.project.clone', 'spacy.cli.project.assets', 'spacy.cli.project.run', 'spacy.cli.project.dvc', 'spacy.cli.project.remote_storage', 'spacy.cli.project.push', 'spacy.cli.project.pull', 'spacy.cli.project.document', 'spacy.cli', 'spacy.glossary', 'spacy', 'transformers.dependency_versions_table', 'transformers.utils', 'transformers.utils.versions', 'distutils.dir_util', 'filelock', 'huggingface_hub.constants', 'huggingface_hub.hf_api', 'huggingface_hub.file_download', 'huggingface_hub.lfs', 'huggingface_hub.repository', 'huggingface_hub.hub_mixin', 'huggingface_hub.snapshot_download', 'huggingface_hub', 'transformers.utils.logging', 'transformers.file_utils', 'transformers.dependency_versions_check', 'transformers.utils.dummy_timm_objects', 'transformers.utils.dummy_tf_objects', 'transformers.utils.dummy_flax_objects', 'transformers', 'transformers.models.albert', 'transformers.models.auto', 'transformers.models.bart', 'transformers.models.barthez', 'transformers.models.bert', 'transformers.models.bert_generation', 'transformers.models.bert_japanese', 'transformers.models.bertweet', 'transformers.models.big_bird', 'transformers.models.bigbird_pegasus', 'transformers.models.blenderbot', 'transformers.models.blenderbot_small', 'transformers.models.camembert', 'transformers.models.clip', 'transformers.models.convbert', 'transformers.models.cpm', 'transformers.models.ctrl', 'transformers.models.deberta', 'transformers.models.deit', 'transformers.models.detr', 'transformers.models.dialogpt', 'transformers.models.distilbert', 'transformers.models.dpr', 'transformers.models.electra', 'transformers.models.encoder_decoder', 'transformers.models.flaubert', 'transformers.models.fsmt', 'transformers.models.funnel', 'transformers.models.gpt2', 'transformers.models.gpt_neo', 'transformers.models.herbert', 'transformers.configuration_utils', 'transformers.models.bert.configuration_bert', 'transformers.models.layoutlm.configuration_layoutlm', 'tokenizers.tokenizers', 'tokenizers.models', 'tokenizers.normalizers', 'tokenizers.pre_tokenizers', 'tokenizers.processors', 'tokenizers.decoders', 'tokenizers.implementations.base_tokenizer', 'tokenizers.implementations.byte_level_bpe', 'tokenizers.implementations.char_level_bpe', 'tokenizers.implementations.sentencepiece_bpe', 'tokenizers.implementations.sentencepiece_unigram', 'tokenizers.implementations.bert_wordpiece', 'tokenizers.implementations', 'tokenizers', 'transformers.tokenization_utils_base', 'transformers.tokenization_utils', 'transformers.models.bert.tokenization_bert', 'transformers.models.layoutlm.tokenization_layoutlm', 'transformers.models.layoutlm', 'transformers.models.led', 'transformers.models.longformer', 'transformers.models.luke', 'transformers.models.lxmert', 'transformers.models.m2m_100', 'transformers.models.marian', 'transformers.models.mbart', 'transformers.models.megatron_bert', 'transformers.models.mmbt', 'transformers.models.mobilebert', 'transformers.models.mpnet', 'transformers.models.t5', 'swig_runtime_data4', 'sentencepiece._sentencepiece', 'sentencepiece', 'transformers.models.t5.tokenization_t5', 'transformers.convert_slow_tokenizer', 'transformers.tokenization_utils_fast', 'transformers.models.t5.tokenization_t5_fast', 'transformers.models.mt5', 'transformers.models.openai', 'transformers.models.pegasus', 'transformers.models.phobert', 'transformers.models.prophetnet', 'transformers.models.rag', 'transformers.models.reformer', 'transformers.models.retribert', 'transformers.models.roberta', 'transformers.models.roformer', 'transformers.models.speech_to_text', 'transformers.models.squeezebert', 'transformers.models.tapas', 'transformers.models.transfo_xl', 'transformers.models.visual_bert', 'transformers.models.vit', 'transformers.models.wav2vec2', 'transformers.models.xlm', 'transformers.models.xlm_roberta', 'transformers.models.xlnet', 'transformers.models', 'unidecode', 'process', 'sentence_transformers.readers.InputExample', 'sentence_transformers.readers.LabelSentenceReader', 'sentence_transformers.readers.NLIDataReader', 'sentence_transformers.readers.STSDataReader', 'sentence_transformers.readers.TripletReader', 'sentence_transformers.readers', 'xml.etree', 'xml.etree.ElementPath', '_elementtree', 'xml.etree.ElementTree', 'nltk.internals', 'nltk.probability', 'nltk.collections', 'nltk.util', 'scipy._lib._testutils', 'scipy._lib', 'scipy._lib.deprecation', 'scipy.__config__', 'scipy.version', 'scipy._distributor_init', 'scipy._lib._pep440', 'scipy._lib._ccallback_c', 'scipy._lib._ccallback', 'scipy', 'scipy._lib._util', 'scipy.sparse.sputils', 'scipy.sparse.base', 'scipy.sparse._sparsetools', 'scipy.sparse.data', 'scipy.sparse.dia', 'scipy.sparse._index', 'scipy.sparse.compressed', 'scipy.sparse.csr', 'scipy.sparse.csc', 'scipy.sparse._csparsetools', 'scipy.sparse.lil', 'scipy.sparse.dok', 'scipy.sparse.coo', 'scipy.sparse.bsr', 'scipy.sparse.construct', 'scipy.sparse.extract', 'scipy.sparse._matrix_io', 'scipy.sparse.csgraph._laplacian', 'scipy.sparse.csgraph._tools', 'scipy.sparse.csgraph._validation', 'scipy.sparse.csgraph._shortest_path', 'scipy.sparse.csgraph._traversal', 'scipy.sparse.csgraph._min_spanning_tree', 'scipy.sparse.csgraph._flow', 'scipy.sparse.csgraph._matching', 'scipy.sparse.csgraph._reordering', 'scipy.sparse.csgraph', 'scipy.sparse', 'scipy.spatial.ckdtree', 'scipy.spatial.kdtree', 'scipy._lib.messagestream', 'scipy.spatial.qhull', 'scipy.spatial._voronoi', 'scipy.spatial._spherical_voronoi', 'scipy._lib.decorator', 'scipy.spatial._plotutils', 'scipy.linalg._fblas', 'scipy.linalg.blas', 'scipy.linalg._flapack', 'scipy.linalg.lapack', 'scipy.linalg.misc', 'scipy.linalg._flinalg', 'scipy.linalg.flinalg', 'scipy.linalg.decomp', 'scipy.linalg.decomp_svd', 'scipy.linalg._solve_toeplitz', 'scipy.linalg.basic', 'scipy.linalg.decomp_lu', 'scipy.linalg._decomp_ldl', 'scipy.linalg.decomp_cholesky', 'scipy.linalg.decomp_qr', 'scipy.linalg._decomp_qz', 'scipy.linalg.decomp_schur', 'scipy.linalg._decomp_polar', 'scipy.linalg.special_matrices', 'scipy.linalg._expm_frechet', 'scipy.linalg._matfuncs_sqrtm_triu', 'scipy.linalg._matfuncs_sqrtm', 'scipy.linalg.matfuncs', 'scipy.linalg._solvers', 'scipy.linalg._procrustes', 'scipy.linalg.cython_blas', 'scipy.linalg.cython_lapack', 'scipy.linalg._decomp_update', 'scipy.linalg._sketches', 'scipy.linalg._decomp_cossin', 'scipy.linalg', 'scipy.spatial._procrustes', 'scipy.spatial._distance_wrap', 'scipy.spatial._hausdorff', 'scipy.special.sf_error', 'scipy.special._ufuncs_cxx', 'scipy.special._ufuncs', 'scipy.special.specfun', 'scipy.special.orthogonal', 'scipy.special._comb', 'scipy.special._basic', 'scipy.special._logsumexp', 'scipy.special.spfun_stats', 'scipy.special._ellip_harm_2', 'scipy.special._ellip_harm', 'scipy.special._lambertw', 'scipy.special._spherical_bessel', 'scipy.special', 'scipy.spatial.distance', 'scipy.spatial._geometric_slerp', 'scipy.constants.codata', 'scipy.constants.constants', 'scipy.constants', 'scipy.spatial.transform._rotation_groups', 'scipy.spatial.transform.rotation', 'scipy.spatial.transform._rotation_spline', 'scipy.spatial.transform', 'scipy.spatial', 'scipy.ndimage._ni_support', 'scipy.ndimage._nd_image', 'scipy._lib.doccer', 'scipy.ndimage._ni_docstrings', 'scipy.ndimage.filters', 'scipy.ndimage.fourier', 'scipy.ndimage.interpolation', '_ni_label', 'scipy.ndimage._ni_label', 'scipy.ndimage.morphology', 'scipy.ndimage.measurements', 'scipy.ndimage', 'scipy.stats._distr_params', 'scipy.optimize.minpack2', 'scipy.optimize.linesearch', 'scipy.sparse.linalg.isolve._iterative', 'scipy.sparse.linalg.interface', 'scipy.sparse.linalg.isolve.utils', 'scipy._lib._threadsafety', 'scipy.sparse.linalg.isolve.iterative', 'scipy.sparse.linalg.isolve.minres', 'scipy.sparse.linalg.isolve._gcrotmk', 'scipy.sparse.linalg.isolve.lgmres', 'scipy.sparse.linalg.isolve.lsqr', 'scipy.sparse.linalg.isolve.lsmr', 'scipy.sparse.linalg.isolve', 'scipy.sparse.linalg.dsolve._superlu', 'scipy.sparse.linalg.dsolve.linsolve', 'scipy.sparse.linalg.dsolve._add_newdocs', 'scipy.sparse.linalg.dsolve', 'scipy.sparse.linalg.eigen.arpack._arpack', 'scipy.sparse.linalg.eigen.lobpcg.lobpcg', 'scipy.sparse.linalg.eigen.lobpcg', 'scipy.sparse.linalg.eigen.arpack.arpack', 'scipy.sparse.linalg.eigen.arpack', 'scipy.sparse.linalg.eigen', 'scipy.sparse.linalg._expm_multiply', 'scipy.sparse.linalg.matfuncs', 'scipy.sparse.linalg._onenormest', 'scipy.sparse.linalg._norm', 'scipy.sparse.linalg', 'scipy.optimize._group_columns', 'scipy.optimize._numdiff', 'scipy.optimize._hessian_update_strategy', 'scipy.optimize._differentiable_functions', 'scipy.optimize.optimize', 'scipy.optimize._trustregion', 'scipy.optimize._trustregion_dogleg', 'scipy.optimize._trustregion_ncg', 'scipy.optimize._trlib._trlib', 'scipy.optimize._trlib', 'scipy.optimize._trustregion_krylov', 'scipy.optimize._trustregion_exact', 'unittest.util', 'unittest.result', 'unittest.case', 'unittest.async_case', 'unittest.suite', 'unittest.loader', 'unittest.signals', 'unittest.runner', 'unittest.main', 'unittest', 'numpy.testing._private', 'numpy.testing._private.utils', 'numpy.testing._private.decorators', 'numpy.testing._private.nosetester', 'numpy.testing', 'scipy.optimize._constraints', 'scipy.optimize._trustregion_constr.projections', 'scipy.optimize._trustregion_constr.qp_subproblem', 'scipy.optimize._trustregion_constr.equality_constrained_sqp', 'scipy.optimize._trustregion_constr.canonical_constraint', 'scipy.optimize._trustregion_constr.tr_interior_point', 'scipy.optimize._trustregion_constr.report', 'scipy.optimize._trustregion_constr.minimize_trustregion_constr', 'scipy.optimize._trustregion_constr', 'scipy.optimize._lbfgsb', 'scipy.optimize.lbfgsb', 'scipy.optimize.moduleTNC', 'scipy.optimize.tnc', 'scipy.optimize._cobyla', 'scipy.optimize.cobyla', 'scipy.optimize._slsqp', 'scipy.optimize.slsqp', 'scipy.optimize._minimize', 'scipy.optimize._minpack', 'scipy.optimize._lsq.common', 'scipy.optimize._lsq.trf', 'scipy.optimize._lsq.dogbox', 'scipy.optimize._lsq.least_squares', 'scipy.optimize._lsq.givens_elimination', 'scipy.optimize._lsq.trf_linear', 'scipy.optimize._lsq.bvls', 'scipy.optimize._lsq.lsq_linear', 'scipy.optimize._lsq', 'scipy.optimize.minpack', 'scipy.optimize._spectral', 'scipy.optimize.nonlin', 'scipy.optimize._root', 'scipy.optimize._zeros', 'scipy.optimize.zeros', 'scipy.optimize._root_scalar', 'scipy.optimize.__nnls', 'scipy.optimize._nnls', 'scipy.optimize._basinhopping', 'scipy.optimize._highs', 'scipy.optimize._highs.cython.src._highs_wrapper', 'scipy.optimize._highs._highs_wrapper', 'scipy.optimize._highs.cython.src._highs_constants', 'scipy.optimize._highs._highs_constants', 'scipy.optimize._linprog_highs', 'scipy.linalg._interpolative', 'scipy.linalg._interpolative_backend', 'scipy.linalg.interpolative', 'scipy.optimize._remove_redundancy', 'scipy.optimize._linprog_util', 'scipy.optimize._linprog_ip', 'scipy.optimize._linprog_simplex', 'scipy.optimize._bglu_dense', 'scipy.optimize._linprog_rs', 'scipy.optimize._linprog_doc', 'scipy.optimize._linprog', 'scipy.optimize._lsap_module', 'scipy.optimize._lsap', 'scipy.optimize._differentialevolution', 'scipy.optimize._shgo_lib', 'scipy.optimize._shgo_lib.sobol_seq', 'scipy.optimize._shgo_lib.triangulation', 'scipy.optimize._shgo', 'scipy.optimize._dual_annealing', 'scipy.optimize._qap', 'scipy.optimize', 'scipy.integrate._quadrature', 'scipy.integrate._odepack', 'scipy.integrate.odepack', 'scipy.integrate._quadpack', 'scipy.integrate.quadpack', 'scipy.integrate.vode', 'scipy.integrate._dop', 'scipy.integrate.lsoda', 'scipy.integrate._ode', 'scipy.integrate._bvp', 'scipy.integrate._ivp.common', 'scipy.integrate._ivp.base', 'scipy.integrate._ivp.bdf', 'scipy.integrate._ivp.radau', 'scipy.integrate._ivp.dop853_coefficients', 'scipy.integrate._ivp.rk', 'scipy.integrate._ivp.lsoda', 'scipy.integrate._ivp.ivp', 'scipy.integrate._ivp', 'scipy.integrate._quad_vec', 'scipy.integrate', 'scipy.misc.doccer', 'scipy.misc.common', 'scipy.misc', 'scipy.stats._constants', 'scipy.stats._distn_infrastructure', 'scipy.interpolate._fitpack', 'scipy.interpolate.dfitpack', 'scipy.interpolate._fitpack_impl', 'scipy.interpolate._bspl', 'scipy.interpolate._bsplines', 'scipy.interpolate.fitpack', 'scipy.interpolate.polyint', 'scipy.interpolate._ppoly', 'scipy.interpolate.fitpack2', 'scipy.interpolate.interpnd', 'scipy.interpolate.interpolate', 'scipy.interpolate.rbf', 'scipy.interpolate._cubic', 'scipy.interpolate.ndgriddata', 'scipy.interpolate._pade', 'scipy.interpolate', 'scipy.special.cython_special', 'scipy.stats._stats', 'scipy.stats._rvs_sampling', 'scipy.stats._tukeylambda_stats', 'scipy.stats._ksstats', 'scipy.stats._continuous_distns', 'scipy.stats._discrete_distns', 'scipy.stats.distributions', 'scipy._lib._bunch', 'scipy.stats._stats_mstats_common', 'scipy.stats.mstats_basic', 'scipy.stats._wilcoxon_data', 'scipy.stats._hypotests', 'scipy.stats.stats', 'scipy.stats.statlib', 'scipy.stats.contingency', 'scipy.stats.morestats', 'scipy.stats._binned_statistic', 'scipy.stats.mvn', 'scipy.stats.kde', 'scipy.stats.mstats_extras', 'scipy.stats.mstats', 'scipy.stats._multivariate', 'scipy.stats', 'nltk.metrics.scores', 'nltk.metrics.confusionmatrix', 'nltk.metrics.distance', 'nltk.metrics.paice', 'nltk.metrics.segmentation', 'nltk.metrics.agreement', 'nltk.metrics.association', 'nltk.metrics.spearman', 'nltk.metrics.aline', 'nltk.metrics', 'nltk.collocations', 'nltk.decorators', 'nltk.sem.logic', 'nltk.sem.evaluate', 'nltk.sem.util', 'nltk.sem.skolemize', 'nltk.sem.lfg', 'nltk.sem.relextract', 'optparse', '_tkinter', 'tkinter.constants', 'tkinter', 'tkinter.font', 'nltk.sem.drt', 'nltk.sem.boxer', 'nltk.sem', 'nltk.featstruct', 'nltk.grammar', 'nltk.lm.counter', 'nltk.lm.util', 'nltk.lm.vocabulary', 'nltk.lm.api', 'nltk.lm.smoothing', 'nltk.lm.models', 'nltk.lm', 'nltk.lm.preprocessing', 'nltk.compat', 'nltk.data', 'regex._regex', 'regex._regex_core', 'regex.regex', 'regex', 'nltk.tokenize.casual', 'xml.sax.handler', 'xml.sax._exceptions', 'xml.sax.xmlreader', 'xml.sax', 'xml.sax.saxutils', 'nltk.tokenize.util', 'nltk.tokenize.api', 'nltk.tokenize.mwe', 'nltk.tokenize.destructive', 'nltk.tokenize.punkt', 'nltk.tokenize.regexp', 'nltk.tokenize.repp', 'nltk.tokenize.sexpr', 'nltk.tokenize.simple', 'nltk.tokenize.texttiling', 'nltk.tokenize.toktok', 'nltk.tokenize.treebank', 'nltk.tokenize.stanford_segmenter', 'nltk.tokenize.sonority_sequencing', 'nltk.tokenize.legality_principle', 'nltk.tokenize', 'nltk.text', 'nltk.tree', 'nltk.jsontags', 'nltk.parse.api', 'nltk.parse.chart', 'nltk.parse.featurechart', 'nltk.parse.earleychart', 'nltk.parse.pchart', 'nltk.parse.recursivedescent', 'nltk.parse.shiftreduce', 'nltk.parse.util', 'nltk.parse.viterbi', 'nltk.parse.dependencygraph', 'nltk.parse.projectivedependencyparser', 'nltk.parse.nonprojectivedependencyparser', 'nltk.parse.malt', 'nltk.parse.evaluate', 'sklearn._config', 'sklearn._distributor_init', 'sklearn.__check_build._check_build', 'sklearn.__check_build', 'sklearn.utils.murmurhash', 'joblib.hashing', 'joblib.disk', 'joblib.logger', 'joblib.func_inspect', 'joblib.backports', 'joblib.compressor', 'joblib.numpy_pickle_utils', 'joblib.numpy_pickle_compat', 'joblib.numpy_pickle', 'joblib._store_backends', 'joblib.memory', 'joblib._multiprocessing_helpers', 'joblib._deprecated_my_exceptions', 'joblib.my_exceptions', 'joblib.externals', 'joblib.externals.loky._base', 'joblib.externals.loky.backend.compat_posix', 'joblib.externals.loky.backend.compat', 'joblib.externals.loky.backend.process', 'joblib.externals.loky.backend.context', 'multiprocessing.synchronize', 'joblib.externals.loky.backend', 'joblib.externals.loky.backend._posix_reduction', 'joblib.externals.cloudpickle.compat', 'joblib.externals.cloudpickle.cloudpickle', 'joblib.externals.cloudpickle.cloudpickle_fast', 'joblib.externals.cloudpickle', 'joblib.externals.loky.backend.reduction', 'multiprocessing.queues', 'joblib.externals.loky.backend.queues', 'joblib.externals.loky.backend.utils', 'concurrent.futures.process', 'joblib.externals.loky.process_executor', 'joblib.externals.loky.reusable_executor', 'joblib.externals.loky.cloudpickle_wrapper', 'joblib.externals.loky', 'joblib.externals.loky.backend.spawn', 'joblib.externals.loky.backend.resource_tracker', 'joblib._memmapping_reducer', 'multiprocessing.pool', 'joblib.pool', 'joblib.executor', 'joblib._parallel_backends', 'joblib.parallel', 'joblib', 'sklearn.utils.deprecation', 'pkg_resources.extern', 'pkg_resources._vendor', 'pkg_resources._vendor.appdirs', 'pkg_resources.extern.appdirs', 'pkg_resources._vendor.packaging.__about__', 'pkg_resources._vendor.packaging', 'pkg_resources.extern.packaging', 'pkg_resources.extern.packaging._structures', 'pkg_resources.extern.packaging._typing', 'pkg_resources.extern.packaging.version', 'pkg_resources.extern.packaging._compat', 'pkg_resources.extern.packaging.utils', 'pkg_resources.extern.packaging.specifiers', 'pkg_resources._vendor.pyparsing', 'pkg_resources.extern.pyparsing', 'pkg_resources.extern.packaging.markers', 'pkg_resources.extern.packaging.requirements', 'pkg_resources', 'sklearn.utils.fixes', 'sklearn.exceptions', 'sklearn.utils.validation', 'sklearn.utils.class_weight', 'sklearn.utils._joblib', 'sklearn.utils._estimator_html_repr', 'sklearn.utils', 'sklearn.utils._tags', 'sklearn.base', 'sklearn.utils._openmp_helpers', 'sklearn.utils._show_versions', 'sklearn', 'sklearn.datasets._base', 'sklearn.datasets._covtype', 'sklearn.datasets._kddcup99', 'sklearn.datasets._lfw', 'sklearn.feature_extraction._dict_vectorizer', 'sklearn.feature_extraction._hashing_fast', 'sklearn.feature_extraction._hash', 'sklearn.feature_extraction.image', 'sklearn.preprocessing._function_transformer', 'sklearn.utils._logistic_sigmoid', 'sklearn.utils.sparsefuncs_fast', 'sklearn.utils.extmath', 'sklearn.utils.sparsefuncs', 'sklearn.preprocessing._csr_polynomial_expansion', 'sklearn.utils._encode', 'sklearn.preprocessing._encoders', 'sklearn.preprocessing._data', 'sklearn.utils.multiclass', 'sklearn.preprocessing._label', 'sklearn.preprocessing._discretization', 'sklearn.preprocessing', 'sklearn.feature_extraction._stop_words', 'sklearn.feature_extraction.text', 'sklearn.feature_extraction', 'sklearn.datasets._twenty_newsgroups', 'sklearn.externals', 'sklearn.externals._arff', 'sklearn.datasets._openml', 'sklearn.utils._random', 'sklearn.utils.random', 'sklearn.datasets._samples_generator', 'sklearn.datasets._svmlight_format_fast', 'sklearn.datasets._svmlight_format_io', 'scipy.io.matlab.byteordercodes', 'scipy.io.matlab.miobase', 'scipy.io.matlab.mio_utils', 'scipy.io.matlab.mio4', 'scipy.io.matlab.streams', 'scipy.io.matlab.mio5_params', 'scipy.io.matlab.mio5_utils', 'scipy.io.matlab.mio5', 'scipy.io.matlab.mio', 'scipy.io.matlab', 'scipy.io.netcdf', 'scipy.io._fortran', 'scipy.io.mmio', 'scipy.io.idl', 'scipy.io.harwell_boeing._fortran_format_parser', 'scipy.io.harwell_boeing.hb', 'scipy.io.harwell_boeing', 'scipy.io', 'sklearn.datasets._olivetti_faces', 'sklearn.datasets._species_distributions', 'sklearn.datasets._california_housing', 'sklearn.datasets._rcv1', 'sklearn.datasets', 'sklearn.utils._cython_blas', 'sklearn.svm._libsvm', 'sklearn.svm._liblinear', 'sklearn.svm._libsvm_sparse', 'sklearn.svm._base', 'sklearn.utils._seq_dataset', 'sklearn.linear_model._base', 'sklearn.linear_model._bayes', 'sklearn.utils.arrayfuncs', 'sklearn.model_selection._split', 'sklearn.utils.metaestimators', 'sklearn.metrics._base', 'sklearn.metrics._ranking', 'sklearn.metrics._classification', 'sklearn.metrics.cluster._expected_mutual_info_fast', 'sklearn.metrics.cluster._supervised', 'sklearn.utils._mask', 'sklearn.metrics._pairwise_fast', 'sklearn.metrics.pairwise', 'sklearn.metrics.cluster._unsupervised', 'sklearn.metrics.cluster._bicluster', 'sklearn.metrics.cluster', 'sklearn._loss', 'sklearn._loss.glm_distribution', 'sklearn.utils.stats', 'sklearn.metrics._regression', 'sklearn.metrics._scorer', 'sklearn.metrics._plot', 'sklearn.metrics._plot.base', 'sklearn.metrics._plot.det_curve', 'sklearn.metrics._plot.roc_curve', 'sklearn.metrics._plot.precision_recall_curve', 'sklearn.metrics._plot.confusion_matrix', 'sklearn.metrics', 'sklearn.model_selection._validation', 'sklearn.model_selection._search', 'sklearn.model_selection', 'sklearn.linear_model._least_angle', 'sklearn.linear_model._cd_fast', 'sklearn.linear_model._coordinate_descent', 'sklearn.utils.optimize', 'sklearn.linear_model._glm.link', 'sklearn.linear_model._glm.glm', 'sklearn.linear_model._glm', 'sklearn.linear_model._huber', 'sklearn.utils._weight_vector', 'sklearn.linear_model._sgd_fast', 'sklearn.linear_model._stochastic_gradient', 'sklearn.linear_model._sag_fast', 'sklearn.linear_model._sag', 'sklearn.linear_model._ridge', 'sklearn.linear_model._logistic', 'sklearn.linear_model._omp', 'sklearn.linear_model._passive_aggressive', 'sklearn.linear_model._perceptron', 'sklearn.linear_model._ransac', 'sklearn.linear_model._theil_sen', 'sklearn.linear_model', 'sklearn.svm._classes', 'sklearn.svm._bounds', 'sklearn.svm', 'nltk.parse.transitionparser', 'nltk.parse.bllip', 'nltk.tag.util', 'nltk.tag.api', 'nltk.classify.api', 'nltk.classify.megam', 'nltk.classify.weka', 'nltk.classify.naivebayes', 'nltk.classify.positivenaivebayes', 'nltk.classify.decisiontree', 'nltk.classify.util', 'nltk.classify.tadm', 'nltk.classify.maxent', 'nltk.classify.rte_classify', 'nltk.classify.scikitlearn', 'nltk.classify.senna', 'nltk.classify.textcat', 'nltk.classify', 'nltk.tag.sequential', 'nltk.tbl.feature', 'nltk.tbl.rule', 'nltk.tbl.template', 'nltk.tbl.erroranalysis', 'nltk.tbl', 'nltk.tag.brill', 'nltk.tag.brill_trainer', 'nltk.tag.tnt', 'nltk.tag.hunpos', 'nltk.tag.stanford', 'nltk.tag.hmm', 'nltk.tag.senna', 'nltk.tag.mapping', 'nltk.tag.crf', 'nltk.tag.perceptron', 'nltk.tag', 'nltk.parse.corenlp', 'nltk.parse', 'nltk.chunk.util', 'nltk.chunk.api', 'nltk.chunk.regexp', 'nltk.chunk', 'nltk.inference.api', 'nltk.inference.prover9', 'nltk.inference.mace', 'nltk.inference.resolution', 'nltk.inference.tableau', 'nltk.sem.linearlogic', 'nltk.sem.glue', 'nltk.inference.discourse', 'nltk.inference', 'nltk.translate.api', 'nltk.translate.ibm_model', 'nltk.translate.ibm1', 'nltk.translate.ibm2', 'nltk.translate.ibm3', 'nltk.translate.ibm4', 'nltk.translate.ibm5', 'fractions', 'nltk.translate.bleu_score', 'nltk.translate.ribes_score', 'nltk.stem.api', 'nltk.stem.regexp', 'nltk.stem.lancaster', 'nltk.stem.isri', 'nltk.stem.porter', 'nltk.corpus.util', 'nltk.corpus.reader.util', 'nltk.corpus.reader.api', 'nltk.corpus.reader.plaintext', 'nltk.corpus.reader.timit', 'nltk.corpus.reader.tagged', 'nltk.corpus.reader.cmudict', 'nltk.corpus.reader.conll', 'nltk.corpus.reader.bracket_parse', 'nltk.corpus.reader.chunked', 'nltk.corpus.reader.wordlist', 'nltk.corpus.reader.xmldocs', 'nltk.corpus.reader.ppattach', 'nltk.corpus.reader.senseval', 'nltk.corpus.reader.ieer', 'nltk.corpus.reader.sinica_treebank', 'nltk.corpus.reader.indian', 'nltk.toolbox', 'nltk.corpus.reader.toolbox', 'nltk.corpus.reader.ycoe', 'nltk.corpus.reader.rte', 'nltk.corpus.reader.string_category', 'nltk.corpus.reader.propbank', 'nltk.corpus.reader.verbnet', 'nltk.corpus.reader.bnc', 'nltk.corpus.reader.nps_chat', 'nltk.corpus.reader.wordnet', 'nltk.corpus.reader.switchboard', 'nltk.corpus.reader.dependency', 'nltk.corpus.reader.nombank', 'nltk.corpus.reader.ipipan', 'nltk.corpus.reader.pl196x', 'nltk.corpus.reader.knbc', 'nltk.corpus.reader.chasen', 'nltk.corpus.reader.childes', 'nltk.corpus.reader.aligned', 'nltk.corpus.reader.lin', 'nltk.corpus.reader.semcor', 'nltk.corpus.reader.framenet', 'nltk.corpus.reader.udhr', 'nltk.corpus.reader.sentiwordnet', 'nltk.corpus.reader.twitter', 'nltk.corpus.reader.nkjp', 'nltk.corpus.reader.crubadan', 'nltk.corpus.reader.mte', 'nltk.corpus.reader.reviews', 'nltk.corpus.reader.opinion_lexicon', 'nltk.corpus.reader.pros_cons', 'nltk.corpus.reader.categorized_sents', 'nltk.corpus.reader.comparative_sents', 'nltk.corpus.reader.panlex_lite', 'nltk.corpus.reader.panlex_swadesh', 'nltk.corpus.reader', 'nltk.corpus', 'nltk.stem.util', 'nltk.stem.snowball', 'nltk.stem.wordnet', 'nltk.stem.rslp', 'nltk.stem.cistem', 'nltk.stem', 'nltk.translate.meteor_score', 'nltk.translate.metrics', 'nltk.translate.stack_decoder', 'nltk.translate.nist_score', 'nltk.translate.chrf_score', 'nltk.translate.gale_church', 'nltk.translate.gdfa', 'nltk.translate.gleu_score', 'nltk.translate.phrase_based', 'nltk.translate', 'nltk.lazyimport', 'nltk.cluster.api', 'nltk.cluster.util', 'nltk.cluster.kmeans', 'nltk.cluster.gaac', 'nltk.cluster.em', 'nltk.cluster', 'tkinter.commondialog', 'tkinter.messagebox', 'tkinter.dialog', 'tkinter.filedialog', 'nltk.draw.util', 'nltk.draw.tree', 'nltk.draw.cfg', 'nltk.draw.table', 'nltk.draw.dispersion', 'nltk.draw', 'nltk.downloader', 'nltk.ccg.api', 'nltk.ccg.combinator', 'nltk.ccg.lexicon', 'nltk.ccg.logic', 'nltk.ccg.chart', 'nltk.ccg', 'nltk.help', 'nltk.misc.chomsky', 'nltk.misc.wordfinder', 'nltk.misc.minimalset', 'nltk.misc.babelfish', 'nltk.misc', 'nltk.wsd', 'nltk.treetransforms', 'nltk', 'sentence_transformers.datasets.DenoisingAutoEncoderDataset', 'sentence_transformers.evaluation.SentenceEvaluator', 'sentence_transformers.evaluation.SimilarityFunction', 'sentence_transformers.evaluation.BinaryClassificationEvaluator', 'sentence_transformers.evaluation.EmbeddingSimilarityEvaluator', 'sentence_transformers.util', 'sentence_transformers.evaluation.InformationRetrievalEvaluator', 'sentence_transformers.evaluation.LabelAccuracyEvaluator', 'sentence_transformers.evaluation.MSEEvaluator', 'sentence_transformers.evaluation.MSEEvaluatorFromDataFrame', 'sentence_transformers.evaluation.ParaphraseMiningEvaluator', 'sentence_transformers.evaluation.SequentialEvaluator', 'sentence_transformers.evaluation.TranslationEvaluator', 'sentence_transformers.evaluation.TripletEvaluator', 'sentence_transformers.evaluation.RerankingEvaluator', 'sentence_transformers.evaluation', 'transformers.activations', 'transformers.modeling_outputs', 'transformers.deepspeed', 'transformers.generation_beam_search', 'transformers.generation_logits_process', 'transformers.generation_stopping_criteria', 'transformers.generation_utils', 'transformers.modeling_utils', 'transformers.models.albert.configuration_albert', 'transformers.models.albert.modeling_albert', 'torch.utils.checkpoint', 'transformers.models.bart.configuration_bart', 'transformers.models.bart.modeling_bart', 'transformers.models.bert.modeling_bert', 'transformers.models.bert_generation.configuration_bert_generation', 'transformers.models.bert_generation.modeling_bert_generation', 'transformers.models.big_bird.configuration_big_bird', 'transformers.models.big_bird.modeling_big_bird', 'transformers.models.bigbird_pegasus.configuration_bigbird_pegasus', 'transformers.models.bigbird_pegasus.modeling_bigbird_pegasus', 'transformers.models.blenderbot_small.configuration_blenderbot_small', 'transformers.models.blenderbot_small.modeling_blenderbot_small', 'transformers.models.blenderbot.configuration_blenderbot', 'transformers.models.blenderbot.modeling_blenderbot', 'transformers.models.roberta.configuration_roberta', 'transformers.models.roberta.modeling_roberta', 'transformers.models.camembert.configuration_camembert', 'transformers.models.camembert.modeling_camembert', 'transformers.models.clip.configuration_clip', 'transformers.models.clip.modeling_clip', 'transformers.models.convbert.configuration_convbert', 'transformers.models.convbert.modeling_convbert', 'transformers.models.ctrl.configuration_ctrl', 'transformers.models.ctrl.modeling_ctrl', 'transformers.models.deberta.configuration_deberta', 'transformers.models.deberta.modeling_deberta', 'transformers.models.deberta_v2', 'transformers.models.deberta_v2.configuration_deberta_v2', 'transformers.models.deberta_v2.modeling_deberta_v2', 'transformers.models.deit.configuration_deit', 'transformers.models.deit.modeling_deit', 'transformers.models.detr.configuration_detr', 'PIL._version', 'PIL', 'PIL.ImageMode', 'PIL.TiffTags', 'PIL._binary', 'PIL._util', 'PIL._imaging', 'cffi.lock', 'cffi.error', 'cffi.model', 'cffi.api', 'cffi', 'PIL.Image', 'transformers.feature_extraction_utils', 'transformers.image_utils', 'transformers.models.detr.feature_extraction_detr', 'transformers.models.detr.modeling_detr', 'transformers.models.distilbert.configuration_distilbert', 'transformers.models.distilbert.modeling_distilbert', 'transformers.models.dpr.configuration_dpr', 'transformers.models.dpr.modeling_dpr', 'transformers.models.electra.configuration_electra', 'transformers.models.electra.modeling_electra', 'transformers.models.encoder_decoder.configuration_encoder_decoder', 'transformers.models.encoder_decoder.modeling_encoder_decoder', 'transformers.models.xlm.configuration_xlm', 'transformers.models.xlm.modeling_xlm', 'transformers.models.flaubert.configuration_flaubert', 'transformers.models.flaubert.modeling_flaubert', 'transformers.models.fsmt.configuration_fsmt', 'transformers.models.fsmt.modeling_fsmt', 'transformers.models.funnel.configuration_funnel', 'transformers.models.funnel.modeling_funnel', 'transformers.utils.model_parallel_utils', 'transformers.models.gpt2.configuration_gpt2', 'transformers.models.gpt2.modeling_gpt2', 'transformers.models.gpt_neo.configuration_gpt_neo', 'transformers.models.gpt_neo.modeling_gpt_neo', 'transformers.models.hubert', 'transformers.models.hubert.configuration_hubert', 'transformers.models.hubert.modeling_hubert', 'transformers.models.ibert', 'transformers.models.ibert.configuration_ibert', 'transformers.models.ibert.quant_modules', 'transformers.models.ibert.modeling_ibert', 'transformers.models.layoutlm.modeling_layoutlm', 'transformers.models.led.configuration_led', 'transformers.models.led.modeling_led', 'transformers.models.longformer.configuration_longformer', 'transformers.models.longformer.modeling_longformer', 'transformers.models.luke.configuration_luke', 'transformers.models.luke.modeling_luke', 'transformers.models.lxmert.configuration_lxmert', 'transformers.models.lxmert.modeling_lxmert', 'transformers.models.m2m_100.configuration_m2m_100', 'transformers.models.m2m_100.modeling_m2m_100', 'transformers.models.marian.configuration_marian', 'transformers.models.marian.modeling_marian', 'transformers.models.mbart.configuration_mbart', 'transformers.models.mbart.modeling_mbart', 'transformers.models.megatron_bert.configuration_megatron_bert', 'transformers.models.megatron_bert.modeling_megatron_bert', 'transformers.models.mobilebert.configuration_mobilebert', 'transformers.models.mobilebert.modeling_mobilebert', 'transformers.models.mpnet.configuration_mpnet', 'transformers.models.mpnet.modeling_mpnet', 'transformers.models.t5.configuration_t5', 'transformers.models.t5.modeling_t5', 'transformers.models.mt5.configuration_mt5', 'transformers.models.mt5.modeling_mt5', 'transformers.models.openai.configuration_openai', 'transformers.models.openai.modeling_openai', 'transformers.models.pegasus.configuration_pegasus', 'transformers.models.pegasus.modeling_pegasus', 'transformers.models.prophetnet.configuration_prophetnet', 'transformers.models.prophetnet.modeling_prophetnet', 'transformers.models.rag.configuration_rag', 'transformers.models.rag.tokenization_rag', 'transformers.models.rag.retrieval_rag', 'transformers.models.rag.modeling_rag', 'transformers.models.reformer.configuration_reformer', 'transformers.models.reformer.modeling_reformer', 'transformers.models.retribert.configuration_retribert', 'transformers.models.retribert.modeling_retribert', 'transformers.models.roformer.configuration_roformer', 'transformers.models.roformer.modeling_roformer', 'transformers.models.speech_to_text.configuration_speech_to_text', 'transformers.models.speech_to_text.modeling_speech_to_text', 'transformers.models.squeezebert.configuration_squeezebert', 'transformers.models.squeezebert.modeling_squeezebert', 'transformers.models.tapas.configuration_tapas', 'transformers.models.tapas.modeling_tapas', 'transformers.models.transfo_xl.configuration_transfo_xl', 'transformers.models.transfo_xl.modeling_transfo_xl_utilities', 'transformers.models.transfo_xl.modeling_transfo_xl', 'transformers.models.visual_bert.configuration_visual_bert', 'transformers.models.visual_bert.modeling_visual_bert', 'transformers.models.vit.configuration_vit', 'transformers.models.vit.modeling_vit', 'transformers.models.wav2vec2.configuration_wav2vec2', 'transformers.models.wav2vec2.modeling_wav2vec2', 'transformers.models.xlm_prophetnet.configuration_xlm_prophetnet', 'transformers.models.xlm_prophetnet.tokenization_xlm_prophetnet', 'transformers.models.xlm_prophetnet.modeling_xlm_prophetnet', 'transformers.models.xlm_prophetnet', 'transformers.models.xlm_roberta.configuration_xlm_roberta', 'transformers.models.xlm_roberta.modeling_xlm_roberta', 'transformers.models.xlnet.configuration_xlnet', 'transformers.models.xlnet.modeling_xlnet', 'transformers.models.auto.configuration_auto', 'transformers.models.auto.auto_factory', 'transformers.models.auto.modeling_auto', 'transformers.models.gpt2.tokenization_gpt2', 'transformers.models.roberta.tokenization_roberta', 'transformers.models.bart.tokenization_bart', 'transformers.models.bert_japanese.tokenization_bert_japanese', 'transformers.models.bertweet.tokenization_bertweet', 'transformers.models.blenderbot.tokenization_blenderbot', 'transformers.models.blenderbot_small.tokenization_blenderbot_small', 'transformers.models.byt5', 'transformers.models.byt5.tokenization_byt5', 'transformers.models.convbert.tokenization_convbert', 'transformers.models.ctrl.tokenization_ctrl', 'transformers.models.deberta.tokenization_deberta', 'transformers.models.distilbert.tokenization_distilbert', 'transformers.models.dpr.tokenization_dpr', 'transformers.models.electra.tokenization_electra', 'sacremoses.corpus', 'sacremoses.util', 'sacremoses.indic', 'sacremoses.tokenize', 'sacremoses.truecase', 'sacremoses.normalize', 'sacremoses', 'transformers.models.xlm.tokenization_xlm', 'transformers.models.flaubert.tokenization_flaubert', 'transformers.models.fsmt.tokenization_fsmt', 'transformers.models.funnel.tokenization_funnel', 'transformers.models.herbert.tokenization_herbert', 'transformers.models.led.tokenization_led', 'transformers.models.longformer.tokenization_longformer', 'transformers.models.luke.tokenization_luke', 'transformers.models.lxmert.tokenization_lxmert', 'transformers.models.mobilebert.tokenization_mobilebert', 'transformers.models.mpnet.tokenization_mpnet', 'transformers.models.openai.tokenization_openai', 'transformers.models.phobert.tokenization_phobert', 'transformers.models.prophetnet.tokenization_prophetnet', 'transformers.models.retribert.tokenization_retribert', 'transformers.models.roformer.tokenization_roformer', 'transformers.models.squeezebert.tokenization_squeezebert', 'transformers.models.tapas.tokenization_tapas', 'transformers.models.transfo_xl.tokenization_transfo_xl', 'transformers.models.wav2vec2.tokenization_wav2vec2', 'transformers.models.albert.tokenization_albert', 'transformers.models.barthez.tokenization_barthez', 'transformers.models.bert_generation.tokenization_bert_generation', 'transformers.models.big_bird.tokenization_big_bird', 'transformers.models.camembert.tokenization_camembert', 'transformers.models.xlnet.tokenization_xlnet', 'transformers.models.cpm.tokenization_cpm', 'transformers.models.deberta_v2.tokenization_deberta_v2', 'transformers.models.m2m_100.tokenization_m2m_100', 'transformers.models.marian.tokenization_marian', 'transformers.models.xlm_roberta.tokenization_xlm_roberta', 'transformers.models.mbart.tokenization_mbart', 'transformers.models.mbart.tokenization_mbart50', 'transformers.models.pegasus.tokenization_pegasus', 'transformers.models.reformer.tokenization_reformer', 'transformers.models.speech_to_text.tokenization_speech_to_text', 'transformers.models.albert.tokenization_albert_fast', 'transformers.models.gpt2.tokenization_gpt2_fast', 'transformers.models.roberta.tokenization_roberta_fast', 'transformers.models.bart.tokenization_bart_fast', 'transformers.models.barthez.tokenization_barthez_fast', 'transformers.models.bert.tokenization_bert_fast', 'transformers.models.big_bird.tokenization_big_bird_fast', 'transformers.models.camembert.tokenization_camembert_fast', 'transformers.models.convbert.tokenization_convbert_fast', 'transformers.models.deberta.tokenization_deberta_fast', 'transformers.models.distilbert.tokenization_distilbert_fast', 'transformers.models.dpr.tokenization_dpr_fast', 'transformers.models.electra.tokenization_electra_fast', 'transformers.models.funnel.tokenization_funnel_fast', 'transformers.models.herbert.tokenization_herbert_fast', 'transformers.models.layoutlm.tokenization_layoutlm_fast', 'transformers.models.led.tokenization_led_fast', 'transformers.models.longformer.tokenization_longformer_fast', 'transformers.models.lxmert.tokenization_lxmert_fast', 'transformers.models.mbart.tokenization_mbart50_fast', 'transformers.models.xlm_roberta.tokenization_xlm_roberta_fast', 'transformers.models.mbart.tokenization_mbart_fast', 'transformers.models.mobilebert.tokenization_mobilebert_fast', 'transformers.models.mpnet.tokenization_mpnet_fast', 'transformers.models.openai.tokenization_openai_fast', 'transformers.models.pegasus.tokenization_pegasus_fast', 'transformers.models.reformer.tokenization_reformer_fast', 'transformers.models.retribert.tokenization_retribert_fast', 'transformers.models.squeezebert.tokenization_squeezebert_fast', 'transformers.models.xlnet.tokenization_xlnet_fast', 'transformers.models.auto.tokenization_auto', 'sentence_transformers.models.Transformer', 'sentence_transformers.models.Asym', 'sentence_transformers.models.tokenizer.WordTokenizer', 'sentence_transformers.models.tokenizer.WhitespaceTokenizer', 'sentence_transformers.models.tokenizer', 'sentence_transformers.models.BoW', 'sentence_transformers.models.CNN', 'sentence_transformers.models.Dense', 'sentence_transformers.models.LayerNorm', 'sentence_transformers.models.LSTM', 'sentence_transformers.models.Normalize', 'sentence_transformers.models.Pooling', 'sentence_transformers.models.WKPooling', 'sentence_transformers.models.WeightedLayerPooling', 'sentence_transformers.models.WordEmbeddings', 'sentence_transformers.models.WordWeights', 'sentence_transformers.models', 'transformers.trainer_utils', 'transformers.optimization', 'sentence_transformers.SentenceTransformer', 'sentence_transformers.datasets.ParallelSentencesDataset', 'sentence_transformers.datasets.SentencesDataset', 'sentence_transformers.datasets.SentenceLabelDataset', 'sentence_transformers.datasets', 'sentence_transformers.LoggingHandler', 'sentence_transformers.cross_encoder.CrossEncoder', 'sentence_transformers.cross_encoder', 'sentence_transformers', 'gensim.parsing.porter', 'smart_open.version', 'smart_open.local_file', 'smart_open.compression', 'smart_open.bytebuffer', 'smart_open.constants', 'smart_open.azure', 'smart_open.utils', 'smart_open.gcs', 'smart_open.hdfs', 'smart_open.http', 'smart_open.concurrency', 'smart_open.s3', 'smart_open.ssh', 'smart_open.webhdfs', 'smart_open.transport', 'smart_open.doctools', 'smart_open.smart_open_lib', 'smart_open', 'gensim.utils', 'gensim.parsing.preprocessing', 'gensim.parsing', 'gensim._matutils', 'gensim.corpora._mmreader', 'gensim.matutils', 'gensim.interfaces', 'gensim.corpora.indexedcorpus', 'gensim.corpora.mmcorpus', 'gensim.corpora.bleicorpus', 'gensim.corpora.svmlightcorpus', 'gensim.corpora.lowcorpus', 'gensim.corpora.dictionary', 'gensim.corpora.hashdictionary', 'gensim.corpora.textcorpus', 'gensim.corpora.wikicorpus', 'gensim.corpora.ucicorpus', 'gensim.corpora.malletcorpus', 'gensim.corpora', 'gensim.topic_coherence', 'gensim.topic_coherence.segmentation', 'gensim.models.keyedvectors', 'gensim.models.word2vec_inner', 'gensim.models.word2vec_corpusfile', 'gensim.models.word2vec', 'gensim.topic_coherence.text_analysis', 'gensim.topic_coherence.probability_estimation', 'gensim.topic_coherence.direct_confirmation_measure', 'gensim.topic_coherence.indirect_confirmation_measure', 'gensim.topic_coherence.aggregation', 'gensim.models.coherencemodel', 'gensim.models.basemodel', 'gensim.models.callbacks', 'gensim.models.ldamodel', 'gensim.models.hdpmodel', 'scipy.sparse.sparsetools', 'gensim.models.lsimodel', 'gensim.models.tfidfmodel', 'gensim.models.rpmodel', 'gensim.models.logentropy_model', 'gensim.models.doc2vec_inner', 'gensim.models.doc2vec_corpusfile', 'gensim.models.doc2vec', 'gensim.models.ldamulticore', 'gensim.models.phrases', 'gensim.models.normmodel', 'gensim.models.atmodel', 'gensim.models.ldaseqmodel', 'gensim.models._fasttext_bin', 'gensim.models.fasttext_inner', 'gensim.models.fasttext_corpusfile', 'gensim.models.fasttext', 'gensim.models.translation_matrix', 'gensim.models', 'gensim.similarities.docsim', 'gensim.similarities.termsim', 'gensim.similarities', 'gensim', 'pyphen', 'textstat.textstat', 'textstat', 'utils', 'corpus_toolkit', 'en_core_web_sm', 'spacy.lang.en.tokenizer_exceptions', 'spacy.lang.en.stop_words', 'spacy.lang.en.lex_attrs', 'spacy.lang.en.syntax_iterators', 'spacy.lang.en.punctuation', 'spacy.lang.en.lemmatizer', 'spacy.lang.en', 'spacy_legacy', 'spacy_legacy.architectures', 'spacy_legacy.architectures.tok2vec', 'spacy_legacy.architectures.textcat', 'spacy_legacy.layers', 'spacy_legacy.layers.staticvectors_v1', 'corpus_toolkit.corpus_tools', 'multiprocessing.spawn', '_posixshmem', 'multiprocessing.resource_tracker', 'de_core_news_sm', 'spacy.lang.de.tokenizer_exceptions', 'spacy.lang.de.punctuation', 'spacy.lang.de.stop_words', 'spacy.lang.de.syntax_iterators', 'spacy.lang.de', 'encodings.cp437', 'unidecode.x020', 'unidecode.x000', 'unidecode.x001', 'unidecode.x01e', 'unidecode.x003', 'unidecode.x01f', 'unidecode.x002', 'multiprocessing.popen_fork', 'multiprocessing.popen_spawn_posix', 'autoreload', 'handcrafted_features', 'pandas.io.formats.csvs', 'sklearn.feature_selection._base', 'sklearn.feature_selection._univariate_selection', 'sklearn.feature_selection._variance_threshold', 'sklearn.feature_selection._rfe', 'sklearn.feature_selection._from_model', 'sklearn.feature_selection._sequential', 'sklearn.neighbors._typedefs', 'sklearn.neighbors._dist_metrics', 'sklearn.neighbors._ball_tree', 'sklearn.neighbors._kd_tree', 'sklearn.neighbors._base', 'sklearn.neighbors._unsupervised', 'sklearn.neighbors._graph', 'sklearn.neighbors._classification', 'sklearn.neighbors._regression', 'sklearn.neighbors._nearest_centroid', 'sklearn.neighbors._kde', 'sklearn.neighbors._lof', 'sklearn.decomposition._cdnmf_fast', 'sklearn.decomposition._nmf', 'sklearn.decomposition._base', 'sklearn.utils._arpack', 'sklearn.decomposition._pca', 'sklearn.decomposition._incremental_pca', 'sklearn.decomposition._kernel_pca', 'sklearn.decomposition._dict_learning', 'sklearn.decomposition._sparse_pca', 'sklearn.decomposition._truncated_svd', 'sklearn.decomposition._fastica', 'sklearn.decomposition._factor_analysis', 'sklearn.decomposition._online_lda_fast', 'sklearn.decomposition._lda', 'sklearn.decomposition', 'sklearn.neighbors._nca', 'sklearn.neighbors', 'sklearn.feature_selection._mutual_info', 'sklearn.feature_selection', 'sklearn.impute._base', 'sklearn.impute._knn', 'sklearn.impute', 'xgboost.compat', 'xgboost.libpath', 'xgboost.core', 'xgboost.rabit', 'xgboost.callback', 'xgboost.training', 'xgboost.tracker', 'xgboost.config', 'xgboost.data', 'xgboost.sklearn', 'xgboost.dask', 'xgboost.plotting', 'xgboost', 'matplotlib', 'matplotlib._api.deprecation', 'matplotlib._api', 'matplotlib._c_internal_utils', 'matplotlib.cbook', 'matplotlib.docstring', 'matplotlib._animation_data', 'matplotlib.animation', 'PIL.ImageChops', 'PIL.ImageFile', 'PIL.GimpGradientFile', 'PIL.GimpPaletteFile', 'PIL.ImageColor', 'PIL.PaletteFile', 'PIL.ImagePalette', 'PIL.ImageSequence', 'PIL.PngImagePlugin', 'matplotlib._path', 'matplotlib.bezier', 'matplotlib.path', 'matplotlib.transforms', 'matplotlib.ticker', 'matplotlib.scale', 'matplotlib._color_data', 'matplotlib.colors', 'pyparsing', 'matplotlib.fontconfig_pattern', 'matplotlib._enums', 'cycler', 'matplotlib.rcsetup', 'matplotlib._version', 'matplotlib.ft2font', 'kiwisolver', 'dateutil.rrule', 'matplotlib.units', 'matplotlib.dates']\n"
     ]
    },
    {
     "name": "stderr",
     "output_type": "stream",
     "text": [
      "DEBUG:matplotlib:CACHEDIR=/Users/arda/.matplotlib\n",
      "DEBUG:matplotlib.font_manager:Using fontManager instance from /Users/arda/.matplotlib/fontlist-v330.json\n",
      "DEBUG:matplotlib.pyplot:Loaded backend module://ipykernel.pylab.backend_inline version unknown.\n",
      "DEBUG:matplotlib.pyplot:Loaded backend module://ipykernel.pylab.backend_inline version unknown.\n"
     ]
    }
   ],
   "source": [
    "from sklearn.feature_selection import SelectKBest, f_regression, mutual_info_regression\n",
    "from sklearn.preprocessing import StandardScaler\n",
    "from sklearn.decomposition import PCA\n",
    "from sklearn.impute import KNNImputer\n",
    "from sklearn.linear_model import Lasso\n",
    "from sklearn.svm import SVR\n",
    "from xgboost import XGBRegressor\n",
    "import matplotlib.pyplot as plt\n",
    "from copy import deepcopy\n",
    "from utils import read_labels\n",
    "from sklearn.metrics import mean_squared_error, mean_absolute_error\n",
    "\n",
    "labels = read_labels(labels_dir, lang)\n",
    "\n",
    "class Experiment(object):\n",
    "    def __init__(self, features, drop_columns_including, dimensionality_reduction, model, verbose):\n",
    "        assert features in [\"book\", \"chunk\", \"book_and_averaged_chunk\", \"chunk_and_copied_book\"]\n",
    "        assert isinstance(drop_columns_including, list)\n",
    "        for i in drop_columns_including:\n",
    "            assert isinstance(i, str)\n",
    "        assert model in [\"xgboost\", \"svr\", \"lasso\"]\n",
    "        assert (dimensionality_reduction in [\"ss_pca_0_95\", \"k_best_f_reg_0_10\", \"k_best_mutual_info_0_10\"]) or (dimensionality_reduction is None)\n",
    "        self.features = features\n",
    "        self.labels = labels\n",
    "        self.drop_columns_including = drop_columns_including\n",
    "        self.dimensionality_reduction = dimensionality_reduction\n",
    "        self.model = model\n",
    "        self.verbose = verbose\n",
    "\n",
    "        if features == \"book\":\n",
    "            self.df = deepcopy(book_df)\n",
    "        elif features == \"chunk\":\n",
    "            self.df = deepcopy(chunk_df)\n",
    "        elif features == \"chunk_and_copied_book\":\n",
    "            self.df = deepcopy(chunk_and_copied_book_df)\n",
    "        elif features == \"book_and_averaged_chunk\":\n",
    "            self.df = deepcopy(book_and_averaged_chunk_df)\n",
    "\n",
    "        columns_before_drop = set(self.df.columns)\n",
    "        self.df = self.df[[column for column in self.df.columns if not self._drop_column(column)]].reset_index(drop=True)\n",
    "        columns_after_drop = set(self.df.columns)\n",
    "        if self.verbose:\n",
    "            print(f\"Dropped {len(columns_before_drop - columns_after_drop)} columns.\")\n",
    "        self.df.loc[:, \"y\"] = self.df.book_name.apply(lambda x: self.labels[x]).tolist()\n",
    "\n",
    "    def _drop_column(self, column):\n",
    "        for string in self.drop_columns_including:\n",
    "            if string in column:\n",
    "                return True\n",
    "        return False\n",
    "    \n",
    "    def _custom_pca(self, train_X):\n",
    "        for i in range(5, train_X.shape[1], int((train_X.shape[1] - 5) / 10)):\n",
    "            pca = PCA(n_components=i)\n",
    "            new_train_X = pca.fit_transform(train_X)\n",
    "            if pca.explained_variance_ratio_.sum() >= 0.95:\n",
    "                break\n",
    "        return new_train_X, pca\n",
    "\n",
    "    def _select_features(self, train_X, train_y, validation_X):\n",
    "        if self.dimensionality_reduction == \"ss_pca_0_95\":\n",
    "            ss = StandardScaler()\n",
    "            train_X = ss.fit_transform(train_X)\n",
    "            validation_X = ss.transform(validation_X)\n",
    "            train_X, pca = self._custom_pca(train_X)\n",
    "            validation_X = pca.transform(validation_X)\n",
    "        elif self.dimensionality_reduction == \"k_best_f_reg_0_10\":\n",
    "            k_best = SelectKBest(f_regression, k=np.minimum(int(0.10 * train_X.shape[0]), train_X.shape[1]))\n",
    "            train_X = k_best.fit_transform(train_X, train_y)\n",
    "            validation_X = k_best.transform(validation_X)\n",
    "        elif self.dimensionality_reduction == \"k_best_mutual_info_0_10\":\n",
    "            k_best = SelectKBest(mutual_info_regression, k=np.minimum(int(0.10 * train_X.shape[0]), train_X.shape[1]))\n",
    "            train_X = k_best.fit_transform(train_X, train_y)\n",
    "            validation_X = k_best.transform(validation_X)\n",
    "        elif self.dimensionality_reduction is None:\n",
    "            pass\n",
    "        return train_X, validation_X\n",
    "    \n",
    "    def _impute(self, train_X, validation_X):\n",
    "        imputer = KNNImputer()\n",
    "        train_X = imputer.fit_transform(train_X)\n",
    "        validation_X = imputer.transform(validation_X)\n",
    "        return train_X, validation_X\n",
    "    \n",
    "    def _get_model(self):\n",
    "        # if any of these performs better than others, we can try to tune the hyperparameters\n",
    "        # but I think for now it's more important to see which approach performs better\n",
    "        # chunk based or doc based\n",
    "        # use dimensionality reduction or not...\n",
    "        if self.model == \"xgboost\":\n",
    "            return XGBRegressor()\n",
    "        elif self.model == \"svr\":\n",
    "            return SVR()\n",
    "        elif self.model == \"lasso\":\n",
    "            return Lasso()\n",
    "            \n",
    "    def run(self):\n",
    "        all_predictions = []\n",
    "        all_labels = []\n",
    "        train_mses = []\n",
    "        train_maes = []\n",
    "        validation_mses = []\n",
    "        validation_maes = []\n",
    "\n",
    "        df = self.df\n",
    "        book_names = df['book_name'].unique()\n",
    "        book_names_splitted = np.array_split(book_names, 10)\n",
    "        for index, split in enumerate(book_names_splitted):\n",
    "            train_df = df[~df[\"book_name\"].isin(split)]\n",
    "            validation_df = df[df[\"book_name\"].isin(split)]\n",
    "            train_X = train_df.drop(columns=[\"y\", \"book_name\"]).values\n",
    "            train_y = train_df[\"y\"].values.ravel()\n",
    "            validation_X = validation_df.drop(columns=[\"y\", \"book_name\"]).values\n",
    "            validation_y = validation_df[\"y\"].values.ravel()\n",
    "            train_X, validation_X = self._impute(train_X, validation_X)\n",
    "            if self.verbose:\n",
    "                print(f\"train_X.shape before {self.dimensionality_reduction}: {train_X.shape}, validation_X.shape before {self.dimensionality_reduction}: {validation_X.shape}\")\n",
    "            train_X, validation_X = self._select_features(train_X, train_y, validation_X)\n",
    "            if self.verbose:\n",
    "                print(f\"train_X.shape after {self.dimensionality_reduction}: {train_X.shape}, validation_X.shape after {self.dimensionality_reduction}: {validation_X.shape}\")\n",
    "            model = self._get_model()\n",
    "            model.fit(train_X, train_y)\n",
    "            \n",
    "            train_books = deepcopy(train_df[[\"book_name\", \"y\"]])\n",
    "            train_books[\"yhat\"] = model.predict(train_X)\n",
    "            validation_books = deepcopy(validation_df[[\"book_name\", \"y\"]])\n",
    "            validation_books[\"yhat\"] = model.predict(validation_X)\n",
    "            \n",
    "            train_books = train_books.groupby(\"book_name\").mean()\n",
    "            validation_books = validation_books.groupby(\"book_name\").mean()\n",
    "            \n",
    "            train_y = train_books[\"y\"].tolist()\n",
    "            train_yhat = train_books[\"yhat\"].tolist()\n",
    "            validation_y = validation_books[\"y\"].tolist()\n",
    "            validation_yhat = validation_books[\"yhat\"].tolist()\n",
    "            \n",
    "            all_labels.extend(validation_y)\n",
    "            all_predictions.extend(validation_yhat)\n",
    "            \n",
    "            train_mse = mean_squared_error(train_y, train_yhat)\n",
    "            train_mae = mean_absolute_error(train_y, train_yhat)\n",
    "            validation_mse = mean_squared_error(validation_y, validation_yhat)\n",
    "            validation_mae = mean_absolute_error(validation_y, validation_yhat)\n",
    "            train_mses.append(train_mse)\n",
    "            train_maes.append(train_mae)\n",
    "            validation_mses.append(validation_mse)\n",
    "            validation_maes.append(validation_mae)\n",
    "            if self.verbose:\n",
    "                print(f\"Fold: {index+1}, TrainMSE: {np.round(train_mse, 3)}, TrainMAE: {np.round(train_mae, 3)}, ValMSE: {np.round(validation_mse, 3)}, ValMAE: {np.round(validation_mae, 3)}\")\n",
    "        all_labels = np.array(all_labels)\n",
    "        all_predictions = np.array(all_predictions)\n",
    "\n",
    "        mean_train_mse = np.mean(train_mses)\n",
    "        mean_train_mae = np.mean(train_maes)\n",
    "        mean_validation_mse = np.mean(validation_mses)\n",
    "        mean_validation_mae = np.mean(validation_maes)\n",
    "        \n",
    "        if self.verbose:\n",
    "            print(\"------\")\n",
    "            print(f\"Mean scores, TrainMSE: {np.round(mean_train_mse, 3)}, TrainMAE: {np.round(mean_train_mae, 3)}, ValMSE: {np.round(mean_validation_mse, 3)}, ValMAE: {np.round(mean_validation_mae, 3)}\")\n",
    "\n",
    "            plt.figure(figsize=(18, 6))\n",
    "            plt.scatter(all_labels, all_predictions)\n",
    "            plt.xlabel(\"Ground Truths\")\n",
    "            plt.ylabel(\"Predictions\")\n",
    "\n",
    "            plt.show();\n",
    "        return mean_train_mse, mean_train_mae, mean_validation_mse, mean_validation_mae\n"
   ]
  },
  {
   "cell_type": "code",
   "execution_count": 10,
   "metadata": {},
   "outputs": [
    {
     "name": "stdout",
     "output_type": "stream",
     "text": [
      "xgboost book ['doc2vec_chunk_embedding'] k_best_f_reg_0_10 4.807713217890235e-05 0.004537267108704961 513.1769281216007 18.033354267502393\n",
      "xgboost book ['doc2vec_chunk_embedding'] ss_pca_0_95 1.6840018916110106e-07 0.0002819766959541119 477.2452824119606 17.09163827824862\n",
      "xgboost book ['doc2vec_chunk_embedding'] k_best_mutual_info_0_10 2.7690748633603928e-05 0.0035070224199384506 464.61438151991024 17.174451790482557\n",
      "xgboost book ['doc2vec_chunk_embedding'] None 1.5545129259084826e-07 0.0002857964579808374 449.5632570701091 16.587801288716502\n",
      "xgboost book ['average_sentence_embedding'] k_best_f_reg_0_10 4.807713217890235e-05 0.004537267108704961 513.1769281216007 18.033354267502393\n",
      "xgboost book ['average_sentence_embedding'] ss_pca_0_95 1.6840018916110106e-07 0.0002819766959541119 477.2452824119606 17.09163827824862\n",
      "xgboost book ['average_sentence_embedding'] k_best_mutual_info_0_10 2.4857977585706182e-05 0.0033357986357484383 479.6701222332387 17.54422914242373\n",
      "xgboost book ['average_sentence_embedding'] None 1.5545129259084826e-07 0.0002857964579808374 449.5632570701091 16.587801288716502\n",
      "xgboost book ['average_sentence_embedding', 'doc2vec_chunk_embedding'] k_best_f_reg_0_10 4.807713217890235e-05 0.004537267108704961 513.1769281216007 18.033354267502393\n",
      "xgboost book ['average_sentence_embedding', 'doc2vec_chunk_embedding'] ss_pca_0_95 1.6840018916110106e-07 0.0002819766959541119 477.2452824119606 17.09163827824862\n",
      "xgboost book ['average_sentence_embedding', 'doc2vec_chunk_embedding'] k_best_mutual_info_0_10 1.748204956226945e-05 0.0028032133179147723 481.7641373445681 17.444955859828674\n",
      "xgboost book ['average_sentence_embedding', 'doc2vec_chunk_embedding'] None 1.5545129259084826e-07 0.0002857964579808374 449.5632570701091 16.587801288716502\n",
      "xgboost book [] k_best_f_reg_0_10 4.807713217890235e-05 0.004537267108704961 513.1769281216007 18.033354267502393\n",
      "xgboost book [] ss_pca_0_95 1.6840018916110106e-07 0.0002819766959541119 477.2452824119606 17.09163827824862\n",
      "xgboost book [] k_best_mutual_info_0_10 1.8292461518395753e-05 0.002884947320989114 482.41705234369385 17.36772972803364\n",
      "xgboost book [] None 1.5545129259084826e-07 0.0002857964579808374 449.5632570701091 16.587801288716502\n",
      "xgboost chunk ['doc2vec_chunk_embedding'] k_best_f_reg_0_10 3.419162091778277 1.347257064411346 432.8597415500306 16.346161697254775\n",
      "xgboost chunk ['doc2vec_chunk_embedding'] ss_pca_0_95 9.56971924334331 2.237901738432236 425.973127813069 16.31151440569671\n",
      "xgboost chunk ['doc2vec_chunk_embedding'] k_best_mutual_info_0_10 3.419162091778277 1.347257064411346 432.8597415500306 16.346161697254775\n",
      "xgboost chunk ['doc2vec_chunk_embedding'] None 3.419162091778277 1.347257064411346 432.8597415500306 16.346161697254775\n",
      "xgboost chunk ['average_sentence_embedding'] k_best_f_reg_0_10 14.272714422721473 2.7731615856852794 380.1702367088201 15.384383257893191\n",
      "xgboost chunk ['average_sentence_embedding'] ss_pca_0_95 18.512612710449513 3.2067168168551574 382.6806712075331 15.514825326595451\n",
      "xgboost chunk ['average_sentence_embedding'] k_best_mutual_info_0_10 14.272714422721473 2.7731615856852794 380.1702367088201 15.384383257893191\n",
      "xgboost chunk ['average_sentence_embedding'] None 14.272714422721473 2.7731615856852794 380.1702367088201 15.384383257893191\n",
      "xgboost chunk ['average_sentence_embedding', 'doc2vec_chunk_embedding'] k_best_f_reg_0_10 78.7984479230702 6.564967494744806 452.5583541667758 16.701480400063545\n",
      "xgboost chunk ['average_sentence_embedding', 'doc2vec_chunk_embedding'] ss_pca_0_95 110.98198700204316 7.982514702151073 447.089758719796 16.61344322170502\n",
      "xgboost chunk ['average_sentence_embedding', 'doc2vec_chunk_embedding'] k_best_mutual_info_0_10 78.7984479230702 6.564967494744806 452.5583541667758 16.701480400063545\n",
      "xgboost chunk ['average_sentence_embedding', 'doc2vec_chunk_embedding'] None 78.7984479230702 6.564967494744806 452.5583541667758 16.701480400063545\n",
      "xgboost chunk [] k_best_f_reg_0_10 3.1541172115726637 1.2979158513927715 401.81640815868144 15.834122566004007\n",
      "xgboost chunk [] ss_pca_0_95 6.399470144230022 1.8435539666924317 409.7942088058294 16.008672507672703\n",
      "xgboost chunk [] k_best_mutual_info_0_10 3.1541172115726637 1.2979158513927715 401.81640815868144 15.834122566004007\n",
      "xgboost chunk [] None 3.1541172115726637 1.2979158513927715 401.81640815868144 15.834122566004007\n",
      "xgboost book_and_averaged_chunk ['doc2vec_chunk_embedding'] k_best_f_reg_0_10 1.0323610236806452e-05 0.002114270699963857 490.08128176352966 17.521803646716684\n",
      "xgboost book_and_averaged_chunk ['doc2vec_chunk_embedding'] ss_pca_0_95 1.4078436125812348e-07 0.000261250210211164 521.1912921409897 18.13725668311383\n",
      "xgboost book_and_averaged_chunk ['doc2vec_chunk_embedding'] k_best_mutual_info_0_10 1.3413859823928526e-05 0.0020962608873508716 470.30274630961355 17.420028970921827\n",
      "xgboost book_and_averaged_chunk ['doc2vec_chunk_embedding'] None 1.1736399438694576e-07 0.0002502941296538502 463.8228854402666 16.91264726131725\n",
      "xgboost book_and_averaged_chunk ['average_sentence_embedding'] k_best_f_reg_0_10 2.6453902984394173e-05 0.0031924431102731384 480.51639989022044 17.28450750572211\n",
      "xgboost book_and_averaged_chunk ['average_sentence_embedding'] ss_pca_0_95 1.6174604402519311e-07 0.0002804453465144468 469.0932661360339 16.99489383591084\n",
      "xgboost book_and_averaged_chunk ['average_sentence_embedding'] k_best_mutual_info_0_10 2.7933786173067786e-05 0.0033034025211227795 456.00477584184154 16.98825074534087\n",
      "xgboost book_and_averaged_chunk ['average_sentence_embedding'] None 1.4131767843046793e-07 0.00027826335981855354 422.12550307964193 16.220667563032997\n",
      "xgboost book_and_averaged_chunk ['average_sentence_embedding', 'doc2vec_chunk_embedding'] k_best_f_reg_0_10 6.188045280368326e-05 0.005188249839541087 513.7879366167879 18.00308510338004\n",
      "xgboost book_and_averaged_chunk ['average_sentence_embedding', 'doc2vec_chunk_embedding'] ss_pca_0_95 1.8258486892882516e-07 0.0002922620305760849 467.5892225373017 16.958684518466193\n",
      "xgboost book_and_averaged_chunk ['average_sentence_embedding', 'doc2vec_chunk_embedding'] k_best_mutual_info_0_10 2.1807213556595286e-05 0.00293352387759838 457.6280418026766 16.904245754667024\n",
      "xgboost book_and_averaged_chunk ['average_sentence_embedding', 'doc2vec_chunk_embedding'] None 1.5418896715164853e-07 0.00028645058193634324 461.39662429891143 16.865324987746614\n",
      "xgboost book_and_averaged_chunk [] k_best_f_reg_0_10 1.7717636440974222e-05 0.002671751608597344 500.37989365020456 17.994361718440974\n",
      "xgboost book_and_averaged_chunk [] ss_pca_0_95 1.3257109963667652e-07 0.00025656130128102686 486.61748285458344 17.447515704601997\n",
      "xgboost book_and_averaged_chunk [] k_best_mutual_info_0_10 9.058188481597836e-06 0.0018805900741509086 445.42744191087206 16.76412018816357\n",
      "xgboost book_and_averaged_chunk [] None 1.0768386414779083e-07 0.00024259969262493112 442.41366499887044 16.43644408329327\n",
      "xgboost chunk_and_copied_book ['doc2vec_chunk_embedding'] k_best_f_reg_0_10 3.3168519806014e-05 0.003585342557028625 418.6147534302827 16.145591821960217\n",
      "xgboost chunk_and_copied_book ['doc2vec_chunk_embedding'] ss_pca_0_95 0.4202857552771353 0.45956035132890066 440.52047157364416 16.607347405889655\n",
      "xgboost chunk_and_copied_book ['doc2vec_chunk_embedding'] k_best_mutual_info_0_10 3.258080283394914e-05 0.0034577564146556724 453.38561915146 16.935883138123472\n",
      "xgboost chunk_and_copied_book ['doc2vec_chunk_embedding'] None 3.0283102446465077e-05 0.0034203172431744528 454.008623458679 17.000847591553374\n",
      "xgboost chunk_and_copied_book ['average_sentence_embedding'] k_best_f_reg_0_10 2.481996353094506e-05 0.003004808706355239 451.0519866800989 16.911822395397877\n",
      "xgboost chunk_and_copied_book ['average_sentence_embedding'] ss_pca_0_95 0.0598405987585609 0.1694733979567908 470.0580732699276 17.016965946541404\n",
      "xgboost chunk_and_copied_book ['average_sentence_embedding'] k_best_mutual_info_0_10 2.481996353094506e-05 0.003004808706355239 451.0519866800989 16.911822395397877\n",
      "xgboost chunk_and_copied_book ['average_sentence_embedding'] None 2.481996353094506e-05 0.003004808706355239 451.0519866800989 16.911822395397877\n",
      "xgboost chunk_and_copied_book ['average_sentence_embedding', 'doc2vec_chunk_embedding'] k_best_f_reg_0_10 2.6176621315105276e-05 0.003037159366923239 454.49476111114836 16.9610045832626\n"
     ]
    },
    {
     "name": "stdout",
     "output_type": "stream",
     "text": [
      "xgboost chunk_and_copied_book ['average_sentence_embedding', 'doc2vec_chunk_embedding'] ss_pca_0_95 0.031007798899965106 0.112649696823188 472.61147102582345 17.166272903673097\n",
      "xgboost chunk_and_copied_book ['average_sentence_embedding', 'doc2vec_chunk_embedding'] k_best_mutual_info_0_10 2.6176621315105276e-05 0.003037159366923239 454.49476111114836 16.9610045832626\n",
      "xgboost chunk_and_copied_book ['average_sentence_embedding', 'doc2vec_chunk_embedding'] None 2.6176621315105276e-05 0.003037159366923239 454.49476111114836 16.9610045832626\n",
      "xgboost chunk_and_copied_book [] k_best_f_reg_0_10 3.5768181650435146e-05 0.00368765052008622 440.05480188035847 16.67976346876468\n",
      "xgboost chunk_and_copied_book [] ss_pca_0_95 0.2985183631441851 0.4024918250970685 429.57238062020525 16.29042142508256\n",
      "xgboost chunk_and_copied_book [] k_best_mutual_info_0_10 3.5155311296623486e-05 0.003454961903356102 448.9212695125493 16.85710398580677\n",
      "xgboost chunk_and_copied_book [] None 3.963593033215105e-05 0.0037782711034714026 453.1905459698598 16.981603658591737\n",
      "lasso book ['doc2vec_chunk_embedding'] k_best_f_reg_0_10 440.3872469403456 16.88443843124401 475.50760928841726 17.621345801550444\n",
      "lasso book ['doc2vec_chunk_embedding'] ss_pca_0_95 326.4060361518273 14.244824735227075 428.2421865998699 16.38501661192604\n",
      "lasso book ['doc2vec_chunk_embedding'] k_best_mutual_info_0_10 438.4367250408929 16.912636913919627 466.2774293350677 17.354564816300282\n",
      "lasso book ['doc2vec_chunk_embedding'] None 387.79850011293667 15.684441635977127 496.0523278275788 17.79486037733154\n",
      "lasso book ['average_sentence_embedding'] k_best_f_reg_0_10 440.3872469403456 16.88443843124401 475.50760928841726 17.621345801550444\n",
      "lasso book ['average_sentence_embedding'] ss_pca_0_95 326.4060361518273 14.244824735227075 428.2421865998699 16.38501661192604\n",
      "lasso book ['average_sentence_embedding'] k_best_mutual_info_0_10 439.0521494879141 16.89537391083718 462.13725343386506 17.310719666930222\n",
      "lasso book ['average_sentence_embedding'] None 387.79850011293667 15.684441635977127 496.0523278275788 17.79486037733154\n",
      "lasso book ['average_sentence_embedding', 'doc2vec_chunk_embedding'] k_best_f_reg_0_10 440.3872469403456 16.88443843124401 475.50760928841726 17.621345801550444\n",
      "lasso book ['average_sentence_embedding', 'doc2vec_chunk_embedding'] ss_pca_0_95 326.4060361518273 14.244824735227075 428.2421865998699 16.38501661192604\n",
      "lasso book ['average_sentence_embedding', 'doc2vec_chunk_embedding'] k_best_mutual_info_0_10 438.93826301923065 16.922762258599125 462.3932080980332 17.306622874216067\n",
      "lasso book ['average_sentence_embedding', 'doc2vec_chunk_embedding'] None 387.79850011293667 15.684441635977127 496.0523278275788 17.79486037733154\n",
      "lasso book [] k_best_f_reg_0_10 440.3872469403456 16.88443843124401 475.50760928841726 17.621345801550444\n",
      "lasso book [] ss_pca_0_95 326.4060361518273 14.244824735227075 428.2421865998699 16.38501661192604\n",
      "lasso book [] k_best_mutual_info_0_10 439.7173350339719 16.925023418707283 454.73742684629326 17.176181264311364\n",
      "lasso book [] None 387.79850011293667 15.684441635977127 496.0523278275788 17.79486037733154\n"
     ]
    },
    {
     "name": "stderr",
     "output_type": "stream",
     "text": [
      "/Users/arda/conda_root/lib/python3.8/site-packages/sklearn/linear_model/_coordinate_descent.py:530: ConvergenceWarning: Objective did not converge. You might want to increase the number of iterations. Duality gap: 1824326.2148529247, tolerance: 379.8643204124774\n",
      "  model = cd_fast.enet_coordinate_descent(\n",
      "/Users/arda/conda_root/lib/python3.8/site-packages/sklearn/linear_model/_coordinate_descent.py:530: ConvergenceWarning: Objective did not converge. You might want to increase the number of iterations. Duality gap: 2029942.0297392504, tolerance: 417.3449932205738\n",
      "  model = cd_fast.enet_coordinate_descent(\n",
      "/Users/arda/conda_root/lib/python3.8/site-packages/sklearn/linear_model/_coordinate_descent.py:530: ConvergenceWarning: Objective did not converge. You might want to increase the number of iterations. Duality gap: 2034710.6113140683, tolerance: 423.6390334598232\n",
      "  model = cd_fast.enet_coordinate_descent(\n",
      "/Users/arda/conda_root/lib/python3.8/site-packages/sklearn/linear_model/_coordinate_descent.py:530: ConvergenceWarning: Objective did not converge. You might want to increase the number of iterations. Duality gap: 1837743.5468032479, tolerance: 386.37759108549847\n",
      "  model = cd_fast.enet_coordinate_descent(\n",
      "/Users/arda/conda_root/lib/python3.8/site-packages/sklearn/linear_model/_coordinate_descent.py:530: ConvergenceWarning: Objective did not converge. You might want to increase the number of iterations. Duality gap: 1974826.951718677, tolerance: 407.7478092430379\n",
      "  model = cd_fast.enet_coordinate_descent(\n",
      "/Users/arda/conda_root/lib/python3.8/site-packages/sklearn/linear_model/_coordinate_descent.py:530: ConvergenceWarning: Objective did not converge. You might want to increase the number of iterations. Duality gap: 2046079.6596386866, tolerance: 426.14482711791266\n",
      "  model = cd_fast.enet_coordinate_descent(\n",
      "/Users/arda/conda_root/lib/python3.8/site-packages/sklearn/linear_model/_coordinate_descent.py:530: ConvergenceWarning: Objective did not converge. You might want to increase the number of iterations. Duality gap: 2026155.5496389365, tolerance: 418.28956997388366\n",
      "  model = cd_fast.enet_coordinate_descent(\n",
      "/Users/arda/conda_root/lib/python3.8/site-packages/sklearn/linear_model/_coordinate_descent.py:530: ConvergenceWarning: Objective did not converge. You might want to increase the number of iterations. Duality gap: 2027647.4361719065, tolerance: 421.1444659307473\n",
      "  model = cd_fast.enet_coordinate_descent(\n",
      "/Users/arda/conda_root/lib/python3.8/site-packages/sklearn/linear_model/_coordinate_descent.py:530: ConvergenceWarning: Objective did not converge. You might want to increase the number of iterations. Duality gap: 1863970.1098345206, tolerance: 391.7729562161798\n",
      "  model = cd_fast.enet_coordinate_descent(\n",
      "/Users/arda/conda_root/lib/python3.8/site-packages/sklearn/linear_model/_coordinate_descent.py:530: ConvergenceWarning: Objective did not converge. You might want to increase the number of iterations. Duality gap: 1966319.958323272, tolerance: 409.38300105709044\n",
      "  model = cd_fast.enet_coordinate_descent(\n"
     ]
    },
    {
     "name": "stdout",
     "output_type": "stream",
     "text": [
      "lasso chunk ['doc2vec_chunk_embedding'] k_best_f_reg_0_10 467.82612423451246 17.012144697068443 473.28370467520745 17.093307770166163\n",
      "lasso chunk ['doc2vec_chunk_embedding'] ss_pca_0_95 399.2319671365836 15.854523580637059 435.78429062574634 16.585871620367108\n"
     ]
    },
    {
     "name": "stderr",
     "output_type": "stream",
     "text": [
      "/Users/arda/conda_root/lib/python3.8/site-packages/sklearn/linear_model/_coordinate_descent.py:530: ConvergenceWarning: Objective did not converge. You might want to increase the number of iterations. Duality gap: 1824326.2148529247, tolerance: 379.8643204124774\n",
      "  model = cd_fast.enet_coordinate_descent(\n",
      "/Users/arda/conda_root/lib/python3.8/site-packages/sklearn/linear_model/_coordinate_descent.py:530: ConvergenceWarning: Objective did not converge. You might want to increase the number of iterations. Duality gap: 2029942.0297392504, tolerance: 417.3449932205738\n",
      "  model = cd_fast.enet_coordinate_descent(\n",
      "/Users/arda/conda_root/lib/python3.8/site-packages/sklearn/linear_model/_coordinate_descent.py:530: ConvergenceWarning: Objective did not converge. You might want to increase the number of iterations. Duality gap: 2034710.6113140683, tolerance: 423.6390334598232\n",
      "  model = cd_fast.enet_coordinate_descent(\n",
      "/Users/arda/conda_root/lib/python3.8/site-packages/sklearn/linear_model/_coordinate_descent.py:530: ConvergenceWarning: Objective did not converge. You might want to increase the number of iterations. Duality gap: 1837743.5468032479, tolerance: 386.37759108549847\n",
      "  model = cd_fast.enet_coordinate_descent(\n",
      "/Users/arda/conda_root/lib/python3.8/site-packages/sklearn/linear_model/_coordinate_descent.py:530: ConvergenceWarning: Objective did not converge. You might want to increase the number of iterations. Duality gap: 1974826.951718677, tolerance: 407.7478092430379\n",
      "  model = cd_fast.enet_coordinate_descent(\n",
      "/Users/arda/conda_root/lib/python3.8/site-packages/sklearn/linear_model/_coordinate_descent.py:530: ConvergenceWarning: Objective did not converge. You might want to increase the number of iterations. Duality gap: 2046079.6596386866, tolerance: 426.14482711791266\n",
      "  model = cd_fast.enet_coordinate_descent(\n",
      "/Users/arda/conda_root/lib/python3.8/site-packages/sklearn/linear_model/_coordinate_descent.py:530: ConvergenceWarning: Objective did not converge. You might want to increase the number of iterations. Duality gap: 2026155.5496389365, tolerance: 418.28956997388366\n",
      "  model = cd_fast.enet_coordinate_descent(\n",
      "/Users/arda/conda_root/lib/python3.8/site-packages/sklearn/linear_model/_coordinate_descent.py:530: ConvergenceWarning: Objective did not converge. You might want to increase the number of iterations. Duality gap: 2027647.4361719065, tolerance: 421.1444659307473\n",
      "  model = cd_fast.enet_coordinate_descent(\n",
      "/Users/arda/conda_root/lib/python3.8/site-packages/sklearn/linear_model/_coordinate_descent.py:530: ConvergenceWarning: Objective did not converge. You might want to increase the number of iterations. Duality gap: 1863970.1098345206, tolerance: 391.7729562161798\n",
      "  model = cd_fast.enet_coordinate_descent(\n",
      "/Users/arda/conda_root/lib/python3.8/site-packages/sklearn/linear_model/_coordinate_descent.py:530: ConvergenceWarning: Objective did not converge. You might want to increase the number of iterations. Duality gap: 1966319.958323272, tolerance: 409.38300105709044\n",
      "  model = cd_fast.enet_coordinate_descent(\n"
     ]
    },
    {
     "name": "stdout",
     "output_type": "stream",
     "text": [
      "lasso chunk ['doc2vec_chunk_embedding'] k_best_mutual_info_0_10 467.82612423451246 17.012144697068443 473.28370467520745 17.093307770166163\n"
     ]
    },
    {
     "name": "stderr",
     "output_type": "stream",
     "text": [
      "/Users/arda/conda_root/lib/python3.8/site-packages/sklearn/linear_model/_coordinate_descent.py:530: ConvergenceWarning: Objective did not converge. You might want to increase the number of iterations. Duality gap: 1824326.2148529247, tolerance: 379.8643204124774\n",
      "  model = cd_fast.enet_coordinate_descent(\n",
      "/Users/arda/conda_root/lib/python3.8/site-packages/sklearn/linear_model/_coordinate_descent.py:530: ConvergenceWarning: Objective did not converge. You might want to increase the number of iterations. Duality gap: 2029942.0297392504, tolerance: 417.3449932205738\n",
      "  model = cd_fast.enet_coordinate_descent(\n",
      "/Users/arda/conda_root/lib/python3.8/site-packages/sklearn/linear_model/_coordinate_descent.py:530: ConvergenceWarning: Objective did not converge. You might want to increase the number of iterations. Duality gap: 2034710.6113140683, tolerance: 423.6390334598232\n",
      "  model = cd_fast.enet_coordinate_descent(\n",
      "/Users/arda/conda_root/lib/python3.8/site-packages/sklearn/linear_model/_coordinate_descent.py:530: ConvergenceWarning: Objective did not converge. You might want to increase the number of iterations. Duality gap: 1837743.5468032479, tolerance: 386.37759108549847\n",
      "  model = cd_fast.enet_coordinate_descent(\n",
      "/Users/arda/conda_root/lib/python3.8/site-packages/sklearn/linear_model/_coordinate_descent.py:530: ConvergenceWarning: Objective did not converge. You might want to increase the number of iterations. Duality gap: 1974826.951718677, tolerance: 407.7478092430379\n",
      "  model = cd_fast.enet_coordinate_descent(\n",
      "/Users/arda/conda_root/lib/python3.8/site-packages/sklearn/linear_model/_coordinate_descent.py:530: ConvergenceWarning: Objective did not converge. You might want to increase the number of iterations. Duality gap: 2046079.6596386866, tolerance: 426.14482711791266\n",
      "  model = cd_fast.enet_coordinate_descent(\n",
      "/Users/arda/conda_root/lib/python3.8/site-packages/sklearn/linear_model/_coordinate_descent.py:530: ConvergenceWarning: Objective did not converge. You might want to increase the number of iterations. Duality gap: 2026155.5496389365, tolerance: 418.28956997388366\n",
      "  model = cd_fast.enet_coordinate_descent(\n",
      "/Users/arda/conda_root/lib/python3.8/site-packages/sklearn/linear_model/_coordinate_descent.py:530: ConvergenceWarning: Objective did not converge. You might want to increase the number of iterations. Duality gap: 2027647.4361719065, tolerance: 421.1444659307473\n",
      "  model = cd_fast.enet_coordinate_descent(\n",
      "/Users/arda/conda_root/lib/python3.8/site-packages/sklearn/linear_model/_coordinate_descent.py:530: ConvergenceWarning: Objective did not converge. You might want to increase the number of iterations. Duality gap: 1863970.1098345206, tolerance: 391.7729562161798\n",
      "  model = cd_fast.enet_coordinate_descent(\n",
      "/Users/arda/conda_root/lib/python3.8/site-packages/sklearn/linear_model/_coordinate_descent.py:530: ConvergenceWarning: Objective did not converge. You might want to increase the number of iterations. Duality gap: 1966319.958323272, tolerance: 409.38300105709044\n",
      "  model = cd_fast.enet_coordinate_descent(\n"
     ]
    },
    {
     "name": "stdout",
     "output_type": "stream",
     "text": [
      "lasso chunk ['doc2vec_chunk_embedding'] None 467.82612423451246 17.012144697068443 473.28370467520745 17.093307770166163\n"
     ]
    },
    {
     "name": "stderr",
     "output_type": "stream",
     "text": [
      "/Users/arda/conda_root/lib/python3.8/site-packages/sklearn/linear_model/_coordinate_descent.py:530: ConvergenceWarning: Objective did not converge. You might want to increase the number of iterations. Duality gap: 1576495.2241538293, tolerance: 379.8643204124774\n",
      "  model = cd_fast.enet_coordinate_descent(\n",
      "/Users/arda/conda_root/lib/python3.8/site-packages/sklearn/linear_model/_coordinate_descent.py:530: ConvergenceWarning: Objective did not converge. You might want to increase the number of iterations. Duality gap: 1860454.3758258587, tolerance: 417.3449932205738\n",
      "  model = cd_fast.enet_coordinate_descent(\n",
      "/Users/arda/conda_root/lib/python3.8/site-packages/sklearn/linear_model/_coordinate_descent.py:530: ConvergenceWarning: Objective did not converge. You might want to increase the number of iterations. Duality gap: 1068799.1050053919, tolerance: 386.37759108549847\n",
      "  model = cd_fast.enet_coordinate_descent(\n",
      "/Users/arda/conda_root/lib/python3.8/site-packages/sklearn/linear_model/_coordinate_descent.py:530: ConvergenceWarning: Objective did not converge. You might want to increase the number of iterations. Duality gap: 1674467.6259536736, tolerance: 407.7478092430379\n",
      "  model = cd_fast.enet_coordinate_descent(\n",
      "/Users/arda/conda_root/lib/python3.8/site-packages/sklearn/linear_model/_coordinate_descent.py:530: ConvergenceWarning: Objective did not converge. You might want to increase the number of iterations. Duality gap: 1736879.8826319082, tolerance: 418.28956997388366\n",
      "  model = cd_fast.enet_coordinate_descent(\n",
      "/Users/arda/conda_root/lib/python3.8/site-packages/sklearn/linear_model/_coordinate_descent.py:530: ConvergenceWarning: Objective did not converge. You might want to increase the number of iterations. Duality gap: 628353.3653445279, tolerance: 421.1444659307473\n",
      "  model = cd_fast.enet_coordinate_descent(\n",
      "/Users/arda/conda_root/lib/python3.8/site-packages/sklearn/linear_model/_coordinate_descent.py:530: ConvergenceWarning: Objective did not converge. You might want to increase the number of iterations. Duality gap: 1381436.7910979132, tolerance: 391.7729562161798\n",
      "  model = cd_fast.enet_coordinate_descent(\n",
      "/Users/arda/conda_root/lib/python3.8/site-packages/sklearn/linear_model/_coordinate_descent.py:530: ConvergenceWarning: Objective did not converge. You might want to increase the number of iterations. Duality gap: 1119148.2351393863, tolerance: 409.38300105709044\n",
      "  model = cd_fast.enet_coordinate_descent(\n"
     ]
    },
    {
     "name": "stdout",
     "output_type": "stream",
     "text": [
      "lasso chunk ['average_sentence_embedding'] k_best_f_reg_0_10 403.5479406945227 15.987816511092253 427.56991312098006 16.441099599766886\n",
      "lasso chunk ['average_sentence_embedding'] ss_pca_0_95 412.25530790244136 16.2521871281673 425.18065038014254 16.464706537059403\n"
     ]
    },
    {
     "name": "stderr",
     "output_type": "stream",
     "text": [
      "/Users/arda/conda_root/lib/python3.8/site-packages/sklearn/linear_model/_coordinate_descent.py:530: ConvergenceWarning: Objective did not converge. You might want to increase the number of iterations. Duality gap: 1576495.2241538293, tolerance: 379.8643204124774\n",
      "  model = cd_fast.enet_coordinate_descent(\n",
      "/Users/arda/conda_root/lib/python3.8/site-packages/sklearn/linear_model/_coordinate_descent.py:530: ConvergenceWarning: Objective did not converge. You might want to increase the number of iterations. Duality gap: 1860454.3758258587, tolerance: 417.3449932205738\n",
      "  model = cd_fast.enet_coordinate_descent(\n",
      "/Users/arda/conda_root/lib/python3.8/site-packages/sklearn/linear_model/_coordinate_descent.py:530: ConvergenceWarning: Objective did not converge. You might want to increase the number of iterations. Duality gap: 1068799.1050053919, tolerance: 386.37759108549847\n",
      "  model = cd_fast.enet_coordinate_descent(\n",
      "/Users/arda/conda_root/lib/python3.8/site-packages/sklearn/linear_model/_coordinate_descent.py:530: ConvergenceWarning: Objective did not converge. You might want to increase the number of iterations. Duality gap: 1674467.6259536736, tolerance: 407.7478092430379\n",
      "  model = cd_fast.enet_coordinate_descent(\n",
      "/Users/arda/conda_root/lib/python3.8/site-packages/sklearn/linear_model/_coordinate_descent.py:530: ConvergenceWarning: Objective did not converge. You might want to increase the number of iterations. Duality gap: 1736879.8826319082, tolerance: 418.28956997388366\n",
      "  model = cd_fast.enet_coordinate_descent(\n",
      "/Users/arda/conda_root/lib/python3.8/site-packages/sklearn/linear_model/_coordinate_descent.py:530: ConvergenceWarning: Objective did not converge. You might want to increase the number of iterations. Duality gap: 628353.3653445279, tolerance: 421.1444659307473\n",
      "  model = cd_fast.enet_coordinate_descent(\n",
      "/Users/arda/conda_root/lib/python3.8/site-packages/sklearn/linear_model/_coordinate_descent.py:530: ConvergenceWarning: Objective did not converge. You might want to increase the number of iterations. Duality gap: 1381436.7910979132, tolerance: 391.7729562161798\n",
      "  model = cd_fast.enet_coordinate_descent(\n",
      "/Users/arda/conda_root/lib/python3.8/site-packages/sklearn/linear_model/_coordinate_descent.py:530: ConvergenceWarning: Objective did not converge. You might want to increase the number of iterations. Duality gap: 1119148.2351393863, tolerance: 409.38300105709044\n",
      "  model = cd_fast.enet_coordinate_descent(\n"
     ]
    },
    {
     "name": "stdout",
     "output_type": "stream",
     "text": [
      "lasso chunk ['average_sentence_embedding'] k_best_mutual_info_0_10 403.5479406945227 15.987816511092253 427.56991312098006 16.441099599766886\n"
     ]
    },
    {
     "name": "stderr",
     "output_type": "stream",
     "text": [
      "/Users/arda/conda_root/lib/python3.8/site-packages/sklearn/linear_model/_coordinate_descent.py:530: ConvergenceWarning: Objective did not converge. You might want to increase the number of iterations. Duality gap: 1576495.2241538293, tolerance: 379.8643204124774\n",
      "  model = cd_fast.enet_coordinate_descent(\n",
      "/Users/arda/conda_root/lib/python3.8/site-packages/sklearn/linear_model/_coordinate_descent.py:530: ConvergenceWarning: Objective did not converge. You might want to increase the number of iterations. Duality gap: 1860454.3758258587, tolerance: 417.3449932205738\n",
      "  model = cd_fast.enet_coordinate_descent(\n",
      "/Users/arda/conda_root/lib/python3.8/site-packages/sklearn/linear_model/_coordinate_descent.py:530: ConvergenceWarning: Objective did not converge. You might want to increase the number of iterations. Duality gap: 1068799.1050053919, tolerance: 386.37759108549847\n",
      "  model = cd_fast.enet_coordinate_descent(\n",
      "/Users/arda/conda_root/lib/python3.8/site-packages/sklearn/linear_model/_coordinate_descent.py:530: ConvergenceWarning: Objective did not converge. You might want to increase the number of iterations. Duality gap: 1674467.6259536736, tolerance: 407.7478092430379\n",
      "  model = cd_fast.enet_coordinate_descent(\n",
      "/Users/arda/conda_root/lib/python3.8/site-packages/sklearn/linear_model/_coordinate_descent.py:530: ConvergenceWarning: Objective did not converge. You might want to increase the number of iterations. Duality gap: 1736879.8826319082, tolerance: 418.28956997388366\n",
      "  model = cd_fast.enet_coordinate_descent(\n",
      "/Users/arda/conda_root/lib/python3.8/site-packages/sklearn/linear_model/_coordinate_descent.py:530: ConvergenceWarning: Objective did not converge. You might want to increase the number of iterations. Duality gap: 628353.3653445279, tolerance: 421.1444659307473\n",
      "  model = cd_fast.enet_coordinate_descent(\n",
      "/Users/arda/conda_root/lib/python3.8/site-packages/sklearn/linear_model/_coordinate_descent.py:530: ConvergenceWarning: Objective did not converge. You might want to increase the number of iterations. Duality gap: 1381436.7910979132, tolerance: 391.7729562161798\n",
      "  model = cd_fast.enet_coordinate_descent(\n",
      "/Users/arda/conda_root/lib/python3.8/site-packages/sklearn/linear_model/_coordinate_descent.py:530: ConvergenceWarning: Objective did not converge. You might want to increase the number of iterations. Duality gap: 1119148.2351393863, tolerance: 409.38300105709044\n",
      "  model = cd_fast.enet_coordinate_descent(\n"
     ]
    },
    {
     "name": "stdout",
     "output_type": "stream",
     "text": [
      "lasso chunk ['average_sentence_embedding'] None 403.5479406945227 15.987816511092253 427.56991312098006 16.441099599766886\n"
     ]
    },
    {
     "name": "stderr",
     "output_type": "stream",
     "text": [
      "/Users/arda/conda_root/lib/python3.8/site-packages/sklearn/linear_model/_coordinate_descent.py:530: ConvergenceWarning: Objective did not converge. You might want to increase the number of iterations. Duality gap: 1824326.2148529247, tolerance: 379.8643204124774\n",
      "  model = cd_fast.enet_coordinate_descent(\n",
      "/Users/arda/conda_root/lib/python3.8/site-packages/sklearn/linear_model/_coordinate_descent.py:530: ConvergenceWarning: Objective did not converge. You might want to increase the number of iterations. Duality gap: 2029942.0297392504, tolerance: 417.3449932205738\n",
      "  model = cd_fast.enet_coordinate_descent(\n",
      "/Users/arda/conda_root/lib/python3.8/site-packages/sklearn/linear_model/_coordinate_descent.py:530: ConvergenceWarning: Objective did not converge. You might want to increase the number of iterations. Duality gap: 2034710.6113140683, tolerance: 423.6390334598232\n",
      "  model = cd_fast.enet_coordinate_descent(\n",
      "/Users/arda/conda_root/lib/python3.8/site-packages/sklearn/linear_model/_coordinate_descent.py:530: ConvergenceWarning: Objective did not converge. You might want to increase the number of iterations. Duality gap: 1837743.5468032479, tolerance: 386.37759108549847\n",
      "  model = cd_fast.enet_coordinate_descent(\n",
      "/Users/arda/conda_root/lib/python3.8/site-packages/sklearn/linear_model/_coordinate_descent.py:530: ConvergenceWarning: Objective did not converge. You might want to increase the number of iterations. Duality gap: 1974826.951718677, tolerance: 407.7478092430379\n",
      "  model = cd_fast.enet_coordinate_descent(\n",
      "/Users/arda/conda_root/lib/python3.8/site-packages/sklearn/linear_model/_coordinate_descent.py:530: ConvergenceWarning: Objective did not converge. You might want to increase the number of iterations. Duality gap: 2046079.6596386866, tolerance: 426.14482711791266\n",
      "  model = cd_fast.enet_coordinate_descent(\n",
      "/Users/arda/conda_root/lib/python3.8/site-packages/sklearn/linear_model/_coordinate_descent.py:530: ConvergenceWarning: Objective did not converge. You might want to increase the number of iterations. Duality gap: 2026155.5496389365, tolerance: 418.28956997388366\n",
      "  model = cd_fast.enet_coordinate_descent(\n",
      "/Users/arda/conda_root/lib/python3.8/site-packages/sklearn/linear_model/_coordinate_descent.py:530: ConvergenceWarning: Objective did not converge. You might want to increase the number of iterations. Duality gap: 2027647.4361719065, tolerance: 421.1444659307473\n",
      "  model = cd_fast.enet_coordinate_descent(\n",
      "/Users/arda/conda_root/lib/python3.8/site-packages/sklearn/linear_model/_coordinate_descent.py:530: ConvergenceWarning: Objective did not converge. You might want to increase the number of iterations. Duality gap: 1863970.1098345206, tolerance: 391.7729562161798\n",
      "  model = cd_fast.enet_coordinate_descent(\n",
      "/Users/arda/conda_root/lib/python3.8/site-packages/sklearn/linear_model/_coordinate_descent.py:530: ConvergenceWarning: Objective did not converge. You might want to increase the number of iterations. Duality gap: 1966319.958323272, tolerance: 409.38300105709044\n",
      "  model = cd_fast.enet_coordinate_descent(\n"
     ]
    },
    {
     "name": "stdout",
     "output_type": "stream",
     "text": [
      "lasso chunk ['average_sentence_embedding', 'doc2vec_chunk_embedding'] k_best_f_reg_0_10 467.82612423451246 17.012144697068443 473.28370467520745 17.093307770166163\n",
      "lasso chunk ['average_sentence_embedding', 'doc2vec_chunk_embedding'] ss_pca_0_95 464.0811773591593 16.915851477700368 471.13307295692374 17.040575144522307\n"
     ]
    },
    {
     "name": "stderr",
     "output_type": "stream",
     "text": [
      "/Users/arda/conda_root/lib/python3.8/site-packages/sklearn/linear_model/_coordinate_descent.py:530: ConvergenceWarning: Objective did not converge. You might want to increase the number of iterations. Duality gap: 1824326.2148529247, tolerance: 379.8643204124774\n",
      "  model = cd_fast.enet_coordinate_descent(\n",
      "/Users/arda/conda_root/lib/python3.8/site-packages/sklearn/linear_model/_coordinate_descent.py:530: ConvergenceWarning: Objective did not converge. You might want to increase the number of iterations. Duality gap: 2029942.0297392504, tolerance: 417.3449932205738\n",
      "  model = cd_fast.enet_coordinate_descent(\n",
      "/Users/arda/conda_root/lib/python3.8/site-packages/sklearn/linear_model/_coordinate_descent.py:530: ConvergenceWarning: Objective did not converge. You might want to increase the number of iterations. Duality gap: 2034710.6113140683, tolerance: 423.6390334598232\n",
      "  model = cd_fast.enet_coordinate_descent(\n",
      "/Users/arda/conda_root/lib/python3.8/site-packages/sklearn/linear_model/_coordinate_descent.py:530: ConvergenceWarning: Objective did not converge. You might want to increase the number of iterations. Duality gap: 1837743.5468032479, tolerance: 386.37759108549847\n",
      "  model = cd_fast.enet_coordinate_descent(\n",
      "/Users/arda/conda_root/lib/python3.8/site-packages/sklearn/linear_model/_coordinate_descent.py:530: ConvergenceWarning: Objective did not converge. You might want to increase the number of iterations. Duality gap: 1974826.951718677, tolerance: 407.7478092430379\n",
      "  model = cd_fast.enet_coordinate_descent(\n",
      "/Users/arda/conda_root/lib/python3.8/site-packages/sklearn/linear_model/_coordinate_descent.py:530: ConvergenceWarning: Objective did not converge. You might want to increase the number of iterations. Duality gap: 2046079.6596386866, tolerance: 426.14482711791266\n",
      "  model = cd_fast.enet_coordinate_descent(\n",
      "/Users/arda/conda_root/lib/python3.8/site-packages/sklearn/linear_model/_coordinate_descent.py:530: ConvergenceWarning: Objective did not converge. You might want to increase the number of iterations. Duality gap: 2026155.5496389365, tolerance: 418.28956997388366\n",
      "  model = cd_fast.enet_coordinate_descent(\n",
      "/Users/arda/conda_root/lib/python3.8/site-packages/sklearn/linear_model/_coordinate_descent.py:530: ConvergenceWarning: Objective did not converge. You might want to increase the number of iterations. Duality gap: 2027647.4361719065, tolerance: 421.1444659307473\n",
      "  model = cd_fast.enet_coordinate_descent(\n",
      "/Users/arda/conda_root/lib/python3.8/site-packages/sklearn/linear_model/_coordinate_descent.py:530: ConvergenceWarning: Objective did not converge. You might want to increase the number of iterations. Duality gap: 1863970.1098345206, tolerance: 391.7729562161798\n",
      "  model = cd_fast.enet_coordinate_descent(\n",
      "/Users/arda/conda_root/lib/python3.8/site-packages/sklearn/linear_model/_coordinate_descent.py:530: ConvergenceWarning: Objective did not converge. You might want to increase the number of iterations. Duality gap: 1966319.958323272, tolerance: 409.38300105709044\n",
      "  model = cd_fast.enet_coordinate_descent(\n"
     ]
    },
    {
     "name": "stdout",
     "output_type": "stream",
     "text": [
      "lasso chunk ['average_sentence_embedding', 'doc2vec_chunk_embedding'] k_best_mutual_info_0_10 467.82612423451246 17.012144697068443 473.28370467520745 17.093307770166163\n"
     ]
    },
    {
     "name": "stderr",
     "output_type": "stream",
     "text": [
      "/Users/arda/conda_root/lib/python3.8/site-packages/sklearn/linear_model/_coordinate_descent.py:530: ConvergenceWarning: Objective did not converge. You might want to increase the number of iterations. Duality gap: 1824326.2148529247, tolerance: 379.8643204124774\n",
      "  model = cd_fast.enet_coordinate_descent(\n",
      "/Users/arda/conda_root/lib/python3.8/site-packages/sklearn/linear_model/_coordinate_descent.py:530: ConvergenceWarning: Objective did not converge. You might want to increase the number of iterations. Duality gap: 2029942.0297392504, tolerance: 417.3449932205738\n",
      "  model = cd_fast.enet_coordinate_descent(\n",
      "/Users/arda/conda_root/lib/python3.8/site-packages/sklearn/linear_model/_coordinate_descent.py:530: ConvergenceWarning: Objective did not converge. You might want to increase the number of iterations. Duality gap: 2034710.6113140683, tolerance: 423.6390334598232\n",
      "  model = cd_fast.enet_coordinate_descent(\n",
      "/Users/arda/conda_root/lib/python3.8/site-packages/sklearn/linear_model/_coordinate_descent.py:530: ConvergenceWarning: Objective did not converge. You might want to increase the number of iterations. Duality gap: 1837743.5468032479, tolerance: 386.37759108549847\n",
      "  model = cd_fast.enet_coordinate_descent(\n",
      "/Users/arda/conda_root/lib/python3.8/site-packages/sklearn/linear_model/_coordinate_descent.py:530: ConvergenceWarning: Objective did not converge. You might want to increase the number of iterations. Duality gap: 1974826.951718677, tolerance: 407.7478092430379\n",
      "  model = cd_fast.enet_coordinate_descent(\n",
      "/Users/arda/conda_root/lib/python3.8/site-packages/sklearn/linear_model/_coordinate_descent.py:530: ConvergenceWarning: Objective did not converge. You might want to increase the number of iterations. Duality gap: 2046079.6596386866, tolerance: 426.14482711791266\n",
      "  model = cd_fast.enet_coordinate_descent(\n",
      "/Users/arda/conda_root/lib/python3.8/site-packages/sklearn/linear_model/_coordinate_descent.py:530: ConvergenceWarning: Objective did not converge. You might want to increase the number of iterations. Duality gap: 2026155.5496389365, tolerance: 418.28956997388366\n",
      "  model = cd_fast.enet_coordinate_descent(\n",
      "/Users/arda/conda_root/lib/python3.8/site-packages/sklearn/linear_model/_coordinate_descent.py:530: ConvergenceWarning: Objective did not converge. You might want to increase the number of iterations. Duality gap: 2027647.4361719065, tolerance: 421.1444659307473\n",
      "  model = cd_fast.enet_coordinate_descent(\n",
      "/Users/arda/conda_root/lib/python3.8/site-packages/sklearn/linear_model/_coordinate_descent.py:530: ConvergenceWarning: Objective did not converge. You might want to increase the number of iterations. Duality gap: 1863970.1098345206, tolerance: 391.7729562161798\n",
      "  model = cd_fast.enet_coordinate_descent(\n",
      "/Users/arda/conda_root/lib/python3.8/site-packages/sklearn/linear_model/_coordinate_descent.py:530: ConvergenceWarning: Objective did not converge. You might want to increase the number of iterations. Duality gap: 1966319.958323272, tolerance: 409.38300105709044\n",
      "  model = cd_fast.enet_coordinate_descent(\n"
     ]
    },
    {
     "name": "stdout",
     "output_type": "stream",
     "text": [
      "lasso chunk ['average_sentence_embedding', 'doc2vec_chunk_embedding'] None 467.82612423451246 17.012144697068443 473.28370467520745 17.093307770166163\n"
     ]
    },
    {
     "name": "stderr",
     "output_type": "stream",
     "text": [
      "/Users/arda/conda_root/lib/python3.8/site-packages/sklearn/linear_model/_coordinate_descent.py:530: ConvergenceWarning: Objective did not converge. You might want to increase the number of iterations. Duality gap: 1576495.2241538293, tolerance: 379.8643204124774\n",
      "  model = cd_fast.enet_coordinate_descent(\n",
      "/Users/arda/conda_root/lib/python3.8/site-packages/sklearn/linear_model/_coordinate_descent.py:530: ConvergenceWarning: Objective did not converge. You might want to increase the number of iterations. Duality gap: 1860454.3758258587, tolerance: 417.3449932205738\n",
      "  model = cd_fast.enet_coordinate_descent(\n",
      "/Users/arda/conda_root/lib/python3.8/site-packages/sklearn/linear_model/_coordinate_descent.py:530: ConvergenceWarning: Objective did not converge. You might want to increase the number of iterations. Duality gap: 1068799.1050053919, tolerance: 386.37759108549847\n",
      "  model = cd_fast.enet_coordinate_descent(\n",
      "/Users/arda/conda_root/lib/python3.8/site-packages/sklearn/linear_model/_coordinate_descent.py:530: ConvergenceWarning: Objective did not converge. You might want to increase the number of iterations. Duality gap: 1674467.6259536736, tolerance: 407.7478092430379\n",
      "  model = cd_fast.enet_coordinate_descent(\n",
      "/Users/arda/conda_root/lib/python3.8/site-packages/sklearn/linear_model/_coordinate_descent.py:530: ConvergenceWarning: Objective did not converge. You might want to increase the number of iterations. Duality gap: 1736879.8826319082, tolerance: 418.28956997388366\n",
      "  model = cd_fast.enet_coordinate_descent(\n",
      "/Users/arda/conda_root/lib/python3.8/site-packages/sklearn/linear_model/_coordinate_descent.py:530: ConvergenceWarning: Objective did not converge. You might want to increase the number of iterations. Duality gap: 628353.3653445279, tolerance: 421.1444659307473\n",
      "  model = cd_fast.enet_coordinate_descent(\n",
      "/Users/arda/conda_root/lib/python3.8/site-packages/sklearn/linear_model/_coordinate_descent.py:530: ConvergenceWarning: Objective did not converge. You might want to increase the number of iterations. Duality gap: 1381436.7910979132, tolerance: 391.7729562161798\n",
      "  model = cd_fast.enet_coordinate_descent(\n",
      "/Users/arda/conda_root/lib/python3.8/site-packages/sklearn/linear_model/_coordinate_descent.py:530: ConvergenceWarning: Objective did not converge. You might want to increase the number of iterations. Duality gap: 1119148.2351393863, tolerance: 409.38300105709044\n",
      "  model = cd_fast.enet_coordinate_descent(\n"
     ]
    },
    {
     "name": "stdout",
     "output_type": "stream",
     "text": [
      "lasso chunk [] k_best_f_reg_0_10 403.5479406945227 15.987816511092253 427.56991312098006 16.441099599766886\n",
      "lasso chunk [] ss_pca_0_95 381.57472045021234 15.543827915579206 413.8786328669679 16.2006158904936\n"
     ]
    },
    {
     "name": "stderr",
     "output_type": "stream",
     "text": [
      "/Users/arda/conda_root/lib/python3.8/site-packages/sklearn/linear_model/_coordinate_descent.py:530: ConvergenceWarning: Objective did not converge. You might want to increase the number of iterations. Duality gap: 1576495.2241538293, tolerance: 379.8643204124774\n",
      "  model = cd_fast.enet_coordinate_descent(\n",
      "/Users/arda/conda_root/lib/python3.8/site-packages/sklearn/linear_model/_coordinate_descent.py:530: ConvergenceWarning: Objective did not converge. You might want to increase the number of iterations. Duality gap: 1860454.3758258587, tolerance: 417.3449932205738\n",
      "  model = cd_fast.enet_coordinate_descent(\n",
      "/Users/arda/conda_root/lib/python3.8/site-packages/sklearn/linear_model/_coordinate_descent.py:530: ConvergenceWarning: Objective did not converge. You might want to increase the number of iterations. Duality gap: 1068799.1050053919, tolerance: 386.37759108549847\n",
      "  model = cd_fast.enet_coordinate_descent(\n",
      "/Users/arda/conda_root/lib/python3.8/site-packages/sklearn/linear_model/_coordinate_descent.py:530: ConvergenceWarning: Objective did not converge. You might want to increase the number of iterations. Duality gap: 1674467.6259536736, tolerance: 407.7478092430379\n",
      "  model = cd_fast.enet_coordinate_descent(\n",
      "/Users/arda/conda_root/lib/python3.8/site-packages/sklearn/linear_model/_coordinate_descent.py:530: ConvergenceWarning: Objective did not converge. You might want to increase the number of iterations. Duality gap: 1736879.8826319082, tolerance: 418.28956997388366\n",
      "  model = cd_fast.enet_coordinate_descent(\n",
      "/Users/arda/conda_root/lib/python3.8/site-packages/sklearn/linear_model/_coordinate_descent.py:530: ConvergenceWarning: Objective did not converge. You might want to increase the number of iterations. Duality gap: 628353.3653445279, tolerance: 421.1444659307473\n",
      "  model = cd_fast.enet_coordinate_descent(\n",
      "/Users/arda/conda_root/lib/python3.8/site-packages/sklearn/linear_model/_coordinate_descent.py:530: ConvergenceWarning: Objective did not converge. You might want to increase the number of iterations. Duality gap: 1381436.7910979132, tolerance: 391.7729562161798\n",
      "  model = cd_fast.enet_coordinate_descent(\n",
      "/Users/arda/conda_root/lib/python3.8/site-packages/sklearn/linear_model/_coordinate_descent.py:530: ConvergenceWarning: Objective did not converge. You might want to increase the number of iterations. Duality gap: 1119148.2351393863, tolerance: 409.38300105709044\n",
      "  model = cd_fast.enet_coordinate_descent(\n"
     ]
    },
    {
     "name": "stdout",
     "output_type": "stream",
     "text": [
      "lasso chunk [] k_best_mutual_info_0_10 403.5479406945227 15.987816511092253 427.56991312098006 16.441099599766886\n"
     ]
    },
    {
     "name": "stderr",
     "output_type": "stream",
     "text": [
      "/Users/arda/conda_root/lib/python3.8/site-packages/sklearn/linear_model/_coordinate_descent.py:530: ConvergenceWarning: Objective did not converge. You might want to increase the number of iterations. Duality gap: 1576495.2241538293, tolerance: 379.8643204124774\n",
      "  model = cd_fast.enet_coordinate_descent(\n",
      "/Users/arda/conda_root/lib/python3.8/site-packages/sklearn/linear_model/_coordinate_descent.py:530: ConvergenceWarning: Objective did not converge. You might want to increase the number of iterations. Duality gap: 1860454.3758258587, tolerance: 417.3449932205738\n",
      "  model = cd_fast.enet_coordinate_descent(\n",
      "/Users/arda/conda_root/lib/python3.8/site-packages/sklearn/linear_model/_coordinate_descent.py:530: ConvergenceWarning: Objective did not converge. You might want to increase the number of iterations. Duality gap: 1068799.1050053919, tolerance: 386.37759108549847\n",
      "  model = cd_fast.enet_coordinate_descent(\n",
      "/Users/arda/conda_root/lib/python3.8/site-packages/sklearn/linear_model/_coordinate_descent.py:530: ConvergenceWarning: Objective did not converge. You might want to increase the number of iterations. Duality gap: 1674467.6259536736, tolerance: 407.7478092430379\n",
      "  model = cd_fast.enet_coordinate_descent(\n",
      "/Users/arda/conda_root/lib/python3.8/site-packages/sklearn/linear_model/_coordinate_descent.py:530: ConvergenceWarning: Objective did not converge. You might want to increase the number of iterations. Duality gap: 1736879.8826319082, tolerance: 418.28956997388366\n",
      "  model = cd_fast.enet_coordinate_descent(\n",
      "/Users/arda/conda_root/lib/python3.8/site-packages/sklearn/linear_model/_coordinate_descent.py:530: ConvergenceWarning: Objective did not converge. You might want to increase the number of iterations. Duality gap: 628353.3653445279, tolerance: 421.1444659307473\n",
      "  model = cd_fast.enet_coordinate_descent(\n",
      "/Users/arda/conda_root/lib/python3.8/site-packages/sklearn/linear_model/_coordinate_descent.py:530: ConvergenceWarning: Objective did not converge. You might want to increase the number of iterations. Duality gap: 1381436.7910979132, tolerance: 391.7729562161798\n",
      "  model = cd_fast.enet_coordinate_descent(\n",
      "/Users/arda/conda_root/lib/python3.8/site-packages/sklearn/linear_model/_coordinate_descent.py:530: ConvergenceWarning: Objective did not converge. You might want to increase the number of iterations. Duality gap: 1119148.2351393863, tolerance: 409.38300105709044\n",
      "  model = cd_fast.enet_coordinate_descent(\n"
     ]
    },
    {
     "name": "stdout",
     "output_type": "stream",
     "text": [
      "lasso chunk [] None 403.5479406945227 15.987816511092253 427.56991312098006 16.441099599766886\n"
     ]
    },
    {
     "name": "stderr",
     "output_type": "stream",
     "text": [
      "/Users/arda/conda_root/lib/python3.8/site-packages/sklearn/linear_model/_coordinate_descent.py:530: ConvergenceWarning: Objective did not converge. You might want to increase the number of iterations. Duality gap: 107395.45470005895, tolerance: 23.375740927759853\n",
      "  model = cd_fast.enet_coordinate_descent(\n"
     ]
    },
    {
     "name": "stdout",
     "output_type": "stream",
     "text": [
      "lasso book_and_averaged_chunk ['doc2vec_chunk_embedding'] k_best_f_reg_0_10 444.93774722362303 16.981282463388144 467.24670200816473 17.407150118692822\n",
      "lasso book_and_averaged_chunk ['doc2vec_chunk_embedding'] ss_pca_0_95 265.19750048005636 12.864414586398036 418.8426561713289 16.081815303197565\n",
      "lasso book_and_averaged_chunk ['doc2vec_chunk_embedding'] k_best_mutual_info_0_10 442.84340764058845 16.992081719658394 465.920765047596 17.380298731659767\n"
     ]
    },
    {
     "name": "stderr",
     "output_type": "stream",
     "text": [
      "/Users/arda/conda_root/lib/python3.8/site-packages/sklearn/linear_model/_coordinate_descent.py:530: ConvergenceWarning: Objective did not converge. You might want to increase the number of iterations. Duality gap: 87338.95654202494, tolerance: 22.457902377224443\n",
      "  model = cd_fast.enet_coordinate_descent(\n",
      "/Users/arda/conda_root/lib/python3.8/site-packages/sklearn/linear_model/_coordinate_descent.py:530: ConvergenceWarning: Objective did not converge. You might want to increase the number of iterations. Duality gap: 92998.9932813779, tolerance: 23.16853728359982\n",
      "  model = cd_fast.enet_coordinate_descent(\n",
      "/Users/arda/conda_root/lib/python3.8/site-packages/sklearn/linear_model/_coordinate_descent.py:530: ConvergenceWarning: Objective did not converge. You might want to increase the number of iterations. Duality gap: 90050.73498344609, tolerance: 23.695738507584174\n",
      "  model = cd_fast.enet_coordinate_descent(\n",
      "/Users/arda/conda_root/lib/python3.8/site-packages/sklearn/linear_model/_coordinate_descent.py:530: ConvergenceWarning: Objective did not converge. You might want to increase the number of iterations. Duality gap: 86665.3121941578, tolerance: 22.604446365058273\n",
      "  model = cd_fast.enet_coordinate_descent(\n",
      "/Users/arda/conda_root/lib/python3.8/site-packages/sklearn/linear_model/_coordinate_descent.py:530: ConvergenceWarning: Objective did not converge. You might want to increase the number of iterations. Duality gap: 85170.51144580654, tolerance: 22.77106040006317\n",
      "  model = cd_fast.enet_coordinate_descent(\n",
      "/Users/arda/conda_root/lib/python3.8/site-packages/sklearn/linear_model/_coordinate_descent.py:530: ConvergenceWarning: Objective did not converge. You might want to increase the number of iterations. Duality gap: 90596.43030745494, tolerance: 23.375740927759853\n",
      "  model = cd_fast.enet_coordinate_descent(\n",
      "/Users/arda/conda_root/lib/python3.8/site-packages/sklearn/linear_model/_coordinate_descent.py:530: ConvergenceWarning: Objective did not converge. You might want to increase the number of iterations. Duality gap: 85484.17739310478, tolerance: 22.97097915860421\n",
      "  model = cd_fast.enet_coordinate_descent(\n",
      "/Users/arda/conda_root/lib/python3.8/site-packages/sklearn/linear_model/_coordinate_descent.py:530: ConvergenceWarning: Objective did not converge. You might want to increase the number of iterations. Duality gap: 84767.6251461288, tolerance: 23.421235707972507\n",
      "  model = cd_fast.enet_coordinate_descent(\n",
      "/Users/arda/conda_root/lib/python3.8/site-packages/sklearn/linear_model/_coordinate_descent.py:530: ConvergenceWarning: Objective did not converge. You might want to increase the number of iterations. Duality gap: 87894.08344258656, tolerance: 23.268013934099976\n",
      "  model = cd_fast.enet_coordinate_descent(\n",
      "/Users/arda/conda_root/lib/python3.8/site-packages/sklearn/linear_model/_coordinate_descent.py:530: ConvergenceWarning: Objective did not converge. You might want to increase the number of iterations. Duality gap: 84203.88028252075, tolerance: 22.993227878906723\n",
      "  model = cd_fast.enet_coordinate_descent(\n"
     ]
    },
    {
     "name": "stdout",
     "output_type": "stream",
     "text": [
      "lasso book_and_averaged_chunk ['doc2vec_chunk_embedding'] None 375.45143903226204 15.359424753350718 489.2201886005167 17.574802411637176\n"
     ]
    },
    {
     "name": "stderr",
     "output_type": "stream",
     "text": [
      "/Users/arda/conda_root/lib/python3.8/site-packages/sklearn/linear_model/_coordinate_descent.py:530: ConvergenceWarning: Objective did not converge. You might want to increase the number of iterations. Duality gap: 99439.09102225974, tolerance: 23.375740927759853\n",
      "  model = cd_fast.enet_coordinate_descent(\n"
     ]
    },
    {
     "name": "stdout",
     "output_type": "stream",
     "text": [
      "lasso book_and_averaged_chunk ['average_sentence_embedding'] k_best_f_reg_0_10 384.7872578206876 15.690702949345166 418.8049347982117 16.331619605158966\n",
      "lasso book_and_averaged_chunk ['average_sentence_embedding'] ss_pca_0_95 306.93187544300656 13.89801101540715 411.0274257676368 16.12780216137414\n",
      "lasso book_and_averaged_chunk ['average_sentence_embedding'] k_best_mutual_info_0_10 429.2164248759036 16.721685040584656 464.69980595267145 17.36683544705584\n"
     ]
    },
    {
     "name": "stderr",
     "output_type": "stream",
     "text": [
      "/Users/arda/conda_root/lib/python3.8/site-packages/sklearn/linear_model/_coordinate_descent.py:530: ConvergenceWarning: Objective did not converge. You might want to increase the number of iterations. Duality gap: 82191.83464951187, tolerance: 22.457902377224443\n",
      "  model = cd_fast.enet_coordinate_descent(\n",
      "/Users/arda/conda_root/lib/python3.8/site-packages/sklearn/linear_model/_coordinate_descent.py:530: ConvergenceWarning: Objective did not converge. You might want to increase the number of iterations. Duality gap: 87572.55468955009, tolerance: 23.16853728359982\n",
      "  model = cd_fast.enet_coordinate_descent(\n",
      "/Users/arda/conda_root/lib/python3.8/site-packages/sklearn/linear_model/_coordinate_descent.py:530: ConvergenceWarning: Objective did not converge. You might want to increase the number of iterations. Duality gap: 81143.16699869257, tolerance: 23.695738507584174\n",
      "  model = cd_fast.enet_coordinate_descent(\n",
      "/Users/arda/conda_root/lib/python3.8/site-packages/sklearn/linear_model/_coordinate_descent.py:530: ConvergenceWarning: Objective did not converge. You might want to increase the number of iterations. Duality gap: 76620.43172427673, tolerance: 22.604446365058273\n",
      "  model = cd_fast.enet_coordinate_descent(\n",
      "/Users/arda/conda_root/lib/python3.8/site-packages/sklearn/linear_model/_coordinate_descent.py:530: ConvergenceWarning: Objective did not converge. You might want to increase the number of iterations. Duality gap: 78995.80577906134, tolerance: 22.77106040006317\n",
      "  model = cd_fast.enet_coordinate_descent(\n",
      "/Users/arda/conda_root/lib/python3.8/site-packages/sklearn/linear_model/_coordinate_descent.py:530: ConvergenceWarning: Objective did not converge. You might want to increase the number of iterations. Duality gap: 81558.4249463404, tolerance: 23.375740927759853\n",
      "  model = cd_fast.enet_coordinate_descent(\n",
      "/Users/arda/conda_root/lib/python3.8/site-packages/sklearn/linear_model/_coordinate_descent.py:530: ConvergenceWarning: Objective did not converge. You might want to increase the number of iterations. Duality gap: 77780.69141287741, tolerance: 22.97097915860421\n",
      "  model = cd_fast.enet_coordinate_descent(\n",
      "/Users/arda/conda_root/lib/python3.8/site-packages/sklearn/linear_model/_coordinate_descent.py:530: ConvergenceWarning: Objective did not converge. You might want to increase the number of iterations. Duality gap: 59292.86802734004, tolerance: 23.421235707972507\n",
      "  model = cd_fast.enet_coordinate_descent(\n",
      "/Users/arda/conda_root/lib/python3.8/site-packages/sklearn/linear_model/_coordinate_descent.py:530: ConvergenceWarning: Objective did not converge. You might want to increase the number of iterations. Duality gap: 82844.65353161244, tolerance: 23.268013934099976\n",
      "  model = cd_fast.enet_coordinate_descent(\n",
      "/Users/arda/conda_root/lib/python3.8/site-packages/sklearn/linear_model/_coordinate_descent.py:530: ConvergenceWarning: Objective did not converge. You might want to increase the number of iterations. Duality gap: 66147.57354307303, tolerance: 22.993227878906723\n",
      "  model = cd_fast.enet_coordinate_descent(\n"
     ]
    },
    {
     "name": "stdout",
     "output_type": "stream",
     "text": [
      "lasso book_and_averaged_chunk ['average_sentence_embedding'] None 328.1447439582515 14.324337769671782 462.3190285676874 16.95586457344878\n"
     ]
    },
    {
     "name": "stderr",
     "output_type": "stream",
     "text": [
      "/Users/arda/conda_root/lib/python3.8/site-packages/sklearn/linear_model/_coordinate_descent.py:530: ConvergenceWarning: Objective did not converge. You might want to increase the number of iterations. Duality gap: 103954.35901071, tolerance: 22.77106040006317\n",
      "  model = cd_fast.enet_coordinate_descent(\n",
      "/Users/arda/conda_root/lib/python3.8/site-packages/sklearn/linear_model/_coordinate_descent.py:530: ConvergenceWarning: Objective did not converge. You might want to increase the number of iterations. Duality gap: 107313.26144248364, tolerance: 23.375740927759853\n",
      "  model = cd_fast.enet_coordinate_descent(\n"
     ]
    },
    {
     "name": "stdout",
     "output_type": "stream",
     "text": [
      "lasso book_and_averaged_chunk ['average_sentence_embedding', 'doc2vec_chunk_embedding'] k_best_f_reg_0_10 435.6254205288222 16.74451505164132 476.5551011875633 17.514071886749328\n",
      "lasso book_and_averaged_chunk ['average_sentence_embedding', 'doc2vec_chunk_embedding'] ss_pca_0_95 329.30961509311186 14.316326470016145 430.8088361996937 16.352501055072015\n",
      "lasso book_and_averaged_chunk ['average_sentence_embedding', 'doc2vec_chunk_embedding'] k_best_mutual_info_0_10 435.23814947042456 16.83773492794412 463.5040504095009 17.35472472804892\n"
     ]
    },
    {
     "name": "stderr",
     "output_type": "stream",
     "text": [
      "/Users/arda/conda_root/lib/python3.8/site-packages/sklearn/linear_model/_coordinate_descent.py:530: ConvergenceWarning: Objective did not converge. You might want to increase the number of iterations. Duality gap: 87338.95654202494, tolerance: 22.457902377224443\n",
      "  model = cd_fast.enet_coordinate_descent(\n",
      "/Users/arda/conda_root/lib/python3.8/site-packages/sklearn/linear_model/_coordinate_descent.py:530: ConvergenceWarning: Objective did not converge. You might want to increase the number of iterations. Duality gap: 92998.9932813779, tolerance: 23.16853728359982\n",
      "  model = cd_fast.enet_coordinate_descent(\n",
      "/Users/arda/conda_root/lib/python3.8/site-packages/sklearn/linear_model/_coordinate_descent.py:530: ConvergenceWarning: Objective did not converge. You might want to increase the number of iterations. Duality gap: 90050.73498344609, tolerance: 23.695738507584174\n",
      "  model = cd_fast.enet_coordinate_descent(\n",
      "/Users/arda/conda_root/lib/python3.8/site-packages/sklearn/linear_model/_coordinate_descent.py:530: ConvergenceWarning: Objective did not converge. You might want to increase the number of iterations. Duality gap: 86665.3121941578, tolerance: 22.604446365058273\n",
      "  model = cd_fast.enet_coordinate_descent(\n",
      "/Users/arda/conda_root/lib/python3.8/site-packages/sklearn/linear_model/_coordinate_descent.py:530: ConvergenceWarning: Objective did not converge. You might want to increase the number of iterations. Duality gap: 85170.51144580654, tolerance: 22.77106040006317\n",
      "  model = cd_fast.enet_coordinate_descent(\n",
      "/Users/arda/conda_root/lib/python3.8/site-packages/sklearn/linear_model/_coordinate_descent.py:530: ConvergenceWarning: Objective did not converge. You might want to increase the number of iterations. Duality gap: 90596.43030745494, tolerance: 23.375740927759853\n",
      "  model = cd_fast.enet_coordinate_descent(\n",
      "/Users/arda/conda_root/lib/python3.8/site-packages/sklearn/linear_model/_coordinate_descent.py:530: ConvergenceWarning: Objective did not converge. You might want to increase the number of iterations. Duality gap: 85484.17739310478, tolerance: 22.97097915860421\n",
      "  model = cd_fast.enet_coordinate_descent(\n",
      "/Users/arda/conda_root/lib/python3.8/site-packages/sklearn/linear_model/_coordinate_descent.py:530: ConvergenceWarning: Objective did not converge. You might want to increase the number of iterations. Duality gap: 84767.6251461288, tolerance: 23.421235707972507\n",
      "  model = cd_fast.enet_coordinate_descent(\n",
      "/Users/arda/conda_root/lib/python3.8/site-packages/sklearn/linear_model/_coordinate_descent.py:530: ConvergenceWarning: Objective did not converge. You might want to increase the number of iterations. Duality gap: 87894.08344258656, tolerance: 23.268013934099976\n",
      "  model = cd_fast.enet_coordinate_descent(\n",
      "/Users/arda/conda_root/lib/python3.8/site-packages/sklearn/linear_model/_coordinate_descent.py:530: ConvergenceWarning: Objective did not converge. You might want to increase the number of iterations. Duality gap: 84203.88028252075, tolerance: 22.993227878906723\n",
      "  model = cd_fast.enet_coordinate_descent(\n"
     ]
    },
    {
     "name": "stdout",
     "output_type": "stream",
     "text": [
      "lasso book_and_averaged_chunk ['average_sentence_embedding', 'doc2vec_chunk_embedding'] None 375.45143903226204 15.359424753350718 489.22018860051674 17.574802411637176\n"
     ]
    },
    {
     "name": "stderr",
     "output_type": "stream",
     "text": [
      "/Users/arda/conda_root/lib/python3.8/site-packages/sklearn/linear_model/_coordinate_descent.py:530: ConvergenceWarning: Objective did not converge. You might want to increase the number of iterations. Duality gap: 99456.13444954161, tolerance: 23.375740927759853\n",
      "  model = cd_fast.enet_coordinate_descent(\n"
     ]
    },
    {
     "name": "stdout",
     "output_type": "stream",
     "text": [
      "lasso book_and_averaged_chunk [] k_best_f_reg_0_10 388.68948592546667 15.754521901856961 417.28834310398054 16.317199845204033\n",
      "lasso book_and_averaged_chunk [] ss_pca_0_95 258.00528319957664 12.745650060644675 409.27604170283564 15.978608228034116\n",
      "lasso book_and_averaged_chunk [] k_best_mutual_info_0_10 438.1200159375676 16.891957422378614 461.7051627652574 17.227324693538087\n"
     ]
    },
    {
     "name": "stderr",
     "output_type": "stream",
     "text": [
      "/Users/arda/conda_root/lib/python3.8/site-packages/sklearn/linear_model/_coordinate_descent.py:530: ConvergenceWarning: Objective did not converge. You might want to increase the number of iterations. Duality gap: 82191.83464951187, tolerance: 22.457902377224443\n",
      "  model = cd_fast.enet_coordinate_descent(\n",
      "/Users/arda/conda_root/lib/python3.8/site-packages/sklearn/linear_model/_coordinate_descent.py:530: ConvergenceWarning: Objective did not converge. You might want to increase the number of iterations. Duality gap: 87572.55468955009, tolerance: 23.16853728359982\n",
      "  model = cd_fast.enet_coordinate_descent(\n",
      "/Users/arda/conda_root/lib/python3.8/site-packages/sklearn/linear_model/_coordinate_descent.py:530: ConvergenceWarning: Objective did not converge. You might want to increase the number of iterations. Duality gap: 81143.16699869257, tolerance: 23.695738507584174\n",
      "  model = cd_fast.enet_coordinate_descent(\n",
      "/Users/arda/conda_root/lib/python3.8/site-packages/sklearn/linear_model/_coordinate_descent.py:530: ConvergenceWarning: Objective did not converge. You might want to increase the number of iterations. Duality gap: 76620.43172427673, tolerance: 22.604446365058273\n",
      "  model = cd_fast.enet_coordinate_descent(\n",
      "/Users/arda/conda_root/lib/python3.8/site-packages/sklearn/linear_model/_coordinate_descent.py:530: ConvergenceWarning: Objective did not converge. You might want to increase the number of iterations. Duality gap: 78995.80577906134, tolerance: 22.77106040006317\n",
      "  model = cd_fast.enet_coordinate_descent(\n",
      "/Users/arda/conda_root/lib/python3.8/site-packages/sklearn/linear_model/_coordinate_descent.py:530: ConvergenceWarning: Objective did not converge. You might want to increase the number of iterations. Duality gap: 81558.4249463404, tolerance: 23.375740927759853\n",
      "  model = cd_fast.enet_coordinate_descent(\n",
      "/Users/arda/conda_root/lib/python3.8/site-packages/sklearn/linear_model/_coordinate_descent.py:530: ConvergenceWarning: Objective did not converge. You might want to increase the number of iterations. Duality gap: 77780.69141287741, tolerance: 22.97097915860421\n",
      "  model = cd_fast.enet_coordinate_descent(\n",
      "/Users/arda/conda_root/lib/python3.8/site-packages/sklearn/linear_model/_coordinate_descent.py:530: ConvergenceWarning: Objective did not converge. You might want to increase the number of iterations. Duality gap: 59292.86802734004, tolerance: 23.421235707972507\n",
      "  model = cd_fast.enet_coordinate_descent(\n",
      "/Users/arda/conda_root/lib/python3.8/site-packages/sklearn/linear_model/_coordinate_descent.py:530: ConvergenceWarning: Objective did not converge. You might want to increase the number of iterations. Duality gap: 82844.65353161244, tolerance: 23.268013934099976\n",
      "  model = cd_fast.enet_coordinate_descent(\n",
      "/Users/arda/conda_root/lib/python3.8/site-packages/sklearn/linear_model/_coordinate_descent.py:530: ConvergenceWarning: Objective did not converge. You might want to increase the number of iterations. Duality gap: 66147.57354307303, tolerance: 22.993227878906723\n",
      "  model = cd_fast.enet_coordinate_descent(\n"
     ]
    },
    {
     "name": "stdout",
     "output_type": "stream",
     "text": [
      "lasso book_and_averaged_chunk [] None 328.1447439582515 14.324337769671782 462.3190285676874 16.95586457344878\n"
     ]
    },
    {
     "name": "stderr",
     "output_type": "stream",
     "text": [
      "/Users/arda/conda_root/lib/python3.8/site-packages/sklearn/linear_model/_coordinate_descent.py:530: ConvergenceWarning: Objective did not converge. You might want to increase the number of iterations. Duality gap: 159738.22521010274, tolerance: 417.3449932205738\n",
      "  model = cd_fast.enet_coordinate_descent(\n",
      "/Users/arda/conda_root/lib/python3.8/site-packages/sklearn/linear_model/_coordinate_descent.py:530: ConvergenceWarning: Objective did not converge. You might want to increase the number of iterations. Duality gap: 1450620.5247666694, tolerance: 423.6390334598232\n",
      "  model = cd_fast.enet_coordinate_descent(\n",
      "/Users/arda/conda_root/lib/python3.8/site-packages/sklearn/linear_model/_coordinate_descent.py:530: ConvergenceWarning: Objective did not converge. You might want to increase the number of iterations. Duality gap: 1353351.1591721156, tolerance: 386.37759108549847\n",
      "  model = cd_fast.enet_coordinate_descent(\n",
      "/Users/arda/conda_root/lib/python3.8/site-packages/sklearn/linear_model/_coordinate_descent.py:530: ConvergenceWarning: Objective did not converge. You might want to increase the number of iterations. Duality gap: 965663.4651120575, tolerance: 407.7478092430379\n",
      "  model = cd_fast.enet_coordinate_descent(\n",
      "/Users/arda/conda_root/lib/python3.8/site-packages/sklearn/linear_model/_coordinate_descent.py:530: ConvergenceWarning: Objective did not converge. You might want to increase the number of iterations. Duality gap: 1514772.5098275915, tolerance: 426.14482711791266\n",
      "  model = cd_fast.enet_coordinate_descent(\n",
      "/Users/arda/conda_root/lib/python3.8/site-packages/sklearn/linear_model/_coordinate_descent.py:530: ConvergenceWarning: Objective did not converge. You might want to increase the number of iterations. Duality gap: 1310721.4863560526, tolerance: 418.28956997388366\n",
      "  model = cd_fast.enet_coordinate_descent(\n",
      "/Users/arda/conda_root/lib/python3.8/site-packages/sklearn/linear_model/_coordinate_descent.py:530: ConvergenceWarning: Objective did not converge. You might want to increase the number of iterations. Duality gap: 1436032.2253807806, tolerance: 421.1444659307473\n",
      "  model = cd_fast.enet_coordinate_descent(\n",
      "/Users/arda/conda_root/lib/python3.8/site-packages/sklearn/linear_model/_coordinate_descent.py:530: ConvergenceWarning: Objective did not converge. You might want to increase the number of iterations. Duality gap: 1285430.4670309357, tolerance: 391.7729562161798\n",
      "  model = cd_fast.enet_coordinate_descent(\n",
      "/Users/arda/conda_root/lib/python3.8/site-packages/sklearn/linear_model/_coordinate_descent.py:530: ConvergenceWarning: Objective did not converge. You might want to increase the number of iterations. Duality gap: 1387705.9870618274, tolerance: 409.38300105709044\n",
      "  model = cd_fast.enet_coordinate_descent(\n"
     ]
    },
    {
     "name": "stdout",
     "output_type": "stream",
     "text": [
      "lasso chunk_and_copied_book ['doc2vec_chunk_embedding'] k_best_f_reg_0_10 462.2276764243141 16.9184654316702 578.5786629690958 19.112443928726794\n",
      "lasso chunk_and_copied_book ['doc2vec_chunk_embedding'] ss_pca_0_95 362.4645250293892 14.877860172459318 444.80710394833915 16.789715300949435\n"
     ]
    },
    {
     "name": "stderr",
     "output_type": "stream",
     "text": [
      "/Users/arda/conda_root/lib/python3.8/site-packages/sklearn/linear_model/_coordinate_descent.py:530: ConvergenceWarning: Objective did not converge. You might want to increase the number of iterations. Duality gap: 1301238.016235304, tolerance: 379.8643204124774\n",
      "  model = cd_fast.enet_coordinate_descent(\n",
      "/Users/arda/conda_root/lib/python3.8/site-packages/sklearn/linear_model/_coordinate_descent.py:530: ConvergenceWarning: Objective did not converge. You might want to increase the number of iterations. Duality gap: 1451607.701851685, tolerance: 423.6390334598232\n",
      "  model = cd_fast.enet_coordinate_descent(\n",
      "/Users/arda/conda_root/lib/python3.8/site-packages/sklearn/linear_model/_coordinate_descent.py:530: ConvergenceWarning: Objective did not converge. You might want to increase the number of iterations. Duality gap: 1353253.0019217904, tolerance: 386.37759108549847\n",
      "  model = cd_fast.enet_coordinate_descent(\n",
      "/Users/arda/conda_root/lib/python3.8/site-packages/sklearn/linear_model/_coordinate_descent.py:530: ConvergenceWarning: Objective did not converge. You might want to increase the number of iterations. Duality gap: 1127457.3505088245, tolerance: 407.7478092430379\n",
      "  model = cd_fast.enet_coordinate_descent(\n",
      "/Users/arda/conda_root/lib/python3.8/site-packages/sklearn/linear_model/_coordinate_descent.py:530: ConvergenceWarning: Objective did not converge. You might want to increase the number of iterations. Duality gap: 1470417.8836544247, tolerance: 426.14482711791266\n",
      "  model = cd_fast.enet_coordinate_descent(\n",
      "/Users/arda/conda_root/lib/python3.8/site-packages/sklearn/linear_model/_coordinate_descent.py:530: ConvergenceWarning: Objective did not converge. You might want to increase the number of iterations. Duality gap: 1264133.1362050197, tolerance: 418.28956997388366\n",
      "  model = cd_fast.enet_coordinate_descent(\n",
      "/Users/arda/conda_root/lib/python3.8/site-packages/sklearn/linear_model/_coordinate_descent.py:530: ConvergenceWarning: Objective did not converge. You might want to increase the number of iterations. Duality gap: 1436368.0538570336, tolerance: 421.1444659307473\n",
      "  model = cd_fast.enet_coordinate_descent(\n",
      "/Users/arda/conda_root/lib/python3.8/site-packages/sklearn/linear_model/_coordinate_descent.py:530: ConvergenceWarning: Objective did not converge. You might want to increase the number of iterations. Duality gap: 1259249.6965953188, tolerance: 391.7729562161798\n",
      "  model = cd_fast.enet_coordinate_descent(\n",
      "/Users/arda/conda_root/lib/python3.8/site-packages/sklearn/linear_model/_coordinate_descent.py:530: ConvergenceWarning: Objective did not converge. You might want to increase the number of iterations. Duality gap: 1349596.328415961, tolerance: 409.38300105709044\n",
      "  model = cd_fast.enet_coordinate_descent(\n"
     ]
    },
    {
     "name": "stdout",
     "output_type": "stream",
     "text": [
      "lasso chunk_and_copied_book ['doc2vec_chunk_embedding'] k_best_mutual_info_0_10 464.6575337475425 16.945141644239925 588.2104904497085 19.335550261139847\n"
     ]
    },
    {
     "name": "stderr",
     "output_type": "stream",
     "text": [
      "/Users/arda/conda_root/lib/python3.8/site-packages/sklearn/linear_model/_coordinate_descent.py:530: ConvergenceWarning: Objective did not converge. You might want to increase the number of iterations. Duality gap: 1301238.016235304, tolerance: 379.8643204124774\n",
      "  model = cd_fast.enet_coordinate_descent(\n",
      "/Users/arda/conda_root/lib/python3.8/site-packages/sklearn/linear_model/_coordinate_descent.py:530: ConvergenceWarning: Objective did not converge. You might want to increase the number of iterations. Duality gap: 1451607.701851685, tolerance: 423.6390334598232\n",
      "  model = cd_fast.enet_coordinate_descent(\n",
      "/Users/arda/conda_root/lib/python3.8/site-packages/sklearn/linear_model/_coordinate_descent.py:530: ConvergenceWarning: Objective did not converge. You might want to increase the number of iterations. Duality gap: 1353253.0019217904, tolerance: 386.37759108549847\n",
      "  model = cd_fast.enet_coordinate_descent(\n",
      "/Users/arda/conda_root/lib/python3.8/site-packages/sklearn/linear_model/_coordinate_descent.py:530: ConvergenceWarning: Objective did not converge. You might want to increase the number of iterations. Duality gap: 1127457.3505088245, tolerance: 407.7478092430379\n",
      "  model = cd_fast.enet_coordinate_descent(\n",
      "/Users/arda/conda_root/lib/python3.8/site-packages/sklearn/linear_model/_coordinate_descent.py:530: ConvergenceWarning: Objective did not converge. You might want to increase the number of iterations. Duality gap: 1470417.8836544247, tolerance: 426.14482711791266\n",
      "  model = cd_fast.enet_coordinate_descent(\n",
      "/Users/arda/conda_root/lib/python3.8/site-packages/sklearn/linear_model/_coordinate_descent.py:530: ConvergenceWarning: Objective did not converge. You might want to increase the number of iterations. Duality gap: 1264133.1362050197, tolerance: 418.28956997388366\n",
      "  model = cd_fast.enet_coordinate_descent(\n",
      "/Users/arda/conda_root/lib/python3.8/site-packages/sklearn/linear_model/_coordinate_descent.py:530: ConvergenceWarning: Objective did not converge. You might want to increase the number of iterations. Duality gap: 1436368.0538570336, tolerance: 421.1444659307473\n",
      "  model = cd_fast.enet_coordinate_descent(\n",
      "/Users/arda/conda_root/lib/python3.8/site-packages/sklearn/linear_model/_coordinate_descent.py:530: ConvergenceWarning: Objective did not converge. You might want to increase the number of iterations. Duality gap: 1259249.6965953188, tolerance: 391.7729562161798\n",
      "  model = cd_fast.enet_coordinate_descent(\n",
      "/Users/arda/conda_root/lib/python3.8/site-packages/sklearn/linear_model/_coordinate_descent.py:530: ConvergenceWarning: Objective did not converge. You might want to increase the number of iterations. Duality gap: 1349596.328415961, tolerance: 409.38300105709044\n",
      "  model = cd_fast.enet_coordinate_descent(\n"
     ]
    },
    {
     "name": "stdout",
     "output_type": "stream",
     "text": [
      "lasso chunk_and_copied_book ['doc2vec_chunk_embedding'] None 464.6575337475425 16.945141644239925 588.2104904497085 19.335550261139847\n"
     ]
    },
    {
     "name": "stderr",
     "output_type": "stream",
     "text": [
      "/Users/arda/conda_root/lib/python3.8/site-packages/sklearn/linear_model/_coordinate_descent.py:530: ConvergenceWarning: Objective did not converge. You might want to increase the number of iterations. Duality gap: 1293851.536617256, tolerance: 379.8643204124774\n",
      "  model = cd_fast.enet_coordinate_descent(\n",
      "/Users/arda/conda_root/lib/python3.8/site-packages/sklearn/linear_model/_coordinate_descent.py:530: ConvergenceWarning: Objective did not converge. You might want to increase the number of iterations. Duality gap: 810463.8736967961, tolerance: 417.3449932205738\n",
      "  model = cd_fast.enet_coordinate_descent(\n",
      "/Users/arda/conda_root/lib/python3.8/site-packages/sklearn/linear_model/_coordinate_descent.py:530: ConvergenceWarning: Objective did not converge. You might want to increase the number of iterations. Duality gap: 1436893.9545756602, tolerance: 423.6390334598232\n",
      "  model = cd_fast.enet_coordinate_descent(\n",
      "/Users/arda/conda_root/lib/python3.8/site-packages/sklearn/linear_model/_coordinate_descent.py:530: ConvergenceWarning: Objective did not converge. You might want to increase the number of iterations. Duality gap: 1344397.1139943323, tolerance: 386.37759108549847\n",
      "  model = cd_fast.enet_coordinate_descent(\n",
      "/Users/arda/conda_root/lib/python3.8/site-packages/sklearn/linear_model/_coordinate_descent.py:530: ConvergenceWarning: Objective did not converge. You might want to increase the number of iterations. Duality gap: 1215411.2732568607, tolerance: 407.7478092430379\n",
      "  model = cd_fast.enet_coordinate_descent(\n",
      "/Users/arda/conda_root/lib/python3.8/site-packages/sklearn/linear_model/_coordinate_descent.py:530: ConvergenceWarning: Objective did not converge. You might want to increase the number of iterations. Duality gap: 1458739.0155992256, tolerance: 426.14482711791266\n",
      "  model = cd_fast.enet_coordinate_descent(\n",
      "/Users/arda/conda_root/lib/python3.8/site-packages/sklearn/linear_model/_coordinate_descent.py:530: ConvergenceWarning: Objective did not converge. You might want to increase the number of iterations. Duality gap: 1347901.9586513555, tolerance: 418.28956997388366\n",
      "  model = cd_fast.enet_coordinate_descent(\n",
      "/Users/arda/conda_root/lib/python3.8/site-packages/sklearn/linear_model/_coordinate_descent.py:530: ConvergenceWarning: Objective did not converge. You might want to increase the number of iterations. Duality gap: 1408178.443694953, tolerance: 421.1444659307473\n",
      "  model = cd_fast.enet_coordinate_descent(\n",
      "/Users/arda/conda_root/lib/python3.8/site-packages/sklearn/linear_model/_coordinate_descent.py:530: ConvergenceWarning: Objective did not converge. You might want to increase the number of iterations. Duality gap: 1281490.4142650783, tolerance: 391.7729562161798\n",
      "  model = cd_fast.enet_coordinate_descent(\n",
      "/Users/arda/conda_root/lib/python3.8/site-packages/sklearn/linear_model/_coordinate_descent.py:530: ConvergenceWarning: Objective did not converge. You might want to increase the number of iterations. Duality gap: 1332128.945126778, tolerance: 409.38300105709044\n",
      "  model = cd_fast.enet_coordinate_descent(\n"
     ]
    },
    {
     "name": "stdout",
     "output_type": "stream",
     "text": [
      "lasso chunk_and_copied_book ['average_sentence_embedding'] k_best_f_reg_0_10 438.52121243708564 16.427677752485703 572.3720862712792 19.081419648302624\n",
      "lasso chunk_and_copied_book ['average_sentence_embedding'] ss_pca_0_95 378.2739337512271 15.27852429574759 457.5321225010277 16.930283845630548\n"
     ]
    },
    {
     "name": "stderr",
     "output_type": "stream",
     "text": [
      "/Users/arda/conda_root/lib/python3.8/site-packages/sklearn/linear_model/_coordinate_descent.py:530: ConvergenceWarning: Objective did not converge. You might want to increase the number of iterations. Duality gap: 1293851.536617256, tolerance: 379.8643204124774\n",
      "  model = cd_fast.enet_coordinate_descent(\n",
      "/Users/arda/conda_root/lib/python3.8/site-packages/sklearn/linear_model/_coordinate_descent.py:530: ConvergenceWarning: Objective did not converge. You might want to increase the number of iterations. Duality gap: 810463.8736967961, tolerance: 417.3449932205738\n",
      "  model = cd_fast.enet_coordinate_descent(\n",
      "/Users/arda/conda_root/lib/python3.8/site-packages/sklearn/linear_model/_coordinate_descent.py:530: ConvergenceWarning: Objective did not converge. You might want to increase the number of iterations. Duality gap: 1436893.9545756602, tolerance: 423.6390334598232\n",
      "  model = cd_fast.enet_coordinate_descent(\n",
      "/Users/arda/conda_root/lib/python3.8/site-packages/sklearn/linear_model/_coordinate_descent.py:530: ConvergenceWarning: Objective did not converge. You might want to increase the number of iterations. Duality gap: 1344397.1139943323, tolerance: 386.37759108549847\n",
      "  model = cd_fast.enet_coordinate_descent(\n",
      "/Users/arda/conda_root/lib/python3.8/site-packages/sklearn/linear_model/_coordinate_descent.py:530: ConvergenceWarning: Objective did not converge. You might want to increase the number of iterations. Duality gap: 1215411.2732568607, tolerance: 407.7478092430379\n",
      "  model = cd_fast.enet_coordinate_descent(\n",
      "/Users/arda/conda_root/lib/python3.8/site-packages/sklearn/linear_model/_coordinate_descent.py:530: ConvergenceWarning: Objective did not converge. You might want to increase the number of iterations. Duality gap: 1458739.0155992256, tolerance: 426.14482711791266\n",
      "  model = cd_fast.enet_coordinate_descent(\n",
      "/Users/arda/conda_root/lib/python3.8/site-packages/sklearn/linear_model/_coordinate_descent.py:530: ConvergenceWarning: Objective did not converge. You might want to increase the number of iterations. Duality gap: 1347901.9586513555, tolerance: 418.28956997388366\n",
      "  model = cd_fast.enet_coordinate_descent(\n",
      "/Users/arda/conda_root/lib/python3.8/site-packages/sklearn/linear_model/_coordinate_descent.py:530: ConvergenceWarning: Objective did not converge. You might want to increase the number of iterations. Duality gap: 1408178.443694953, tolerance: 421.1444659307473\n",
      "  model = cd_fast.enet_coordinate_descent(\n",
      "/Users/arda/conda_root/lib/python3.8/site-packages/sklearn/linear_model/_coordinate_descent.py:530: ConvergenceWarning: Objective did not converge. You might want to increase the number of iterations. Duality gap: 1281490.4142650783, tolerance: 391.7729562161798\n",
      "  model = cd_fast.enet_coordinate_descent(\n",
      "/Users/arda/conda_root/lib/python3.8/site-packages/sklearn/linear_model/_coordinate_descent.py:530: ConvergenceWarning: Objective did not converge. You might want to increase the number of iterations. Duality gap: 1332128.945126778, tolerance: 409.38300105709044\n",
      "  model = cd_fast.enet_coordinate_descent(\n"
     ]
    },
    {
     "name": "stdout",
     "output_type": "stream",
     "text": [
      "lasso chunk_and_copied_book ['average_sentence_embedding'] k_best_mutual_info_0_10 438.52121243708564 16.427677752485703 572.3720862712792 19.081419648302624\n"
     ]
    },
    {
     "name": "stderr",
     "output_type": "stream",
     "text": [
      "/Users/arda/conda_root/lib/python3.8/site-packages/sklearn/linear_model/_coordinate_descent.py:530: ConvergenceWarning: Objective did not converge. You might want to increase the number of iterations. Duality gap: 1293851.536617256, tolerance: 379.8643204124774\n",
      "  model = cd_fast.enet_coordinate_descent(\n",
      "/Users/arda/conda_root/lib/python3.8/site-packages/sklearn/linear_model/_coordinate_descent.py:530: ConvergenceWarning: Objective did not converge. You might want to increase the number of iterations. Duality gap: 810463.8736967961, tolerance: 417.3449932205738\n",
      "  model = cd_fast.enet_coordinate_descent(\n",
      "/Users/arda/conda_root/lib/python3.8/site-packages/sklearn/linear_model/_coordinate_descent.py:530: ConvergenceWarning: Objective did not converge. You might want to increase the number of iterations. Duality gap: 1436893.9545756602, tolerance: 423.6390334598232\n",
      "  model = cd_fast.enet_coordinate_descent(\n",
      "/Users/arda/conda_root/lib/python3.8/site-packages/sklearn/linear_model/_coordinate_descent.py:530: ConvergenceWarning: Objective did not converge. You might want to increase the number of iterations. Duality gap: 1344397.1139943323, tolerance: 386.37759108549847\n",
      "  model = cd_fast.enet_coordinate_descent(\n",
      "/Users/arda/conda_root/lib/python3.8/site-packages/sklearn/linear_model/_coordinate_descent.py:530: ConvergenceWarning: Objective did not converge. You might want to increase the number of iterations. Duality gap: 1215411.2732568607, tolerance: 407.7478092430379\n",
      "  model = cd_fast.enet_coordinate_descent(\n",
      "/Users/arda/conda_root/lib/python3.8/site-packages/sklearn/linear_model/_coordinate_descent.py:530: ConvergenceWarning: Objective did not converge. You might want to increase the number of iterations. Duality gap: 1458739.0155992256, tolerance: 426.14482711791266\n",
      "  model = cd_fast.enet_coordinate_descent(\n",
      "/Users/arda/conda_root/lib/python3.8/site-packages/sklearn/linear_model/_coordinate_descent.py:530: ConvergenceWarning: Objective did not converge. You might want to increase the number of iterations. Duality gap: 1347901.9586513555, tolerance: 418.28956997388366\n",
      "  model = cd_fast.enet_coordinate_descent(\n",
      "/Users/arda/conda_root/lib/python3.8/site-packages/sklearn/linear_model/_coordinate_descent.py:530: ConvergenceWarning: Objective did not converge. You might want to increase the number of iterations. Duality gap: 1408178.443694953, tolerance: 421.1444659307473\n",
      "  model = cd_fast.enet_coordinate_descent(\n",
      "/Users/arda/conda_root/lib/python3.8/site-packages/sklearn/linear_model/_coordinate_descent.py:530: ConvergenceWarning: Objective did not converge. You might want to increase the number of iterations. Duality gap: 1281490.4142650783, tolerance: 391.7729562161798\n",
      "  model = cd_fast.enet_coordinate_descent(\n",
      "/Users/arda/conda_root/lib/python3.8/site-packages/sklearn/linear_model/_coordinate_descent.py:530: ConvergenceWarning: Objective did not converge. You might want to increase the number of iterations. Duality gap: 1332128.945126778, tolerance: 409.38300105709044\n",
      "  model = cd_fast.enet_coordinate_descent(\n"
     ]
    },
    {
     "name": "stdout",
     "output_type": "stream",
     "text": [
      "lasso chunk_and_copied_book ['average_sentence_embedding'] None 438.52121243708564 16.427677752485703 572.3720862712792 19.081419648302624\n"
     ]
    },
    {
     "name": "stderr",
     "output_type": "stream",
     "text": [
      "/Users/arda/conda_root/lib/python3.8/site-packages/sklearn/linear_model/_coordinate_descent.py:530: ConvergenceWarning: Objective did not converge. You might want to increase the number of iterations. Duality gap: 1301238.016235304, tolerance: 379.8643204124774\n",
      "  model = cd_fast.enet_coordinate_descent(\n",
      "/Users/arda/conda_root/lib/python3.8/site-packages/sklearn/linear_model/_coordinate_descent.py:530: ConvergenceWarning: Objective did not converge. You might want to increase the number of iterations. Duality gap: 1451607.701851685, tolerance: 423.6390334598232\n",
      "  model = cd_fast.enet_coordinate_descent(\n",
      "/Users/arda/conda_root/lib/python3.8/site-packages/sklearn/linear_model/_coordinate_descent.py:530: ConvergenceWarning: Objective did not converge. You might want to increase the number of iterations. Duality gap: 1353253.0019217904, tolerance: 386.37759108549847\n",
      "  model = cd_fast.enet_coordinate_descent(\n",
      "/Users/arda/conda_root/lib/python3.8/site-packages/sklearn/linear_model/_coordinate_descent.py:530: ConvergenceWarning: Objective did not converge. You might want to increase the number of iterations. Duality gap: 1127457.3505088245, tolerance: 407.7478092430379\n",
      "  model = cd_fast.enet_coordinate_descent(\n",
      "/Users/arda/conda_root/lib/python3.8/site-packages/sklearn/linear_model/_coordinate_descent.py:530: ConvergenceWarning: Objective did not converge. You might want to increase the number of iterations. Duality gap: 1470417.8836544247, tolerance: 426.14482711791266\n",
      "  model = cd_fast.enet_coordinate_descent(\n",
      "/Users/arda/conda_root/lib/python3.8/site-packages/sklearn/linear_model/_coordinate_descent.py:530: ConvergenceWarning: Objective did not converge. You might want to increase the number of iterations. Duality gap: 1264133.1362050197, tolerance: 418.28956997388366\n",
      "  model = cd_fast.enet_coordinate_descent(\n",
      "/Users/arda/conda_root/lib/python3.8/site-packages/sklearn/linear_model/_coordinate_descent.py:530: ConvergenceWarning: Objective did not converge. You might want to increase the number of iterations. Duality gap: 1436368.0538570336, tolerance: 421.1444659307473\n",
      "  model = cd_fast.enet_coordinate_descent(\n",
      "/Users/arda/conda_root/lib/python3.8/site-packages/sklearn/linear_model/_coordinate_descent.py:530: ConvergenceWarning: Objective did not converge. You might want to increase the number of iterations. Duality gap: 1259249.6965953188, tolerance: 391.7729562161798\n",
      "  model = cd_fast.enet_coordinate_descent(\n",
      "/Users/arda/conda_root/lib/python3.8/site-packages/sklearn/linear_model/_coordinate_descent.py:530: ConvergenceWarning: Objective did not converge. You might want to increase the number of iterations. Duality gap: 1349596.328415961, tolerance: 409.38300105709044\n",
      "  model = cd_fast.enet_coordinate_descent(\n"
     ]
    },
    {
     "name": "stdout",
     "output_type": "stream",
     "text": [
      "lasso chunk_and_copied_book ['average_sentence_embedding', 'doc2vec_chunk_embedding'] k_best_f_reg_0_10 464.6575337475425 16.945141644239925 588.2104904497085 19.335550261139847\n",
      "lasso chunk_and_copied_book ['average_sentence_embedding', 'doc2vec_chunk_embedding'] ss_pca_0_95 397.19757369405386 15.522226112076448 485.469918712033 17.353931245848695\n"
     ]
    },
    {
     "name": "stderr",
     "output_type": "stream",
     "text": [
      "/Users/arda/conda_root/lib/python3.8/site-packages/sklearn/linear_model/_coordinate_descent.py:530: ConvergenceWarning: Objective did not converge. You might want to increase the number of iterations. Duality gap: 1301238.016235304, tolerance: 379.8643204124774\n",
      "  model = cd_fast.enet_coordinate_descent(\n",
      "/Users/arda/conda_root/lib/python3.8/site-packages/sklearn/linear_model/_coordinate_descent.py:530: ConvergenceWarning: Objective did not converge. You might want to increase the number of iterations. Duality gap: 1451607.701851685, tolerance: 423.6390334598232\n",
      "  model = cd_fast.enet_coordinate_descent(\n",
      "/Users/arda/conda_root/lib/python3.8/site-packages/sklearn/linear_model/_coordinate_descent.py:530: ConvergenceWarning: Objective did not converge. You might want to increase the number of iterations. Duality gap: 1353253.0019217904, tolerance: 386.37759108549847\n",
      "  model = cd_fast.enet_coordinate_descent(\n",
      "/Users/arda/conda_root/lib/python3.8/site-packages/sklearn/linear_model/_coordinate_descent.py:530: ConvergenceWarning: Objective did not converge. You might want to increase the number of iterations. Duality gap: 1127457.3505088245, tolerance: 407.7478092430379\n",
      "  model = cd_fast.enet_coordinate_descent(\n",
      "/Users/arda/conda_root/lib/python3.8/site-packages/sklearn/linear_model/_coordinate_descent.py:530: ConvergenceWarning: Objective did not converge. You might want to increase the number of iterations. Duality gap: 1470417.8836544247, tolerance: 426.14482711791266\n",
      "  model = cd_fast.enet_coordinate_descent(\n",
      "/Users/arda/conda_root/lib/python3.8/site-packages/sklearn/linear_model/_coordinate_descent.py:530: ConvergenceWarning: Objective did not converge. You might want to increase the number of iterations. Duality gap: 1264133.1362050197, tolerance: 418.28956997388366\n",
      "  model = cd_fast.enet_coordinate_descent(\n",
      "/Users/arda/conda_root/lib/python3.8/site-packages/sklearn/linear_model/_coordinate_descent.py:530: ConvergenceWarning: Objective did not converge. You might want to increase the number of iterations. Duality gap: 1436368.0538570336, tolerance: 421.1444659307473\n",
      "  model = cd_fast.enet_coordinate_descent(\n",
      "/Users/arda/conda_root/lib/python3.8/site-packages/sklearn/linear_model/_coordinate_descent.py:530: ConvergenceWarning: Objective did not converge. You might want to increase the number of iterations. Duality gap: 1259249.6965953188, tolerance: 391.7729562161798\n",
      "  model = cd_fast.enet_coordinate_descent(\n",
      "/Users/arda/conda_root/lib/python3.8/site-packages/sklearn/linear_model/_coordinate_descent.py:530: ConvergenceWarning: Objective did not converge. You might want to increase the number of iterations. Duality gap: 1349596.328415961, tolerance: 409.38300105709044\n",
      "  model = cd_fast.enet_coordinate_descent(\n"
     ]
    },
    {
     "name": "stdout",
     "output_type": "stream",
     "text": [
      "lasso chunk_and_copied_book ['average_sentence_embedding', 'doc2vec_chunk_embedding'] k_best_mutual_info_0_10 464.6575337475425 16.945141644239925 588.2104904497085 19.335550261139847\n"
     ]
    },
    {
     "name": "stderr",
     "output_type": "stream",
     "text": [
      "/Users/arda/conda_root/lib/python3.8/site-packages/sklearn/linear_model/_coordinate_descent.py:530: ConvergenceWarning: Objective did not converge. You might want to increase the number of iterations. Duality gap: 1301238.016235304, tolerance: 379.8643204124774\n",
      "  model = cd_fast.enet_coordinate_descent(\n",
      "/Users/arda/conda_root/lib/python3.8/site-packages/sklearn/linear_model/_coordinate_descent.py:530: ConvergenceWarning: Objective did not converge. You might want to increase the number of iterations. Duality gap: 1451607.701851685, tolerance: 423.6390334598232\n",
      "  model = cd_fast.enet_coordinate_descent(\n",
      "/Users/arda/conda_root/lib/python3.8/site-packages/sklearn/linear_model/_coordinate_descent.py:530: ConvergenceWarning: Objective did not converge. You might want to increase the number of iterations. Duality gap: 1353253.0019217904, tolerance: 386.37759108549847\n",
      "  model = cd_fast.enet_coordinate_descent(\n",
      "/Users/arda/conda_root/lib/python3.8/site-packages/sklearn/linear_model/_coordinate_descent.py:530: ConvergenceWarning: Objective did not converge. You might want to increase the number of iterations. Duality gap: 1127457.3505088245, tolerance: 407.7478092430379\n",
      "  model = cd_fast.enet_coordinate_descent(\n",
      "/Users/arda/conda_root/lib/python3.8/site-packages/sklearn/linear_model/_coordinate_descent.py:530: ConvergenceWarning: Objective did not converge. You might want to increase the number of iterations. Duality gap: 1470417.8836544247, tolerance: 426.14482711791266\n",
      "  model = cd_fast.enet_coordinate_descent(\n",
      "/Users/arda/conda_root/lib/python3.8/site-packages/sklearn/linear_model/_coordinate_descent.py:530: ConvergenceWarning: Objective did not converge. You might want to increase the number of iterations. Duality gap: 1264133.1362050197, tolerance: 418.28956997388366\n",
      "  model = cd_fast.enet_coordinate_descent(\n",
      "/Users/arda/conda_root/lib/python3.8/site-packages/sklearn/linear_model/_coordinate_descent.py:530: ConvergenceWarning: Objective did not converge. You might want to increase the number of iterations. Duality gap: 1436368.0538570336, tolerance: 421.1444659307473\n",
      "  model = cd_fast.enet_coordinate_descent(\n",
      "/Users/arda/conda_root/lib/python3.8/site-packages/sklearn/linear_model/_coordinate_descent.py:530: ConvergenceWarning: Objective did not converge. You might want to increase the number of iterations. Duality gap: 1259249.6965953188, tolerance: 391.7729562161798\n",
      "  model = cd_fast.enet_coordinate_descent(\n",
      "/Users/arda/conda_root/lib/python3.8/site-packages/sklearn/linear_model/_coordinate_descent.py:530: ConvergenceWarning: Objective did not converge. You might want to increase the number of iterations. Duality gap: 1349596.328415961, tolerance: 409.38300105709044\n",
      "  model = cd_fast.enet_coordinate_descent(\n"
     ]
    },
    {
     "name": "stdout",
     "output_type": "stream",
     "text": [
      "lasso chunk_and_copied_book ['average_sentence_embedding', 'doc2vec_chunk_embedding'] None 464.6575337475425 16.945141644239925 588.2104904497085 19.335550261139847\n"
     ]
    },
    {
     "name": "stderr",
     "output_type": "stream",
     "text": [
      "/Users/arda/conda_root/lib/python3.8/site-packages/sklearn/linear_model/_coordinate_descent.py:530: ConvergenceWarning: Objective did not converge. You might want to increase the number of iterations. Duality gap: 1200956.2875006914, tolerance: 417.3449932205738\n",
      "  model = cd_fast.enet_coordinate_descent(\n",
      "/Users/arda/conda_root/lib/python3.8/site-packages/sklearn/linear_model/_coordinate_descent.py:530: ConvergenceWarning: Objective did not converge. You might want to increase the number of iterations. Duality gap: 1463697.9454245665, tolerance: 423.6390334598232\n",
      "  model = cd_fast.enet_coordinate_descent(\n",
      "/Users/arda/conda_root/lib/python3.8/site-packages/sklearn/linear_model/_coordinate_descent.py:530: ConvergenceWarning: Objective did not converge. You might want to increase the number of iterations. Duality gap: 1362130.299170977, tolerance: 386.37759108549847\n",
      "  model = cd_fast.enet_coordinate_descent(\n",
      "/Users/arda/conda_root/lib/python3.8/site-packages/sklearn/linear_model/_coordinate_descent.py:530: ConvergenceWarning: Objective did not converge. You might want to increase the number of iterations. Duality gap: 1225597.206706801, tolerance: 407.7478092430379\n",
      "  model = cd_fast.enet_coordinate_descent(\n",
      "/Users/arda/conda_root/lib/python3.8/site-packages/sklearn/linear_model/_coordinate_descent.py:530: ConvergenceWarning: Objective did not converge. You might want to increase the number of iterations. Duality gap: 1510327.8870167988, tolerance: 426.14482711791266\n",
      "  model = cd_fast.enet_coordinate_descent(\n",
      "/Users/arda/conda_root/lib/python3.8/site-packages/sklearn/linear_model/_coordinate_descent.py:530: ConvergenceWarning: Objective did not converge. You might want to increase the number of iterations. Duality gap: 1388096.271832112, tolerance: 418.28956997388366\n",
      "  model = cd_fast.enet_coordinate_descent(\n",
      "/Users/arda/conda_root/lib/python3.8/site-packages/sklearn/linear_model/_coordinate_descent.py:530: ConvergenceWarning: Objective did not converge. You might want to increase the number of iterations. Duality gap: 1430872.9449774045, tolerance: 421.1444659307473\n",
      "  model = cd_fast.enet_coordinate_descent(\n",
      "/Users/arda/conda_root/lib/python3.8/site-packages/sklearn/linear_model/_coordinate_descent.py:530: ConvergenceWarning: Objective did not converge. You might want to increase the number of iterations. Duality gap: 1288137.5616127395, tolerance: 391.7729562161798\n",
      "  model = cd_fast.enet_coordinate_descent(\n",
      "/Users/arda/conda_root/lib/python3.8/site-packages/sklearn/linear_model/_coordinate_descent.py:530: ConvergenceWarning: Objective did not converge. You might want to increase the number of iterations. Duality gap: 1366742.4855786057, tolerance: 409.38300105709044\n",
      "  model = cd_fast.enet_coordinate_descent(\n"
     ]
    },
    {
     "name": "stdout",
     "output_type": "stream",
     "text": [
      "lasso chunk_and_copied_book [] k_best_f_reg_0_10 431.6173215446917 16.318818173183036 548.5884196927885 18.75738538388736\n",
      "lasso chunk_and_copied_book [] ss_pca_0_95 353.68607170275607 14.739770769769189 435.8996844454042 16.588369583702438\n"
     ]
    },
    {
     "name": "stderr",
     "output_type": "stream",
     "text": [
      "/Users/arda/conda_root/lib/python3.8/site-packages/sklearn/linear_model/_coordinate_descent.py:530: ConvergenceWarning: Objective did not converge. You might want to increase the number of iterations. Duality gap: 1295953.7349204822, tolerance: 379.8643204124774\n",
      "  model = cd_fast.enet_coordinate_descent(\n",
      "/Users/arda/conda_root/lib/python3.8/site-packages/sklearn/linear_model/_coordinate_descent.py:530: ConvergenceWarning: Objective did not converge. You might want to increase the number of iterations. Duality gap: 725295.1153870424, tolerance: 417.3449932205738\n",
      "  model = cd_fast.enet_coordinate_descent(\n",
      "/Users/arda/conda_root/lib/python3.8/site-packages/sklearn/linear_model/_coordinate_descent.py:530: ConvergenceWarning: Objective did not converge. You might want to increase the number of iterations. Duality gap: 1438113.6775992925, tolerance: 423.6390334598232\n",
      "  model = cd_fast.enet_coordinate_descent(\n",
      "/Users/arda/conda_root/lib/python3.8/site-packages/sklearn/linear_model/_coordinate_descent.py:530: ConvergenceWarning: Objective did not converge. You might want to increase the number of iterations. Duality gap: 1343890.289032231, tolerance: 386.37759108549847\n",
      "  model = cd_fast.enet_coordinate_descent(\n",
      "/Users/arda/conda_root/lib/python3.8/site-packages/sklearn/linear_model/_coordinate_descent.py:530: ConvergenceWarning: Objective did not converge. You might want to increase the number of iterations. Duality gap: 1222050.7986070535, tolerance: 407.7478092430379\n",
      "  model = cd_fast.enet_coordinate_descent(\n",
      "/Users/arda/conda_root/lib/python3.8/site-packages/sklearn/linear_model/_coordinate_descent.py:530: ConvergenceWarning: Objective did not converge. You might want to increase the number of iterations. Duality gap: 1458142.1863760767, tolerance: 426.14482711791266\n",
      "  model = cd_fast.enet_coordinate_descent(\n",
      "/Users/arda/conda_root/lib/python3.8/site-packages/sklearn/linear_model/_coordinate_descent.py:530: ConvergenceWarning: Objective did not converge. You might want to increase the number of iterations. Duality gap: 1347903.0789235537, tolerance: 418.28956997388366\n",
      "  model = cd_fast.enet_coordinate_descent(\n",
      "/Users/arda/conda_root/lib/python3.8/site-packages/sklearn/linear_model/_coordinate_descent.py:530: ConvergenceWarning: Objective did not converge. You might want to increase the number of iterations. Duality gap: 1413787.0348642832, tolerance: 421.1444659307473\n",
      "  model = cd_fast.enet_coordinate_descent(\n",
      "/Users/arda/conda_root/lib/python3.8/site-packages/sklearn/linear_model/_coordinate_descent.py:530: ConvergenceWarning: Objective did not converge. You might want to increase the number of iterations. Duality gap: 1280716.2236253428, tolerance: 391.7729562161798\n",
      "  model = cd_fast.enet_coordinate_descent(\n",
      "/Users/arda/conda_root/lib/python3.8/site-packages/sklearn/linear_model/_coordinate_descent.py:530: ConvergenceWarning: Objective did not converge. You might want to increase the number of iterations. Duality gap: 1338618.5239491102, tolerance: 409.38300105709044\n",
      "  model = cd_fast.enet_coordinate_descent(\n"
     ]
    },
    {
     "name": "stdout",
     "output_type": "stream",
     "text": [
      "lasso chunk_and_copied_book [] k_best_mutual_info_0_10 442.40256417014746 16.516056454280882 574.8038596312177 19.098479290163446\n"
     ]
    },
    {
     "name": "stderr",
     "output_type": "stream",
     "text": [
      "/Users/arda/conda_root/lib/python3.8/site-packages/sklearn/linear_model/_coordinate_descent.py:530: ConvergenceWarning: Objective did not converge. You might want to increase the number of iterations. Duality gap: 1293851.536617256, tolerance: 379.8643204124774\n",
      "  model = cd_fast.enet_coordinate_descent(\n",
      "/Users/arda/conda_root/lib/python3.8/site-packages/sklearn/linear_model/_coordinate_descent.py:530: ConvergenceWarning: Objective did not converge. You might want to increase the number of iterations. Duality gap: 810463.8736967961, tolerance: 417.3449932205738\n",
      "  model = cd_fast.enet_coordinate_descent(\n",
      "/Users/arda/conda_root/lib/python3.8/site-packages/sklearn/linear_model/_coordinate_descent.py:530: ConvergenceWarning: Objective did not converge. You might want to increase the number of iterations. Duality gap: 1436893.9545756602, tolerance: 423.6390334598232\n",
      "  model = cd_fast.enet_coordinate_descent(\n",
      "/Users/arda/conda_root/lib/python3.8/site-packages/sklearn/linear_model/_coordinate_descent.py:530: ConvergenceWarning: Objective did not converge. You might want to increase the number of iterations. Duality gap: 1344397.1139943323, tolerance: 386.37759108549847\n",
      "  model = cd_fast.enet_coordinate_descent(\n",
      "/Users/arda/conda_root/lib/python3.8/site-packages/sklearn/linear_model/_coordinate_descent.py:530: ConvergenceWarning: Objective did not converge. You might want to increase the number of iterations. Duality gap: 1215411.2732568607, tolerance: 407.7478092430379\n",
      "  model = cd_fast.enet_coordinate_descent(\n",
      "/Users/arda/conda_root/lib/python3.8/site-packages/sklearn/linear_model/_coordinate_descent.py:530: ConvergenceWarning: Objective did not converge. You might want to increase the number of iterations. Duality gap: 1458739.0155992256, tolerance: 426.14482711791266\n",
      "  model = cd_fast.enet_coordinate_descent(\n",
      "/Users/arda/conda_root/lib/python3.8/site-packages/sklearn/linear_model/_coordinate_descent.py:530: ConvergenceWarning: Objective did not converge. You might want to increase the number of iterations. Duality gap: 1347901.9586513555, tolerance: 418.28956997388366\n",
      "  model = cd_fast.enet_coordinate_descent(\n",
      "/Users/arda/conda_root/lib/python3.8/site-packages/sklearn/linear_model/_coordinate_descent.py:530: ConvergenceWarning: Objective did not converge. You might want to increase the number of iterations. Duality gap: 1408178.443694953, tolerance: 421.1444659307473\n",
      "  model = cd_fast.enet_coordinate_descent(\n",
      "/Users/arda/conda_root/lib/python3.8/site-packages/sklearn/linear_model/_coordinate_descent.py:530: ConvergenceWarning: Objective did not converge. You might want to increase the number of iterations. Duality gap: 1281490.4142650783, tolerance: 391.7729562161798\n",
      "  model = cd_fast.enet_coordinate_descent(\n",
      "/Users/arda/conda_root/lib/python3.8/site-packages/sklearn/linear_model/_coordinate_descent.py:530: ConvergenceWarning: Objective did not converge. You might want to increase the number of iterations. Duality gap: 1332128.945126778, tolerance: 409.38300105709044\n",
      "  model = cd_fast.enet_coordinate_descent(\n"
     ]
    },
    {
     "name": "stdout",
     "output_type": "stream",
     "text": [
      "lasso chunk_and_copied_book [] None 438.52121243708564 16.427677752485703 572.3720862712792 19.081419648302624\n",
      "svr book ['doc2vec_chunk_embedding'] k_best_f_reg_0_10 458.0261962335647 16.586678536342863 474.7952090534176 16.965148186968047\n",
      "svr book ['doc2vec_chunk_embedding'] ss_pca_0_95 437.56740928894004 15.966021681229716 463.75438009488164 16.722472351900976\n",
      "svr book ['doc2vec_chunk_embedding'] k_best_mutual_info_0_10 456.7904229853475 16.486364275844643 474.05986986285853 16.99103071709024\n",
      "svr book ['doc2vec_chunk_embedding'] None 450.6031018599671 16.237316082599925 474.76414420873914 16.919500339633576\n",
      "svr book ['average_sentence_embedding'] k_best_f_reg_0_10 458.0261962335647 16.586678536342863 474.7952090534176 16.965148186968047\n",
      "svr book ['average_sentence_embedding'] ss_pca_0_95 437.56740928894004 15.966021681229716 463.75438009488164 16.722472351900976\n",
      "svr book ['average_sentence_embedding'] k_best_mutual_info_0_10 456.42160884955535 16.48865955683719 474.0663526018111 17.007903417217268\n",
      "svr book ['average_sentence_embedding'] None 450.6031018599671 16.237316082599925 474.76414420873914 16.919500339633576\n",
      "svr book ['average_sentence_embedding', 'doc2vec_chunk_embedding'] k_best_f_reg_0_10 458.0261962335647 16.586678536342863 474.7952090534176 16.965148186968047\n",
      "svr book ['average_sentence_embedding', 'doc2vec_chunk_embedding'] ss_pca_0_95 437.56740928894004 15.966021681229716 463.75438009488164 16.722472351900976\n",
      "svr book ['average_sentence_embedding', 'doc2vec_chunk_embedding'] k_best_mutual_info_0_10 455.48243525473964 16.4675392837539 474.3093429915683 16.99687977739076\n",
      "svr book ['average_sentence_embedding', 'doc2vec_chunk_embedding'] None 450.6031018599671 16.237316082599925 474.76414420873914 16.919500339633576\n",
      "svr book [] k_best_f_reg_0_10 458.0261962335647 16.586678536342863 474.7952090534176 16.965148186968047\n",
      "svr book [] ss_pca_0_95 437.56740928894004 15.966021681229716 463.75438009488164 16.722472351900976\n",
      "svr book [] k_best_mutual_info_0_10 456.60632895544734 16.487780910819943 474.5731631017683 17.015117017897513\n",
      "svr book [] None 450.6031018599671 16.237316082599925 474.76414420873914 16.919500339633576\n",
      "svr chunk ['doc2vec_chunk_embedding'] k_best_f_reg_0_10 474.4404328526425 16.87153508044511 478.01537158945047 16.94817363043121\n",
      "svr chunk ['doc2vec_chunk_embedding'] ss_pca_0_95 376.5194581982226 14.608443736885528 441.69027936864984 16.467413953877077\n",
      "svr chunk ['doc2vec_chunk_embedding'] k_best_mutual_info_0_10 474.4404328526425 16.87153508044511 478.01537158945047 16.94817363043121\n",
      "svr chunk ['doc2vec_chunk_embedding'] None 474.4404328526425 16.87153508044511 478.01537158945047 16.94817363043121\n",
      "svr chunk ['average_sentence_embedding'] k_best_f_reg_0_10 474.4541258146587 16.871283383817804 478.0020321666572 16.947435894740828\n",
      "svr chunk ['average_sentence_embedding'] ss_pca_0_95 347.9994401552156 13.977338910990124 414.1436619845701 15.974776391090524\n",
      "svr chunk ['average_sentence_embedding'] k_best_mutual_info_0_10 474.4541258146587 16.871283383817804 478.0020321666572 16.947435894740828\n",
      "svr chunk ['average_sentence_embedding'] None 474.4541258146587 16.871283383817804 478.0020321666572 16.947435894740828\n",
      "svr chunk ['average_sentence_embedding', 'doc2vec_chunk_embedding'] k_best_f_reg_0_10 474.5419913467862 16.868978152804015 477.9589007598549 16.942806460174854\n",
      "svr chunk ['average_sentence_embedding', 'doc2vec_chunk_embedding'] ss_pca_0_95 454.0984390025627 16.305028184605696 476.5940613420186 16.97122525950181\n",
      "svr chunk ['average_sentence_embedding', 'doc2vec_chunk_embedding'] k_best_mutual_info_0_10 474.5419913467862 16.868978152804015 477.9589007598549 16.942806460174854\n",
      "svr chunk ['average_sentence_embedding', 'doc2vec_chunk_embedding'] None 474.5419913467862 16.868978152804015 477.9589007598549 16.942806460174854\n",
      "svr chunk [] k_best_f_reg_0_10 474.4402724711011 16.871546709296346 478.0174441867422 16.94826436813586\n",
      "svr chunk [] ss_pca_0_95 367.5437482116064 14.367275209040582 435.60679922468114 16.334689790124337\n",
      "svr chunk [] k_best_mutual_info_0_10 474.4402724711011 16.871546709296346 478.0174441867422 16.94826436813586\n",
      "svr chunk [] None 474.4402724711011 16.871546709296346 478.0174441867422 16.94826436813586\n",
      "svr book_and_averaged_chunk ['doc2vec_chunk_embedding'] k_best_f_reg_0_10 462.75299490662417 16.685536824919815 473.92505608250593 16.96978915919892\n",
      "svr book_and_averaged_chunk ['doc2vec_chunk_embedding'] ss_pca_0_95 440.86768058509097 16.038404089674707 466.5023277508476 16.764998878922306\n",
      "svr book_and_averaged_chunk ['doc2vec_chunk_embedding'] k_best_mutual_info_0_10 460.6587967402288 16.598206140008323 473.3328290599635 16.992424500808188\n",
      "svr book_and_averaged_chunk ['doc2vec_chunk_embedding'] None 475.16813179481494 16.809794900236863 477.5321149483122 16.86502992959779\n",
      "svr book_and_averaged_chunk ['average_sentence_embedding'] k_best_f_reg_0_10 462.3392676480336 16.67704213651075 472.7181486276042 16.940819307580757\n",
      "svr book_and_averaged_chunk ['average_sentence_embedding'] ss_pca_0_95 434.674906459833 15.919284116520036 459.57625147880555 16.653670600227322\n",
      "svr book_and_averaged_chunk ['average_sentence_embedding'] k_best_mutual_info_0_10 456.8419206505796 16.520547561075976 472.6874736716153 16.986701906966655\n",
      "svr book_and_averaged_chunk ['average_sentence_embedding'] None 475.15626438700446 16.809573984675517 477.5279243613637 16.86490166419706\n",
      "svr book_and_averaged_chunk ['average_sentence_embedding', 'doc2vec_chunk_embedding'] k_best_f_reg_0_10 460.0584437003487 16.618879420629984 478.8180498850126 16.948040150343687\n",
      "svr book_and_averaged_chunk ['average_sentence_embedding', 'doc2vec_chunk_embedding'] ss_pca_0_95 436.5178010974382 15.955845318705451 462.11753016054365 16.698671385577796\n",
      "svr book_and_averaged_chunk ['average_sentence_embedding', 'doc2vec_chunk_embedding'] k_best_mutual_info_0_10 456.30488124690936 16.48776333608991 475.8683216154366 17.03455178635407\n",
      "svr book_and_averaged_chunk ['average_sentence_embedding', 'doc2vec_chunk_embedding'] None 475.1484905788724 16.809485354626048 477.5249914376938 16.86487712895817\n",
      "svr book_and_averaged_chunk [] k_best_f_reg_0_10 462.57606020517625 16.682701417674327 473.8050557914615 16.968249746262977\n",
      "svr book_and_averaged_chunk [] ss_pca_0_95 439.9007690100367 16.01948130379518 465.25596994646475 16.744283481587498\n",
      "svr book_and_averaged_chunk [] k_best_mutual_info_0_10 463.2357525612705 16.63109012151044 474.8189272365663 17.033297326236955\n",
      "svr book_and_averaged_chunk [] None 475.16942674713584 16.80980967817033 477.5326099584722 16.865029616688005\n",
      "svr chunk_and_copied_book ['doc2vec_chunk_embedding'] k_best_f_reg_0_10 455.17380978075045 16.315480253293384 468.75716266480447 16.704785702712357\n",
      "svr chunk_and_copied_book ['doc2vec_chunk_embedding'] ss_pca_0_95 306.029312886231 12.556744103974518 418.70326233286323 16.06049677436119\n",
      "svr chunk_and_copied_book ['doc2vec_chunk_embedding'] k_best_mutual_info_0_10 474.0839983962493 16.858808473993072 478.01084433850303 16.942547531693453\n",
      "svr chunk_and_copied_book ['doc2vec_chunk_embedding'] None 474.084322220311 16.858815686475634 478.01023935311343 16.942543496424598\n",
      "svr chunk_and_copied_book ['average_sentence_embedding'] k_best_f_reg_0_10 474.0841676868781 16.85874354972254 478.01274085057804 16.942537159560647\n",
      "svr chunk_and_copied_book ['average_sentence_embedding'] ss_pca_0_95 237.7438300376379 10.179830969343149 402.1906129000219 15.831566296521078\n",
      "svr chunk_and_copied_book ['average_sentence_embedding'] k_best_mutual_info_0_10 474.0841676868781 16.85874354972254 478.01274085057804 16.942537159560647\n",
      "svr chunk_and_copied_book ['average_sentence_embedding'] None 474.0841676868781 16.85874354972254 478.01274085057804 16.942537159560647\n",
      "svr chunk_and_copied_book ['average_sentence_embedding', 'doc2vec_chunk_embedding'] k_best_f_reg_0_10 474.08510915955446 16.85868951314611 478.0153359224422 16.9425222290663\n",
      "svr chunk_and_copied_book ['average_sentence_embedding', 'doc2vec_chunk_embedding'] ss_pca_0_95 222.11499953218282 9.511228753894367 403.8600364717795 15.86210837741191\n",
      "svr chunk_and_copied_book ['average_sentence_embedding', 'doc2vec_chunk_embedding'] k_best_mutual_info_0_10 474.08510915955446 16.85868951314611 478.0153359224422 16.9425222290663\n"
     ]
    },
    {
     "name": "stdout",
     "output_type": "stream",
     "text": [
      "svr chunk_and_copied_book ['average_sentence_embedding', 'doc2vec_chunk_embedding'] None 474.08510915955446 16.85868951314611 478.0153359224422 16.9425222290663\n",
      "svr chunk_and_copied_book [] k_best_f_reg_0_10 456.9766420638695 16.350639241099145 471.8973284399529 16.78464457051737\n",
      "svr chunk_and_copied_book [] ss_pca_0_95 305.8788422633093 12.540192322002493 418.2733320816462 16.028029234670004\n",
      "svr chunk_and_copied_book [] k_best_mutual_info_0_10 474.0846449002148 16.8588019315912 478.0101840125317 16.942527818931175\n",
      "svr chunk_and_copied_book [] None 474.0837170943907 16.85881902839988 478.0093921353129 16.94253075119281\n"
     ]
    }
   ],
   "source": [
    "results = []\n",
    "\n",
    "for model in [\"xgboost\", \"lasso\", \"svr\"]:\n",
    "    for features in [\"book\", \"chunk\", \"book_and_averaged_chunk\", \"chunk_and_copied_book\"]:\n",
    "        for drop_columns_including in [[\"doc2vec_chunk_embedding\"], [\"average_sentence_embedding\"], [\"average_sentence_embedding\", \"doc2vec_chunk_embedding\"], []]:\n",
    "            for dimensionality_reduction in [\"k_best_f_reg_0_10\", \"ss_pca_0_95\", \"k_best_mutual_info_0_10\", None]:\n",
    "                try:\n",
    "                    experiment = Experiment(\n",
    "                        features=features,\n",
    "                        drop_columns_including=drop_columns_including,\n",
    "                        dimensionality_reduction=dimensionality_reduction,\n",
    "                        model=model,\n",
    "                        verbose=False\n",
    "                    )\n",
    "                    train_mse, train_mae, validation_mse, validation_mae = experiment.run()\n",
    "                    results.append((model, features, drop_columns_including, dimensionality_reduction, train_mse, train_mae, validation_mse, validation_mae))\n",
    "                    print(model, features, drop_columns_including, dimensionality_reduction, train_mse, train_mae, validation_mse, validation_mae)\n",
    "                except Exception as e:\n",
    "                    print(f\"Error in {model}, {features}, {drop_columns_including}, {dimensionality_reduction}\")\n",
    "                    print(e)\n"
   ]
  },
  {
   "cell_type": "markdown",
   "metadata": {},
   "source": [
    "# Validation MAE medians"
   ]
  },
  {
   "cell_type": "code",
   "execution_count": 16,
   "metadata": {},
   "outputs": [],
   "source": [
    "results_df = pd.DataFrame(results, columns=[\"model\", \"features\", \"drop_columns_including\", \"dimensionality_reduction\", \"train_mse\", \"train_mae\", \"validation_mse\", \"validation_mae\"])\n",
    "results_df[\"drop_columns_including\"] = results_df[\"drop_columns_including\"].apply(str)\n"
   ]
  },
  {
   "cell_type": "code",
   "execution_count": 17,
   "metadata": {},
   "outputs": [
    {
     "data": {
      "text/html": [
       "<div>\n",
       "<style scoped>\n",
       "    .dataframe tbody tr th:only-of-type {\n",
       "        vertical-align: middle;\n",
       "    }\n",
       "\n",
       "    .dataframe tbody tr th {\n",
       "        vertical-align: top;\n",
       "    }\n",
       "\n",
       "    .dataframe thead th {\n",
       "        text-align: right;\n",
       "    }\n",
       "</style>\n",
       "<table border=\"1\" class=\"dataframe\">\n",
       "  <thead>\n",
       "    <tr style=\"text-align: right;\">\n",
       "      <th></th>\n",
       "      <th>validation_mae</th>\n",
       "    </tr>\n",
       "    <tr>\n",
       "      <th>model</th>\n",
       "      <th></th>\n",
       "    </tr>\n",
       "  </thead>\n",
       "  <tbody>\n",
       "    <tr>\n",
       "      <th>lasso</th>\n",
       "      <td>17.201753</td>\n",
       "    </tr>\n",
       "    <tr>\n",
       "      <th>svr</th>\n",
       "      <td>16.942537</td>\n",
       "    </tr>\n",
       "    <tr>\n",
       "      <th>xgboost</th>\n",
       "      <td>16.911822</td>\n",
       "    </tr>\n",
       "  </tbody>\n",
       "</table>\n",
       "</div>"
      ],
      "text/plain": [
       "         validation_mae\n",
       "model                  \n",
       "lasso         17.201753\n",
       "svr           16.942537\n",
       "xgboost       16.911822"
      ]
     },
     "execution_count": 17,
     "metadata": {},
     "output_type": "execute_result"
    }
   ],
   "source": [
    "results_df.groupby(\"model\").agg({\"validation_mae\": \"median\"})"
   ]
  },
  {
   "cell_type": "code",
   "execution_count": 18,
   "metadata": {},
   "outputs": [
    {
     "data": {
      "text/html": [
       "<div>\n",
       "<style scoped>\n",
       "    .dataframe tbody tr th:only-of-type {\n",
       "        vertical-align: middle;\n",
       "    }\n",
       "\n",
       "    .dataframe tbody tr th {\n",
       "        vertical-align: top;\n",
       "    }\n",
       "\n",
       "    .dataframe thead th {\n",
       "        text-align: right;\n",
       "    }\n",
       "</style>\n",
       "<table border=\"1\" class=\"dataframe\">\n",
       "  <thead>\n",
       "    <tr style=\"text-align: right;\">\n",
       "      <th></th>\n",
       "      <th>validation_mae</th>\n",
       "    </tr>\n",
       "    <tr>\n",
       "      <th>features</th>\n",
       "      <th></th>\n",
       "    </tr>\n",
       "  </thead>\n",
       "  <tbody>\n",
       "    <tr>\n",
       "      <th>book</th>\n",
       "      <td>17.053378</td>\n",
       "    </tr>\n",
       "    <tr>\n",
       "      <th>book_and_averaged_chunk</th>\n",
       "      <td>16.957275</td>\n",
       "    </tr>\n",
       "    <tr>\n",
       "      <th>chunk</th>\n",
       "      <td>16.599657</td>\n",
       "    </tr>\n",
       "    <tr>\n",
       "      <th>chunk_and_copied_book</th>\n",
       "      <td>16.942537</td>\n",
       "    </tr>\n",
       "  </tbody>\n",
       "</table>\n",
       "</div>"
      ],
      "text/plain": [
       "                         validation_mae\n",
       "features                               \n",
       "book                          17.053378\n",
       "book_and_averaged_chunk       16.957275\n",
       "chunk                         16.599657\n",
       "chunk_and_copied_book         16.942537"
      ]
     },
     "execution_count": 18,
     "metadata": {},
     "output_type": "execute_result"
    }
   ],
   "source": [
    "results_df.groupby(\"features\").agg({\"validation_mae\": \"median\"})"
   ]
  },
  {
   "cell_type": "code",
   "execution_count": 19,
   "metadata": {},
   "outputs": [
    {
     "data": {
      "text/html": [
       "<div>\n",
       "<style scoped>\n",
       "    .dataframe tbody tr th:only-of-type {\n",
       "        vertical-align: middle;\n",
       "    }\n",
       "\n",
       "    .dataframe tbody tr th {\n",
       "        vertical-align: top;\n",
       "    }\n",
       "\n",
       "    .dataframe thead th {\n",
       "        text-align: right;\n",
       "    }\n",
       "</style>\n",
       "<table border=\"1\" class=\"dataframe\">\n",
       "  <thead>\n",
       "    <tr style=\"text-align: right;\">\n",
       "      <th></th>\n",
       "      <th>validation_mae</th>\n",
       "    </tr>\n",
       "    <tr>\n",
       "      <th>drop_columns_including</th>\n",
       "      <th></th>\n",
       "    </tr>\n",
       "  </thead>\n",
       "  <tbody>\n",
       "    <tr>\n",
       "      <th>['average_sentence_embedding', 'doc2vec_chunk_embedding']</th>\n",
       "      <td>16.961005</td>\n",
       "    </tr>\n",
       "    <tr>\n",
       "      <th>['average_sentence_embedding']</th>\n",
       "      <td>16.941678</td>\n",
       "    </tr>\n",
       "    <tr>\n",
       "      <th>['doc2vec_chunk_embedding']</th>\n",
       "      <td>16.948174</td>\n",
       "    </tr>\n",
       "    <tr>\n",
       "      <th>[]</th>\n",
       "      <td>16.892265</td>\n",
       "    </tr>\n",
       "  </tbody>\n",
       "</table>\n",
       "</div>"
      ],
      "text/plain": [
       "                                                    validation_mae\n",
       "drop_columns_including                                            \n",
       "['average_sentence_embedding', 'doc2vec_chunk_e...       16.961005\n",
       "['average_sentence_embedding']                           16.941678\n",
       "['doc2vec_chunk_embedding']                              16.948174\n",
       "[]                                                       16.892265"
      ]
     },
     "execution_count": 19,
     "metadata": {},
     "output_type": "execute_result"
    }
   ],
   "source": [
    "results_df.groupby(\"drop_columns_including\").agg({\"validation_mae\": \"median\"})"
   ]
  },
  {
   "cell_type": "code",
   "execution_count": 20,
   "metadata": {},
   "outputs": [
    {
     "data": {
      "text/html": [
       "<div>\n",
       "<style scoped>\n",
       "    .dataframe tbody tr th:only-of-type {\n",
       "        vertical-align: middle;\n",
       "    }\n",
       "\n",
       "    .dataframe tbody tr th {\n",
       "        vertical-align: top;\n",
       "    }\n",
       "\n",
       "    .dataframe thead th {\n",
       "        text-align: right;\n",
       "    }\n",
       "</style>\n",
       "<table border=\"1\" class=\"dataframe\">\n",
       "  <thead>\n",
       "    <tr style=\"text-align: right;\">\n",
       "      <th></th>\n",
       "      <th>validation_mae</th>\n",
       "    </tr>\n",
       "    <tr>\n",
       "      <th>dimensionality_reduction</th>\n",
       "      <th></th>\n",
       "    </tr>\n",
       "  </thead>\n",
       "  <tbody>\n",
       "    <tr>\n",
       "      <th>k_best_f_reg_0_10</th>\n",
       "      <td>16.965148</td>\n",
       "    </tr>\n",
       "    <tr>\n",
       "      <th>k_best_mutual_info_0_10</th>\n",
       "      <td>16.994652</td>\n",
       "    </tr>\n",
       "    <tr>\n",
       "      <th>ss_pca_0_95</th>\n",
       "      <td>16.610395</td>\n",
       "    </tr>\n",
       "  </tbody>\n",
       "</table>\n",
       "</div>"
      ],
      "text/plain": [
       "                          validation_mae\n",
       "dimensionality_reduction                \n",
       "k_best_f_reg_0_10              16.965148\n",
       "k_best_mutual_info_0_10        16.994652\n",
       "ss_pca_0_95                    16.610395"
      ]
     },
     "execution_count": 20,
     "metadata": {},
     "output_type": "execute_result"
    }
   ],
   "source": [
    "results_df.groupby(\"dimensionality_reduction\").agg({\"validation_mae\": \"median\"})"
   ]
  },
  {
   "cell_type": "markdown",
   "metadata": {},
   "source": [
    "# Best result"
   ]
  },
  {
   "cell_type": "code",
   "execution_count": 21,
   "metadata": {},
   "outputs": [
    {
     "data": {
      "text/html": [
       "<div>\n",
       "<style scoped>\n",
       "    .dataframe tbody tr th:only-of-type {\n",
       "        vertical-align: middle;\n",
       "    }\n",
       "\n",
       "    .dataframe tbody tr th {\n",
       "        vertical-align: top;\n",
       "    }\n",
       "\n",
       "    .dataframe thead th {\n",
       "        text-align: right;\n",
       "    }\n",
       "</style>\n",
       "<table border=\"1\" class=\"dataframe\">\n",
       "  <thead>\n",
       "    <tr style=\"text-align: right;\">\n",
       "      <th></th>\n",
       "      <th>model</th>\n",
       "      <th>features</th>\n",
       "      <th>drop_columns_including</th>\n",
       "      <th>dimensionality_reduction</th>\n",
       "      <th>train_mse</th>\n",
       "      <th>train_mae</th>\n",
       "      <th>validation_mse</th>\n",
       "      <th>validation_mae</th>\n",
       "    </tr>\n",
       "  </thead>\n",
       "  <tbody>\n",
       "    <tr>\n",
       "      <th>20</th>\n",
       "      <td>xgboost</td>\n",
       "      <td>chunk</td>\n",
       "      <td>['average_sentence_embedding']</td>\n",
       "      <td>k_best_f_reg_0_10</td>\n",
       "      <td>14.272714</td>\n",
       "      <td>2.773162</td>\n",
       "      <td>380.170237</td>\n",
       "      <td>15.384383</td>\n",
       "    </tr>\n",
       "    <tr>\n",
       "      <th>22</th>\n",
       "      <td>xgboost</td>\n",
       "      <td>chunk</td>\n",
       "      <td>['average_sentence_embedding']</td>\n",
       "      <td>k_best_mutual_info_0_10</td>\n",
       "      <td>14.272714</td>\n",
       "      <td>2.773162</td>\n",
       "      <td>380.170237</td>\n",
       "      <td>15.384383</td>\n",
       "    </tr>\n",
       "    <tr>\n",
       "      <th>23</th>\n",
       "      <td>xgboost</td>\n",
       "      <td>chunk</td>\n",
       "      <td>['average_sentence_embedding']</td>\n",
       "      <td>None</td>\n",
       "      <td>14.272714</td>\n",
       "      <td>2.773162</td>\n",
       "      <td>380.170237</td>\n",
       "      <td>15.384383</td>\n",
       "    </tr>\n",
       "  </tbody>\n",
       "</table>\n",
       "</div>"
      ],
      "text/plain": [
       "      model features          drop_columns_including dimensionality_reduction  \\\n",
       "20  xgboost    chunk  ['average_sentence_embedding']        k_best_f_reg_0_10   \n",
       "22  xgboost    chunk  ['average_sentence_embedding']  k_best_mutual_info_0_10   \n",
       "23  xgboost    chunk  ['average_sentence_embedding']                     None   \n",
       "\n",
       "    train_mse  train_mae  validation_mse  validation_mae  \n",
       "20  14.272714   2.773162      380.170237       15.384383  \n",
       "22  14.272714   2.773162      380.170237       15.384383  \n",
       "23  14.272714   2.773162      380.170237       15.384383  "
      ]
     },
     "execution_count": 21,
     "metadata": {},
     "output_type": "execute_result"
    }
   ],
   "source": [
    "results_df[results_df.validation_mae == results_df.validation_mae.min()]"
   ]
  },
  {
   "cell_type": "code",
   "execution_count": 25,
   "metadata": {},
   "outputs": [],
   "source": [
    "results_df.to_csv(\"../data/results/model_features_drop_columns_including_dimensionality_reduction_ger.csv\", index=False)\n"
   ]
  },
  {
   "cell_type": "code",
   "execution_count": null,
   "metadata": {},
   "outputs": [],
   "source": []
  }
 ],
 "metadata": {
  "kernelspec": {
   "display_name": "Python 3",
   "language": "python",
   "name": "python3"
  },
  "language_info": {
   "codemirror_mode": {
    "name": "ipython",
    "version": 3
   },
   "file_extension": ".py",
   "mimetype": "text/x-python",
   "name": "python",
   "nbconvert_exporter": "python",
   "pygments_lexer": "ipython3",
   "version": "3.8.5"
  }
 },
 "nbformat": 4,
 "nbformat_minor": 4
}
