{
 "cells": [
  {
   "cell_type": "code",
   "execution_count": 1,
   "metadata": {},
   "outputs": [
    {
     "data": {
      "text/plain": [
       "'\\nThis is the best result we got from \"multiple_experiments\" notebook. However, RFE gave a better result in terms of MAE.\\n'"
      ]
     },
     "execution_count": 1,
     "metadata": {},
     "output_type": "execute_result"
    }
   ],
   "source": [
    "'''\n",
    "This is the best result we got from \"multiple_experiments\" notebook. However, RFE gave a better result in terms of MAE.\n",
    "'''"
   ]
  },
  {
   "cell_type": "code",
   "execution_count": 2,
   "metadata": {},
   "outputs": [],
   "source": [
    "# import os\n",
    "# import sys\n",
    "# sys.path.insert(0, \"../src/\")\n",
    "# import re\n",
    "# import numpy as np\n",
    "# import pandas as pd\n",
    "# from tqdm import tqdm\n",
    "# from handcrafted_features import DocBasedFeatureExtractor, Doc2VecChunkVectorizer, CorpusBasedFeatureExtractor\n",
    "# from utils import get_doc_paths, read_labels\n",
    "# \n",
    "# raw_docs_dir = \"../data/raw_docs/\"\n",
    "# labels_dir = \"../data/labels/\"\n",
    "# extracted_features_dir = \"../data/extracted_features/\"\n",
    "# \n",
    "# lang = \"ger\"\n",
    "# doc_paths = get_doc_paths(raw_docs_dir, lang)\n",
    "# \n",
    "# sentences_per_chunk = 200\n",
    "# d2vcv = Doc2VecChunkVectorizer(lang, sentences_per_chunk)\n",
    "# d2vcv.fit_transform(doc_paths)\n"
   ]
  },
  {
   "cell_type": "code",
   "execution_count": 3,
   "metadata": {
    "scrolled": true
   },
   "outputs": [],
   "source": [
    "# all_chunk_based_features = []\n",
    "# all_book_based_features = []\n",
    "# all_average_sbert_sentence_embeddings = []\n",
    "# all_doc2vec_chunk_embeddings = []\n",
    "# for doc_path in tqdm(doc_paths):\n",
    "#     fe = DocBasedFeatureExtractor(lang, doc_path, sentences_per_chunk)\n",
    "#     chunk_based_features, book_based_features, average_sbert_sentence_embeddings, doc2vec_chunk_embeddings = fe.get_all_features()\n",
    "#     all_chunk_based_features.extend(chunk_based_features)\n",
    "#     all_book_based_features.append(book_based_features)\n",
    "#     all_average_sbert_sentence_embeddings.append(average_sbert_sentence_embeddings)\n",
    "#     all_doc2vec_chunk_embeddings.append(doc2vec_chunk_embeddings)\n"
   ]
  },
  {
   "cell_type": "code",
   "execution_count": 4,
   "metadata": {
    "scrolled": false
   },
   "outputs": [],
   "source": [
    "# cbfe = CorpusBasedFeatureExtractor(lang, doc_paths, all_average_sbert_sentence_embeddings, all_doc2vec_chunk_embeddings)\n",
    "# all_corpus_based_features = cbfe.get_all_features()\n"
   ]
  },
  {
   "cell_type": "code",
   "execution_count": 5,
   "metadata": {},
   "outputs": [],
   "source": [
    "# import os\n",
    "# import pandas as pd\n",
    "# \n",
    "# book_df = pd.DataFrame(all_book_based_features)\n",
    "# book_df = book_df.merge(all_corpus_based_features, on=\"book_name\")\n",
    "# book_and_averaged_chunk_df = book_df.merge(pd.DataFrame(all_chunk_based_features).groupby(\"book_name\").mean().reset_index(drop=False), on=\"book_name\")\n",
    "# \n",
    "# chunk_df = pd.DataFrame(all_chunk_based_features)\n",
    "# chunk_and_copied_book_df = chunk_df.merge(pd.DataFrame(all_book_based_features), on=\"book_name\")\n",
    "# chunk_and_copied_book_df = chunk_and_copied_book_df.merge(all_corpus_based_features, on=\"book_name\")\n",
    "# \n",
    "# os.makedirs(f\"{extracted_features_dir}/{lang}\", exist_ok=True)\n",
    "# book_df.to_csv(f\"{extracted_features_dir}/{lang}/book_df.csv\", index=False)\n",
    "# book_and_averaged_chunk_df.to_csv(f\"{extracted_features_dir}/{lang}/book_and_averaged_chunk_df.csv\", index=False)\n",
    "# chunk_df.to_csv(f\"{extracted_features_dir}/{lang}/chunk_df.csv\", index=False)\n",
    "# chunk_and_copied_book_df.to_csv(f\"{extracted_features_dir}/{lang}/chunk_and_copied_book_df.csv\", index=False)\n"
   ]
  },
  {
   "cell_type": "code",
   "execution_count": 6,
   "metadata": {},
   "outputs": [],
   "source": [
    "import sys\n",
    "sys.path.insert(0, \"../src/\")\n",
    "import numpy as np\n",
    "import pandas as pd\n",
    "\n",
    "extracted_features_dir = \"../data/extracted_features/\"\n",
    "labels_dir = \"../data/labels/\"\n",
    "lang = \"ger\"\n",
    "\n",
    "book_df = pd.read_csv(f\"{extracted_features_dir}/{lang}/book_df.csv\")\n",
    "book_and_averaged_chunk_df = pd.read_csv(f\"{extracted_features_dir}/{lang}/book_and_averaged_chunk_df.csv\")\n",
    "chunk_df = pd.read_csv(f\"{extracted_features_dir}/{lang}/chunk_df.csv\")\n",
    "chunk_and_copied_book_df = pd.read_csv(f\"{extracted_features_dir}/{lang}/chunk_and_copied_book_df.csv\")\n"
   ]
  },
  {
   "cell_type": "code",
   "execution_count": 7,
   "metadata": {},
   "outputs": [],
   "source": [
    "from sklearn.feature_selection import SelectKBest, f_regression, mutual_info_regression\n",
    "from sklearn.preprocessing import StandardScaler\n",
    "from sklearn.decomposition import PCA\n",
    "from sklearn.impute import KNNImputer\n",
    "from sklearn.linear_model import Lasso\n",
    "from sklearn.svm import SVR\n",
    "from xgboost import XGBRegressor\n",
    "from copy import deepcopy\n",
    "from utils import read_labels\n",
    "from sklearn.metrics import mean_squared_error, mean_absolute_error, r2_score\n",
    "from math import sqrt\n",
    "%matplotlib inline\n",
    "import matplotlib.pyplot as plt\n",
    "\n",
    "labels = read_labels(labels_dir)\n",
    "\n",
    "class Experiment(object):\n",
    "    def __init__(self, features, drop_columns_including, dimensionality_reduction, model, verbose):\n",
    "        assert features in [\"book\", \"chunk\", \"book_and_averaged_chunk\", \"chunk_and_copied_book\"]\n",
    "        assert isinstance(drop_columns_including, list)\n",
    "        for i in drop_columns_including:\n",
    "            assert isinstance(i, str)\n",
    "        assert model in [\"xgboost\", \"svr\", \"lasso\"]\n",
    "        assert (dimensionality_reduction in [\"ss_pca_0_95\", \"k_best_f_reg_0_10\", \"k_best_mutual_info_0_10\"]) or (dimensionality_reduction is None)\n",
    "        self.features = features\n",
    "        self.labels = labels\n",
    "        self.drop_columns_including = drop_columns_including\n",
    "        self.dimensionality_reduction = dimensionality_reduction\n",
    "        self.model = model\n",
    "        self.verbose = verbose\n",
    "\n",
    "        if features == \"book\":\n",
    "            self.df = deepcopy(book_df)\n",
    "        elif features == \"chunk\":\n",
    "            self.df = deepcopy(chunk_df)\n",
    "        elif features == \"chunk_and_copied_book\":\n",
    "            self.df = deepcopy(chunk_and_copied_book_df)\n",
    "        elif features == \"book_and_averaged_chunk\":\n",
    "            self.df = deepcopy(book_and_averaged_chunk_df)\n",
    "\n",
    "        columns_before_drop = set(self.df.columns)\n",
    "        self.df = self.df[[column for column in self.df.columns if not self._drop_column(column)]].reset_index(drop=True)\n",
    "        columns_after_drop = set(self.df.columns)\n",
    "        if self.verbose:\n",
    "            print(f\"Dropped {len(columns_before_drop - columns_after_drop)} columns.\")\n",
    "        self.df.loc[:, \"y\"] = self.df.book_name.apply(lambda x: self.labels[x]).tolist()\n",
    "\n",
    "    def _drop_column(self, column):\n",
    "        for string in self.drop_columns_including:\n",
    "            if string in column:\n",
    "                return True\n",
    "        return False\n",
    "    \n",
    "    def _custom_pca(self, train_X):\n",
    "        for i in range(5, train_X.shape[1], int((train_X.shape[1] - 5) / 10)):\n",
    "            pca = PCA(n_components=i)\n",
    "            new_train_X = pca.fit_transform(train_X)\n",
    "            if pca.explained_variance_ratio_.sum() >= 0.95:\n",
    "                break\n",
    "        return new_train_X, pca\n",
    "\n",
    "    def _select_features(self, train_X, train_y, validation_X):\n",
    "        if self.dimensionality_reduction == \"ss_pca_0_95\":\n",
    "            ss = StandardScaler()\n",
    "            train_X = ss.fit_transform(train_X)\n",
    "            validation_X = ss.transform(validation_X)\n",
    "            train_X, pca = self._custom_pca(train_X)\n",
    "            validation_X = pca.transform(validation_X)\n",
    "        elif self.dimensionality_reduction == \"k_best_f_reg_0_10\":\n",
    "            k_best = SelectKBest(f_regression, k=np.minimum(int(0.10 * train_X.shape[0]), train_X.shape[1]))\n",
    "            train_X = k_best.fit_transform(train_X, train_y)\n",
    "            validation_X = k_best.transform(validation_X)\n",
    "        elif self.dimensionality_reduction == \"k_best_mutual_info_0_10\":\n",
    "            k_best = SelectKBest(mutual_info_regression, k=np.minimum(int(0.10 * train_X.shape[0]), train_X.shape[1]))\n",
    "            train_X = k_best.fit_transform(train_X, train_y)\n",
    "            validation_X = k_best.transform(validation_X)\n",
    "        elif self.dimensionality_reduction is None:\n",
    "            pass\n",
    "        return train_X, validation_X\n",
    "    \n",
    "    def _impute(self, train_X, validation_X):\n",
    "        imputer = KNNImputer()\n",
    "        train_X = imputer.fit_transform(train_X)\n",
    "        validation_X = imputer.transform(validation_X)\n",
    "        return train_X, validation_X\n",
    "    \n",
    "    def _get_model(self):\n",
    "        # if any of these performs better than others, we can try to tune the hyperparameters\n",
    "        # but I think for now it's more important to see which approach performs better\n",
    "        # chunk based or doc based\n",
    "        # use dimensionality reduction or not...\n",
    "        if self.model == \"xgboost\":\n",
    "            return XGBRegressor(n_estimators=1000, max_depth=4, learning_rate=0.01, colsample_bytree=0.33, min_child_weight=6)\n",
    "        elif self.model == \"svr\":\n",
    "            return SVR()\n",
    "        elif self.model == \"lasso\":\n",
    "            return Lasso()\n",
    "            \n",
    "    def run(self):\n",
    "        all_predictions = []\n",
    "        all_labels = []\n",
    "        train_mses = []\n",
    "        train_maes = []\n",
    "        validation_mses = []\n",
    "        validation_maes = []\n",
    "        validation_r2s = []\n",
    "        all_validation_books = []\n",
    "\n",
    "        df = self.df\n",
    "        book_names = df['book_name'].unique()\n",
    "        book_names_splitted = np.array_split(book_names, 10)\n",
    "        for index, split in enumerate(book_names_splitted):\n",
    "            train_df = df[~df[\"book_name\"].isin(split)]\n",
    "            validation_df = df[df[\"book_name\"].isin(split)]\n",
    "            train_X = train_df.drop(columns=[\"y\", \"book_name\"]).values\n",
    "            train_y = train_df[\"y\"].values.ravel()\n",
    "            validation_X = validation_df.drop(columns=[\"y\", \"book_name\"]).values\n",
    "            validation_y = validation_df[\"y\"].values.ravel()\n",
    "            train_X, validation_X = self._impute(train_X, validation_X)\n",
    "            if self.verbose:\n",
    "                print(f\"train_X.shape before {self.dimensionality_reduction}: {train_X.shape}, validation_X.shape before {self.dimensionality_reduction}: {validation_X.shape}\")\n",
    "            train_X, validation_X = self._select_features(train_X, train_y, validation_X)\n",
    "            if self.verbose:\n",
    "                print(f\"train_X.shape after {self.dimensionality_reduction}: {train_X.shape}, validation_X.shape after {self.dimensionality_reduction}: {validation_X.shape}\")\n",
    "            model = self._get_model()\n",
    "            model.fit(train_X, train_y)\n",
    "            \n",
    "            train_books = deepcopy(train_df[[\"book_name\", \"y\"]])\n",
    "            train_books[\"yhat\"] = model.predict(train_X)\n",
    "            validation_books = deepcopy(validation_df[[\"book_name\", \"y\"]])\n",
    "            validation_books[\"yhat\"] = model.predict(validation_X)\n",
    "            \n",
    "            train_books = train_books.groupby(\"book_name\").mean()\n",
    "            validation_books = validation_books.groupby(\"book_name\").mean()\n",
    "            all_validation_books.append(validation_books)\n",
    "            \n",
    "            train_y = train_books[\"y\"].tolist()\n",
    "            train_yhat = train_books[\"yhat\"].tolist()\n",
    "            validation_y = validation_books[\"y\"].tolist()\n",
    "            validation_yhat = validation_books[\"yhat\"].tolist()\n",
    "            \n",
    "            all_labels.extend(validation_y)\n",
    "            all_predictions.extend(validation_yhat)\n",
    "            \n",
    "            train_mse = mean_squared_error(train_y, train_yhat)\n",
    "            train_mae = mean_absolute_error(train_y, train_yhat)\n",
    "            validation_mse = mean_squared_error(validation_y, validation_yhat)\n",
    "            validation_mae = mean_absolute_error(validation_y, validation_yhat)\n",
    "            validation_r2 = r2_score(validation_y, validation_yhat)\n",
    "            train_mses.append(train_mse)\n",
    "            train_maes.append(train_mae)\n",
    "            validation_mses.append(validation_mse)\n",
    "            validation_maes.append(validation_mae)\n",
    "            validation_r2s.append(validation_r2)\n",
    "            if self.verbose:\n",
    "                print(f\"Fold: {index+1}, TrainMSE: {np.round(train_mse, 3)}, TrainMAE: {np.round(train_mae, 3)}, ValMSE: {np.round(validation_mse, 3)}, ValMAE: {np.round(validation_mae, 3)}, ValR2: {np.round(validation_r2, 3)}\")\n",
    "        all_labels = np.array(all_labels)\n",
    "        all_predictions = np.array(all_predictions)\n",
    "        all_validation_books = pd.concat(all_validation_books).to_csv('/home/annina/scripts/great_unread_nlp/data/results/ger_labels_prediction.csv')\n",
    "\n",
    "        mean_train_mse = np.mean(train_mses)\n",
    "        mean_train_mae = np.mean(train_maes)\n",
    "        mean_validation_mse = np.mean(validation_mses)\n",
    "        mean_validation_rmse = np.mean([sqrt(x) for x in validation_mses])\n",
    "        mean_validation_mae = np.mean(validation_maes)\n",
    "        mean_validation_r2 = np.mean(validation_r2s)\n",
    "        \n",
    "        if self.verbose:\n",
    "            print(\"------\")\n",
    "            print(f\"Mean scores, TrainMSE: {np.round(mean_train_mse, 3)}, TrainMAE: {np.round(mean_train_mae, 3)}, ValMSE: {np.round(mean_validation_mse, 3)}, ValRMSE: {np.round(mean_validation_rmse, 3)}, ValMAE: {np.round(mean_validation_mae, 3)}, ValR2: {np.round(mean_validation_r2, 3)}\")\n",
    "\n",
    "            plt.figure(figsize=(8, 8))\n",
    "            plt.xticks(fontsize=20)\n",
    "            plt.yticks(fontsize=20)\n",
    "            plt.scatter(all_labels, all_predictions)\n",
    "            plt.xlabel(\"Canonization Scores\", fontsize=20)\n",
    "            plt.ylabel(\"Predicted Scores\", fontsize=20)\n",
    "            if self.features == \"book_and_averaged_chunk\":\n",
    "                plt.savefig(\"../data/results/figures/\" + lang + '-' + self.features + '-full.png', dpi=400)\n",
    "            plt.show();\n",
    "        return mean_train_mse, mean_train_mae, mean_validation_mse, mean_validation_mae\n"
   ]
  },
  {
   "cell_type": "code",
   "execution_count": 8,
   "metadata": {},
   "outputs": [
    {
     "name": "stdout",
     "output_type": "stream",
     "text": [
      "######################## book_and_averaged_chunk\n",
      "Dropped 768 columns.\n",
      "train_X.shape before ss_pca_0_95: (492, 526), validation_X.shape before ss_pca_0_95: (55, 526)\n",
      "train_X.shape after ss_pca_0_95: (492, 161), validation_X.shape after ss_pca_0_95: (55, 161)\n",
      "Fold: 1, TrainMSE: 0.008, TrainMAE: 0.082, ValMSE: 0.036, ValMAE: 0.158, ValR2: 0.437\n",
      "train_X.shape before ss_pca_0_95: (492, 526), validation_X.shape before ss_pca_0_95: (55, 526)\n",
      "train_X.shape after ss_pca_0_95: (492, 161), validation_X.shape after ss_pca_0_95: (55, 161)\n",
      "Fold: 2, TrainMSE: 0.008, TrainMAE: 0.083, ValMSE: 0.032, ValMAE: 0.146, ValR2: 0.386\n",
      "train_X.shape before ss_pca_0_95: (492, 526), validation_X.shape before ss_pca_0_95: (55, 526)\n",
      "train_X.shape after ss_pca_0_95: (492, 161), validation_X.shape after ss_pca_0_95: (55, 161)\n",
      "Fold: 3, TrainMSE: 0.008, TrainMAE: 0.083, ValMSE: 0.038, ValMAE: 0.154, ValR2: 0.177\n",
      "train_X.shape before ss_pca_0_95: (492, 526), validation_X.shape before ss_pca_0_95: (55, 526)\n",
      "train_X.shape after ss_pca_0_95: (492, 161), validation_X.shape after ss_pca_0_95: (55, 161)\n",
      "Fold: 4, TrainMSE: 0.008, TrainMAE: 0.081, ValMSE: 0.032, ValMAE: 0.148, ValR2: 0.457\n",
      "train_X.shape before ss_pca_0_95: (492, 526), validation_X.shape before ss_pca_0_95: (55, 526)\n",
      "train_X.shape after ss_pca_0_95: (492, 161), validation_X.shape after ss_pca_0_95: (55, 161)\n",
      "Fold: 5, TrainMSE: 0.008, TrainMAE: 0.082, ValMSE: 0.039, ValMAE: 0.168, ValR2: 0.334\n",
      "train_X.shape before ss_pca_0_95: (492, 526), validation_X.shape before ss_pca_0_95: (55, 526)\n",
      "train_X.shape after ss_pca_0_95: (492, 161), validation_X.shape after ss_pca_0_95: (55, 161)\n",
      "Fold: 6, TrainMSE: 0.008, TrainMAE: 0.084, ValMSE: 0.036, ValMAE: 0.155, ValR2: 0.349\n",
      "train_X.shape before ss_pca_0_95: (492, 526), validation_X.shape before ss_pca_0_95: (55, 526)\n",
      "train_X.shape after ss_pca_0_95: (492, 161), validation_X.shape after ss_pca_0_95: (55, 161)\n",
      "Fold: 7, TrainMSE: 0.008, TrainMAE: 0.082, ValMSE: 0.027, ValMAE: 0.139, ValR2: 0.484\n",
      "train_X.shape before ss_pca_0_95: (493, 526), validation_X.shape before ss_pca_0_95: (54, 526)\n",
      "train_X.shape after ss_pca_0_95: (493, 161), validation_X.shape after ss_pca_0_95: (54, 161)\n",
      "Fold: 8, TrainMSE: 0.008, TrainMAE: 0.082, ValMSE: 0.027, ValMAE: 0.138, ValR2: 0.396\n",
      "train_X.shape before ss_pca_0_95: (493, 526), validation_X.shape before ss_pca_0_95: (54, 526)\n",
      "train_X.shape after ss_pca_0_95: (493, 161), validation_X.shape after ss_pca_0_95: (54, 161)\n",
      "Fold: 9, TrainMSE: 0.008, TrainMAE: 0.083, ValMSE: 0.026, ValMAE: 0.133, ValR2: 0.359\n",
      "train_X.shape before ss_pca_0_95: (493, 526), validation_X.shape before ss_pca_0_95: (54, 526)\n",
      "train_X.shape after ss_pca_0_95: (493, 161), validation_X.shape after ss_pca_0_95: (54, 161)\n",
      "Fold: 10, TrainMSE: 0.008, TrainMAE: 0.082, ValMSE: 0.042, ValMAE: 0.169, ValR2: 0.061\n",
      "------\n",
      "Mean scores, TrainMSE: 0.008, TrainMAE: 0.082, ValMSE: 0.033, ValRMSE: 0.182, ValMAE: 0.151, ValR2: 0.344\n"
     ]
    },
    {
     "data": {
      "image/png": "[encoded data removed]",
      "text/plain": [
       "<Figure size 576x576 with 1 Axes>"
      ]
     },
     "metadata": {
      "needs_background": "light"
     },
     "output_type": "display_data"
    },
    {
     "name": "stdout",
     "output_type": "stream",
     "text": [
      "svr book_and_averaged_chunk ['average_sentence_embedding'] ss_pca_0_95 0.007653179069161085 0.08235955481759571 0.03342663930300106 0.15077684950199305\n"
     ]
    }
   ],
   "source": [
    "results = []\n",
    "\n",
    "for model in [\"svr\"]:\n",
    "    for features in [\"book_and_averaged_chunk\"]: #[\"book\", \"chunk\", \"book_and_averaged_chunk\", \"chunk_and_copied_book\"]:\n",
    "        print('########################', features)        \n",
    "        for drop_columns_including in [[\"average_sentence_embedding\"]]:\n",
    "            for dimensionality_reduction in [\"ss_pca_0_95\"]:\n",
    "                try:\n",
    "                    experiment = Experiment(\n",
    "                        features=features,\n",
    "                        drop_columns_including=drop_columns_including,\n",
    "                        dimensionality_reduction=dimensionality_reduction,\n",
    "                        model=model,\n",
    "                        verbose=True\n",
    "                    )\n",
    "                    train_mse, train_mae, validation_mse, validation_mae = experiment.run()\n",
    "                    results.append((model, features, drop_columns_including, dimensionality_reduction, train_mse, train_mae, validation_mse, validation_mae))\n",
    "                    print(model, features, drop_columns_including, dimensionality_reduction, train_mse, train_mae, validation_mse, validation_mae)\n",
    "                except Exception as e:\n",
    "                    print(f\"Error in {model}, {features}, {drop_columns_including}, {dimensionality_reduction}\")\n",
    "                    print(e)\n"
   ]
  },
  {
   "cell_type": "markdown",
   "metadata": {},
   "source": [
    "# RFE yielded a better result than this in terms of MAE."
   ]
  },
  {
   "cell_type": "code",
   "execution_count": 9,
   "metadata": {},
   "outputs": [
    {
     "name": "stdout",
     "output_type": "stream",
     "text": [
      "<bound method NDFrame.head of                                             book_name         y      yhat  \\\n",
      "0           Anzengruber_Ludwig_Der-Sternsteinhof_1885  0.344231  0.455160   \n",
      "1    Ebers_George_Eine-aegyptische-Koenigstocher_1864  0.344231  0.390983   \n",
      "2                     Ehrenstein_Albert_Tubutsch_1911  0.247437  0.483928   \n",
      "3                        Ehrmann_Marianne_Amelie_1788  0.142612  0.347024   \n",
      "4                  Ehrmann_Marianne_Ninas-Briefe_1788  0.142612  0.400675   \n",
      "..                                                ...       ...       ...   \n",
      "529                    Stifter_Adalbert_Turmalin_1853  0.767976  0.535402   \n",
      "530              Storm_Theodor_Der-Herr-Etatsrat_1881  0.575205  0.552585   \n",
      "531      Storm_Theodor_Zur-Chronik-von-Grieshuus_1883  0.575205  0.652538   \n",
      "532              Tieck_Ludwig_Der-blonde-Eckbert_1796  0.344231  0.625772   \n",
      "533                       Tieck_Ludwig_Runenberg_1802  0.672247  0.595624   \n",
      "\n",
      "    gender  \n",
      "0        m  \n",
      "1        m  \n",
      "2        m  \n",
      "3        f  \n",
      "4        f  \n",
      "..     ...  \n",
      "529      m  \n",
      "530      m  \n",
      "531      m  \n",
      "532      m  \n",
      "533      m  \n",
      "\n",
      "[534 rows x 4 columns]>\n",
      "261.78711553299974\n",
      "264.69595113364915\n"
     ]
    },
    {
     "data": {
      "image/png": "[encoded data removed]",
      "text/plain": [
       "<Figure size 720x720 with 1 Axes>"
      ]
     },
     "metadata": {
      "needs_background": "light"
     },
     "output_type": "display_data"
    }
   ],
   "source": [
    "import numpy as np\n",
    "import pandas as pd\n",
    "%matplotlib inline\n",
    "import matplotlib.pyplot as plt\n",
    "import seaborn\n",
    "df = pd.read_csv('/home/annina/scripts/great_unread_nlp/data/results/ger_labels_prediction.csv', header =0)\n",
    "metadata = pd.read_csv('/home/annina/scripts/great_unread_nlp/data/metadata/ger/meta_with_canonisation_all_scores.csv', header=0)\n",
    "metadata = metadata[['file_name','gender']]\n",
    "df = df.merge(metadata, left_on='book_name', right_on='file_name').drop(columns=['file_name'])\n",
    "print(df.head)\n",
    "df.to_csv('/home/annina/scripts/great_unread_nlp/data/results/ger_labels_prediction_gender.csv')\n",
    "all_labels = np.array(df['y'])\n",
    "all_predictions = np.array(df['yhat'])\n",
    "plt.figure(figsize=(10,10))\n",
    "plt.scatter(all_labels, all_predictions)\n",
    "plt.xlabel(\"Ground Truths\")\n",
    "plt.ylabel(\"Predictions\")\n",
    "print(sum(all_labels))\n",
    "print(sum(all_predictions))"
   ]
  },
  {
   "cell_type": "code",
   "execution_count": 10,
   "metadata": {},
   "outputs": [
    {
     "ename": "NameError",
     "evalue": "name 'pyplot' is not defined",
     "output_type": "error",
     "traceback": [
      "\u001b[0;31m---------------------------------------------------------------------------\u001b[0m",
      "\u001b[0;31mNameError\u001b[0m                                 Traceback (most recent call last)",
      "\u001b[0;32m<ipython-input-10-5b416b4cad21>\u001b[0m in \u001b[0;36m<module>\u001b[0;34m\u001b[0m\n\u001b[1;32m      1\u001b[0m \u001b[0mseaborn\u001b[0m\u001b[0;34m.\u001b[0m\u001b[0mset\u001b[0m\u001b[0;34m(\u001b[0m\u001b[0mstyle\u001b[0m\u001b[0;34m=\u001b[0m\u001b[0;34m'ticks'\u001b[0m\u001b[0;34m)\u001b[0m\u001b[0;34m\u001b[0m\u001b[0;34m\u001b[0m\u001b[0m\n\u001b[1;32m      2\u001b[0m \u001b[0mfg\u001b[0m \u001b[0;34m=\u001b[0m \u001b[0mseaborn\u001b[0m\u001b[0;34m.\u001b[0m\u001b[0mFacetGrid\u001b[0m\u001b[0;34m(\u001b[0m\u001b[0mdata\u001b[0m\u001b[0;34m=\u001b[0m\u001b[0mdf\u001b[0m\u001b[0;34m,\u001b[0m \u001b[0mhue\u001b[0m\u001b[0;34m=\u001b[0m\u001b[0;34m'gender'\u001b[0m\u001b[0;34m,\u001b[0m \u001b[0maspect\u001b[0m\u001b[0;34m=\u001b[0m\u001b[0;36m1\u001b[0m\u001b[0;34m,\u001b[0m \u001b[0mheight\u001b[0m\u001b[0;34m=\u001b[0m\u001b[0;36m8\u001b[0m\u001b[0;34m)\u001b[0m\u001b[0;34m\u001b[0m\u001b[0;34m\u001b[0m\u001b[0m\n\u001b[0;32m----> 3\u001b[0;31m \u001b[0mfg\u001b[0m\u001b[0;34m.\u001b[0m\u001b[0mmap\u001b[0m\u001b[0;34m(\u001b[0m\u001b[0mpyplot\u001b[0m\u001b[0;34m.\u001b[0m\u001b[0mscatter\u001b[0m\u001b[0;34m,\u001b[0m \u001b[0;34m'y'\u001b[0m\u001b[0;34m,\u001b[0m \u001b[0;34m'yhat'\u001b[0m\u001b[0;34m)\u001b[0m\u001b[0;34m.\u001b[0m\u001b[0madd_legend\u001b[0m\u001b[0;34m(\u001b[0m\u001b[0;34m)\u001b[0m\u001b[0;34m\u001b[0m\u001b[0;34m\u001b[0m\u001b[0m\n\u001b[0m",
      "\u001b[0;31mNameError\u001b[0m: name 'pyplot' is not defined"
     ]
    },
    {
     "data": {
      "image/png": "[encoded data removed]",
      "text/plain": [
       "<Figure size 576x576 with 1 Axes>"
      ]
     },
     "metadata": {},
     "output_type": "display_data"
    }
   ],
   "source": [
    "seaborn.set(style='ticks')\n",
    "fg = seaborn.FacetGrid(data=df, hue='gender', aspect=1, height=8)\n",
    "fg.map(pyplot.scatter, 'y', 'yhat').add_legend()"
   ]
  }
 ],
 "metadata": {
  "kernelspec": {
   "display_name": "Python 3",
   "language": "python",
   "name": "python3"
  },
  "language_info": {
   "codemirror_mode": {
    "name": "ipython",
    "version": 3
   },
   "file_extension": ".py",
   "mimetype": "text/x-python",
   "name": "python",
   "nbconvert_exporter": "python",
   "pygments_lexer": "ipython3",
   "version": "3.9.4"
  }
 },
 "nbformat": 4,
 "nbformat_minor": 4
}
