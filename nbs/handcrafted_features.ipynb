{
 "cells": [
  {
   "cell_type": "markdown",
   "metadata": {},
   "source": [
    "some processed-senteces consist of only 1 sentecnce!!!"
   ]
  },
  {
   "cell_type": "code",
   "execution_count": 1,
   "metadata": {},
   "outputs": [
    {
     "name": "stderr",
     "output_type": "stream",
     "text": [
      "/home/annina/anaconda3/envs/nlp-new/lib/python3.9/site-packages/gensim/similarities/__init__.py:15: UserWarning: The gensim.similarities.levenshtein submodule is disabled, because the optional Levenshtein package <https://pypi.org/project/python-Levenshtein/> is unavailable. Install Levenhstein (e.g. `pip install python-Levenshtein`) to suppress this warning.\n",
      "  warnings.warn(msg)\n"
     ]
    }
   ],
   "source": [
    "%load_ext autoreload\n",
    "%autoreload 2\n",
    "\n",
    "import os\n",
    "import sys\n",
    "sys.path.insert(0, \"../src/\")\n",
    "import re\n",
    "import numpy as np\n",
    "import pandas as pd\n",
    "from tqdm import tqdm\n",
    "from handcrafted_features import DocBasedFeatureExtractor, Doc2VecChunkVectorizer, CorpusBasedFeatureExtractor\n",
    "from utils import get_doc_paths, read_labels\n",
    "\n",
    "raw_docs_dir = \"../data/raw_docs/\"\n",
    "labels_dir = \"../data/labels/\"\n",
    "\n",
    "lang = \"eng\"\n",
    "doc_paths = get_doc_paths(raw_docs_dir, lang)\n",
    "sentences_per_chunk = 200\n",
    "#d2vcv = Doc2VecChunkVectorizer(lang, sentences_per_chunk)\n",
    "#d2vcv.fit_transform(doc_paths)"
   ]
  },
  {
   "cell_type": "code",
   "execution_count": 16,
   "metadata": {
    "scrolled": true
   },
   "outputs": [
    {
     "name": "stderr",
     "output_type": "stream",
     "text": [
      "\r",
      "  0%|          | 0/20 [00:00<?, ?it/s]"
     ]
    },
    {
     "name": "stdout",
     "output_type": "stream",
     "text": [
      "['../data/raw_docs/eng/Radcliffe_Ann_The-Italian_1797.txt', '../data/raw_docs/eng/Gissing_George_In-the-Year-of-Jubilee_1894.txt', '../data/raw_docs/eng/Collins_Wilkie_Armadale_1864.txt', '../data/raw_docs/eng/Conrad_Joseph_Lord-Jim_1899.txt', '../data/raw_docs/eng/Shelley_Mary_Perkin-Warbeck_1830.txt', '../data/raw_docs/eng/Stretton_Hesba_Jessicas-First-Prayer_1867.txt', '../data/raw_docs/eng/Doyle_Arthur-Conan_The-Adventure-of-the-Dancing-Men_1905.txt', '../data/raw_docs/eng/Trollope_Anthony_Barchester-Towers_1857.txt', '../data/raw_docs/eng/Carleton_William_Fardorougha-the-Miser_1839.txt', '../data/raw_docs/eng/Nesbit_Edith_The-Story-of-the-Treasure-Seekers_1899.txt', '../data/raw_docs/eng/Barrie_J-M_Tommy-and-Grizel_1900.txt', '../data/raw_docs/eng/Conrad_Joseph_Heart-of-Darkness_1899.txt', '../data/raw_docs/eng/Moore_George_Esther-Waters_1894.txt', '../data/raw_docs/eng/Stevenson_Robert-Louis_The-Body-Snatcher_1884.txt', '../data/raw_docs/eng/Roche_Regina-Maria_The-Children-of-the-Abbey_1796.txt', '../data/raw_docs/eng/Conrad_Joseph_Chance_1912.txt', '../data/raw_docs/eng/Holcroft_Thomas_The-Adventures-of-Hugh-Trevor_1794.txt', '../data/raw_docs/eng/Somerville-Ross_Edith-Martin_An-Irish-Cousin_1889.txt', '../data/raw_docs/eng/Scott_Walter_The-Bride-of-Lammermoor_1819.txt', '../data/raw_docs/eng/Edgeworth_Maria_Lame-Jervas_1804.txt']\n",
      "../data/raw_docs/eng/Radcliffe_Ann_The-Italian_1797.txt\n"
     ]
    },
    {
     "name": "stderr",
     "output_type": "stream",
     "text": [
      "\r",
      "  5%|▌         | 1/20 [00:04<01:17,  4.06s/it]"
     ]
    },
    {
     "name": "stdout",
     "output_type": "stream",
     "text": [
      "../data/raw_docs/eng/Gissing_George_In-the-Year-of-Jubilee_1894.txt\n"
     ]
    },
    {
     "name": "stderr",
     "output_type": "stream",
     "text": [
      "\r",
      " 10%|█         | 2/20 [00:07<01:11,  3.97s/it]"
     ]
    },
    {
     "name": "stdout",
     "output_type": "stream",
     "text": [
      "../data/raw_docs/eng/Collins_Wilkie_Armadale_1864.txt\n"
     ]
    },
    {
     "name": "stderr",
     "output_type": "stream",
     "text": [
      "\r",
      " 15%|█▌        | 3/20 [00:14<01:21,  4.79s/it]"
     ]
    },
    {
     "name": "stdout",
     "output_type": "stream",
     "text": [
      "../data/raw_docs/eng/Conrad_Joseph_Lord-Jim_1899.txt\n"
     ]
    },
    {
     "name": "stderr",
     "output_type": "stream",
     "text": [
      "\r",
      " 20%|██        | 4/20 [00:18<01:10,  4.40s/it]"
     ]
    },
    {
     "name": "stdout",
     "output_type": "stream",
     "text": [
      "../data/raw_docs/eng/Shelley_Mary_Perkin-Warbeck_1830.txt\n"
     ]
    },
    {
     "name": "stderr",
     "output_type": "stream",
     "text": [
      "\r",
      " 25%|██▌       | 5/20 [00:22<01:06,  4.43s/it]"
     ]
    },
    {
     "name": "stdout",
     "output_type": "stream",
     "text": [
      "../data/raw_docs/eng/Stretton_Hesba_Jessicas-First-Prayer_1867.txt\n"
     ]
    },
    {
     "name": "stderr",
     "output_type": "stream",
     "text": [
      "\r",
      " 30%|███       | 6/20 [00:23<00:46,  3.35s/it]"
     ]
    },
    {
     "name": "stdout",
     "output_type": "stream",
     "text": [
      "../data/raw_docs/eng/Doyle_Arthur-Conan_The-Adventure-of-the-Dancing-Men_1905.txt\n"
     ]
    },
    {
     "name": "stderr",
     "output_type": "stream",
     "text": [
      "\r",
      " 35%|███▌      | 7/20 [00:23<00:32,  2.50s/it]"
     ]
    },
    {
     "name": "stdout",
     "output_type": "stream",
     "text": [
      "../data/raw_docs/eng/Trollope_Anthony_Barchester-Towers_1857.txt\n"
     ]
    },
    {
     "name": "stderr",
     "output_type": "stream",
     "text": [
      "\r",
      " 40%|████      | 8/20 [00:28<00:37,  3.12s/it]"
     ]
    },
    {
     "name": "stdout",
     "output_type": "stream",
     "text": [
      "../data/raw_docs/eng/Carleton_William_Fardorougha-the-Miser_1839.txt\n"
     ]
    },
    {
     "name": "stderr",
     "output_type": "stream",
     "text": [
      "\r",
      " 45%|████▌     | 9/20 [00:31<00:33,  3.08s/it]"
     ]
    },
    {
     "name": "stdout",
     "output_type": "stream",
     "text": [
      "../data/raw_docs/eng/Nesbit_Edith_The-Story-of-the-Treasure-Seekers_1899.txt\n"
     ]
    },
    {
     "name": "stderr",
     "output_type": "stream",
     "text": [
      "\r",
      " 50%|█████     | 10/20 [00:32<00:25,  2.58s/it]"
     ]
    },
    {
     "name": "stdout",
     "output_type": "stream",
     "text": [
      "../data/raw_docs/eng/Barrie_J-M_Tommy-and-Grizel_1900.txt\n"
     ]
    },
    {
     "name": "stderr",
     "output_type": "stream",
     "text": [
      "\r",
      " 55%|█████▌    | 11/20 [00:35<00:24,  2.67s/it]"
     ]
    },
    {
     "name": "stdout",
     "output_type": "stream",
     "text": [
      "../data/raw_docs/eng/Conrad_Joseph_Heart-of-Darkness_1899.txt\n"
     ]
    },
    {
     "name": "stderr",
     "output_type": "stream",
     "text": [
      "\r",
      " 60%|██████    | 12/20 [00:37<00:18,  2.29s/it]"
     ]
    },
    {
     "name": "stdout",
     "output_type": "stream",
     "text": [
      "../data/raw_docs/eng/Moore_George_Esther-Waters_1894.txt\n"
     ]
    },
    {
     "name": "stderr",
     "output_type": "stream",
     "text": [
      "\r",
      " 65%|██████▌   | 13/20 [00:40<00:18,  2.61s/it]"
     ]
    },
    {
     "name": "stdout",
     "output_type": "stream",
     "text": [
      "../data/raw_docs/eng/Stevenson_Robert-Louis_The-Body-Snatcher_1884.txt\n"
     ]
    },
    {
     "name": "stderr",
     "output_type": "stream",
     "text": [
      "\r",
      " 70%|███████   | 14/20 [00:41<00:11,  1.99s/it]"
     ]
    },
    {
     "name": "stdout",
     "output_type": "stream",
     "text": [
      "../data/raw_docs/eng/Roche_Regina-Maria_The-Children-of-the-Abbey_1796.txt\n"
     ]
    },
    {
     "name": "stderr",
     "output_type": "stream",
     "text": [
      "\r",
      " 75%|███████▌  | 15/20 [00:46<00:15,  3.12s/it]"
     ]
    },
    {
     "name": "stdout",
     "output_type": "stream",
     "text": [
      "../data/raw_docs/eng/Conrad_Joseph_Chance_1912.txt\n"
     ]
    },
    {
     "name": "stderr",
     "output_type": "stream",
     "text": [
      "\r",
      " 80%|████████  | 16/20 [00:50<00:13,  3.28s/it]"
     ]
    },
    {
     "name": "stdout",
     "output_type": "stream",
     "text": [
      "../data/raw_docs/eng/Holcroft_Thomas_The-Adventures-of-Hugh-Trevor_1794.txt\n"
     ]
    },
    {
     "name": "stderr",
     "output_type": "stream",
     "text": [
      "\r",
      " 85%|████████▌ | 17/20 [00:55<00:11,  3.78s/it]"
     ]
    },
    {
     "name": "stdout",
     "output_type": "stream",
     "text": [
      "../data/raw_docs/eng/Somerville-Ross_Edith-Martin_An-Irish-Cousin_1889.txt\n"
     ]
    },
    {
     "name": "stderr",
     "output_type": "stream",
     "text": [
      "\r",
      " 90%|█████████ | 18/20 [00:57<00:06,  3.40s/it]"
     ]
    },
    {
     "name": "stdout",
     "output_type": "stream",
     "text": [
      "../data/raw_docs/eng/Scott_Walter_The-Bride-of-Lammermoor_1819.txt\n"
     ]
    },
    {
     "name": "stderr",
     "output_type": "stream",
     "text": [
      "\r",
      " 95%|█████████▌| 19/20 [01:00<00:03,  3.26s/it]"
     ]
    },
    {
     "name": "stdout",
     "output_type": "stream",
     "text": [
      "../data/raw_docs/eng/Edgeworth_Maria_Lame-Jervas_1804.txt\n"
     ]
    },
    {
     "name": "stderr",
     "output_type": "stream",
     "text": [
      "100%|██████████| 20/20 [01:01<00:00,  3.09s/it]\n"
     ]
    }
   ],
   "source": [
    "doc_paths = os.listdir('/home/annina/scripts/great_unread_nlp/data/processed_sentences/eng') #####\n",
    "doc_paths = ['../data/raw_docs/eng/' + path for path in doc_paths][:20]\n",
    "print(doc_paths)\n",
    "\n",
    "all_chunk_based_features = []\n",
    "all_book_based_features = []\n",
    "all_average_sbert_sentence_embeddings = []\n",
    "all_doc2vec_chunk_embeddings = []\n",
    "for doc_path in tqdm(doc_paths):\n",
    "    print(doc_path)\n",
    "    fe = DocBasedFeatureExtractor(lang, doc_path, sentences_per_chunk)\n",
    "    chunk_based_features, book_based_features, average_sbert_sentence_embeddings, doc2vec_chunk_embeddings = fe.get_all_features()\n",
    "    all_chunk_based_features.extend(chunk_based_features)\n",
    "    all_book_based_features.append(book_based_features)\n",
    "    all_average_sbert_sentence_embeddings.append(average_sbert_sentence_embeddings)\n",
    "    all_doc2vec_chunk_embeddings.append(doc2vec_chunk_embeddings)"
   ]
  },
  {
   "cell_type": "code",
   "execution_count": null,
   "metadata": {},
   "outputs": [],
   "source": [
    "cbfe = CorpusBasedFeatureExtractor(lang, doc_paths, all_average_sbert_sentence_embeddings, all_doc2vec_chunk_embeddings)"
   ]
  },
  {
   "cell_type": "code",
   "execution_count": 39,
   "metadata": {},
   "outputs": [
    {
     "name": "stdout",
     "output_type": "stream",
     "text": [
      "0     0.623134\n",
      "1     0.439503\n",
      "2     0.654568\n",
      "3     0.606060\n",
      "4     0.644405\n",
      "5     0.515475\n",
      "6     0.547908\n",
      "7     0.524464\n",
      "8     0.528775\n",
      "9     0.454117\n",
      "10    0.354899\n",
      "11    0.637146\n",
      "12    0.556219\n",
      "13    0.659904\n",
      "14    0.517905\n",
      "15    0.559988\n",
      "16    0.538799\n",
      "17    0.562211\n",
      "18    0.635064\n",
      "19    0.522246\n",
      "Name: the, dtype: float64 0     0.274923\n",
      "1     0.280232\n",
      "2     0.266820\n",
      "3     0.280138\n",
      "4     0.303993\n",
      "5     0.408798\n",
      "6     0.293918\n",
      "7     0.296016\n",
      "8     0.255225\n",
      "9     0.481141\n",
      "10    0.255061\n",
      "11    0.275643\n",
      "12    0.337881\n",
      "13    0.340058\n",
      "14    0.299244\n",
      "15    0.229943\n",
      "16    0.392413\n",
      "17    0.313901\n",
      "18    0.325577\n",
      "19    0.297533\n",
      "Name: and, dtype: float64\n",
      "(20, 36011)\n",
      "0     11691\n",
      "1      4876\n",
      "2     19849\n",
      "3      7360\n",
      "4     11767\n",
      "5      1324\n",
      "6       494\n",
      "7     10044\n",
      "8      5569\n",
      "9      2403\n",
      "10     4351\n",
      "11     2293\n",
      "12     7319\n",
      "13      555\n",
      "14    13034\n",
      "15     7043\n",
      "16    10339\n",
      "17     4440\n",
      "18     8091\n",
      "19     1169\n",
      "Name: the, dtype: int64 0     5158\n",
      "1     3109\n",
      "2     8091\n",
      "3     3402\n",
      "4     5551\n",
      "5     1050\n",
      "6      265\n",
      "7     5669\n",
      "8     2688\n",
      "9     2546\n",
      "10    3127\n",
      "11     992\n",
      "12    4446\n",
      "13     286\n",
      "14    7531\n",
      "15    2892\n",
      "16    7530\n",
      "17    2479\n",
      "18    4148\n",
      "19     666\n",
      "Name: and, dtype: int64\n",
      "    000  10  100  1000  10s  10th  11  11th  12  120  ...  zounds  zoé  zubia  \\\n",
      "0     0   0    0     0    0     0   0     0   0    0  ...       0    0      0   \n",
      "1     0   0    0     0    0     0   0     0   0    0  ...       0    0      0   \n",
      "2     0   3    0     0    0     3   2     2   1    0  ...       0    0      0   \n",
      "3     0   0    0     0    0     0   0     0   0    0  ...       0    0      0   \n",
      "4     0   0    0     0    0     0   0     0   0    0  ...       0    0      1   \n",
      "5     0   0    0     0    0     0   0     0   0    0  ...       0    0      0   \n",
      "6     0   0    0     0    0     0   0     0   0    0  ...       0    0      0   \n",
      "7     5   4    1     1    0     0   1     0   0    0  ...       0    0      0   \n",
      "8     0   0    0     0    0     0   0     0   0    0  ...       1    0      0   \n",
      "9     1   0    0     0    0     0   0     0   0    0  ...       0    0      0   \n",
      "10    0   0    0     0    1     0   0     0   0    0  ...       0    0      0   \n",
      "11    0   0    0     0    0     0   0     0   0    0  ...       0    0      0   \n",
      "12    0   1    2     0    0     0   0     0   1    0  ...       0    0      0   \n",
      "13    0   0    0     0    0     0   0     0   0    0  ...       0    0      0   \n",
      "14    0   0    0     0    0     1   0     1   0    0  ...       0    0      0   \n",
      "15    0   0    0     0    0     0   0     0   0    1  ...       0    0      0   \n",
      "16    0   0    0     0    0     0   0     0   0    0  ...       0    0      0   \n",
      "17    0   2    0     0    0     1   3     1   2    0  ...       0    1      0   \n",
      "18    0   0    0     0    0     0   0     0   0    0  ...       0    0      0   \n",
      "19    0   0    0     0    0     0   0     2   0    0  ...       0    0      0   \n",
      "\n",
      "    ægis  æra  æsthetic  ætat  éclat  élite  \\\n",
      "0      0    0         0     0      0      0   \n",
      "1      0    0         0     0      0      0   \n",
      "2      0    0         0     0      0      0   \n",
      "3      0    0         0     0      0      0   \n",
      "4      1    0         0     0      0      0   \n",
      "5      0    0         0     0      0      0   \n",
      "6      0    0         0     0      0      0   \n",
      "7      0    0         0     1      2      3   \n",
      "8      0    0         0     0      0      0   \n",
      "9      0    0         0     0      0      0   \n",
      "10     0    0         0     0      0      0   \n",
      "11     0    0         0     0      0      0   \n",
      "12     0    0         0     0      0      0   \n",
      "13     0    0         0     0      0      0   \n",
      "14     0    0         0     0      0      0   \n",
      "15     0    0         0     0      0      0   \n",
      "16     0    1         0     0      0      0   \n",
      "17     0    0         1     0      0      0   \n",
      "18     0    0         0     0      0      0   \n",
      "19     0    0         0     0      0      0   \n",
      "\n",
      "                                            book_name  \n",
      "0                      Radcliffe_Ann_The-Italian_1797  \n",
      "1          Gissing_George_In-the-Year-of-Jubilee_1894  \n",
      "2                        Collins_Wilkie_Armadale_1864  \n",
      "3                         Conrad_Joseph_Lord-Jim_1899  \n",
      "4                    Shelley_Mary_Perkin-Warbeck_1830  \n",
      "5           Stretton_Hesba_Jessicas-First-Prayer_1867  \n",
      "6   Doyle_Arthur-Conan_The-Adventure-of-the-Dancin...  \n",
      "7             Trollope_Anthony_Barchester-Towers_1857  \n",
      "8         Carleton_William_Fardorougha-the-Miser_1839  \n",
      "9   Nesbit_Edith_The-Story-of-the-Treasure-Seekers...  \n",
      "10                   Barrie_J-M_Tommy-and-Grizel_1900  \n",
      "11               Conrad_Joseph_Heart-of-Darkness_1899  \n",
      "12                    Moore_George_Esther-Waters_1894  \n",
      "13      Stevenson_Robert-Louis_The-Body-Snatcher_1884  \n",
      "14  Roche_Regina-Maria_The-Children-of-the-Abbey_1796  \n",
      "15                          Conrad_Joseph_Chance_1912  \n",
      "16  Holcroft_Thomas_The-Adventures-of-Hugh-Trevor_...  \n",
      "17  Somerville-Ross_Edith-Martin_An-Irish-Cousin_1889  \n",
      "18          Scott_Walter_The-Bride-of-Lammermoor_1819  \n",
      "19                   Edgeworth_Maria_Lame-Jervas_1804  \n",
      "\n",
      "[20 rows x 36012 columns]\n",
      "False\n"
     ]
    }
   ],
   "source": [
    "all_corpus_based_features = cbfe.get_all_features()\n",
    "\n",
    "#all_corpus_based_features.to_csv('../test',index=True)\n",
    "\n",
    "#all_corpus_based_features"
   ]
  },
  {
   "cell_type": "code",
   "execution_count": null,
   "metadata": {},
   "outputs": [],
   "source": []
  },
  {
   "cell_type": "code",
   "execution_count": null,
   "metadata": {},
   "outputs": [],
   "source": []
  },
  {
   "cell_type": "code",
   "execution_count": null,
   "metadata": {},
   "outputs": [],
   "source": [
    "df = pd.DataFrame(all_chunk_based_features)\n",
    "labels = read_labels(labels_dir, lang)\n",
    "df[\"y\"] = df[\"book_name\"].apply(lambda x: labels[x])"
   ]
  },
  {
   "cell_type": "code",
   "execution_count": null,
   "metadata": {},
   "outputs": [],
   "source": [
    "from sklearn.model_selection import KFold\n",
    "from sklearn.svm import SVR\n",
    "# from sklearn.decomposition import PCA\n",
    "from xgboost import XGBRegressor\n",
    "from sklearn.metrics import mean_squared_error, mean_absolute_error\n",
    "\n",
    "all_predictions = []\n",
    "all_labels = []\n",
    "\n",
    "book_names = df['book_name'].unique()\n",
    "book_names_splitted = np.array_split(book_names, 10)\n",
    "\n",
    "for index, split in enumerate(book_names_splitted):\n",
    "    train_X = df[~df[\"book_name\"].isin(split)].drop(columns=[\"y\", \"book_name\"]).values\n",
    "    train_y = df[~df[\"book_name\"].isin(split)][\"y\"].values.ravel()\n",
    "    validation_X = df[df[\"book_name\"].isin(split)].drop(columns=[\"y\", \"book_name\"]).values\n",
    "    validation_y = df[df[\"book_name\"].isin(split)][\"y\"].values.ravel()\n",
    "    \n",
    "    pca = PCA(n_components=150)\n",
    "    train_X = pca.fit_transform(train_X)\n",
    "    print(pca.explained_variance_ratio_.sum())\n",
    "    validation_X = pca.transform(validation_X)\n",
    "    model = XGBRegressor()\n",
    "    model.fit(train_X, train_y)\n",
    "    train_yhat = model.predict(train_X)\n",
    "    validation_yhat = model.predict(validation_X)\n",
    "    all_labels.extend(validation_y.tolist())\n",
    "    all_predictions.extend(validation_yhat.tolist())\n",
    "    train_mse = mean_squared_error(train_y, train_yhat)\n",
    "    train_mae = mean_absolute_error(train_y, train_yhat)\n",
    "    validation_mse = mean_squared_error(validation_y, validation_yhat)\n",
    "    validation_mae = mean_absolute_error(validation_y, validation_yhat)\n",
    "    print(f\"Fold: {index+1}, TrainMSE: {train_mse}, TrainMAE: {train_mae}, ValMSE: {validation_mse}, ValMAE: {validation_mae}\")\n",
    "all_labels = np.array(all_labels)\n",
    "all_predictions = np.array(all_predictions)"
   ]
  },
  {
   "cell_type": "code",
   "execution_count": null,
   "metadata": {},
   "outputs": [],
   "source": [
    "from sklearn.model_selection import KFold\n",
    "from sklearn.svm import SVR\n",
    "from xgboost import XGBRegressor\n",
    "from sklearn.metrics import mean_squared_error, mean_absolute_error\n",
    "from sklearn.decomposition import PCA\n",
    "\n",
    "X = df.drop(columns=['y', 'book_name']).values\n",
    "y = df[\"y\"].values.ravel()\n",
    "\n",
    "all_predictions = []\n",
    "all_labels = []\n",
    "kf = KFold(n_splits=10, shuffle=True, random_state=42)\n",
    "for index, (train_indices, validation_indices) in enumerate(kf.split(X)):\n",
    "    train_X = X[train_indices, :]\n",
    "    train_y = y[train_indices]\n",
    "    validation_X = X[validation_indices, :]\n",
    "    validation_y = y[validation_indices]\n",
    "    pca = PCA(n_components=150)\n",
    "    train_X = pca.fit_transform(train_X)\n",
    "    print(pca.explained_variance_ratio_.sum())\n",
    "    validation_X = pca.transform(validation_X)\n",
    "    model = SVR()\n",
    "    model.fit(train_X, train_y)\n",
    "    train_yhat = model.predict(train_X)\n",
    "    validation_yhat = model.predict(validation_X)\n",
    "    all_labels.extend(validation_y.tolist())\n",
    "    all_predictions.extend(validation_yhat.tolist())\n",
    "    train_mse = mean_squared_error(train_y, train_yhat)\n",
    "    train_mae = mean_absolute_error(train_y, train_yhat)\n",
    "    validation_mse = mean_squared_error(validation_y, validation_yhat)\n",
    "    validation_mae = mean_absolute_error(validation_y, validation_yhat)\n",
    "    print(f\"Fold: {index+1}, TrainMSE: {train_mse}, TrainMAE: {train_mae}, ValMSE: {validation_mse}, ValMAE: {validation_mae}\")\n",
    "all_labels = np.array(all_labels)\n",
    "all_predictions = np.array(all_predictions)\n"
   ]
  },
  {
   "cell_type": "code",
   "execution_count": null,
   "metadata": {},
   "outputs": [],
   "source": [
    "import matplotlib.pyplot as plt\n",
    "\n",
    "plt.figure(figsize=(18, 6))\n",
    "plt.scatter(all_labels, all_predictions)\n",
    "plt.show();"
   ]
  },
  {
   "cell_type": "code",
   "execution_count": null,
   "metadata": {},
   "outputs": [],
   "source": []
  }
 ],
 "metadata": {
  "kernelspec": {
   "display_name": "Python 3",
   "language": "python",
   "name": "python3"
  },
  "language_info": {
   "codemirror_mode": {
    "name": "ipython",
    "version": 3
   },
   "file_extension": ".py",
   "mimetype": "text/x-python",
   "name": "python",
   "nbconvert_exporter": "python",
   "pygments_lexer": "ipython3",
   "version": "3.9.4"
  }
 },
 "nbformat": 4,
 "nbformat_minor": 4
}
