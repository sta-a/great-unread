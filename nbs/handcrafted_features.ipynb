{
 "cells": [
  {
   "cell_type": "code",
   "execution_count": 6,
   "metadata": {},
   "outputs": [
    {
     "name": "stdout",
     "output_type": "stream",
     "text": [
      "The autoreload extension is already loaded. To reload it, use:\n",
      "  %reload_ext autoreload\n"
     ]
    }
   ],
   "source": [
    "%load_ext autoreload\n",
    "%autoreload 2\n",
    "\n",
    "import os\n",
    "import sys\n",
    "sys.path.insert(0, \"../src/\")\n",
    "import re\n",
    "import numpy as np\n",
    "import pandas as pd\n",
    "from tqdm import tqdm\n",
    "from handcrafted_features import DocBasedFeatureExtractor, Doc2VecChunkVectorizer, CorpusBasedFeatureExtractor\n",
    "from utils import get_doc_paths, read_labels\n",
    "\n",
    "raw_docs_dir = \"../data/raw_docs/\"\n",
    "labels_dir = \"../data/labels/\""
   ]
  },
  {
   "cell_type": "code",
   "execution_count": 7,
   "metadata": {
    "scrolled": true
   },
   "outputs": [
    {
     "name": "stderr",
     "output_type": "stream",
     "text": [
      "100%|██████████| 599/599 [04:04<00:00,  2.45it/s]\n",
      "100%|██████████| 599/599 [02:58<00:00,  3.35it/s]\n",
      "100%|██████████| 599/599 [00:47<00:00, 12.66it/s]\n",
      "100%|██████████| 599/599 [00:50<00:00, 11.96it/s]\n",
      "INFO:gensim.models.ldamodel:using symmetric alpha at 0.1\n",
      "INFO:gensim.models.ldamodel:using symmetric eta at 0.1\n",
      "INFO:gensim.models.ldamodel:using serial LDA version on this node\n",
      "INFO:gensim.models.ldamulticore:running online LDA training, 10 topics, 2 passes over the supplied corpus of 599 documents, updating every 6000 documents, evaluating every ~599 documents, iterating 50x with a convergence threshold of 0.001000\n",
      "WARNING:gensim.models.ldamulticore:too few updates, training might not converge; consider increasing the number of passes or iterations to improve accuracy\n",
      "INFO:gensim.models.ldamulticore:training LDA model using 3 processes\n",
      "INFO:gensim.models.ldamulticore:PROGRESS: pass 0, dispatched chunk #0 = documents up to #599/599, outstanding queue size 1\n",
      "DEBUG:gensim.models.ldamodel:updating topics\n",
      "INFO:gensim.models.ldamodel:topic #6 (0.100): 0.011*\"cecilia\" + 0.007*\"helen\" + 0.004*\"lucy\" + 0.004*\"jones\" + 0.003*\"sophia\" + 0.003*\"tho\" + 0.003*\"emily\" + 0.002*\"charlotte\" + 0.002*\"allan\" + 0.002*\"aurora\"\n",
      "INFO:gensim.models.ldamodel:topic #9 (0.100): 0.013*\"laura\" + 0.008*\"molly\" + 0.006*\"guy\" + 0.005*\"philip\" + 0.004*\"amy\" + 0.003*\"harriet\" + 0.003*\"roger\" + 0.003*\"caroline\" + 0.003*\"alice\" + 0.003*\"catherine\"\n",
      "INFO:gensim.models.ldamodel:topic #8 (0.100): 0.019*\"margaret\" + 0.003*\"maggie\" + 0.003*\"carlyle\" + 0.003*\"lucy\" + 0.003*\"edwin\" + 0.003*\"hale\" + 0.002*\"isabel\" + 0.002*\"flora\" + 0.002*\"ruth\" + 0.002*\"michael\"\n",
      "INFO:gensim.models.ldamodel:topic #3 (0.100): 0.004*\"lucy\" + 0.003*\"felix\" + 0.003*\"sophia\" + 0.003*\"kate\" + 0.003*\"oliver\" + 0.003*\"camilla\" + 0.002*\"bella\" + 0.002*\"constance\" + 0.002*\"hugh\" + 0.002*\"catherine\"\n",
      "INFO:gensim.models.ldamodel:topic #2 (0.100): 0.009*\"alice\" + 0.006*\"emily\" + 0.004*\"holmes\" + 0.003*\"walter\" + 0.003*\"kate\" + 0.003*\"catherine\" + 0.003*\"betsy\" + 0.003*\"carlyle\" + 0.002*\"mowbray\" + 0.002*\"flora\"\n",
      "INFO:gensim.models.ldamodel:topic diff=0.671270, rho=1.000000\n",
      "DEBUG:gensim.models.ldamodel:bound: at document #0\n",
      "INFO:gensim.models.ldamodel:-9.360 per-word bound, 656.9 perplexity estimate based on a held-out corpus of 599 documents with 2271969 words\n",
      "INFO:gensim.models.ldamulticore:PROGRESS: pass 1, dispatched chunk #0 = documents up to #599/599, outstanding queue size 1\n",
      "DEBUG:gensim.models.ldamodel:updating topics\n",
      "INFO:gensim.models.ldamodel:topic #4 (0.100): 0.007*\"orlando\" + 0.007*\"clara\" + 0.006*\"lucy\" + 0.005*\"hae\" + 0.004*\"marquis\" + 0.004*\"emily\" + 0.004*\"mortimer\" + 0.003*\"nancy\" + 0.003*\"ned\" + 0.002*\"michael\"\n",
      "INFO:gensim.models.ldamodel:topic #8 (0.100): 0.030*\"margaret\" + 0.006*\"carlyle\" + 0.006*\"maggie\" + 0.005*\"norman\" + 0.005*\"flora\" + 0.005*\"isabel\" + 0.004*\"blanche\" + 0.004*\"patrick\" + 0.004*\"arnold\" + 0.004*\"barbara\"\n",
      "INFO:gensim.models.ldamodel:topic #7 (0.100): 0.006*\"vincent\" + 0.005*\"hae\" + 0.004*\"edwin\" + 0.004*\"weel\" + 0.004*\"maggie\" + 0.004*\"tae\" + 0.003*\"magdalen\" + 0.003*\"ann\" + 0.003*\"juliet\" + 0.003*\"susan\"\n",
      "INFO:gensim.models.ldamodel:topic #3 (0.100): 0.006*\"kate\" + 0.006*\"lucy\" + 0.006*\"sophia\" + 0.005*\"felix\" + 0.005*\"nicholas\" + 0.005*\"constance\" + 0.005*\"oliver\" + 0.004*\"toby\" + 0.004*\"bella\" + 0.003*\"harold\"\n",
      "INFO:gensim.models.ldamodel:topic #6 (0.100): 0.014*\"cecilia\" + 0.008*\"helen\" + 0.006*\"jones\" + 0.006*\"lucy\" + 0.006*\"tho\" + 0.004*\"allan\" + 0.004*\"sophia\" + 0.004*\"harriet\" + 0.003*\"charlotte\" + 0.003*\"emily\"\n",
      "INFO:gensim.models.ldamodel:topic diff=0.253940, rho=0.659452\n",
      "DEBUG:gensim.models.ldamodel:bound: at document #0\n",
      "INFO:gensim.models.ldamodel:-9.170 per-word bound, 576.1 perplexity estimate based on a held-out corpus of 599 documents with 2271969 words\n",
      "DEBUG:gensim.utils:starting a new internal lifecycle event log for LdaMulticore\n",
      "INFO:gensim.utils:LdaMulticore lifecycle event {'msg': 'trained LdaModel(num_terms=18478, num_topics=10, decay=0.5, chunksize=2000) in 36.10s', 'datetime': '2021-05-17T11:52:01.974912', 'gensim': '4.0.1', 'python': '3.8.5 (default, Sep  4 2020, 02:22:02) \\n[Clang 10.0.0 ]', 'platform': 'macOS-10.15.4-x86_64-i386-64bit', 'event': 'created'}\n"
     ]
    }
   ],
   "source": [
    "lang = \"eng\"\n",
    "doc_paths = get_doc_paths(raw_docs_dir, lang)\n",
    "sentences_per_chunk = 200\n",
    "# d2vcv = Doc2VecChunkVectorizer(lang, sentences_per_chunk)\n",
    "# d2vcv.fit_transform(doc_paths)\n",
    "\n",
    "all_chunk_based_features = []\n",
    "all_book_based_features = []\n",
    "all_average_sbert_sentence_embeddings = []\n",
    "all_doc2vec_chunk_embeddings = []\n",
    "for doc_path in tqdm(doc_paths):\n",
    "    fe = DocBasedFeatureExtractor(lang, doc_path, sentences_per_chunk)\n",
    "    chunk_based_features, book_based_features, average_sbert_sentence_embeddings, doc2vec_chunk_embeddings = fe.get_all_features()\n",
    "    all_chunk_based_features.extend(chunk_based_features)\n",
    "    all_book_based_features.append(book_based_features)\n",
    "    all_average_sbert_sentence_embeddings.append(average_sbert_sentence_embeddings)\n",
    "    all_doc2vec_chunk_embeddings.append(doc2vec_chunk_embeddings)\n",
    "\n",
    "cbfe = CorpusBasedFeatureExtractor(lang, doc_paths, all_average_sbert_sentence_embeddings, all_doc2vec_chunk_embeddings)\n",
    "all_corpus_based_features = cbfe.get_all_features()\n"
   ]
  },
  {
   "cell_type": "code",
   "execution_count": null,
   "metadata": {},
   "outputs": [],
   "source": []
  },
  {
   "cell_type": "code",
   "execution_count": null,
   "metadata": {},
   "outputs": [],
   "source": []
  },
  {
   "cell_type": "code",
   "execution_count": 12,
   "metadata": {},
   "outputs": [
    {
     "name": "stderr",
     "output_type": "stream",
     "text": [
      "../src/utils.py:46: SettingWithCopyWarning: \n",
      "A value is trying to be set on a copy of a slice from a DataFrame\n",
      "\n",
      "See the caveats in the documentation: https://pandas.pydata.org/pandas-docs/stable/user_guide/indexing.html#returning-a-view-versus-a-copy\n",
      "  labels_df[\"file_name\"][labels_df[\"file_name\"] == key] = value\n"
     ]
    }
   ],
   "source": [
    "df = pd.DataFrame(all_chunk_based_features)\n",
    "labels = read_labels(labels_dir, lang)\n",
    "df[\"y\"] = df[\"book_name\"].apply(lambda x: labels[x])"
   ]
  },
  {
   "cell_type": "code",
   "execution_count": null,
   "metadata": {},
   "outputs": [],
   "source": [
    "from sklearn.model_selection import KFold\n",
    "from sklearn.svm import SVR\n",
    "# from sklearn.decomposition import PCA\n",
    "from xgboost import XGBRegressor\n",
    "from sklearn.metrics import mean_squared_error, mean_absolute_error\n",
    "\n",
    "all_predictions = []\n",
    "all_labels = []\n",
    "\n",
    "book_names = df['book_name'].unique()\n",
    "book_names_splitted = np.array_split(book_names, 10)\n",
    "\n",
    "for index, split in enumerate(book_names_splitted):\n",
    "    train_X = df[~df[\"book_name\"].isin(split)].drop(columns=[\"y\", \"book_name\"]).values\n",
    "    train_y = df[~df[\"book_name\"].isin(split)][\"y\"].values.ravel()\n",
    "    validation_X = df[df[\"book_name\"].isin(split)].drop(columns=[\"y\", \"book_name\"]).values\n",
    "    validation_y = df[df[\"book_name\"].isin(split)][\"y\"].values.ravel()\n",
    "    \n",
    "    pca = PCA(n_components=150)\n",
    "    train_X = pca.fit_transform(train_X)\n",
    "    print(pca.explained_variance_ratio_.sum())\n",
    "    validation_X = pca.transform(validation_X)\n",
    "    model = XGBRegressor()\n",
    "    model.fit(train_X, train_y)\n",
    "    train_yhat = model.predict(train_X)\n",
    "    validation_yhat = model.predict(validation_X)\n",
    "    all_labels.extend(validation_y.tolist())\n",
    "    all_predictions.extend(validation_yhat.tolist())\n",
    "    train_mse = mean_squared_error(train_y, train_yhat)\n",
    "    train_mae = mean_absolute_error(train_y, train_yhat)\n",
    "    validation_mse = mean_squared_error(validation_y, validation_yhat)\n",
    "    validation_mae = mean_absolute_error(validation_y, validation_yhat)\n",
    "    print(f\"Fold: {index+1}, TrainMSE: {train_mse}, TrainMAE: {train_mae}, ValMSE: {validation_mse}, ValMAE: {validation_mae}\")\n",
    "all_labels = np.array(all_labels)\n",
    "all_predictions = np.array(all_predictions)"
   ]
  },
  {
   "cell_type": "code",
   "execution_count": 32,
   "metadata": {},
   "outputs": [
    {
     "name": "stdout",
     "output_type": "stream",
     "text": [
      "Fold: 1, TrainMSE: 43.469667840289546, TrainMAE: 4.958794701188562, ValMSE: 824.3440447814484, ValMAE: 22.94768801594295\n",
      "Fold: 2, TrainMSE: 40.991699673369105, TrainMAE: 4.767284888176421, ValMSE: 540.8243638243405, ValMAE: 17.786383218431926\n",
      "Fold: 3, TrainMSE: 36.084968600997875, TrainMAE: 4.647670188989748, ValMSE: 488.05888410849894, ValMAE: 17.99337098662573\n",
      "Fold: 4, TrainMSE: 44.249400353139144, TrainMAE: 5.035168938639897, ValMSE: 657.8716684842817, ValMAE: 21.349721766633383\n",
      "Fold: 5, TrainMSE: 41.06465995698478, TrainMAE: 4.788829998088479, ValMSE: 624.1233646633849, ValMAE: 19.854370166934935\n",
      "Fold: 6, TrainMSE: 35.22251945619247, TrainMAE: 4.437842820080085, ValMSE: 877.2025223967174, ValMAE: 24.325287052149395\n",
      "Fold: 7, TrainMSE: 35.78601749032129, TrainMAE: 4.511772336979252, ValMSE: 728.8424851143518, ValMAE: 21.012765171207395\n",
      "Fold: 8, TrainMSE: 41.15389563461156, TrainMAE: 4.907933288177313, ValMSE: 522.9483832400464, ValMAE: 17.31974220736049\n",
      "Fold: 9, TrainMSE: 39.4513675774303, TrainMAE: 4.689521068822913, ValMSE: 627.0595509440758, ValMAE: 20.49096425325636\n",
      "Fold: 10, TrainMSE: 39.10283193423873, TrainMAE: 4.746244089617653, ValMSE: 416.01160093374307, ValMAE: 15.439238025048436\n"
     ]
    }
   ],
   "source": [
    "from sklearn.model_selection import KFold\n",
    "from sklearn.svm import SVR\n",
    "from xgboost import XGBRegressor\n",
    "from sklearn.metrics import mean_squared_error, mean_absolute_error\n",
    "from sklearn.decomposition import PCA\n",
    "\n",
    "X = df.drop(columns=['y', 'book_name']).values\n",
    "y = df[\"y\"].values.ravel()\n",
    "\n",
    "all_predictions = []\n",
    "all_labels = []\n",
    "kf = KFold(n_splits=10, shuffle=True, random_state=42)\n",
    "for index, (train_indices, validation_indices) in enumerate(kf.split(X)):\n",
    "    train_X = X[train_indices, :]\n",
    "    train_y = y[train_indices]\n",
    "    validation_X = X[validation_indices, :]\n",
    "    validation_y = y[validation_indices]\n",
    "    pca = PCA(n_components=150)\n",
    "    train_X = pca.fit_transform(train_X)\n",
    "    print(pca.explained_variance_ratio_.sum())\n",
    "    validation_X = pca.transform(validation_X)\n",
    "    model = SVR()\n",
    "    model.fit(train_X, train_y)\n",
    "    train_yhat = model.predict(train_X)\n",
    "    validation_yhat = model.predict(validation_X)\n",
    "    all_labels.extend(validation_y.tolist())\n",
    "    all_predictions.extend(validation_yhat.tolist())\n",
    "    train_mse = mean_squared_error(train_y, train_yhat)\n",
    "    train_mae = mean_absolute_error(train_y, train_yhat)\n",
    "    validation_mse = mean_squared_error(validation_y, validation_yhat)\n",
    "    validation_mae = mean_absolute_error(validation_y, validation_yhat)\n",
    "    print(f\"Fold: {index+1}, TrainMSE: {train_mse}, TrainMAE: {train_mae}, ValMSE: {validation_mse}, ValMAE: {validation_mae}\")\n",
    "all_labels = np.array(all_labels)\n",
    "all_predictions = np.array(all_predictions)\n"
   ]
  },
  {
   "cell_type": "code",
   "execution_count": 33,
   "metadata": {},
   "outputs": [
    {
     "data": {
      "image/png": "[encoded data removed]",
      "text/plain": [
       "<Figure size 1296x432 with 1 Axes>"
      ]
     },
     "metadata": {
      "needs_background": "light"
     },
     "output_type": "display_data"
    }
   ],
   "source": [
    "import matplotlib.pyplot as plt\n",
    "\n",
    "plt.figure(figsize=(18, 6))\n",
    "plt.scatter(all_labels, all_predictions)\n",
    "plt.show();"
   ]
  },
  {
   "cell_type": "code",
   "execution_count": null,
   "metadata": {},
   "outputs": [],
   "source": []
  }
 ],
 "metadata": {
  "kernelspec": {
   "display_name": "Python 3",
   "language": "python",
   "name": "python3"
  }
 },
 "nbformat": 4,
 "nbformat_minor": 4
}
